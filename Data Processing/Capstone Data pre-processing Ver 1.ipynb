{
 "cells": [
  {
   "cell_type": "code",
   "execution_count": 1,
   "id": "3ac4841b",
   "metadata": {},
   "outputs": [],
   "source": [
    "%matplotlib inline\n",
    "import numpy as np\n",
    "import pandas as pd\n",
    "import matplotlib.pyplot as plt\n",
    "from pandas import DataFrame"
   ]
  },
  {
   "cell_type": "code",
   "execution_count": 2,
   "id": "c9f928d2",
   "metadata": {},
   "outputs": [],
   "source": [
    "sepsis3 = pd.read_csv(\"C:\\\\Users\\\\sara1\\\\Desktop\\\\Rawdata\\\\Sepsis3.csv\")\n",
    "sofa = pd.read_csv(\"C:\\\\Users\\\\sara1\\\\Desktop\\\\Rawdata\\\\SOFA.csv\")\n",
    "sirs = pd.read_csv(\"C:\\\\Users\\\\sara1\\\\Desktop\\\\Rawdata\\\\SIRS.csv\")\n",
    "age = pd.read_csv(\"C:\\\\Users\\\\sara1\\\\Desktop\\\\Rawdata\\\\Age.csv\")\n",
    "bg = pd.read_csv(\"C:\\\\Users\\\\sara1\\\\Desktop\\\\Rawdata\\\\bg.csv\")\n",
    "bloodcount = pd.read_csv(\"C:\\\\Users\\\\sara1\\\\Desktop\\\\Rawdata\\\\Bloodcount.csv\")\n",
    "chemistry = pd.read_csv(\"C:\\\\Users\\\\sara1\\\\Desktop\\\\Rawdata\\\\Chemistry.csv\")\n",
    "enzyme = pd.read_csv(\"C:\\\\Users\\\\sara1\\\\Desktop\\\\Rawdata\\\\Enzyme.csv\")\n",
    "gcs = pd.read_csv(\"C:\\\\Users\\\\sara1\\\\Desktop\\\\Rawdata\\\\GCS.csv\")\n",
    "icustaydetails = pd.read_csv(\"C:\\\\Users\\\\sara1\\\\Desktop\\\\Rawdata\\\\ICUStayDetails.csv\")\n",
    "ventilatorsetting = pd.read_csv(\"C:\\\\Users\\\\sara1\\\\Desktop\\\\Rawdata\\\\VentilatorSetting.csv\")\n",
    "vitalsign = pd.read_csv(\"C:\\\\Users\\\\sara1\\\\Desktop\\\\Rawdata\\\\Vitalsign.csv\")\n",
    "weight = pd.read_csv(\"C:\\\\Users\\\\sara1\\\\Desktop\\\\Rawdata\\\\Weight.csv\")\n",
    "admissions = pd.read_csv(\"C:\\\\Users\\\\sara1\\\\Desktop\\\\Rawdata\\\\Admissions.csv\")"
   ]
  },
  {
   "cell_type": "code",
   "execution_count": 3,
   "id": "c82e16c8",
   "metadata": {},
   "outputs": [
    {
     "data": {
      "text/html": [
       "<div>\n",
       "<style scoped>\n",
       "    .dataframe tbody tr th:only-of-type {\n",
       "        vertical-align: middle;\n",
       "    }\n",
       "\n",
       "    .dataframe tbody tr th {\n",
       "        vertical-align: top;\n",
       "    }\n",
       "\n",
       "    .dataframe thead th {\n",
       "        text-align: right;\n",
       "    }\n",
       "</style>\n",
       "<table border=\"1\" class=\"dataframe\">\n",
       "  <thead>\n",
       "    <tr style=\"text-align: right;\">\n",
       "      <th></th>\n",
       "      <th>subject_id</th>\n",
       "      <th>stay_id</th>\n",
       "      <th>antibiotic_time</th>\n",
       "      <th>culture_time</th>\n",
       "      <th>suspected_infection_time</th>\n",
       "      <th>sofa_time</th>\n",
       "      <th>sofa_score</th>\n",
       "      <th>respiration</th>\n",
       "      <th>coagulation</th>\n",
       "      <th>liver</th>\n",
       "      <th>cardiovascular</th>\n",
       "      <th>cns</th>\n",
       "      <th>renal</th>\n",
       "      <th>sepsis3</th>\n",
       "    </tr>\n",
       "  </thead>\n",
       "  <tbody>\n",
       "    <tr>\n",
       "      <th>0</th>\n",
       "      <td>18426683</td>\n",
       "      <td>33144981</td>\n",
       "      <td>2160-06-12 01:00:00</td>\n",
       "      <td>2160-06-11 18:09:00</td>\n",
       "      <td>2160-06-11 18:09:00</td>\n",
       "      <td>2160-06-12 02:00:00</td>\n",
       "      <td>2</td>\n",
       "      <td>0</td>\n",
       "      <td>0</td>\n",
       "      <td>0</td>\n",
       "      <td>0</td>\n",
       "      <td>0</td>\n",
       "      <td>2</td>\n",
       "      <td>True</td>\n",
       "    </tr>\n",
       "    <tr>\n",
       "      <th>1</th>\n",
       "      <td>13575012</td>\n",
       "      <td>39676188</td>\n",
       "      <td>2175-01-09 10:00:00</td>\n",
       "      <td>2175-01-06 13:40:00</td>\n",
       "      <td>2175-01-06 13:40:00</td>\n",
       "      <td>2175-01-06 14:00:00</td>\n",
       "      <td>2</td>\n",
       "      <td>0</td>\n",
       "      <td>1</td>\n",
       "      <td>0</td>\n",
       "      <td>0</td>\n",
       "      <td>1</td>\n",
       "      <td>0</td>\n",
       "      <td>True</td>\n",
       "    </tr>\n",
       "    <tr>\n",
       "      <th>2</th>\n",
       "      <td>10978369</td>\n",
       "      <td>35499094</td>\n",
       "      <td>2119-01-17 23:00:00</td>\n",
       "      <td>2119-01-17 23:15:00</td>\n",
       "      <td>2119-01-17 23:00:00</td>\n",
       "      <td>2119-01-17 23:00:00</td>\n",
       "      <td>2</td>\n",
       "      <td>0</td>\n",
       "      <td>1</td>\n",
       "      <td>0</td>\n",
       "      <td>0</td>\n",
       "      <td>0</td>\n",
       "      <td>1</td>\n",
       "      <td>True</td>\n",
       "    </tr>\n",
       "    <tr>\n",
       "      <th>3</th>\n",
       "      <td>18310719</td>\n",
       "      <td>37925008</td>\n",
       "      <td>2130-07-30 00:00:00</td>\n",
       "      <td>2130-07-27 22:21:00</td>\n",
       "      <td>2130-07-27 22:21:00</td>\n",
       "      <td>2130-07-28 10:00:00</td>\n",
       "      <td>2</td>\n",
       "      <td>2</td>\n",
       "      <td>0</td>\n",
       "      <td>0</td>\n",
       "      <td>0</td>\n",
       "      <td>0</td>\n",
       "      <td>0</td>\n",
       "      <td>True</td>\n",
       "    </tr>\n",
       "    <tr>\n",
       "      <th>4</th>\n",
       "      <td>14897163</td>\n",
       "      <td>35503068</td>\n",
       "      <td>2172-11-06 20:00:00</td>\n",
       "      <td>2172-11-05 15:59:00</td>\n",
       "      <td>2172-11-05 15:59:00</td>\n",
       "      <td>2172-11-05 17:00:00</td>\n",
       "      <td>2</td>\n",
       "      <td>2</td>\n",
       "      <td>0</td>\n",
       "      <td>0</td>\n",
       "      <td>0</td>\n",
       "      <td>0</td>\n",
       "      <td>0</td>\n",
       "      <td>True</td>\n",
       "    </tr>\n",
       "  </tbody>\n",
       "</table>\n",
       "</div>"
      ],
      "text/plain": [
       "   subject_id   stay_id      antibiotic_time         culture_time  \\\n",
       "0    18426683  33144981  2160-06-12 01:00:00  2160-06-11 18:09:00   \n",
       "1    13575012  39676188  2175-01-09 10:00:00  2175-01-06 13:40:00   \n",
       "2    10978369  35499094  2119-01-17 23:00:00  2119-01-17 23:15:00   \n",
       "3    18310719  37925008  2130-07-30 00:00:00  2130-07-27 22:21:00   \n",
       "4    14897163  35503068  2172-11-06 20:00:00  2172-11-05 15:59:00   \n",
       "\n",
       "  suspected_infection_time            sofa_time  sofa_score  respiration  \\\n",
       "0      2160-06-11 18:09:00  2160-06-12 02:00:00           2            0   \n",
       "1      2175-01-06 13:40:00  2175-01-06 14:00:00           2            0   \n",
       "2      2119-01-17 23:00:00  2119-01-17 23:00:00           2            0   \n",
       "3      2130-07-27 22:21:00  2130-07-28 10:00:00           2            2   \n",
       "4      2172-11-05 15:59:00  2172-11-05 17:00:00           2            2   \n",
       "\n",
       "   coagulation  liver  cardiovascular  cns  renal  sepsis3  \n",
       "0            0      0               0    0      2     True  \n",
       "1            1      0               0    1      0     True  \n",
       "2            1      0               0    0      1     True  \n",
       "3            0      0               0    0      0     True  \n",
       "4            0      0               0    0      0     True  "
      ]
     },
     "execution_count": 3,
     "metadata": {},
     "output_type": "execute_result"
    }
   ],
   "source": [
    "sepsis3.head()"
   ]
  },
  {
   "cell_type": "code",
   "execution_count": null,
   "id": "2130381b",
   "metadata": {},
   "outputs": [],
   "source": [
    "#Check whether any of the patients do not have sepsis\n",
    "print(sepsis3['sepsis3'].value_counts())"
   ]
  },
  {
   "cell_type": "code",
   "execution_count": 22,
   "id": "0115563a",
   "metadata": {},
   "outputs": [
    {
     "data": {
      "text/plain": [
       "(32971, 9)"
      ]
     },
     "execution_count": 22,
     "metadata": {},
     "output_type": "execute_result"
    }
   ],
   "source": [
    "#Confirm all records have sepsis\n",
    "sepsis3.shape"
   ]
  },
  {
   "cell_type": "code",
   "execution_count": 4,
   "id": "c7fe34a6",
   "metadata": {},
   "outputs": [],
   "source": [
    "#Remove 'sepsis' and time related columns from dataframe since all entries have sepsis. Not needed to create state space\n",
    "sepsis3 = sepsis3.drop('sepsis3', axis=1)\n",
    "sepsis3 = sepsis3.drop('antibiotic_time', axis=1)\n",
    "sepsis3 = sepsis3.drop('culture_time', axis=1)\n",
    "sepsis3 = sepsis3.drop('suspected_infection_time', axis=1)\n",
    "sepsis3 = sepsis3.drop('sofa_time', axis=1)"
   ]
  },
  {
   "cell_type": "code",
   "execution_count": 5,
   "id": "28267218",
   "metadata": {},
   "outputs": [
    {
     "data": {
      "text/html": [
       "<div>\n",
       "<style scoped>\n",
       "    .dataframe tbody tr th:only-of-type {\n",
       "        vertical-align: middle;\n",
       "    }\n",
       "\n",
       "    .dataframe tbody tr th {\n",
       "        vertical-align: top;\n",
       "    }\n",
       "\n",
       "    .dataframe thead th {\n",
       "        text-align: right;\n",
       "    }\n",
       "</style>\n",
       "<table border=\"1\" class=\"dataframe\">\n",
       "  <thead>\n",
       "    <tr style=\"text-align: right;\">\n",
       "      <th></th>\n",
       "      <th>subject_id</th>\n",
       "      <th>stay_id</th>\n",
       "      <th>sofa_score</th>\n",
       "      <th>respiration</th>\n",
       "      <th>coagulation</th>\n",
       "      <th>liver</th>\n",
       "      <th>cardiovascular</th>\n",
       "      <th>cns</th>\n",
       "      <th>renal</th>\n",
       "    </tr>\n",
       "  </thead>\n",
       "  <tbody>\n",
       "    <tr>\n",
       "      <th>0</th>\n",
       "      <td>18426683</td>\n",
       "      <td>33144981</td>\n",
       "      <td>2</td>\n",
       "      <td>0</td>\n",
       "      <td>0</td>\n",
       "      <td>0</td>\n",
       "      <td>0</td>\n",
       "      <td>0</td>\n",
       "      <td>2</td>\n",
       "    </tr>\n",
       "    <tr>\n",
       "      <th>1</th>\n",
       "      <td>13575012</td>\n",
       "      <td>39676188</td>\n",
       "      <td>2</td>\n",
       "      <td>0</td>\n",
       "      <td>1</td>\n",
       "      <td>0</td>\n",
       "      <td>0</td>\n",
       "      <td>1</td>\n",
       "      <td>0</td>\n",
       "    </tr>\n",
       "    <tr>\n",
       "      <th>2</th>\n",
       "      <td>10978369</td>\n",
       "      <td>35499094</td>\n",
       "      <td>2</td>\n",
       "      <td>0</td>\n",
       "      <td>1</td>\n",
       "      <td>0</td>\n",
       "      <td>0</td>\n",
       "      <td>0</td>\n",
       "      <td>1</td>\n",
       "    </tr>\n",
       "    <tr>\n",
       "      <th>3</th>\n",
       "      <td>18310719</td>\n",
       "      <td>37925008</td>\n",
       "      <td>2</td>\n",
       "      <td>2</td>\n",
       "      <td>0</td>\n",
       "      <td>0</td>\n",
       "      <td>0</td>\n",
       "      <td>0</td>\n",
       "      <td>0</td>\n",
       "    </tr>\n",
       "    <tr>\n",
       "      <th>4</th>\n",
       "      <td>14897163</td>\n",
       "      <td>35503068</td>\n",
       "      <td>2</td>\n",
       "      <td>2</td>\n",
       "      <td>0</td>\n",
       "      <td>0</td>\n",
       "      <td>0</td>\n",
       "      <td>0</td>\n",
       "      <td>0</td>\n",
       "    </tr>\n",
       "  </tbody>\n",
       "</table>\n",
       "</div>"
      ],
      "text/plain": [
       "   subject_id   stay_id  sofa_score  respiration  coagulation  liver  \\\n",
       "0    18426683  33144981           2            0            0      0   \n",
       "1    13575012  39676188           2            0            1      0   \n",
       "2    10978369  35499094           2            0            1      0   \n",
       "3    18310719  37925008           2            2            0      0   \n",
       "4    14897163  35503068           2            2            0      0   \n",
       "\n",
       "   cardiovascular  cns  renal  \n",
       "0               0    0      2  \n",
       "1               0    1      0  \n",
       "2               0    0      1  \n",
       "3               0    0      0  \n",
       "4               0    0      0  "
      ]
     },
     "execution_count": 5,
     "metadata": {},
     "output_type": "execute_result"
    }
   ],
   "source": [
    "sepsis3.head()"
   ]
  },
  {
   "cell_type": "code",
   "execution_count": 6,
   "id": "52a515d7",
   "metadata": {},
   "outputs": [
    {
     "data": {
      "text/plain": [
       "subject_id        int64\n",
       "stay_id           int64\n",
       "sofa_score        int64\n",
       "respiration       int64\n",
       "coagulation       int64\n",
       "liver             int64\n",
       "cardiovascular    int64\n",
       "cns               int64\n",
       "renal             int64\n",
       "dtype: object"
      ]
     },
     "execution_count": 6,
     "metadata": {},
     "output_type": "execute_result"
    }
   ],
   "source": [
    "sepsis3.dtypes"
   ]
  },
  {
   "cell_type": "code",
   "execution_count": 7,
   "id": "db582ca2",
   "metadata": {},
   "outputs": [],
   "source": [
    "sepsis3['sofa_score'] = sepsis3['sofa_score'].astype('int8')\n",
    "sepsis3['respiration'] = sepsis3['respiration'].astype('int8')\n",
    "sepsis3['coagulation'] = sepsis3['coagulation'].astype('int8')\n",
    "sepsis3['liver'] = sepsis3['liver'].astype('int8')\n",
    "sepsis3['cardiovascular'] = sepsis3['cardiovascular'].astype('int8')\n",
    "sepsis3['cns'] = sepsis3['cns'].astype('int8')\n",
    "sepsis3['renal'] = sepsis3['renal'].astype('int8')\n",
    "sepsis3['subject_id'] = sepsis3['subject_id'].astype('int32')\n",
    "sepsis3['stay_id'] = sepsis3['stay_id'].astype('int32')"
   ]
  },
  {
   "cell_type": "code",
   "execution_count": 8,
   "id": "c79276a6",
   "metadata": {},
   "outputs": [
    {
     "data": {
      "text/plain": [
       "(173798, 2)"
      ]
     },
     "execution_count": 8,
     "metadata": {},
     "output_type": "execute_result"
    }
   ],
   "source": [
    "sofa.shape\n",
    "#done"
   ]
  },
  {
   "cell_type": "code",
   "execution_count": 9,
   "id": "f613fd2b",
   "metadata": {},
   "outputs": [
    {
     "data": {
      "text/plain": [
       "(32971, 2)"
      ]
     },
     "execution_count": 9,
     "metadata": {},
     "output_type": "execute_result"
    }
   ],
   "source": [
    "sirs.shape \n",
    "#done"
   ]
  },
  {
   "cell_type": "code",
   "execution_count": 10,
   "id": "40b9dbe3",
   "metadata": {},
   "outputs": [
    {
     "data": {
      "text/plain": [
       "(52187, 2)"
      ]
     },
     "execution_count": 10,
     "metadata": {},
     "output_type": "execute_result"
    }
   ],
   "source": [
    "age.shape\n",
    "#done"
   ]
  },
  {
   "cell_type": "code",
   "execution_count": 11,
   "id": "825104f3",
   "metadata": {},
   "outputs": [
    {
     "data": {
      "text/plain": [
       "(283300, 9)"
      ]
     },
     "execution_count": 11,
     "metadata": {},
     "output_type": "execute_result"
    }
   ],
   "source": [
    "bg.shape"
   ]
  },
  {
   "cell_type": "code",
   "execution_count": 12,
   "id": "6fb1a919",
   "metadata": {},
   "outputs": [
    {
     "data": {
      "text/plain": [
       "(1111732, 3)"
      ]
     },
     "execution_count": 12,
     "metadata": {},
     "output_type": "execute_result"
    }
   ],
   "source": [
    "bloodcount.shape"
   ]
  },
  {
   "cell_type": "code",
   "execution_count": 13,
   "id": "05baff36",
   "metadata": {},
   "outputs": [
    {
     "data": {
      "text/plain": [
       "(1322148, 3)"
      ]
     },
     "execution_count": 13,
     "metadata": {},
     "output_type": "execute_result"
    }
   ],
   "source": [
    "chemistry.shape"
   ]
  },
  {
   "cell_type": "code",
   "execution_count": 14,
   "id": "91bbfd05",
   "metadata": {},
   "outputs": [
    {
     "data": {
      "text/plain": [
       "(187578, 2)"
      ]
     },
     "execution_count": 14,
     "metadata": {},
     "output_type": "execute_result"
    }
   ],
   "source": [
    "enzyme.shape"
   ]
  },
  {
   "cell_type": "code",
   "execution_count": 15,
   "id": "e0363060",
   "metadata": {},
   "outputs": [
    {
     "data": {
      "text/plain": [
       "(86679, 2)"
      ]
     },
     "execution_count": 15,
     "metadata": {},
     "output_type": "execute_result"
    }
   ],
   "source": [
    "gcs.shape\n",
    "#done"
   ]
  },
  {
   "cell_type": "code",
   "execution_count": 16,
   "id": "6107a6fb",
   "metadata": {},
   "outputs": [
    {
     "data": {
      "text/plain": [
       "(36658, 4)"
      ]
     },
     "execution_count": 16,
     "metadata": {},
     "output_type": "execute_result"
    }
   ],
   "source": [
    "icustaydetails.shape\n",
    "#done"
   ]
  },
  {
   "cell_type": "code",
   "execution_count": 17,
   "id": "fe69fdd6",
   "metadata": {},
   "outputs": [
    {
     "data": {
      "text/plain": [
       "(315129, 3)"
      ]
     },
     "execution_count": 17,
     "metadata": {},
     "output_type": "execute_result"
    }
   ],
   "source": [
    "ventilatorsetting.shape"
   ]
  },
  {
   "cell_type": "code",
   "execution_count": 18,
   "id": "82d43931",
   "metadata": {},
   "outputs": [
    {
     "data": {
      "text/plain": [
       "(3544122, 4)"
      ]
     },
     "execution_count": 18,
     "metadata": {},
     "output_type": "execute_result"
    }
   ],
   "source": [
    "vitalsign.shape"
   ]
  },
  {
   "cell_type": "code",
   "execution_count": 19,
   "id": "5ead994a",
   "metadata": {},
   "outputs": [
    {
     "data": {
      "text/plain": [
       "(98704, 2)"
      ]
     },
     "execution_count": 19,
     "metadata": {},
     "output_type": "execute_result"
    }
   ],
   "source": [
    "weight.shape\n",
    "#done"
   ]
  },
  {
   "cell_type": "code",
   "execution_count": 20,
   "id": "4414f567",
   "metadata": {},
   "outputs": [
    {
     "data": {
      "text/plain": [
       "(28795, 2)"
      ]
     },
     "execution_count": 20,
     "metadata": {},
     "output_type": "execute_result"
    }
   ],
   "source": [
    "admissions.shape\n",
    "#done"
   ]
  },
  {
   "cell_type": "code",
   "execution_count": 23,
   "id": "5d4c642e",
   "metadata": {},
   "outputs": [],
   "source": [
    "join1 = sepsis3.merge(sirs, on='stay_id', how='left')"
   ]
  },
  {
   "cell_type": "code",
   "execution_count": 25,
   "id": "f0860b10",
   "metadata": {},
   "outputs": [],
   "source": [
    "join2 = join1.merge(age, on='subject_id', how='left')"
   ]
  },
  {
   "cell_type": "code",
   "execution_count": 27,
   "id": "52220ce2",
   "metadata": {},
   "outputs": [],
   "source": [
    "join3 = join2.merge(weight, on='stay_id', how='left')"
   ]
  },
  {
   "cell_type": "code",
   "execution_count": 29,
   "id": "b5a085fc",
   "metadata": {},
   "outputs": [],
   "source": [
    "join4 = join3.merge(admissions, on='subject_id', how='left')"
   ]
  },
  {
   "cell_type": "code",
   "execution_count": 31,
   "id": "093f967b",
   "metadata": {},
   "outputs": [],
   "source": [
    "join5 = join4.merge(icustaydetails, on='subject_id', how='left')"
   ]
  },
  {
   "cell_type": "code",
   "execution_count": 33,
   "id": "0ba16916",
   "metadata": {},
   "outputs": [],
   "source": [
    "join6 = join5.merge(gcs, on='stay_id', how='left')"
   ]
  },
  {
   "cell_type": "code",
   "execution_count": 35,
   "id": "332531b1",
   "metadata": {},
   "outputs": [],
   "source": [
    "join7 = join6.merge(sofa, on='stay_id', how='left')"
   ]
  },
  {
   "cell_type": "code",
   "execution_count": 38,
   "id": "af7858c5",
   "metadata": {},
   "outputs": [
    {
     "data": {
      "text/plain": [
       "(16958914, 18)"
      ]
     },
     "execution_count": 38,
     "metadata": {},
     "output_type": "execute_result"
    }
   ],
   "source": [
    "join7.shape"
   ]
  },
  {
   "cell_type": "code",
   "execution_count": 39,
   "id": "a607c9d8",
   "metadata": {},
   "outputs": [
    {
     "data": {
      "text/html": [
       "<div>\n",
       "<style scoped>\n",
       "    .dataframe tbody tr th:only-of-type {\n",
       "        vertical-align: middle;\n",
       "    }\n",
       "\n",
       "    .dataframe tbody tr th {\n",
       "        vertical-align: top;\n",
       "    }\n",
       "\n",
       "    .dataframe thead th {\n",
       "        text-align: right;\n",
       "    }\n",
       "</style>\n",
       "<table border=\"1\" class=\"dataframe\">\n",
       "  <thead>\n",
       "    <tr style=\"text-align: right;\">\n",
       "      <th></th>\n",
       "      <th>subject_id</th>\n",
       "      <th>stay_id</th>\n",
       "      <th>sofa_score</th>\n",
       "      <th>respiration</th>\n",
       "      <th>coagulation</th>\n",
       "      <th>liver</th>\n",
       "      <th>cardiovascular</th>\n",
       "      <th>cns</th>\n",
       "      <th>renal</th>\n",
       "      <th>sirs</th>\n",
       "      <th>age</th>\n",
       "      <th>weight</th>\n",
       "      <th>deathtime</th>\n",
       "      <th>gender</th>\n",
       "      <th>first_hosp_stay</th>\n",
       "      <th>first_icu_stay</th>\n",
       "      <th>gcs</th>\n",
       "      <th>sofa_24hours</th>\n",
       "    </tr>\n",
       "  </thead>\n",
       "  <tbody>\n",
       "    <tr>\n",
       "      <th>0</th>\n",
       "      <td>18426683</td>\n",
       "      <td>33144981</td>\n",
       "      <td>2</td>\n",
       "      <td>0</td>\n",
       "      <td>0</td>\n",
       "      <td>0</td>\n",
       "      <td>0</td>\n",
       "      <td>0</td>\n",
       "      <td>2</td>\n",
       "      <td>3</td>\n",
       "      <td>75</td>\n",
       "      <td>54.0</td>\n",
       "      <td>NaN</td>\n",
       "      <td>M</td>\n",
       "      <td>False</td>\n",
       "      <td>True</td>\n",
       "      <td>11.0</td>\n",
       "      <td>0</td>\n",
       "    </tr>\n",
       "    <tr>\n",
       "      <th>1</th>\n",
       "      <td>18426683</td>\n",
       "      <td>33144981</td>\n",
       "      <td>2</td>\n",
       "      <td>0</td>\n",
       "      <td>0</td>\n",
       "      <td>0</td>\n",
       "      <td>0</td>\n",
       "      <td>0</td>\n",
       "      <td>2</td>\n",
       "      <td>3</td>\n",
       "      <td>75</td>\n",
       "      <td>54.0</td>\n",
       "      <td>NaN</td>\n",
       "      <td>M</td>\n",
       "      <td>False</td>\n",
       "      <td>True</td>\n",
       "      <td>11.0</td>\n",
       "      <td>1</td>\n",
       "    </tr>\n",
       "    <tr>\n",
       "      <th>2</th>\n",
       "      <td>18426683</td>\n",
       "      <td>33144981</td>\n",
       "      <td>2</td>\n",
       "      <td>0</td>\n",
       "      <td>0</td>\n",
       "      <td>0</td>\n",
       "      <td>0</td>\n",
       "      <td>0</td>\n",
       "      <td>2</td>\n",
       "      <td>3</td>\n",
       "      <td>75</td>\n",
       "      <td>54.0</td>\n",
       "      <td>NaN</td>\n",
       "      <td>M</td>\n",
       "      <td>False</td>\n",
       "      <td>True</td>\n",
       "      <td>11.0</td>\n",
       "      <td>2</td>\n",
       "    </tr>\n",
       "    <tr>\n",
       "      <th>3</th>\n",
       "      <td>18426683</td>\n",
       "      <td>33144981</td>\n",
       "      <td>2</td>\n",
       "      <td>0</td>\n",
       "      <td>0</td>\n",
       "      <td>0</td>\n",
       "      <td>0</td>\n",
       "      <td>0</td>\n",
       "      <td>2</td>\n",
       "      <td>3</td>\n",
       "      <td>75</td>\n",
       "      <td>54.0</td>\n",
       "      <td>NaN</td>\n",
       "      <td>M</td>\n",
       "      <td>False</td>\n",
       "      <td>True</td>\n",
       "      <td>11.0</td>\n",
       "      <td>3</td>\n",
       "    </tr>\n",
       "    <tr>\n",
       "      <th>4</th>\n",
       "      <td>18426683</td>\n",
       "      <td>33144981</td>\n",
       "      <td>2</td>\n",
       "      <td>0</td>\n",
       "      <td>0</td>\n",
       "      <td>0</td>\n",
       "      <td>0</td>\n",
       "      <td>0</td>\n",
       "      <td>2</td>\n",
       "      <td>3</td>\n",
       "      <td>75</td>\n",
       "      <td>54.0</td>\n",
       "      <td>NaN</td>\n",
       "      <td>M</td>\n",
       "      <td>False</td>\n",
       "      <td>True</td>\n",
       "      <td>11.0</td>\n",
       "      <td>4</td>\n",
       "    </tr>\n",
       "  </tbody>\n",
       "</table>\n",
       "</div>"
      ],
      "text/plain": [
       "   subject_id   stay_id  sofa_score  respiration  coagulation  liver  \\\n",
       "0    18426683  33144981           2            0            0      0   \n",
       "1    18426683  33144981           2            0            0      0   \n",
       "2    18426683  33144981           2            0            0      0   \n",
       "3    18426683  33144981           2            0            0      0   \n",
       "4    18426683  33144981           2            0            0      0   \n",
       "\n",
       "   cardiovascular  cns  renal  sirs  age  weight deathtime gender  \\\n",
       "0               0    0      2     3   75    54.0       NaN      M   \n",
       "1               0    0      2     3   75    54.0       NaN      M   \n",
       "2               0    0      2     3   75    54.0       NaN      M   \n",
       "3               0    0      2     3   75    54.0       NaN      M   \n",
       "4               0    0      2     3   75    54.0       NaN      M   \n",
       "\n",
       "   first_hosp_stay  first_icu_stay   gcs  sofa_24hours  \n",
       "0            False            True  11.0             0  \n",
       "1            False            True  11.0             1  \n",
       "2            False            True  11.0             2  \n",
       "3            False            True  11.0             3  \n",
       "4            False            True  11.0             4  "
      ]
     },
     "execution_count": 39,
     "metadata": {},
     "output_type": "execute_result"
    }
   ],
   "source": [
    "join7.head()"
   ]
  },
  {
   "cell_type": "code",
   "execution_count": 40,
   "id": "42b9615f",
   "metadata": {
    "scrolled": true
   },
   "outputs": [
    {
     "data": {
      "text/plain": [
       "(187578, 2)"
      ]
     },
     "execution_count": 40,
     "metadata": {},
     "output_type": "execute_result"
    }
   ],
   "source": [
    "enzyme.shape"
   ]
  },
  {
   "cell_type": "code",
   "execution_count": 43,
   "id": "55eccdb1",
   "metadata": {},
   "outputs": [
    {
     "data": {
      "text/plain": [
       "subject_id           int64\n",
       "bilirubin_total    float64\n",
       "dtype: object"
      ]
     },
     "execution_count": 43,
     "metadata": {},
     "output_type": "execute_result"
    }
   ],
   "source": [
    "enzyme.dtypes"
   ]
  },
  {
   "cell_type": "code",
   "execution_count": 44,
   "id": "afc1027a",
   "metadata": {},
   "outputs": [],
   "source": [
    "enzyme['subject_id'] = enzyme['subject_id'].astype('int32')"
   ]
  },
  {
   "cell_type": "code",
   "execution_count": 47,
   "id": "f7c194fd",
   "metadata": {},
   "outputs": [],
   "source": [
    "testing = enzyme.drop_duplicates(subset=['subject_id'])"
   ]
  },
  {
   "cell_type": "code",
   "execution_count": 48,
   "id": "e645f2e3",
   "metadata": {},
   "outputs": [
    {
     "data": {
      "text/html": [
       "<div>\n",
       "<style scoped>\n",
       "    .dataframe tbody tr th:only-of-type {\n",
       "        vertical-align: middle;\n",
       "    }\n",
       "\n",
       "    .dataframe tbody tr th {\n",
       "        vertical-align: top;\n",
       "    }\n",
       "\n",
       "    .dataframe thead th {\n",
       "        text-align: right;\n",
       "    }\n",
       "</style>\n",
       "<table border=\"1\" class=\"dataframe\">\n",
       "  <thead>\n",
       "    <tr style=\"text-align: right;\">\n",
       "      <th></th>\n",
       "      <th>subject_id</th>\n",
       "      <th>bilirubin_total</th>\n",
       "    </tr>\n",
       "  </thead>\n",
       "  <tbody>\n",
       "    <tr>\n",
       "      <th>0</th>\n",
       "      <td>11573679</td>\n",
       "      <td>NaN</td>\n",
       "    </tr>\n",
       "    <tr>\n",
       "      <th>1</th>\n",
       "      <td>18817034</td>\n",
       "      <td>NaN</td>\n",
       "    </tr>\n",
       "    <tr>\n",
       "      <th>2</th>\n",
       "      <td>16654740</td>\n",
       "      <td>NaN</td>\n",
       "    </tr>\n",
       "    <tr>\n",
       "      <th>3</th>\n",
       "      <td>19014854</td>\n",
       "      <td>NaN</td>\n",
       "    </tr>\n",
       "    <tr>\n",
       "      <th>4</th>\n",
       "      <td>17388366</td>\n",
       "      <td>NaN</td>\n",
       "    </tr>\n",
       "  </tbody>\n",
       "</table>\n",
       "</div>"
      ],
      "text/plain": [
       "   subject_id  bilirubin_total\n",
       "0    11573679              NaN\n",
       "1    18817034              NaN\n",
       "2    16654740              NaN\n",
       "3    19014854              NaN\n",
       "4    17388366              NaN"
      ]
     },
     "execution_count": 48,
     "metadata": {},
     "output_type": "execute_result"
    }
   ],
   "source": [
    "testing.head()"
   ]
  },
  {
   "cell_type": "code",
   "execution_count": 49,
   "id": "2c5efbfd",
   "metadata": {},
   "outputs": [
    {
     "data": {
      "text/plain": [
       "(24813, 2)"
      ]
     },
     "execution_count": 49,
     "metadata": {},
     "output_type": "execute_result"
    }
   ],
   "source": [
    "testing.shape"
   ]
  },
  {
   "cell_type": "code",
   "execution_count": 50,
   "id": "9dc3b3b6",
   "metadata": {},
   "outputs": [],
   "source": [
    "enzyme = enzyme.drop_duplicates(subset=['subject_id'])"
   ]
  },
  {
   "cell_type": "code",
   "execution_count": 51,
   "id": "dae22943",
   "metadata": {},
   "outputs": [
    {
     "ename": "MemoryError",
     "evalue": "Unable to allocate 129. MiB for an array with shape (16958914,) and data type int64",
     "output_type": "error",
     "traceback": [
      "\u001b[1;31m---------------------------------------------------------------------------\u001b[0m",
      "\u001b[1;31mMemoryError\u001b[0m                               Traceback (most recent call last)",
      "\u001b[1;32m~\\AppData\\Local\\Temp/ipykernel_8604/636744852.py\u001b[0m in \u001b[0;36m<module>\u001b[1;34m\u001b[0m\n\u001b[1;32m----> 1\u001b[1;33m \u001b[0mjoin8\u001b[0m \u001b[1;33m=\u001b[0m \u001b[0mjoin7\u001b[0m\u001b[1;33m.\u001b[0m\u001b[0mmerge\u001b[0m\u001b[1;33m(\u001b[0m\u001b[0menzyme\u001b[0m\u001b[1;33m,\u001b[0m \u001b[0mon\u001b[0m\u001b[1;33m=\u001b[0m\u001b[1;34m'subject_id'\u001b[0m\u001b[1;33m,\u001b[0m \u001b[0mhow\u001b[0m\u001b[1;33m=\u001b[0m\u001b[1;34m'left'\u001b[0m\u001b[1;33m)\u001b[0m\u001b[1;33m\u001b[0m\u001b[1;33m\u001b[0m\u001b[0m\n\u001b[0m",
      "\u001b[1;32m~\\Anaconda3\\lib\\site-packages\\pandas\\core\\frame.py\u001b[0m in \u001b[0;36mmerge\u001b[1;34m(self, right, how, on, left_on, right_on, left_index, right_index, sort, suffixes, copy, indicator, validate)\u001b[0m\n\u001b[0;32m   9188\u001b[0m         \u001b[1;32mfrom\u001b[0m \u001b[0mpandas\u001b[0m\u001b[1;33m.\u001b[0m\u001b[0mcore\u001b[0m\u001b[1;33m.\u001b[0m\u001b[0mreshape\u001b[0m\u001b[1;33m.\u001b[0m\u001b[0mmerge\u001b[0m \u001b[1;32mimport\u001b[0m \u001b[0mmerge\u001b[0m\u001b[1;33m\u001b[0m\u001b[1;33m\u001b[0m\u001b[0m\n\u001b[0;32m   9189\u001b[0m \u001b[1;33m\u001b[0m\u001b[0m\n\u001b[1;32m-> 9190\u001b[1;33m         return merge(\n\u001b[0m\u001b[0;32m   9191\u001b[0m             \u001b[0mself\u001b[0m\u001b[1;33m,\u001b[0m\u001b[1;33m\u001b[0m\u001b[1;33m\u001b[0m\u001b[0m\n\u001b[0;32m   9192\u001b[0m             \u001b[0mright\u001b[0m\u001b[1;33m,\u001b[0m\u001b[1;33m\u001b[0m\u001b[1;33m\u001b[0m\u001b[0m\n",
      "\u001b[1;32m~\\Anaconda3\\lib\\site-packages\\pandas\\core\\reshape\\merge.py\u001b[0m in \u001b[0;36mmerge\u001b[1;34m(left, right, how, on, left_on, right_on, left_index, right_index, sort, suffixes, copy, indicator, validate)\u001b[0m\n\u001b[0;32m    119\u001b[0m         \u001b[0mvalidate\u001b[0m\u001b[1;33m=\u001b[0m\u001b[0mvalidate\u001b[0m\u001b[1;33m,\u001b[0m\u001b[1;33m\u001b[0m\u001b[1;33m\u001b[0m\u001b[0m\n\u001b[0;32m    120\u001b[0m     )\n\u001b[1;32m--> 121\u001b[1;33m     \u001b[1;32mreturn\u001b[0m \u001b[0mop\u001b[0m\u001b[1;33m.\u001b[0m\u001b[0mget_result\u001b[0m\u001b[1;33m(\u001b[0m\u001b[1;33m)\u001b[0m\u001b[1;33m\u001b[0m\u001b[1;33m\u001b[0m\u001b[0m\n\u001b[0m\u001b[0;32m    122\u001b[0m \u001b[1;33m\u001b[0m\u001b[0m\n\u001b[0;32m    123\u001b[0m \u001b[1;33m\u001b[0m\u001b[0m\n",
      "\u001b[1;32m~\\Anaconda3\\lib\\site-packages\\pandas\\core\\reshape\\merge.py\u001b[0m in \u001b[0;36mget_result\u001b[1;34m(self)\u001b[0m\n\u001b[0;32m    713\u001b[0m             \u001b[0mself\u001b[0m\u001b[1;33m.\u001b[0m\u001b[0mleft\u001b[0m\u001b[1;33m,\u001b[0m \u001b[0mself\u001b[0m\u001b[1;33m.\u001b[0m\u001b[0mright\u001b[0m \u001b[1;33m=\u001b[0m \u001b[0mself\u001b[0m\u001b[1;33m.\u001b[0m\u001b[0m_indicator_pre_merge\u001b[0m\u001b[1;33m(\u001b[0m\u001b[0mself\u001b[0m\u001b[1;33m.\u001b[0m\u001b[0mleft\u001b[0m\u001b[1;33m,\u001b[0m \u001b[0mself\u001b[0m\u001b[1;33m.\u001b[0m\u001b[0mright\u001b[0m\u001b[1;33m)\u001b[0m\u001b[1;33m\u001b[0m\u001b[1;33m\u001b[0m\u001b[0m\n\u001b[0;32m    714\u001b[0m \u001b[1;33m\u001b[0m\u001b[0m\n\u001b[1;32m--> 715\u001b[1;33m         \u001b[0mjoin_index\u001b[0m\u001b[1;33m,\u001b[0m \u001b[0mleft_indexer\u001b[0m\u001b[1;33m,\u001b[0m \u001b[0mright_indexer\u001b[0m \u001b[1;33m=\u001b[0m \u001b[0mself\u001b[0m\u001b[1;33m.\u001b[0m\u001b[0m_get_join_info\u001b[0m\u001b[1;33m(\u001b[0m\u001b[1;33m)\u001b[0m\u001b[1;33m\u001b[0m\u001b[1;33m\u001b[0m\u001b[0m\n\u001b[0m\u001b[0;32m    716\u001b[0m \u001b[1;33m\u001b[0m\u001b[0m\n\u001b[0;32m    717\u001b[0m         llabels, rlabels = _items_overlap_with_suffix(\n",
      "\u001b[1;32m~\\Anaconda3\\lib\\site-packages\\pandas\\core\\reshape\\merge.py\u001b[0m in \u001b[0;36m_get_join_info\u001b[1;34m(self)\u001b[0m\n\u001b[0;32m    964\u001b[0m             )\n\u001b[0;32m    965\u001b[0m         \u001b[1;32melse\u001b[0m\u001b[1;33m:\u001b[0m\u001b[1;33m\u001b[0m\u001b[1;33m\u001b[0m\u001b[0m\n\u001b[1;32m--> 966\u001b[1;33m             \u001b[1;33m(\u001b[0m\u001b[0mleft_indexer\u001b[0m\u001b[1;33m,\u001b[0m \u001b[0mright_indexer\u001b[0m\u001b[1;33m)\u001b[0m \u001b[1;33m=\u001b[0m \u001b[0mself\u001b[0m\u001b[1;33m.\u001b[0m\u001b[0m_get_join_indexers\u001b[0m\u001b[1;33m(\u001b[0m\u001b[1;33m)\u001b[0m\u001b[1;33m\u001b[0m\u001b[1;33m\u001b[0m\u001b[0m\n\u001b[0m\u001b[0;32m    967\u001b[0m \u001b[1;33m\u001b[0m\u001b[0m\n\u001b[0;32m    968\u001b[0m             \u001b[1;32mif\u001b[0m \u001b[0mself\u001b[0m\u001b[1;33m.\u001b[0m\u001b[0mright_index\u001b[0m\u001b[1;33m:\u001b[0m\u001b[1;33m\u001b[0m\u001b[1;33m\u001b[0m\u001b[0m\n",
      "\u001b[1;32m~\\Anaconda3\\lib\\site-packages\\pandas\\core\\reshape\\merge.py\u001b[0m in \u001b[0;36m_get_join_indexers\u001b[1;34m(self)\u001b[0m\n\u001b[0;32m    938\u001b[0m         \u001b[1;34m\"\"\"return the join indexers\"\"\"\u001b[0m\u001b[1;33m\u001b[0m\u001b[1;33m\u001b[0m\u001b[0m\n\u001b[0;32m    939\u001b[0m         \u001b[1;31m# Both returned ndarrays are np.intp\u001b[0m\u001b[1;33m\u001b[0m\u001b[1;33m\u001b[0m\u001b[0m\n\u001b[1;32m--> 940\u001b[1;33m         return get_join_indexers(\n\u001b[0m\u001b[0;32m    941\u001b[0m             \u001b[0mself\u001b[0m\u001b[1;33m.\u001b[0m\u001b[0mleft_join_keys\u001b[0m\u001b[1;33m,\u001b[0m \u001b[0mself\u001b[0m\u001b[1;33m.\u001b[0m\u001b[0mright_join_keys\u001b[0m\u001b[1;33m,\u001b[0m \u001b[0msort\u001b[0m\u001b[1;33m=\u001b[0m\u001b[0mself\u001b[0m\u001b[1;33m.\u001b[0m\u001b[0msort\u001b[0m\u001b[1;33m,\u001b[0m \u001b[0mhow\u001b[0m\u001b[1;33m=\u001b[0m\u001b[0mself\u001b[0m\u001b[1;33m.\u001b[0m\u001b[0mhow\u001b[0m\u001b[1;33m\u001b[0m\u001b[1;33m\u001b[0m\u001b[0m\n\u001b[0;32m    942\u001b[0m         )\n",
      "\u001b[1;32m~\\Anaconda3\\lib\\site-packages\\pandas\\core\\reshape\\merge.py\u001b[0m in \u001b[0;36mget_join_indexers\u001b[1;34m(left_keys, right_keys, sort, how, **kwargs)\u001b[0m\n\u001b[0;32m   1504\u001b[0m \u001b[1;33m\u001b[0m\u001b[0m\n\u001b[0;32m   1505\u001b[0m     \u001b[1;31m# error: Cannot call function of unknown type\u001b[0m\u001b[1;33m\u001b[0m\u001b[1;33m\u001b[0m\u001b[0m\n\u001b[1;32m-> 1506\u001b[1;33m     \u001b[1;32mreturn\u001b[0m \u001b[0mjoin_func\u001b[0m\u001b[1;33m(\u001b[0m\u001b[0mlkey\u001b[0m\u001b[1;33m,\u001b[0m \u001b[0mrkey\u001b[0m\u001b[1;33m,\u001b[0m \u001b[0mcount\u001b[0m\u001b[1;33m,\u001b[0m \u001b[1;33m**\u001b[0m\u001b[0mkwargs\u001b[0m\u001b[1;33m)\u001b[0m  \u001b[1;31m# type: ignore[operator]\u001b[0m\u001b[1;33m\u001b[0m\u001b[1;33m\u001b[0m\u001b[0m\n\u001b[0m\u001b[0;32m   1507\u001b[0m \u001b[1;33m\u001b[0m\u001b[0m\n\u001b[0;32m   1508\u001b[0m \u001b[1;33m\u001b[0m\u001b[0m\n",
      "\u001b[1;32m~\\Anaconda3\\lib\\site-packages\\pandas\\_libs\\join.pyx\u001b[0m in \u001b[0;36mpandas._libs.join.left_outer_join\u001b[1;34m()\u001b[0m\n",
      "\u001b[1;31mMemoryError\u001b[0m: Unable to allocate 129. MiB for an array with shape (16958914,) and data type int64"
     ]
    }
   ],
   "source": [
    "join8 = join7.merge(enzyme, on='subject_id', how='left')"
   ]
  },
  {
   "cell_type": "code",
   "execution_count": 21,
   "id": "99df5207",
   "metadata": {},
   "outputs": [
    {
     "data": {
      "text/plain": [
       "subject_id        int32\n",
       "stay_id           int32\n",
       "sofa_score         int8\n",
       "respiration        int8\n",
       "coagulation        int8\n",
       "liver              int8\n",
       "cardiovascular     int8\n",
       "cns                int8\n",
       "renal              int8\n",
       "dtype: object"
      ]
     },
     "execution_count": 21,
     "metadata": {},
     "output_type": "execute_result"
    }
   ],
   "source": [
    "sepsis3.dtypes"
   ]
  },
  {
   "cell_type": "code",
   "execution_count": 34,
   "id": "9f072aa5",
   "metadata": {},
   "outputs": [
    {
     "data": {
      "text/html": [
       "<div>\n",
       "<style scoped>\n",
       "    .dataframe tbody tr th:only-of-type {\n",
       "        vertical-align: middle;\n",
       "    }\n",
       "\n",
       "    .dataframe tbody tr th {\n",
       "        vertical-align: top;\n",
       "    }\n",
       "\n",
       "    .dataframe thead th {\n",
       "        text-align: right;\n",
       "    }\n",
       "</style>\n",
       "<table border=\"1\" class=\"dataframe\">\n",
       "  <thead>\n",
       "    <tr style=\"text-align: right;\">\n",
       "      <th></th>\n",
       "      <th>stay_id</th>\n",
       "      <th>sofa_24hours</th>\n",
       "    </tr>\n",
       "  </thead>\n",
       "  <tbody>\n",
       "    <tr>\n",
       "      <th>0</th>\n",
       "      <td>38965278</td>\n",
       "      <td>0</td>\n",
       "    </tr>\n",
       "    <tr>\n",
       "      <th>1</th>\n",
       "      <td>39707309</td>\n",
       "      <td>0</td>\n",
       "    </tr>\n",
       "    <tr>\n",
       "      <th>2</th>\n",
       "      <td>36569622</td>\n",
       "      <td>0</td>\n",
       "    </tr>\n",
       "    <tr>\n",
       "      <th>3</th>\n",
       "      <td>38733117</td>\n",
       "      <td>0</td>\n",
       "    </tr>\n",
       "    <tr>\n",
       "      <th>4</th>\n",
       "      <td>39672356</td>\n",
       "      <td>0</td>\n",
       "    </tr>\n",
       "  </tbody>\n",
       "</table>\n",
       "</div>"
      ],
      "text/plain": [
       "    stay_id  sofa_24hours\n",
       "0  38965278             0\n",
       "1  39707309             0\n",
       "2  36569622             0\n",
       "3  38733117             0\n",
       "4  39672356             0"
      ]
     },
     "execution_count": 34,
     "metadata": {},
     "output_type": "execute_result"
    }
   ],
   "source": [
    "sofa.head()"
   ]
  },
  {
   "cell_type": "code",
   "execution_count": null,
   "id": "e0d3d8c3",
   "metadata": {},
   "outputs": [],
   "source": [
    "#Check what is the spread of values in sofa_24hours\n",
    "print(sofa['sofa_24hours'].value_counts())\n",
    "#Only got value 0 in the column 'sofa_24hours'"
   ]
  },
  {
   "cell_type": "code",
   "execution_count": null,
   "id": "a8e10b2d",
   "metadata": {},
   "outputs": [],
   "source": [
    "print(sofa.isnull().sum())"
   ]
  },
  {
   "cell_type": "code",
   "execution_count": null,
   "id": "9b866f29",
   "metadata": {},
   "outputs": [],
   "source": [
    "sofa.dtypes"
   ]
  },
  {
   "cell_type": "code",
   "execution_count": null,
   "id": "5389b39d",
   "metadata": {},
   "outputs": [],
   "source": [
    "sofa['stay_id'] = sofa['stay_id'].astype('int32')\n",
    "sofa['sofa_24hours'] = sofa['sofa_24hours'].astype('int8')"
   ]
  },
  {
   "cell_type": "code",
   "execution_count": null,
   "id": "435c014a",
   "metadata": {},
   "outputs": [],
   "source": [
    "sirs.head()"
   ]
  },
  {
   "cell_type": "code",
   "execution_count": null,
   "id": "e8ab2d3f",
   "metadata": {},
   "outputs": [],
   "source": [
    "#Check what is the spread of values for sirs\n",
    "print(sirs['sirs'].value_counts())"
   ]
  },
  {
   "cell_type": "code",
   "execution_count": null,
   "id": "17b5523e",
   "metadata": {},
   "outputs": [],
   "source": [
    "print(sirs.isnull().sum())"
   ]
  },
  {
   "cell_type": "code",
   "execution_count": null,
   "id": "17e6fc3f",
   "metadata": {},
   "outputs": [],
   "source": [
    "sirs['stay_id'] = sirs['stay_id'].astype('int32')\n",
    "sirs['sirs'] = sirs['sirs'].astype('int8')"
   ]
  },
  {
   "cell_type": "code",
   "execution_count": 24,
   "id": "ee388751",
   "metadata": {},
   "outputs": [
    {
     "data": {
      "text/html": [
       "<div>\n",
       "<style scoped>\n",
       "    .dataframe tbody tr th:only-of-type {\n",
       "        vertical-align: middle;\n",
       "    }\n",
       "\n",
       "    .dataframe tbody tr th {\n",
       "        vertical-align: top;\n",
       "    }\n",
       "\n",
       "    .dataframe thead th {\n",
       "        text-align: right;\n",
       "    }\n",
       "</style>\n",
       "<table border=\"1\" class=\"dataframe\">\n",
       "  <thead>\n",
       "    <tr style=\"text-align: right;\">\n",
       "      <th></th>\n",
       "      <th>subject_id</th>\n",
       "      <th>age</th>\n",
       "    </tr>\n",
       "  </thead>\n",
       "  <tbody>\n",
       "    <tr>\n",
       "      <th>0</th>\n",
       "      <td>10731984</td>\n",
       "      <td>18</td>\n",
       "    </tr>\n",
       "    <tr>\n",
       "      <th>1</th>\n",
       "      <td>17590005</td>\n",
       "      <td>18</td>\n",
       "    </tr>\n",
       "    <tr>\n",
       "      <th>2</th>\n",
       "      <td>18684109</td>\n",
       "      <td>18</td>\n",
       "    </tr>\n",
       "    <tr>\n",
       "      <th>3</th>\n",
       "      <td>19850244</td>\n",
       "      <td>18</td>\n",
       "    </tr>\n",
       "    <tr>\n",
       "      <th>4</th>\n",
       "      <td>13207437</td>\n",
       "      <td>18</td>\n",
       "    </tr>\n",
       "  </tbody>\n",
       "</table>\n",
       "</div>"
      ],
      "text/plain": [
       "   subject_id  age\n",
       "0    10731984   18\n",
       "1    17590005   18\n",
       "2    18684109   18\n",
       "3    19850244   18\n",
       "4    13207437   18"
      ]
     },
     "execution_count": 24,
     "metadata": {},
     "output_type": "execute_result"
    }
   ],
   "source": [
    "age.head()"
   ]
  },
  {
   "cell_type": "code",
   "execution_count": null,
   "id": "a9ab86a5",
   "metadata": {},
   "outputs": [],
   "source": [
    "#Check what is the spread of values for age\n",
    "print(age['age'].value_counts())\n",
    "print(age.isnull().sum())"
   ]
  },
  {
   "cell_type": "code",
   "execution_count": null,
   "id": "c08ba7bd",
   "metadata": {},
   "outputs": [],
   "source": [
    "age['subject_id'] = age['subject_id'].astype('int32')\n",
    "age['age'] = age['age'].astype('int8')"
   ]
  },
  {
   "cell_type": "code",
   "execution_count": null,
   "id": "720d7f99",
   "metadata": {},
   "outputs": [],
   "source": [
    "bg.head()"
   ]
  },
  {
   "cell_type": "code",
   "execution_count": null,
   "id": "2a2ee9df",
   "metadata": {},
   "outputs": [],
   "source": [
    "print(bg.isnull().sum())"
   ]
  },
  {
   "cell_type": "code",
   "execution_count": null,
   "id": "d2033da1",
   "metadata": {},
   "outputs": [],
   "source": [
    "bg.dtypes"
   ]
  },
  {
   "cell_type": "code",
   "execution_count": null,
   "id": "8b2b8241",
   "metadata": {},
   "outputs": [],
   "source": [
    "bg['subject_id'] = bg['subject_id'].astype('int32')\n",
    "bg['bicarbonate'] = bg['bicarbonate'].astype('float32')\n",
    "bg['hemoglobin'] = bg['hemoglobin'].astype('float32')\n",
    "bg['chloride'] = bg['chloride'].astype('float32')\n",
    "bg['calcium'] = bg['calcium'].astype('float32')\n",
    "bg['potassium'] = bg['potassium'].astype('float32')\n",
    "bg['sodium'] = bg['sodium'].astype('float32')\n",
    "bg['lactate'] = bg['lactate'].astype('float32')\n",
    "bg['glucose'] = bg['glucose'].astype('float32')"
   ]
  },
  {
   "cell_type": "code",
   "execution_count": null,
   "id": "bb5116ff",
   "metadata": {},
   "outputs": [],
   "source": [
    "bloodcount.head()"
   ]
  },
  {
   "cell_type": "code",
   "execution_count": null,
   "id": "2d9a6186",
   "metadata": {},
   "outputs": [],
   "source": [
    "print(bloodcount.isnull().sum())"
   ]
  },
  {
   "cell_type": "code",
   "execution_count": null,
   "id": "30282c01",
   "metadata": {},
   "outputs": [],
   "source": [
    "bloodcount.dtypes"
   ]
  },
  {
   "cell_type": "code",
   "execution_count": null,
   "id": "c9c82c03",
   "metadata": {},
   "outputs": [],
   "source": [
    "bloodcount['subject_id'] = bloodcount['subject_id'].astype('int32')\n",
    "bloodcount['platelet'] = bloodcount['platelet'].astype('float32')\n",
    "bloodcount['wbc'] = bloodcount['wbc'].astype('float32')"
   ]
  },
  {
   "cell_type": "code",
   "execution_count": null,
   "id": "cdb5e9bc",
   "metadata": {},
   "outputs": [],
   "source": [
    "chemistry.head()"
   ]
  },
  {
   "cell_type": "code",
   "execution_count": null,
   "id": "09a3023f",
   "metadata": {},
   "outputs": [],
   "source": [
    "print(chemistry.isnull().sum())"
   ]
  },
  {
   "cell_type": "code",
   "execution_count": null,
   "id": "c7e220e2",
   "metadata": {},
   "outputs": [],
   "source": [
    "chemistry.shape"
   ]
  },
  {
   "cell_type": "code",
   "execution_count": null,
   "id": "fea2382d",
   "metadata": {},
   "outputs": [],
   "source": [
    "chemistry.dtypes"
   ]
  },
  {
   "cell_type": "code",
   "execution_count": null,
   "id": "cc150c93",
   "metadata": {},
   "outputs": [],
   "source": [
    "chemistry['subject_id'] = chemistry['subject_id'].astype('int32')\n",
    "chemistry['albumin'] = chemistry['albumin'].astype('float32')\n",
    "chemistry['creatinine'] = chemistry['creatinine'].astype('float32')"
   ]
  },
  {
   "cell_type": "code",
   "execution_count": 36,
   "id": "e74cb117",
   "metadata": {},
   "outputs": [
    {
     "data": {
      "text/html": [
       "<div>\n",
       "<style scoped>\n",
       "    .dataframe tbody tr th:only-of-type {\n",
       "        vertical-align: middle;\n",
       "    }\n",
       "\n",
       "    .dataframe tbody tr th {\n",
       "        vertical-align: top;\n",
       "    }\n",
       "\n",
       "    .dataframe thead th {\n",
       "        text-align: right;\n",
       "    }\n",
       "</style>\n",
       "<table border=\"1\" class=\"dataframe\">\n",
       "  <thead>\n",
       "    <tr style=\"text-align: right;\">\n",
       "      <th></th>\n",
       "      <th>subject_id</th>\n",
       "      <th>bilirubin_total</th>\n",
       "    </tr>\n",
       "  </thead>\n",
       "  <tbody>\n",
       "    <tr>\n",
       "      <th>0</th>\n",
       "      <td>11573679</td>\n",
       "      <td>NaN</td>\n",
       "    </tr>\n",
       "    <tr>\n",
       "      <th>1</th>\n",
       "      <td>18817034</td>\n",
       "      <td>NaN</td>\n",
       "    </tr>\n",
       "    <tr>\n",
       "      <th>2</th>\n",
       "      <td>16654740</td>\n",
       "      <td>NaN</td>\n",
       "    </tr>\n",
       "    <tr>\n",
       "      <th>3</th>\n",
       "      <td>19014854</td>\n",
       "      <td>NaN</td>\n",
       "    </tr>\n",
       "    <tr>\n",
       "      <th>4</th>\n",
       "      <td>17388366</td>\n",
       "      <td>NaN</td>\n",
       "    </tr>\n",
       "  </tbody>\n",
       "</table>\n",
       "</div>"
      ],
      "text/plain": [
       "   subject_id  bilirubin_total\n",
       "0    11573679              NaN\n",
       "1    18817034              NaN\n",
       "2    16654740              NaN\n",
       "3    19014854              NaN\n",
       "4    17388366              NaN"
      ]
     },
     "execution_count": 36,
     "metadata": {},
     "output_type": "execute_result"
    }
   ],
   "source": [
    "enzyme.head()"
   ]
  },
  {
   "cell_type": "code",
   "execution_count": null,
   "id": "1c6e9671",
   "metadata": {},
   "outputs": [],
   "source": [
    "print(enzyme.isnull().sum())"
   ]
  },
  {
   "cell_type": "code",
   "execution_count": null,
   "id": "4bfda717",
   "metadata": {},
   "outputs": [],
   "source": [
    "enzyme.dtypes"
   ]
  },
  {
   "cell_type": "code",
   "execution_count": null,
   "id": "64c91b9a",
   "metadata": {},
   "outputs": [],
   "source": [
    "enzyme['subject_id'] = enzyme['subject_id'].astype('int32')\n",
    "enzyme['bilirubin_total'] = enzyme['bilirubin_total'].astype('float32')"
   ]
  },
  {
   "cell_type": "code",
   "execution_count": 32,
   "id": "f0fb11d7",
   "metadata": {},
   "outputs": [
    {
     "data": {
      "text/html": [
       "<div>\n",
       "<style scoped>\n",
       "    .dataframe tbody tr th:only-of-type {\n",
       "        vertical-align: middle;\n",
       "    }\n",
       "\n",
       "    .dataframe tbody tr th {\n",
       "        vertical-align: top;\n",
       "    }\n",
       "\n",
       "    .dataframe thead th {\n",
       "        text-align: right;\n",
       "    }\n",
       "</style>\n",
       "<table border=\"1\" class=\"dataframe\">\n",
       "  <thead>\n",
       "    <tr style=\"text-align: right;\">\n",
       "      <th></th>\n",
       "      <th>stay_id</th>\n",
       "      <th>gcs</th>\n",
       "    </tr>\n",
       "  </thead>\n",
       "  <tbody>\n",
       "    <tr>\n",
       "      <th>0</th>\n",
       "      <td>39648536</td>\n",
       "      <td>3</td>\n",
       "    </tr>\n",
       "    <tr>\n",
       "      <th>1</th>\n",
       "      <td>37996984</td>\n",
       "      <td>3</td>\n",
       "    </tr>\n",
       "    <tr>\n",
       "      <th>2</th>\n",
       "      <td>34004644</td>\n",
       "      <td>3</td>\n",
       "    </tr>\n",
       "    <tr>\n",
       "      <th>3</th>\n",
       "      <td>38685632</td>\n",
       "      <td>3</td>\n",
       "    </tr>\n",
       "    <tr>\n",
       "      <th>4</th>\n",
       "      <td>31673161</td>\n",
       "      <td>3</td>\n",
       "    </tr>\n",
       "  </tbody>\n",
       "</table>\n",
       "</div>"
      ],
      "text/plain": [
       "    stay_id  gcs\n",
       "0  39648536    3\n",
       "1  37996984    3\n",
       "2  34004644    3\n",
       "3  38685632    3\n",
       "4  31673161    3"
      ]
     },
     "execution_count": 32,
     "metadata": {},
     "output_type": "execute_result"
    }
   ],
   "source": [
    "gcs.head()"
   ]
  },
  {
   "cell_type": "code",
   "execution_count": null,
   "id": "61881adb",
   "metadata": {},
   "outputs": [],
   "source": [
    "print(gcs.isnull().sum())"
   ]
  },
  {
   "cell_type": "code",
   "execution_count": null,
   "id": "8a5a07a4",
   "metadata": {},
   "outputs": [],
   "source": [
    "gcs.dtypes"
   ]
  },
  {
   "cell_type": "code",
   "execution_count": null,
   "id": "7e361076",
   "metadata": {},
   "outputs": [],
   "source": [
    "print(gcs['gcs'].value_counts())"
   ]
  },
  {
   "cell_type": "code",
   "execution_count": null,
   "id": "eece4d80",
   "metadata": {},
   "outputs": [],
   "source": [
    "gcs['stay_id'] = gcs['stay_id'].astype('int32')\n",
    "gcs['gcs'] = gcs['gcs'].astype('int8')"
   ]
  },
  {
   "cell_type": "code",
   "execution_count": 30,
   "id": "b4dab028",
   "metadata": {},
   "outputs": [
    {
     "data": {
      "text/html": [
       "<div>\n",
       "<style scoped>\n",
       "    .dataframe tbody tr th:only-of-type {\n",
       "        vertical-align: middle;\n",
       "    }\n",
       "\n",
       "    .dataframe tbody tr th {\n",
       "        vertical-align: top;\n",
       "    }\n",
       "\n",
       "    .dataframe thead th {\n",
       "        text-align: right;\n",
       "    }\n",
       "</style>\n",
       "<table border=\"1\" class=\"dataframe\">\n",
       "  <thead>\n",
       "    <tr style=\"text-align: right;\">\n",
       "      <th></th>\n",
       "      <th>subject_id</th>\n",
       "      <th>gender</th>\n",
       "      <th>first_hosp_stay</th>\n",
       "      <th>first_icu_stay</th>\n",
       "    </tr>\n",
       "  </thead>\n",
       "  <tbody>\n",
       "    <tr>\n",
       "      <th>0</th>\n",
       "      <td>17905563</td>\n",
       "      <td>F</td>\n",
       "      <td>False</td>\n",
       "      <td>True</td>\n",
       "    </tr>\n",
       "    <tr>\n",
       "      <th>1</th>\n",
       "      <td>17967857</td>\n",
       "      <td>F</td>\n",
       "      <td>False</td>\n",
       "      <td>True</td>\n",
       "    </tr>\n",
       "    <tr>\n",
       "      <th>2</th>\n",
       "      <td>11465246</td>\n",
       "      <td>F</td>\n",
       "      <td>False</td>\n",
       "      <td>True</td>\n",
       "    </tr>\n",
       "    <tr>\n",
       "      <th>3</th>\n",
       "      <td>17371025</td>\n",
       "      <td>F</td>\n",
       "      <td>False</td>\n",
       "      <td>True</td>\n",
       "    </tr>\n",
       "    <tr>\n",
       "      <th>4</th>\n",
       "      <td>14454179</td>\n",
       "      <td>F</td>\n",
       "      <td>False</td>\n",
       "      <td>True</td>\n",
       "    </tr>\n",
       "  </tbody>\n",
       "</table>\n",
       "</div>"
      ],
      "text/plain": [
       "   subject_id gender  first_hosp_stay  first_icu_stay\n",
       "0    17905563      F            False            True\n",
       "1    17967857      F            False            True\n",
       "2    11465246      F            False            True\n",
       "3    17371025      F            False            True\n",
       "4    14454179      F            False            True"
      ]
     },
     "execution_count": 30,
     "metadata": {},
     "output_type": "execute_result"
    }
   ],
   "source": [
    "icustaydetails.head()"
   ]
  },
  {
   "cell_type": "code",
   "execution_count": null,
   "id": "c55b02fb",
   "metadata": {},
   "outputs": [],
   "source": [
    "print(icustaydetails.isnull().sum())"
   ]
  },
  {
   "cell_type": "code",
   "execution_count": null,
   "id": "519f0e74",
   "metadata": {},
   "outputs": [],
   "source": [
    "icustaydetails.dtypes"
   ]
  },
  {
   "cell_type": "code",
   "execution_count": null,
   "id": "682ed378",
   "metadata": {},
   "outputs": [],
   "source": [
    "icustaydetails['subject_id'] = icustaydetails['subject_id'].astype('int32')"
   ]
  },
  {
   "cell_type": "code",
   "execution_count": null,
   "id": "0c63cce5",
   "metadata": {},
   "outputs": [],
   "source": [
    "ventilatorsetting.head()"
   ]
  },
  {
   "cell_type": "code",
   "execution_count": null,
   "id": "a1b6dc89",
   "metadata": {},
   "outputs": [],
   "source": [
    "print(ventilatorsetting.isnull().sum())"
   ]
  },
  {
   "cell_type": "code",
   "execution_count": null,
   "id": "eec57617",
   "metadata": {},
   "outputs": [],
   "source": [
    "ventilatorsetting.dtypes"
   ]
  },
  {
   "cell_type": "code",
   "execution_count": null,
   "id": "99b481ba",
   "metadata": {},
   "outputs": [],
   "source": [
    "ventilatorsetting['stay_id'] = ventilatorsetting['stay_id'].astype('int32')\n",
    "ventilatorsetting['respiratory_rate_total'] = ventilatorsetting['respiratory_rate_total'].astype('float32')\n",
    "ventilatorsetting['fio2'] = ventilatorsetting['fio2'].astype('float32')"
   ]
  },
  {
   "cell_type": "code",
   "execution_count": null,
   "id": "66b55337",
   "metadata": {},
   "outputs": [],
   "source": [
    "vitalsign.head()"
   ]
  },
  {
   "cell_type": "code",
   "execution_count": null,
   "id": "ebc899be",
   "metadata": {},
   "outputs": [],
   "source": [
    "print(vitalsign.isnull().sum())"
   ]
  },
  {
   "cell_type": "code",
   "execution_count": null,
   "id": "60bd2640",
   "metadata": {},
   "outputs": [],
   "source": [
    "vitalsign.dtypes"
   ]
  },
  {
   "cell_type": "code",
   "execution_count": null,
   "id": "1c30ab60",
   "metadata": {},
   "outputs": [],
   "source": [
    "vitalsign['stay_id'] = vitalsign['stay_id'].astype('int32')\n",
    "vitalsign['heart_rate'] = vitalsign['heart_rate'].astype('float32')\n",
    "vitalsign['temperature'] = vitalsign['temperature'].astype('float32')\n",
    "vitalsign['spo2'] = vitalsign['spo2'].astype('float32')"
   ]
  },
  {
   "cell_type": "code",
   "execution_count": 26,
   "id": "00bc69ba",
   "metadata": {},
   "outputs": [
    {
     "data": {
      "text/html": [
       "<div>\n",
       "<style scoped>\n",
       "    .dataframe tbody tr th:only-of-type {\n",
       "        vertical-align: middle;\n",
       "    }\n",
       "\n",
       "    .dataframe tbody tr th {\n",
       "        vertical-align: top;\n",
       "    }\n",
       "\n",
       "    .dataframe thead th {\n",
       "        text-align: right;\n",
       "    }\n",
       "</style>\n",
       "<table border=\"1\" class=\"dataframe\">\n",
       "  <thead>\n",
       "    <tr style=\"text-align: right;\">\n",
       "      <th></th>\n",
       "      <th>stay_id</th>\n",
       "      <th>weight</th>\n",
       "    </tr>\n",
       "  </thead>\n",
       "  <tbody>\n",
       "    <tr>\n",
       "      <th>0</th>\n",
       "      <td>35461582</td>\n",
       "      <td>2.0</td>\n",
       "    </tr>\n",
       "    <tr>\n",
       "      <th>1</th>\n",
       "      <td>36928437</td>\n",
       "      <td>4.0</td>\n",
       "    </tr>\n",
       "    <tr>\n",
       "      <th>2</th>\n",
       "      <td>31399404</td>\n",
       "      <td>7.5</td>\n",
       "    </tr>\n",
       "    <tr>\n",
       "      <th>3</th>\n",
       "      <td>32588322</td>\n",
       "      <td>10.0</td>\n",
       "    </tr>\n",
       "    <tr>\n",
       "      <th>4</th>\n",
       "      <td>32449077</td>\n",
       "      <td>10.0</td>\n",
       "    </tr>\n",
       "  </tbody>\n",
       "</table>\n",
       "</div>"
      ],
      "text/plain": [
       "    stay_id  weight\n",
       "0  35461582     2.0\n",
       "1  36928437     4.0\n",
       "2  31399404     7.5\n",
       "3  32588322    10.0\n",
       "4  32449077    10.0"
      ]
     },
     "execution_count": 26,
     "metadata": {},
     "output_type": "execute_result"
    }
   ],
   "source": [
    "weight.head()"
   ]
  },
  {
   "cell_type": "code",
   "execution_count": null,
   "id": "a67dad54",
   "metadata": {},
   "outputs": [],
   "source": [
    "print(weight.isnull().sum())"
   ]
  },
  {
   "cell_type": "code",
   "execution_count": null,
   "id": "7236f4bd",
   "metadata": {},
   "outputs": [],
   "source": [
    "weight.dtypes"
   ]
  },
  {
   "cell_type": "code",
   "execution_count": null,
   "id": "748acc83",
   "metadata": {},
   "outputs": [],
   "source": [
    "weight['stay_id'] = weight['stay_id'].astype('int32')\n",
    "weight['weight'] = weight['weight'].astype('float32')"
   ]
  },
  {
   "cell_type": "code",
   "execution_count": null,
   "id": "3758314d",
   "metadata": {},
   "outputs": [],
   "source": [
    "testjoin = sepsis3.merge(sofa, on='stay_id', how='inner')"
   ]
  },
  {
   "cell_type": "code",
   "execution_count": null,
   "id": "2a79ffe0",
   "metadata": {},
   "outputs": [],
   "source": [
    "testjoin2 = testjoin.merge(weight, on='stay_id', how='inner')"
   ]
  },
  {
   "cell_type": "code",
   "execution_count": null,
   "id": "e8aec801",
   "metadata": {},
   "outputs": [],
   "source": [
    "testjoin3 = testjoin2.merge(vitalsign,on='stay_id', how='inner' )"
   ]
  },
  {
   "cell_type": "code",
   "execution_count": null,
   "id": "16cc878b",
   "metadata": {},
   "outputs": [],
   "source": [
    "testjoin = sepsis3.merge(sofa, on='stay_id', how='outer').merge(weight, on='stay_id', how='outer').merge(vitalsign,on='stay_id', how='outer' ).merge(ventilatorsetting,on='stay_id', how='outer').merge( gcs, on='stay_id', how='outer').merge(sirs,on='stay_id', how='outer')"
   ]
  },
  {
   "cell_type": "code",
   "execution_count": null,
   "id": "29a18129",
   "metadata": {},
   "outputs": [],
   "source": [
    "testjoin.head()"
   ]
  },
  {
   "cell_type": "code",
   "execution_count": null,
   "id": "e28a0f3f",
   "metadata": {},
   "outputs": [],
   "source": [
    "testjoin.shape[0]"
   ]
  },
  {
   "cell_type": "code",
   "execution_count": null,
   "id": "c9c4b0ed",
   "metadata": {},
   "outputs": [],
   "source": [
    "furtherjoin = testjoin.merge(icustaydetails,on='subject_id', how='outer').merge(enzyme,on='subject_id', how='outer').merge(chemistry,on='subject_id', how='outer').merge(bloodcount,on='subject_id', how='outer').merge(bg,on='subject_id', how='outer').merge(age,on='subject_id', how='outer')"
   ]
  },
  {
   "cell_type": "code",
   "execution_count": null,
   "id": "63863364",
   "metadata": {},
   "outputs": [],
   "source": [
    "furtherjoin.shape[0]"
   ]
  },
  {
   "cell_type": "code",
   "execution_count": null,
   "id": "35a9a408",
   "metadata": {},
   "outputs": [],
   "source": [
    "furtherjoin.head()"
   ]
  },
  {
   "cell_type": "code",
   "execution_count": null,
   "id": "02894fca",
   "metadata": {},
   "outputs": [],
   "source": [
    "furtherjoin.describe()"
   ]
  },
  {
   "cell_type": "code",
   "execution_count": null,
   "id": "7265233e",
   "metadata": {},
   "outputs": [],
   "source": [
    "furtherjoin.isnull().sum()"
   ]
  },
  {
   "cell_type": "code",
   "execution_count": 3,
   "id": "4ecfc786",
   "metadata": {},
   "outputs": [
    {
     "data": {
      "text/html": [
       "<div>\n",
       "<style scoped>\n",
       "    .dataframe tbody tr th:only-of-type {\n",
       "        vertical-align: middle;\n",
       "    }\n",
       "\n",
       "    .dataframe tbody tr th {\n",
       "        vertical-align: top;\n",
       "    }\n",
       "\n",
       "    .dataframe thead th {\n",
       "        text-align: right;\n",
       "    }\n",
       "</style>\n",
       "<table border=\"1\" class=\"dataframe\">\n",
       "  <thead>\n",
       "    <tr style=\"text-align: right;\">\n",
       "      <th></th>\n",
       "      <th>subject_id</th>\n",
       "      <th>deathtime</th>\n",
       "    </tr>\n",
       "  </thead>\n",
       "  <tbody>\n",
       "    <tr>\n",
       "      <th>0</th>\n",
       "      <td>10433099</td>\n",
       "      <td>NaN</td>\n",
       "    </tr>\n",
       "    <tr>\n",
       "      <th>1</th>\n",
       "      <td>11343907</td>\n",
       "      <td>NaN</td>\n",
       "    </tr>\n",
       "    <tr>\n",
       "      <th>2</th>\n",
       "      <td>14878442</td>\n",
       "      <td>NaN</td>\n",
       "    </tr>\n",
       "    <tr>\n",
       "      <th>3</th>\n",
       "      <td>16473254</td>\n",
       "      <td>NaN</td>\n",
       "    </tr>\n",
       "    <tr>\n",
       "      <th>4</th>\n",
       "      <td>18367977</td>\n",
       "      <td>NaN</td>\n",
       "    </tr>\n",
       "  </tbody>\n",
       "</table>\n",
       "</div>"
      ],
      "text/plain": [
       "   subject_id deathtime\n",
       "0    10433099       NaN\n",
       "1    11343907       NaN\n",
       "2    14878442       NaN\n",
       "3    16473254       NaN\n",
       "4    18367977       NaN"
      ]
     },
     "execution_count": 3,
     "metadata": {},
     "output_type": "execute_result"
    }
   ],
   "source": [
    "admissions.head()"
   ]
  },
  {
   "cell_type": "code",
   "execution_count": 4,
   "id": "43c89870",
   "metadata": {},
   "outputs": [
    {
     "data": {
      "text/plain": [
       "subject_id        0\n",
       "deathtime     23337\n",
       "dtype: int64"
      ]
     },
     "execution_count": 4,
     "metadata": {},
     "output_type": "execute_result"
    }
   ],
   "source": [
    "admissions.isnull().sum()"
   ]
  },
  {
   "cell_type": "code",
   "execution_count": 5,
   "id": "34914185",
   "metadata": {},
   "outputs": [
    {
     "data": {
      "text/plain": [
       "subject_id     int64\n",
       "deathtime     object\n",
       "dtype: object"
      ]
     },
     "execution_count": 5,
     "metadata": {},
     "output_type": "execute_result"
    }
   ],
   "source": [
    "admissions.dtypes"
   ]
  },
  {
   "cell_type": "code",
   "execution_count": null,
   "id": "94f6cf90",
   "metadata": {},
   "outputs": [],
   "source": [
    "admissions['subject_id'] = admissions['subject_id'].astype('int32')"
   ]
  }
 ],
 "metadata": {
  "kernelspec": {
   "display_name": "Python 3 (ipykernel)",
   "language": "python",
   "name": "python3"
  },
  "language_info": {
   "codemirror_mode": {
    "name": "ipython",
    "version": 3
   },
   "file_extension": ".py",
   "mimetype": "text/x-python",
   "name": "python",
   "nbconvert_exporter": "python",
   "pygments_lexer": "ipython3",
   "version": "3.9.7"
  }
 },
 "nbformat": 4,
 "nbformat_minor": 5
}
