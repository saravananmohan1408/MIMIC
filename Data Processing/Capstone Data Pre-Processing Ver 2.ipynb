{
 "cells": [
  {
   "cell_type": "code",
   "execution_count": 27,
   "id": "bd57e8f0",
   "metadata": {},
   "outputs": [],
   "source": [
    "import numpy as np\n",
    "import pandas as pd\n",
    "from pandas import DataFrame"
   ]
  },
  {
   "cell_type": "code",
   "execution_count": 28,
   "id": "dccad49c",
   "metadata": {},
   "outputs": [],
   "source": [
    "sepsis3 = pd.read_csv(\"C:\\\\Users\\\\sara1\\\\Desktop\\\\Rawdata\\\\Sepsis3.csv\")"
   ]
  },
  {
   "cell_type": "code",
   "execution_count": 29,
   "id": "18e5566a",
   "metadata": {},
   "outputs": [
    {
     "data": {
      "text/html": [
       "<div>\n",
       "<style scoped>\n",
       "    .dataframe tbody tr th:only-of-type {\n",
       "        vertical-align: middle;\n",
       "    }\n",
       "\n",
       "    .dataframe tbody tr th {\n",
       "        vertical-align: top;\n",
       "    }\n",
       "\n",
       "    .dataframe thead th {\n",
       "        text-align: right;\n",
       "    }\n",
       "</style>\n",
       "<table border=\"1\" class=\"dataframe\">\n",
       "  <thead>\n",
       "    <tr style=\"text-align: right;\">\n",
       "      <th></th>\n",
       "      <th>subject_id</th>\n",
       "      <th>stay_id</th>\n",
       "      <th>antibiotic_time</th>\n",
       "      <th>culture_time</th>\n",
       "      <th>suspected_infection_time</th>\n",
       "      <th>sofa_time</th>\n",
       "      <th>sofa_score</th>\n",
       "      <th>respiration</th>\n",
       "      <th>coagulation</th>\n",
       "      <th>liver</th>\n",
       "      <th>cardiovascular</th>\n",
       "      <th>cns</th>\n",
       "      <th>renal</th>\n",
       "      <th>sepsis3</th>\n",
       "    </tr>\n",
       "  </thead>\n",
       "  <tbody>\n",
       "    <tr>\n",
       "      <th>0</th>\n",
       "      <td>18426683</td>\n",
       "      <td>33144981</td>\n",
       "      <td>2160-06-12 01:00:00</td>\n",
       "      <td>2160-06-11 18:09:00</td>\n",
       "      <td>2160-06-11 18:09:00</td>\n",
       "      <td>2160-06-12 02:00:00</td>\n",
       "      <td>2</td>\n",
       "      <td>0</td>\n",
       "      <td>0</td>\n",
       "      <td>0</td>\n",
       "      <td>0</td>\n",
       "      <td>0</td>\n",
       "      <td>2</td>\n",
       "      <td>True</td>\n",
       "    </tr>\n",
       "    <tr>\n",
       "      <th>1</th>\n",
       "      <td>13575012</td>\n",
       "      <td>39676188</td>\n",
       "      <td>2175-01-09 10:00:00</td>\n",
       "      <td>2175-01-06 13:40:00</td>\n",
       "      <td>2175-01-06 13:40:00</td>\n",
       "      <td>2175-01-06 14:00:00</td>\n",
       "      <td>2</td>\n",
       "      <td>0</td>\n",
       "      <td>1</td>\n",
       "      <td>0</td>\n",
       "      <td>0</td>\n",
       "      <td>1</td>\n",
       "      <td>0</td>\n",
       "      <td>True</td>\n",
       "    </tr>\n",
       "    <tr>\n",
       "      <th>2</th>\n",
       "      <td>10978369</td>\n",
       "      <td>35499094</td>\n",
       "      <td>2119-01-17 23:00:00</td>\n",
       "      <td>2119-01-17 23:15:00</td>\n",
       "      <td>2119-01-17 23:00:00</td>\n",
       "      <td>2119-01-17 23:00:00</td>\n",
       "      <td>2</td>\n",
       "      <td>0</td>\n",
       "      <td>1</td>\n",
       "      <td>0</td>\n",
       "      <td>0</td>\n",
       "      <td>0</td>\n",
       "      <td>1</td>\n",
       "      <td>True</td>\n",
       "    </tr>\n",
       "    <tr>\n",
       "      <th>3</th>\n",
       "      <td>18310719</td>\n",
       "      <td>37925008</td>\n",
       "      <td>2130-07-30 00:00:00</td>\n",
       "      <td>2130-07-27 22:21:00</td>\n",
       "      <td>2130-07-27 22:21:00</td>\n",
       "      <td>2130-07-28 10:00:00</td>\n",
       "      <td>2</td>\n",
       "      <td>2</td>\n",
       "      <td>0</td>\n",
       "      <td>0</td>\n",
       "      <td>0</td>\n",
       "      <td>0</td>\n",
       "      <td>0</td>\n",
       "      <td>True</td>\n",
       "    </tr>\n",
       "    <tr>\n",
       "      <th>4</th>\n",
       "      <td>14897163</td>\n",
       "      <td>35503068</td>\n",
       "      <td>2172-11-06 20:00:00</td>\n",
       "      <td>2172-11-05 15:59:00</td>\n",
       "      <td>2172-11-05 15:59:00</td>\n",
       "      <td>2172-11-05 17:00:00</td>\n",
       "      <td>2</td>\n",
       "      <td>2</td>\n",
       "      <td>0</td>\n",
       "      <td>0</td>\n",
       "      <td>0</td>\n",
       "      <td>0</td>\n",
       "      <td>0</td>\n",
       "      <td>True</td>\n",
       "    </tr>\n",
       "  </tbody>\n",
       "</table>\n",
       "</div>"
      ],
      "text/plain": [
       "   subject_id   stay_id      antibiotic_time         culture_time  \\\n",
       "0    18426683  33144981  2160-06-12 01:00:00  2160-06-11 18:09:00   \n",
       "1    13575012  39676188  2175-01-09 10:00:00  2175-01-06 13:40:00   \n",
       "2    10978369  35499094  2119-01-17 23:00:00  2119-01-17 23:15:00   \n",
       "3    18310719  37925008  2130-07-30 00:00:00  2130-07-27 22:21:00   \n",
       "4    14897163  35503068  2172-11-06 20:00:00  2172-11-05 15:59:00   \n",
       "\n",
       "  suspected_infection_time            sofa_time  sofa_score  respiration  \\\n",
       "0      2160-06-11 18:09:00  2160-06-12 02:00:00           2            0   \n",
       "1      2175-01-06 13:40:00  2175-01-06 14:00:00           2            0   \n",
       "2      2119-01-17 23:00:00  2119-01-17 23:00:00           2            0   \n",
       "3      2130-07-27 22:21:00  2130-07-28 10:00:00           2            2   \n",
       "4      2172-11-05 15:59:00  2172-11-05 17:00:00           2            2   \n",
       "\n",
       "   coagulation  liver  cardiovascular  cns  renal  sepsis3  \n",
       "0            0      0               0    0      2     True  \n",
       "1            1      0               0    1      0     True  \n",
       "2            1      0               0    0      1     True  \n",
       "3            0      0               0    0      0     True  \n",
       "4            0      0               0    0      0     True  "
      ]
     },
     "execution_count": 29,
     "metadata": {},
     "output_type": "execute_result"
    }
   ],
   "source": [
    "sepsis3.head()"
   ]
  },
  {
   "cell_type": "code",
   "execution_count": 30,
   "id": "3ced3287",
   "metadata": {},
   "outputs": [],
   "source": [
    "sepsis3.drop(['sepsis3', 'antibiotic_time', 'culture_time', 'suspected_infection_time', 'sofa_time', 'respiration', 'coagulation', 'liver', 'cardiovascular', 'cns', 'renal'], axis=1, inplace=True)"
   ]
  },
  {
   "cell_type": "code",
   "execution_count": 31,
   "id": "5f170f43",
   "metadata": {},
   "outputs": [],
   "source": [
    "#sepsis3['sofa_score'] = sepsis3['sofa_score'].astype('int8')\n",
    "#sepsis3['respiration'] = sepsis3['respiration'].astype('int8')\n",
    "#sepsis3['coagulation'] = sepsis3['coagulation'].astype('int8')\n",
    "#sepsis3['liver'] = sepsis3['liver'].astype('int8')\n",
    "#sepsis3['cardiovascular'] = sepsis3['cardiovascular'].astype('int8')\n",
    "#sepsis3['cns'] = sepsis3['cns'].astype('int8')\n",
    "#sepsis3['renal'] = sepsis3['renal'].astype('int8')\n",
    "sepsis3['subject_id'] = sepsis3['subject_id'].astype('int32')\n",
    "sepsis3['stay_id'] = sepsis3['stay_id'].astype('int32')"
   ]
  },
  {
   "cell_type": "code",
   "execution_count": 32,
   "id": "131ecf6b",
   "metadata": {},
   "outputs": [
    {
     "data": {
      "text/plain": [
       "(32971, 3)"
      ]
     },
     "execution_count": 32,
     "metadata": {},
     "output_type": "execute_result"
    }
   ],
   "source": [
    "sepsis3.shape"
   ]
  },
  {
   "cell_type": "code",
   "execution_count": 33,
   "id": "b0b4462b",
   "metadata": {},
   "outputs": [],
   "source": [
    "sirs = pd.read_csv(\"C:\\\\Users\\\\sara1\\\\Desktop\\\\Rawdata\\\\SIRS.csv\")"
   ]
  },
  {
   "cell_type": "code",
   "execution_count": 34,
   "id": "36265756",
   "metadata": {},
   "outputs": [],
   "source": [
    "sirs['stay_id'] = sirs['stay_id'].astype('int32')\n",
    "sirs['sirs'] = sirs['sirs'].astype('int8')"
   ]
  },
  {
   "cell_type": "code",
   "execution_count": 35,
   "id": "2e0e7186",
   "metadata": {},
   "outputs": [],
   "source": [
    "join1 = sepsis3.merge(sirs, on='stay_id', how='inner', copy=False)"
   ]
  },
  {
   "cell_type": "code",
   "execution_count": 36,
   "id": "2c238dba",
   "metadata": {},
   "outputs": [
    {
     "data": {
      "text/plain": [
       "(32971, 4)"
      ]
     },
     "execution_count": 36,
     "metadata": {},
     "output_type": "execute_result"
    }
   ],
   "source": [
    "join1.shape"
   ]
  },
  {
   "cell_type": "code",
   "execution_count": 37,
   "id": "69ea8646",
   "metadata": {},
   "outputs": [],
   "source": [
    "age = pd.read_csv(\"C:\\\\Users\\\\sara1\\\\Desktop\\\\Rawdata\\\\Age.csv\")"
   ]
  },
  {
   "cell_type": "code",
   "execution_count": 38,
   "id": "ddc56274",
   "metadata": {},
   "outputs": [
    {
     "data": {
      "text/plain": [
       "(52187, 2)"
      ]
     },
     "execution_count": 38,
     "metadata": {},
     "output_type": "execute_result"
    }
   ],
   "source": [
    "age.shape"
   ]
  },
  {
   "cell_type": "code",
   "execution_count": 39,
   "id": "1aa83d7a",
   "metadata": {},
   "outputs": [],
   "source": [
    "age['subject_id'] = age['subject_id'].astype('int32')\n",
    "age['age'] = age['age'].astype('int8')"
   ]
  },
  {
   "cell_type": "code",
   "execution_count": 40,
   "id": "871a0ac9",
   "metadata": {},
   "outputs": [],
   "source": [
    "join2 = join1.merge(age, on='subject_id', how='inner', copy=False)"
   ]
  },
  {
   "cell_type": "code",
   "execution_count": 41,
   "id": "5ada374a",
   "metadata": {},
   "outputs": [
    {
     "data": {
      "text/plain": [
       "(79593, 5)"
      ]
     },
     "execution_count": 41,
     "metadata": {},
     "output_type": "execute_result"
    }
   ],
   "source": [
    "join2.shape"
   ]
  },
  {
   "cell_type": "code",
   "execution_count": 42,
   "id": "1b2fcd88",
   "metadata": {},
   "outputs": [],
   "source": [
    "weight = pd.read_csv(\"C:\\\\Users\\\\sara1\\\\Desktop\\\\Rawdata\\\\Weight.csv\")"
   ]
  },
  {
   "cell_type": "code",
   "execution_count": 43,
   "id": "d95bb735",
   "metadata": {},
   "outputs": [],
   "source": [
    "weight['stay_id'] = weight['stay_id'].astype('int32')\n",
    "weight['weight'] = weight['weight'].astype('float32')"
   ]
  },
  {
   "cell_type": "code",
   "execution_count": 44,
   "id": "7d3bdd5c",
   "metadata": {},
   "outputs": [],
   "source": [
    "join3 = join2.merge(weight, on='stay_id', how='inner')"
   ]
  },
  {
   "cell_type": "code",
   "execution_count": 45,
   "id": "1ac2c490",
   "metadata": {},
   "outputs": [
    {
     "data": {
      "text/plain": [
       "(226962, 6)"
      ]
     },
     "execution_count": 45,
     "metadata": {},
     "output_type": "execute_result"
    }
   ],
   "source": [
    "join3.shape"
   ]
  },
  {
   "cell_type": "code",
   "execution_count": 46,
   "id": "900f659a",
   "metadata": {},
   "outputs": [],
   "source": [
    "admissions = pd.read_csv(\"C:\\\\Users\\\\sara1\\\\Desktop\\\\Rawdata\\\\Admissions.csv\")"
   ]
  },
  {
   "cell_type": "code",
   "execution_count": 47,
   "id": "dcac1da4",
   "metadata": {},
   "outputs": [],
   "source": [
    "admissions['subject_id'] = admissions['subject_id'].astype('int32')"
   ]
  },
  {
   "cell_type": "code",
   "execution_count": 48,
   "id": "31a51eea",
   "metadata": {},
   "outputs": [],
   "source": [
    "join4 = join3.merge(admissions, on='subject_id', how='inner')"
   ]
  },
  {
   "cell_type": "code",
   "execution_count": 49,
   "id": "46dffd21",
   "metadata": {},
   "outputs": [],
   "source": [
    "icustaydetails = pd.read_csv(\"C:\\\\Users\\\\sara1\\\\Desktop\\\\Rawdata\\\\ICUStayDetails.csv\")"
   ]
  },
  {
   "cell_type": "code",
   "execution_count": 50,
   "id": "1e0e1499",
   "metadata": {},
   "outputs": [],
   "source": [
    "icustaydetails['subject_id'] = icustaydetails['subject_id'].astype('int32')"
   ]
  },
  {
   "cell_type": "code",
   "execution_count": 51,
   "id": "8084b51f",
   "metadata": {},
   "outputs": [],
   "source": [
    "join5 = join4.merge(icustaydetails, on='subject_id', how='inner')"
   ]
  },
  {
   "cell_type": "code",
   "execution_count": 52,
   "id": "1d70d5ae",
   "metadata": {},
   "outputs": [],
   "source": [
    "gcs = pd.read_csv(\"C:\\\\Users\\\\sara1\\\\Desktop\\\\Rawdata\\\\GCS.csv\")"
   ]
  },
  {
   "cell_type": "code",
   "execution_count": 53,
   "id": "06fa9256",
   "metadata": {},
   "outputs": [],
   "source": [
    "gcs['stay_id'] = gcs['stay_id'].astype('int32')\n",
    "gcs['gcs'] = gcs['gcs'].astype('int8')"
   ]
  },
  {
   "cell_type": "code",
   "execution_count": 54,
   "id": "e4110722",
   "metadata": {},
   "outputs": [],
   "source": [
    "join6 = join5.merge(gcs, on='stay_id', how='inner')"
   ]
  },
  {
   "cell_type": "code",
   "execution_count": 55,
   "id": "1254c5d2",
   "metadata": {},
   "outputs": [],
   "source": [
    "sofa = pd.read_csv(\"C:\\\\Users\\\\sara1\\\\Desktop\\\\Rawdata\\\\SOFA.csv\")"
   ]
  },
  {
   "cell_type": "code",
   "execution_count": 56,
   "id": "1b750b5d",
   "metadata": {},
   "outputs": [],
   "source": [
    "sofa['stay_id'] = sofa['stay_id'].astype('int32')\n",
    "sofa['sofa_24hours'] = sofa['sofa_24hours'].astype('int8')"
   ]
  },
  {
   "cell_type": "code",
   "execution_count": 57,
   "id": "276fcbc3",
   "metadata": {},
   "outputs": [],
   "source": [
    "join7 = join6.merge(sofa, on='stay_id', how='inner')"
   ]
  },
  {
   "cell_type": "code",
   "execution_count": 58,
   "id": "655115b7",
   "metadata": {},
   "outputs": [
    {
     "data": {
      "text/plain": [
       "(16898051, 12)"
      ]
     },
     "execution_count": 58,
     "metadata": {},
     "output_type": "execute_result"
    }
   ],
   "source": [
    "join7.shape"
   ]
  },
  {
   "cell_type": "code",
   "execution_count": 59,
   "id": "7d89bdd8",
   "metadata": {},
   "outputs": [],
   "source": [
    "enzyme = pd.read_csv(\"C:\\\\Users\\\\sara1\\\\Desktop\\\\Rawdata\\\\Enzyme1.csv\")"
   ]
  },
  {
   "cell_type": "code",
   "execution_count": 60,
   "id": "3359ccda",
   "metadata": {},
   "outputs": [],
   "source": [
    "enzyme['subject_id'] = enzyme['subject_id'].astype('int32')\n",
    "enzyme['bilirubin_total'] = enzyme['bilirubin_total'].astype('float32')"
   ]
  },
  {
   "cell_type": "code",
   "execution_count": 61,
   "id": "e316ecda",
   "metadata": {},
   "outputs": [],
   "source": [
    "join8 = join7.merge(enzyme, on='subject_id', how='inner')"
   ]
  },
  {
   "cell_type": "code",
   "execution_count": 62,
   "id": "656500f4",
   "metadata": {},
   "outputs": [],
   "source": [
    "bg = pd.read_csv(\"C:\\\\Users\\\\sara1\\\\Desktop\\\\Rawdata\\\\bg1.csv\")"
   ]
  },
  {
   "cell_type": "code",
   "execution_count": 63,
   "id": "de53e250",
   "metadata": {},
   "outputs": [],
   "source": [
    "bg['subject_id'] = bg['subject_id'].astype('int32')\n",
    "bg['bicarbonate'] = bg['bicarbonate'].astype('float32')\n",
    "bg['hemoglobin'] = bg['hemoglobin'].astype('float32')\n",
    "bg['chloride'] = bg['chloride'].astype('float32')\n",
    "bg['calcium'] = bg['calcium'].astype('float32')\n",
    "bg['potassium'] = bg['potassium'].astype('float32')\n",
    "bg['sodium'] = bg['sodium'].astype('float32')\n",
    "bg['lactate'] = bg['lactate'].astype('float32')\n",
    "bg['glucose'] = bg['glucose'].astype('float32')"
   ]
  },
  {
   "cell_type": "code",
   "execution_count": 64,
   "id": "42986b00",
   "metadata": {},
   "outputs": [],
   "source": [
    "join9 = join8.merge(bg, on='subject_id', how='inner')"
   ]
  },
  {
   "cell_type": "code",
   "execution_count": 65,
   "id": "651e7d0b",
   "metadata": {},
   "outputs": [],
   "source": [
    "ventilatorsetting = pd.read_csv(\"C:\\\\Users\\\\sara1\\\\Desktop\\\\Rawdata\\\\VentilatorSetting1.csv\")"
   ]
  },
  {
   "cell_type": "code",
   "execution_count": 66,
   "id": "b3b97655",
   "metadata": {},
   "outputs": [],
   "source": [
    "ventilatorsetting['stay_id'] = ventilatorsetting['stay_id'].astype('int32')\n",
    "ventilatorsetting['respiratory_rate_total'] = ventilatorsetting['respiratory_rate_total'].astype('float32')\n",
    "ventilatorsetting['fio2'] = ventilatorsetting['fio2'].astype('float32')"
   ]
  },
  {
   "cell_type": "code",
   "execution_count": 67,
   "id": "c8c2b7cd",
   "metadata": {},
   "outputs": [],
   "source": [
    "join10 = join9.merge(ventilatorsetting, on='stay_id', how='inner')"
   ]
  },
  {
   "cell_type": "code",
   "execution_count": 68,
   "id": "167bfa3a",
   "metadata": {},
   "outputs": [],
   "source": [
    "bloodcount = pd.read_csv(\"C:\\\\Users\\\\sara1\\\\Desktop\\\\Rawdata\\\\Bloodcount1.csv\")"
   ]
  },
  {
   "cell_type": "code",
   "execution_count": 69,
   "id": "5549839a",
   "metadata": {},
   "outputs": [],
   "source": [
    "bloodcount['subject_id'] = bloodcount['subject_id'].astype('int32')\n",
    "bloodcount['platelet'] = bloodcount['platelet'].astype('float32')\n",
    "bloodcount['wbc'] = bloodcount['wbc'].astype('float32')"
   ]
  },
  {
   "cell_type": "code",
   "execution_count": 70,
   "id": "df0429e2",
   "metadata": {},
   "outputs": [],
   "source": [
    "join11 = join10.merge(bloodcount, on='subject_id', how='inner')"
   ]
  },
  {
   "cell_type": "code",
   "execution_count": 71,
   "id": "0ce49a93",
   "metadata": {},
   "outputs": [
    {
     "data": {
      "text/plain": [
       "(15748542, 25)"
      ]
     },
     "execution_count": 71,
     "metadata": {},
     "output_type": "execute_result"
    }
   ],
   "source": [
    "join11.shape"
   ]
  },
  {
   "cell_type": "code",
   "execution_count": 72,
   "id": "cf80c07a",
   "metadata": {},
   "outputs": [],
   "source": [
    "chemistry = pd.read_csv(\"C:\\\\Users\\\\sara1\\\\Desktop\\\\Rawdata\\\\Chemistry1.csv\")"
   ]
  },
  {
   "cell_type": "code",
   "execution_count": 73,
   "id": "5051d970",
   "metadata": {},
   "outputs": [],
   "source": [
    "chemistry['subject_id'] = chemistry['subject_id'].astype('int32')\n",
    "chemistry['albumin'] = chemistry['albumin'].astype('float32')\n",
    "chemistry['creatinine'] = chemistry['creatinine'].astype('float32')"
   ]
  },
  {
   "cell_type": "code",
   "execution_count": 74,
   "id": "fe7716c1",
   "metadata": {},
   "outputs": [],
   "source": [
    "join12 = join11.merge(chemistry, on='subject_id', how='inner')"
   ]
  },
  {
   "cell_type": "code",
   "execution_count": 75,
   "id": "88cdabde",
   "metadata": {},
   "outputs": [
    {
     "data": {
      "text/plain": [
       "(15748542, 27)"
      ]
     },
     "execution_count": 75,
     "metadata": {},
     "output_type": "execute_result"
    }
   ],
   "source": [
    "join12.shape"
   ]
  },
  {
   "cell_type": "code",
   "execution_count": 76,
   "id": "eb11f97b",
   "metadata": {},
   "outputs": [],
   "source": [
    "vitalsign = pd.read_csv(\"C:\\\\Users\\\\sara1\\\\Desktop\\\\Rawdata\\\\Vitalsign1.csv\")"
   ]
  },
  {
   "cell_type": "code",
   "execution_count": 77,
   "id": "3aa298a2",
   "metadata": {},
   "outputs": [],
   "source": [
    "vitalsign['stay_id'] = vitalsign['stay_id'].astype('int32')\n",
    "vitalsign['heart_rate'] = vitalsign['heart_rate'].astype('float32')\n",
    "vitalsign['temperature'] = vitalsign['temperature'].astype('float32')\n",
    "vitalsign['spo2'] = vitalsign['spo2'].astype('float32')"
   ]
  },
  {
   "cell_type": "code",
   "execution_count": 78,
   "id": "ab4fd288",
   "metadata": {},
   "outputs": [],
   "source": [
    "join13 = join12.merge(vitalsign, on='stay_id', how='inner')"
   ]
  },
  {
   "cell_type": "code",
   "execution_count": 79,
   "id": "3575889f",
   "metadata": {},
   "outputs": [
    {
     "data": {
      "text/plain": [
       "(15748542, 30)"
      ]
     },
     "execution_count": 79,
     "metadata": {},
     "output_type": "execute_result"
    }
   ],
   "source": [
    "join13.shape"
   ]
  },
  {
   "cell_type": "code",
   "execution_count": 80,
   "id": "19e034ee",
   "metadata": {},
   "outputs": [
    {
     "data": {
      "text/html": [
       "<div>\n",
       "<style scoped>\n",
       "    .dataframe tbody tr th:only-of-type {\n",
       "        vertical-align: middle;\n",
       "    }\n",
       "\n",
       "    .dataframe tbody tr th {\n",
       "        vertical-align: top;\n",
       "    }\n",
       "\n",
       "    .dataframe thead th {\n",
       "        text-align: right;\n",
       "    }\n",
       "</style>\n",
       "<table border=\"1\" class=\"dataframe\">\n",
       "  <thead>\n",
       "    <tr style=\"text-align: right;\">\n",
       "      <th></th>\n",
       "      <th>subject_id</th>\n",
       "      <th>stay_id</th>\n",
       "      <th>sofa_score</th>\n",
       "      <th>sirs</th>\n",
       "      <th>age</th>\n",
       "      <th>weight</th>\n",
       "      <th>deathtime</th>\n",
       "      <th>gender</th>\n",
       "      <th>first_hosp_stay</th>\n",
       "      <th>first_icu_stay</th>\n",
       "      <th>...</th>\n",
       "      <th>glucose</th>\n",
       "      <th>respiratory_rate_total</th>\n",
       "      <th>fio2</th>\n",
       "      <th>platelet</th>\n",
       "      <th>wbc</th>\n",
       "      <th>albumin</th>\n",
       "      <th>creatinine</th>\n",
       "      <th>heart_rate</th>\n",
       "      <th>temperature</th>\n",
       "      <th>spo2</th>\n",
       "    </tr>\n",
       "  </thead>\n",
       "  <tbody>\n",
       "    <tr>\n",
       "      <th>0</th>\n",
       "      <td>18426683</td>\n",
       "      <td>33144981</td>\n",
       "      <td>2</td>\n",
       "      <td>3</td>\n",
       "      <td>75</td>\n",
       "      <td>54.0</td>\n",
       "      <td>NaN</td>\n",
       "      <td>M</td>\n",
       "      <td>False</td>\n",
       "      <td>True</td>\n",
       "      <td>...</td>\n",
       "      <td>NaN</td>\n",
       "      <td>NaN</td>\n",
       "      <td>NaN</td>\n",
       "      <td>213.0</td>\n",
       "      <td>22.0</td>\n",
       "      <td>NaN</td>\n",
       "      <td>NaN</td>\n",
       "      <td>NaN</td>\n",
       "      <td>36.889999</td>\n",
       "      <td>NaN</td>\n",
       "    </tr>\n",
       "    <tr>\n",
       "      <th>1</th>\n",
       "      <td>18426683</td>\n",
       "      <td>33144981</td>\n",
       "      <td>2</td>\n",
       "      <td>3</td>\n",
       "      <td>75</td>\n",
       "      <td>54.0</td>\n",
       "      <td>NaN</td>\n",
       "      <td>M</td>\n",
       "      <td>False</td>\n",
       "      <td>True</td>\n",
       "      <td>...</td>\n",
       "      <td>NaN</td>\n",
       "      <td>NaN</td>\n",
       "      <td>NaN</td>\n",
       "      <td>213.0</td>\n",
       "      <td>22.0</td>\n",
       "      <td>NaN</td>\n",
       "      <td>NaN</td>\n",
       "      <td>NaN</td>\n",
       "      <td>36.889999</td>\n",
       "      <td>NaN</td>\n",
       "    </tr>\n",
       "    <tr>\n",
       "      <th>2</th>\n",
       "      <td>18426683</td>\n",
       "      <td>33144981</td>\n",
       "      <td>2</td>\n",
       "      <td>3</td>\n",
       "      <td>75</td>\n",
       "      <td>54.0</td>\n",
       "      <td>NaN</td>\n",
       "      <td>M</td>\n",
       "      <td>False</td>\n",
       "      <td>True</td>\n",
       "      <td>...</td>\n",
       "      <td>NaN</td>\n",
       "      <td>NaN</td>\n",
       "      <td>NaN</td>\n",
       "      <td>213.0</td>\n",
       "      <td>22.0</td>\n",
       "      <td>NaN</td>\n",
       "      <td>NaN</td>\n",
       "      <td>NaN</td>\n",
       "      <td>36.889999</td>\n",
       "      <td>NaN</td>\n",
       "    </tr>\n",
       "    <tr>\n",
       "      <th>3</th>\n",
       "      <td>18426683</td>\n",
       "      <td>33144981</td>\n",
       "      <td>2</td>\n",
       "      <td>3</td>\n",
       "      <td>75</td>\n",
       "      <td>54.0</td>\n",
       "      <td>NaN</td>\n",
       "      <td>M</td>\n",
       "      <td>False</td>\n",
       "      <td>True</td>\n",
       "      <td>...</td>\n",
       "      <td>NaN</td>\n",
       "      <td>NaN</td>\n",
       "      <td>NaN</td>\n",
       "      <td>213.0</td>\n",
       "      <td>22.0</td>\n",
       "      <td>NaN</td>\n",
       "      <td>NaN</td>\n",
       "      <td>NaN</td>\n",
       "      <td>36.889999</td>\n",
       "      <td>NaN</td>\n",
       "    </tr>\n",
       "    <tr>\n",
       "      <th>4</th>\n",
       "      <td>18426683</td>\n",
       "      <td>33144981</td>\n",
       "      <td>2</td>\n",
       "      <td>3</td>\n",
       "      <td>75</td>\n",
       "      <td>54.0</td>\n",
       "      <td>NaN</td>\n",
       "      <td>M</td>\n",
       "      <td>False</td>\n",
       "      <td>True</td>\n",
       "      <td>...</td>\n",
       "      <td>NaN</td>\n",
       "      <td>NaN</td>\n",
       "      <td>NaN</td>\n",
       "      <td>213.0</td>\n",
       "      <td>22.0</td>\n",
       "      <td>NaN</td>\n",
       "      <td>NaN</td>\n",
       "      <td>NaN</td>\n",
       "      <td>36.889999</td>\n",
       "      <td>NaN</td>\n",
       "    </tr>\n",
       "  </tbody>\n",
       "</table>\n",
       "<p>5 rows × 30 columns</p>\n",
       "</div>"
      ],
      "text/plain": [
       "   subject_id   stay_id  sofa_score  sirs  age  weight deathtime gender  \\\n",
       "0    18426683  33144981           2     3   75    54.0       NaN      M   \n",
       "1    18426683  33144981           2     3   75    54.0       NaN      M   \n",
       "2    18426683  33144981           2     3   75    54.0       NaN      M   \n",
       "3    18426683  33144981           2     3   75    54.0       NaN      M   \n",
       "4    18426683  33144981           2     3   75    54.0       NaN      M   \n",
       "\n",
       "   first_hosp_stay  first_icu_stay  ...  glucose  respiratory_rate_total  \\\n",
       "0            False            True  ...      NaN                     NaN   \n",
       "1            False            True  ...      NaN                     NaN   \n",
       "2            False            True  ...      NaN                     NaN   \n",
       "3            False            True  ...      NaN                     NaN   \n",
       "4            False            True  ...      NaN                     NaN   \n",
       "\n",
       "   fio2  platelet   wbc  albumin  creatinine  heart_rate  temperature  spo2  \n",
       "0   NaN     213.0  22.0      NaN         NaN         NaN    36.889999   NaN  \n",
       "1   NaN     213.0  22.0      NaN         NaN         NaN    36.889999   NaN  \n",
       "2   NaN     213.0  22.0      NaN         NaN         NaN    36.889999   NaN  \n",
       "3   NaN     213.0  22.0      NaN         NaN         NaN    36.889999   NaN  \n",
       "4   NaN     213.0  22.0      NaN         NaN         NaN    36.889999   NaN  \n",
       "\n",
       "[5 rows x 30 columns]"
      ]
     },
     "execution_count": 80,
     "metadata": {},
     "output_type": "execute_result"
    }
   ],
   "source": [
    "join13.head()"
   ]
  },
  {
   "cell_type": "code",
   "execution_count": 81,
   "id": "c25b455d",
   "metadata": {},
   "outputs": [
    {
     "name": "stdout",
     "output_type": "stream",
     "text": [
      "subject_id                       0\n",
      "stay_id                          0\n",
      "sofa_score                       0\n",
      "sirs                             0\n",
      "age                              0\n",
      "weight                           0\n",
      "deathtime                 11845396\n",
      "gender                           0\n",
      "first_hosp_stay                  0\n",
      "first_icu_stay                   0\n",
      "gcs                              0\n",
      "sofa_24hours                     0\n",
      "bilirubin_total           15093700\n",
      "bicarbonate               15745986\n",
      "hemoglobin                15276693\n",
      "chloride                  15723122\n",
      "calcium                    7506314\n",
      "potassium                 15726722\n",
      "sodium                    15632438\n",
      "lactate                    4499233\n",
      "glucose                   12770713\n",
      "respiratory_rate_total    15718899\n",
      "fio2                      14688546\n",
      "platelet                         0\n",
      "wbc                          27046\n",
      "albumin                   15443650\n",
      "creatinine                14561884\n",
      "heart_rate                 2779190\n",
      "temperature               11644857\n",
      "spo2                       7343699\n",
      "dtype: int64\n"
     ]
    }
   ],
   "source": [
    "print(join13.isnull().sum())"
   ]
  },
  {
   "cell_type": "code",
   "execution_count": 82,
   "id": "b3ce7354",
   "metadata": {},
   "outputs": [],
   "source": [
    "join13.drop(['first_hosp_stay', 'first_icu_stay'], axis=1, inplace=True)"
   ]
  },
  {
   "cell_type": "code",
   "execution_count": 94,
   "id": "2a7f9f70",
   "metadata": {},
   "outputs": [],
   "source": [
    "vassopressin = pd.read_csv(\"C:\\\\Users\\\\sara1\\\\Desktop\\\\Rawdata\\\\Vassopresin1.csv\")"
   ]
  },
  {
   "cell_type": "code",
   "execution_count": 95,
   "id": "c96d3f75",
   "metadata": {},
   "outputs": [],
   "source": [
    "vassopressin['stay_id'] = vassopressin['stay_id'].astype('int32')\n",
    "vassopressin['vaso_rate'] = vassopressin['vaso_rate'].astype('float32')\n",
    "vassopressin['vaso_amount'] = vassopressin['vaso_amount'].astype('float32')"
   ]
  },
  {
   "cell_type": "code",
   "execution_count": 96,
   "id": "a3e45cc6",
   "metadata": {},
   "outputs": [
    {
     "data": {
      "text/plain": [
       "(3703, 3)"
      ]
     },
     "execution_count": 96,
     "metadata": {},
     "output_type": "execute_result"
    }
   ],
   "source": [
    "vassopressin.shape"
   ]
  },
  {
   "cell_type": "code",
   "execution_count": 97,
   "id": "252c4fcd",
   "metadata": {},
   "outputs": [],
   "source": [
    "join14 = join13.merge(vassopressin, on='stay_id', how='inner')"
   ]
  },
  {
   "cell_type": "code",
   "execution_count": 98,
   "id": "01d95608",
   "metadata": {},
   "outputs": [],
   "source": [
    "urine = pd.read_csv(\"C:\\\\Users\\\\sara1\\\\Desktop\\\\Rawdata\\\\Urine1.csv\")"
   ]
  },
  {
   "cell_type": "code",
   "execution_count": 99,
   "id": "f71b14f9",
   "metadata": {},
   "outputs": [],
   "source": [
    "urine['stay_id'] = urine['stay_id'].astype('int32')\n",
    "urine['urineoutput'] = urine['urineoutput'].astype('float32')"
   ]
  },
  {
   "cell_type": "code",
   "execution_count": 100,
   "id": "ddecd4a8",
   "metadata": {},
   "outputs": [
    {
     "data": {
      "text/plain": [
       "(32011, 2)"
      ]
     },
     "execution_count": 100,
     "metadata": {},
     "output_type": "execute_result"
    }
   ],
   "source": [
    "urine.shape"
   ]
  },
  {
   "cell_type": "code",
   "execution_count": 101,
   "id": "3b194220",
   "metadata": {},
   "outputs": [],
   "source": [
    "join15 = join14.merge(urine, on='stay_id', how='inner')"
   ]
  },
  {
   "cell_type": "code",
   "execution_count": 102,
   "id": "79ac6d24",
   "metadata": {},
   "outputs": [
    {
     "data": {
      "text/html": [
       "<div>\n",
       "<style scoped>\n",
       "    .dataframe tbody tr th:only-of-type {\n",
       "        vertical-align: middle;\n",
       "    }\n",
       "\n",
       "    .dataframe tbody tr th {\n",
       "        vertical-align: top;\n",
       "    }\n",
       "\n",
       "    .dataframe thead th {\n",
       "        text-align: right;\n",
       "    }\n",
       "</style>\n",
       "<table border=\"1\" class=\"dataframe\">\n",
       "  <thead>\n",
       "    <tr style=\"text-align: right;\">\n",
       "      <th></th>\n",
       "      <th>subject_id</th>\n",
       "      <th>stay_id</th>\n",
       "      <th>sofa_score</th>\n",
       "      <th>sirs</th>\n",
       "      <th>age</th>\n",
       "      <th>weight</th>\n",
       "      <th>deathtime</th>\n",
       "      <th>gender</th>\n",
       "      <th>gcs</th>\n",
       "      <th>sofa_24hours</th>\n",
       "      <th>...</th>\n",
       "      <th>platelet</th>\n",
       "      <th>wbc</th>\n",
       "      <th>albumin</th>\n",
       "      <th>creatinine</th>\n",
       "      <th>heart_rate</th>\n",
       "      <th>temperature</th>\n",
       "      <th>spo2</th>\n",
       "      <th>vaso_rate</th>\n",
       "      <th>vaso_amount</th>\n",
       "      <th>urineoutput</th>\n",
       "    </tr>\n",
       "  </thead>\n",
       "  <tbody>\n",
       "    <tr>\n",
       "      <th>0</th>\n",
       "      <td>13968456</td>\n",
       "      <td>34712382</td>\n",
       "      <td>7</td>\n",
       "      <td>3</td>\n",
       "      <td>91</td>\n",
       "      <td>51.0</td>\n",
       "      <td>NaN</td>\n",
       "      <td>F</td>\n",
       "      <td>14</td>\n",
       "      <td>7</td>\n",
       "      <td>...</td>\n",
       "      <td>169.0</td>\n",
       "      <td>1.7</td>\n",
       "      <td>NaN</td>\n",
       "      <td>2.4</td>\n",
       "      <td>60.0</td>\n",
       "      <td>NaN</td>\n",
       "      <td>96.0</td>\n",
       "      <td>2.400000</td>\n",
       "      <td>14.799999</td>\n",
       "      <td>0.0</td>\n",
       "    </tr>\n",
       "    <tr>\n",
       "      <th>1</th>\n",
       "      <td>13968456</td>\n",
       "      <td>34712382</td>\n",
       "      <td>7</td>\n",
       "      <td>3</td>\n",
       "      <td>91</td>\n",
       "      <td>51.0</td>\n",
       "      <td>NaN</td>\n",
       "      <td>F</td>\n",
       "      <td>14</td>\n",
       "      <td>7</td>\n",
       "      <td>...</td>\n",
       "      <td>169.0</td>\n",
       "      <td>1.7</td>\n",
       "      <td>NaN</td>\n",
       "      <td>2.4</td>\n",
       "      <td>60.0</td>\n",
       "      <td>NaN</td>\n",
       "      <td>96.0</td>\n",
       "      <td>2.400000</td>\n",
       "      <td>14.799999</td>\n",
       "      <td>0.0</td>\n",
       "    </tr>\n",
       "    <tr>\n",
       "      <th>2</th>\n",
       "      <td>13968456</td>\n",
       "      <td>34712382</td>\n",
       "      <td>7</td>\n",
       "      <td>3</td>\n",
       "      <td>91</td>\n",
       "      <td>51.0</td>\n",
       "      <td>2176-04-08 18:35:00</td>\n",
       "      <td>F</td>\n",
       "      <td>14</td>\n",
       "      <td>7</td>\n",
       "      <td>...</td>\n",
       "      <td>169.0</td>\n",
       "      <td>1.7</td>\n",
       "      <td>NaN</td>\n",
       "      <td>2.4</td>\n",
       "      <td>60.0</td>\n",
       "      <td>NaN</td>\n",
       "      <td>96.0</td>\n",
       "      <td>2.400000</td>\n",
       "      <td>14.799999</td>\n",
       "      <td>0.0</td>\n",
       "    </tr>\n",
       "    <tr>\n",
       "      <th>3</th>\n",
       "      <td>13968456</td>\n",
       "      <td>34712382</td>\n",
       "      <td>7</td>\n",
       "      <td>3</td>\n",
       "      <td>91</td>\n",
       "      <td>51.0</td>\n",
       "      <td>2176-04-08 18:35:00</td>\n",
       "      <td>F</td>\n",
       "      <td>14</td>\n",
       "      <td>7</td>\n",
       "      <td>...</td>\n",
       "      <td>169.0</td>\n",
       "      <td>1.7</td>\n",
       "      <td>NaN</td>\n",
       "      <td>2.4</td>\n",
       "      <td>60.0</td>\n",
       "      <td>NaN</td>\n",
       "      <td>96.0</td>\n",
       "      <td>2.400000</td>\n",
       "      <td>14.799999</td>\n",
       "      <td>0.0</td>\n",
       "    </tr>\n",
       "    <tr>\n",
       "      <th>4</th>\n",
       "      <td>12678286</td>\n",
       "      <td>30902754</td>\n",
       "      <td>2</td>\n",
       "      <td>4</td>\n",
       "      <td>87</td>\n",
       "      <td>80.0</td>\n",
       "      <td>2124-08-28 00:00:00</td>\n",
       "      <td>M</td>\n",
       "      <td>8</td>\n",
       "      <td>1</td>\n",
       "      <td>...</td>\n",
       "      <td>87.0</td>\n",
       "      <td>13.2</td>\n",
       "      <td>NaN</td>\n",
       "      <td>0.5</td>\n",
       "      <td>120.0</td>\n",
       "      <td>NaN</td>\n",
       "      <td>97.0</td>\n",
       "      <td>2.406079</td>\n",
       "      <td>39.058681</td>\n",
       "      <td>30.0</td>\n",
       "    </tr>\n",
       "  </tbody>\n",
       "</table>\n",
       "<p>5 rows × 31 columns</p>\n",
       "</div>"
      ],
      "text/plain": [
       "   subject_id   stay_id  sofa_score  sirs  age  weight            deathtime  \\\n",
       "0    13968456  34712382           7     3   91    51.0                  NaN   \n",
       "1    13968456  34712382           7     3   91    51.0                  NaN   \n",
       "2    13968456  34712382           7     3   91    51.0  2176-04-08 18:35:00   \n",
       "3    13968456  34712382           7     3   91    51.0  2176-04-08 18:35:00   \n",
       "4    12678286  30902754           2     4   87    80.0  2124-08-28 00:00:00   \n",
       "\n",
       "  gender  gcs  sofa_24hours  ...  platelet   wbc  albumin  creatinine  \\\n",
       "0      F   14             7  ...     169.0   1.7      NaN         2.4   \n",
       "1      F   14             7  ...     169.0   1.7      NaN         2.4   \n",
       "2      F   14             7  ...     169.0   1.7      NaN         2.4   \n",
       "3      F   14             7  ...     169.0   1.7      NaN         2.4   \n",
       "4      M    8             1  ...      87.0  13.2      NaN         0.5   \n",
       "\n",
       "   heart_rate  temperature  spo2  vaso_rate  vaso_amount  urineoutput  \n",
       "0        60.0          NaN  96.0   2.400000    14.799999          0.0  \n",
       "1        60.0          NaN  96.0   2.400000    14.799999          0.0  \n",
       "2        60.0          NaN  96.0   2.400000    14.799999          0.0  \n",
       "3        60.0          NaN  96.0   2.400000    14.799999          0.0  \n",
       "4       120.0          NaN  97.0   2.406079    39.058681         30.0  \n",
       "\n",
       "[5 rows x 31 columns]"
      ]
     },
     "execution_count": 102,
     "metadata": {},
     "output_type": "execute_result"
    }
   ],
   "source": [
    "join15.head()"
   ]
  },
  {
   "cell_type": "code",
   "execution_count": 103,
   "id": "05e128a5",
   "metadata": {},
   "outputs": [
    {
     "data": {
      "text/plain": [
       "(6038365, 31)"
      ]
     },
     "execution_count": 103,
     "metadata": {},
     "output_type": "execute_result"
    }
   ],
   "source": [
    "join15.shape"
   ]
  },
  {
   "cell_type": "code",
   "execution_count": 104,
   "id": "a2bb3a73",
   "metadata": {},
   "outputs": [],
   "source": [
    "join15.to_csv(\"C:\\\\Users\\\\sara1\\\\Desktop\\\\Rawdata\\\\Combined.csv\", index=False, chunksize=5000)"
   ]
  }
 ],
 "metadata": {
  "kernelspec": {
   "display_name": "Python 3 (ipykernel)",
   "language": "python",
   "name": "python3"
  },
  "language_info": {
   "codemirror_mode": {
    "name": "ipython",
    "version": 3
   },
   "file_extension": ".py",
   "mimetype": "text/x-python",
   "name": "python",
   "nbconvert_exporter": "python",
   "pygments_lexer": "ipython3",
   "version": "3.9.7"
  }
 },
 "nbformat": 4,
 "nbformat_minor": 5
}
