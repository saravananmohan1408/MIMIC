{
 "cells": [
  {
   "cell_type": "code",
   "execution_count": null,
   "id": "f89cdb07",
   "metadata": {},
   "outputs": [],
   "source": [
    "#  Reward function shaping in this script\n",
    "#  TODO extend for the discrete case also. Right now, discrete uses only sparse rewards"
   ]
  },
  {
   "cell_type": "code",
   "execution_count": null,
   "id": "f9d3a762",
   "metadata": {},
   "outputs": [],
   "source": [
    "import pandas as pd\n",
    "import numpy as np\n",
    "try:\n",
    "    import cPickle as pickle\n",
    "except ImportError:\n",
    "    import _pickle as pickle"
   ]
  },
  {
   "cell_type": "code",
   "execution_count": null,
   "id": "fe7a3847",
   "metadata": {},
   "outputs": [],
   "source": [
    "df_train = pd.read_csv('C:\\\\Users\\\\sara1\\\\Desktop\\\\Workingdata\\\\rl_train_set_scaled.csv')\n",
    "df_val = pd.read_csv('C:\\\\Users\\\\sara1\\\\Desktop\\\\Workingdata\\\\rl_val_set_scaled.csv')\n",
    "df_test = pd.read_csv('C:\\\\Users\\\\sara1\\\\Desktop\\\\Workingdata\\\\rl_test_set_scaled.csv')"
   ]
  },
  {
   "cell_type": "code",
   "execution_count": null,
   "id": "8d9d7055",
   "metadata": {},
   "outputs": [],
   "source": [
    "df_train.head()"
   ]
  },
  {
   "cell_type": "code",
   "execution_count": null,
   "id": "867a611d",
   "metadata": {},
   "outputs": [],
   "source": [
    "len(df_train)"
   ]
  },
  {
   "cell_type": "code",
   "execution_count": null,
   "id": "0a1d3f58",
   "metadata": {},
   "outputs": [],
   "source": [
    "df_test.head()"
   ]
  },
  {
   "cell_type": "code",
   "execution_count": null,
   "id": "3bdb5959",
   "metadata": {},
   "outputs": [],
   "source": [
    "# Smaller rewards to improve stability in continuous models\n",
    "df_train.loc[df_train['reward'] > 15,'reward'] = 15\n",
    "df_train.loc[df_train['reward'] < -15,'reward'] = -15\n",
    "\n",
    "df_val.loc[df_val['reward'] > 15,'reward'] = 15\n",
    "df_val.loc[df_val['reward'] < -15,'reward'] = -15\n",
    "\n",
    "df_test.loc[df_test['reward'] > 15,'reward'] = 15\n",
    "df_test.loc[df_test['reward'] < -15,'reward'] = -15"
   ]
  },
  {
   "cell_type": "code",
   "execution_count": null,
   "id": "14d65dba",
   "metadata": {},
   "outputs": [],
   "source": [
    "# Similar process in discrete models to facilitate comparisons\n",
    "# df_train_disc.loc[df_train_disc['reward'] > 15,'reward'] = 15\n",
    "# df_train_disc.loc[df_train_disc['reward'] < -15,'reward'] = -15\n",
    "\n",
    "# df_val_disc.loc[df_val_disc['reward'] > 15,'reward'] = 15\n",
    "# df_val_disc.loc[df_val_disc['reward'] < -15,'reward'] = -15\n",
    "\n",
    "# df_test_disc.loc[df_test_disc['reward'] > 15,'reward'] = 15\n",
    "# df_test_disc.loc[df_test_disc['reward'] < -15,'reward'] = -15"
   ]
  },
  {
   "cell_type": "code",
   "execution_count": null,
   "id": "c41bead2",
   "metadata": {},
   "outputs": [],
   "source": [
    "orig_df = pd.read_csv('C:\\\\Users\\\\sara1\\\\Desktop\\\\Workingdata\\\\Final2.csv')"
   ]
  },
  {
   "cell_type": "code",
   "execution_count": null,
   "id": "7d53039f",
   "metadata": {},
   "outputs": [],
   "source": [
    "# lactate - target is 0.5 to 1 mmol/l\n",
    "# SOFA - 0\n",
    "#  GCS - 0\n",
    "#  mechvent = 0\n",
    "# MAP is normally between 65 and 110 mmHg"
   ]
  },
  {
   "cell_type": "code",
   "execution_count": null,
   "id": "a2cab8db",
   "metadata": {},
   "outputs": [],
   "source": [
    "# s1 = orig_df['SOFA'].values\n",
    "# s2 = orig_df['SOFA'].values\n",
    "# s2 = np.insert(s2,0,9)\n",
    "# s2 = np.delete(s2, -1)\n",
    "# print len(s1), len(s2)"
   ]
  },
  {
   "cell_type": "code",
   "execution_count": null,
   "id": "ff914134",
   "metadata": {},
   "outputs": [],
   "source": [
    "# pd.Series(s2-s1).hist(bins=100)"
   ]
  },
  {
   "cell_type": "code",
   "execution_count": null,
   "id": "89ffe8f4",
   "metadata": {},
   "outputs": [],
   "source": [
    "# l1 = orig_df['Arterial_lactate'].values\n",
    "# l2 = orig_df['Arterial_lactate'].values\n",
    "# l2 = np.insert(l2,0,9)\n",
    "# l2 = np.delete(l2, -1)\n",
    "# print len(l1), len(l2)"
   ]
  },
  {
   "cell_type": "code",
   "execution_count": null,
   "id": "6e60e892",
   "metadata": {},
   "outputs": [],
   "source": [
    "c0 = -0.1/4\n",
    "c1 = -0.5/4\n",
    "c2 = -2"
   ]
  },
  {
   "cell_type": "code",
   "execution_count": null,
   "id": "6dccb944",
   "metadata": {},
   "outputs": [],
   "source": [
    "# c0 = -0.1/2\n",
    "# c1 = -0.5/2\n",
    "# c2 = -2"
   ]
  },
  {
   "cell_type": "code",
   "execution_count": null,
   "id": "67bea969",
   "metadata": {},
   "outputs": [],
   "source": [
    "# add rewards\n",
    "orig_df['shaped_reward'] = 0\n",
    "for i in orig_df.index:\n",
    "    if i == 0:\n",
    "        continue\n",
    "    if orig_df.loc[i, 'stay_id'] == orig_df.loc[i-1, 'stay_id']:\n",
    "        sofa_cur = orig_df.loc[i,'SOFA']\n",
    "        sofa_prev = orig_df.loc[i-1,'SOFA']\n",
    "        lact_cur = orig_df.loc[i,'Arterial_lactate']\n",
    "        lact_prev = orig_df.loc[i-1,'Arterial_lactate']\n",
    "        reward = 0\n",
    "        if sofa_cur == sofa_prev and sofa_cur != 0:\n",
    "            reward += c0\n",
    "        reward += c1*(sofa_cur-sofa_prev)\n",
    "        reward += c2*np.tanh(lact_cur - lact_prev)\n",
    "        orig_df.loc[i-1,'shaped_reward'] = reward\n",
    "    if i % 10000 == 0:\n",
    "        print(i)\n",
    "\n",
    "# if orig_df.ix[len(orig_df)-1, 'died_in_hosp'] == 1:\n",
    "#     orig_df.ix[len(orig_df)-1, 'shaped_reward'] = -100\n",
    "# elif orig_df.ix[len(orig_df)-1, 'died_in_hosp'] == 0:\n",
    "#      orig_df.ix[len(orig_df)-1, 'shaped_reward'] = 100\n",
    "print orig_df['shaped_reward'].value_counts()"
   ]
  },
  {
   "cell_type": "code",
   "execution_count": null,
   "id": "c18905b9",
   "metadata": {},
   "outputs": [],
   "source": [
    "%matplotlib inline\n",
    "orig_df['shaped_reward'].hist(bins=100)"
   ]
  },
  {
   "cell_type": "code",
   "execution_count": null,
   "id": "e73d0f68",
   "metadata": {},
   "outputs": [],
   "source": [
    "train_ids = df_train['stay_id'].unique()\n",
    "val_ids = df_val['stay_id'].unique()\n",
    "test_ids = df_test['stay_id'].unique()"
   ]
  },
  {
   "cell_type": "code",
   "execution_count": null,
   "id": "d42f5705",
   "metadata": {},
   "outputs": [],
   "source": [
    "train_rewards = orig_df.loc[orig_df['stay_id'].isin(train_ids)]['shaped_reward']"
   ]
  },
  {
   "cell_type": "code",
   "execution_count": null,
   "id": "403068b8",
   "metadata": {},
   "outputs": [],
   "source": [
    "len(train_rewards)"
   ]
  },
  {
   "cell_type": "code",
   "execution_count": null,
   "id": "c3d18c35",
   "metadata": {},
   "outputs": [],
   "source": [
    "train_rewards.tail()"
   ]
  },
  {
   "cell_type": "code",
   "execution_count": null,
   "id": "2c5cb14b",
   "metadata": {},
   "outputs": [],
   "source": [
    "# check this works as expected\n",
    "val_rewards = orig_df.loc[orig_df['stay_id'].isin(val_ids)]['shaped_reward']"
   ]
  },
  {
   "cell_type": "code",
   "execution_count": null,
   "id": "ecf0c291",
   "metadata": {},
   "outputs": [],
   "source": [
    "test_rewards = orig_df.loc[orig_df['stay_id'].isin(test_ids)]['shaped_reward']"
   ]
  },
  {
   "cell_type": "code",
   "execution_count": null,
   "id": "bdaadaf8",
   "metadata": {},
   "outputs": [],
   "source": [
    "len(test_rewards)"
   ]
  },
  {
   "cell_type": "code",
   "execution_count": null,
   "id": "67da8611",
   "metadata": {},
   "outputs": [],
   "source": [
    "len(val_rewards)"
   ]
  },
  {
   "cell_type": "code",
   "execution_count": null,
   "id": "1982820f",
   "metadata": {},
   "outputs": [],
   "source": [
    "len(orig_df)"
   ]
  },
  {
   "cell_type": "code",
   "execution_count": null,
   "id": "b3cfd1ee",
   "metadata": {},
   "outputs": [],
   "source": [
    "df_train.tail()"
   ]
  },
  {
   "cell_type": "code",
   "execution_count": null,
   "id": "fc659341",
   "metadata": {},
   "outputs": [],
   "source": [
    "len(orig_df['shaped_reward'])"
   ]
  },
  {
   "cell_type": "code",
   "execution_count": null,
   "id": "cae4ca09",
   "metadata": {},
   "outputs": [],
   "source": [
    "len(df_train)"
   ]
  },
  {
   "cell_type": "code",
   "execution_count": null,
   "id": "cf225318",
   "metadata": {},
   "outputs": [],
   "source": [
    "# check that this sums to the total number of data items -- needs to be re-run\n",
    "len(df_train) + len(df_test) + len(df_val)"
   ]
  },
  {
   "cell_type": "code",
   "execution_count": null,
   "id": "07972a9f",
   "metadata": {},
   "outputs": [],
   "source": [
    "df_train['reward'] += np.array(train_rewards)\n",
    "df_val['reward'] += np.array(val_rewards)\n",
    "df_test['reward'] += np.array(test_rewards)"
   ]
  },
  {
   "cell_type": "code",
   "execution_count": null,
   "id": "31b2729a",
   "metadata": {},
   "outputs": [],
   "source": [
    "# df_train_disc['reward'] += np.array(train_rewards)\n",
    "# df_val_disc['reward'] += np.array(val_rewards)\n",
    "# df_test_disc['reward'] += np.array(test_rewards)"
   ]
  },
  {
   "cell_type": "code",
   "execution_count": null,
   "id": "9bad8d90",
   "metadata": {},
   "outputs": [],
   "source": [
    "df_train.to_csv('C:\\\\Users\\\\sara1\\\\Desktop\\\\Workingdata\\\\rl_train_data_final_cont.csv',index=False)\n",
    "df_val.to_csv('C:\\\\Users\\\\sara1\\\\Desktop\\\\Workingdata\\\\rl_val_data_final_cont.csv', index=False)\n",
    "df_test.to_csv('C:\\\\Users\\\\sara1\\\\Desktop\\\\Workingdata\\\\rl_test_data_final_cont.csv',index=False)"
   ]
  },
  {
   "cell_type": "code",
   "execution_count": null,
   "id": "15f4fb14",
   "metadata": {},
   "outputs": [],
   "source": [
    "# df_train_disc.to_csv('C:\\\\Users\\\\sara1\\\\Desktop\\\\Workingdata\\\\rl_train_data_final_disc.csv',index=False)\n",
    "# df_val_disc.to_csv('C:\\\\Users\\\\sara1\\\\Desktop\\\\Workingdata\\\\rl_val_data_final_disc.csv', index=False)\n",
    "# df_test_disc.to_csv('C:\\\\Users\\\\sara1\\\\Desktop\\\\Workingdata\\\\rl_test_data_final_disc.csv',index=False)"
   ]
  },
  {
   "cell_type": "code",
   "execution_count": null,
   "id": "3a10d466",
   "metadata": {},
   "outputs": [],
   "source": [
    "train_rewards.head(n=20)"
   ]
  },
  {
   "cell_type": "code",
   "execution_count": null,
   "id": "2f690777",
   "metadata": {},
   "outputs": [],
   "source": [
    "df_train['reward'].head(n=20)"
   ]
  },
  {
   "cell_type": "code",
   "execution_count": null,
   "id": "13daae3b",
   "metadata": {},
   "outputs": [],
   "source": []
  },
  {
   "cell_type": "code",
   "execution_count": null,
   "id": "2a82180e",
   "metadata": {},
   "outputs": [],
   "source": []
  }
 ],
 "metadata": {
  "kernelspec": {
   "display_name": "Python 3 (ipykernel)",
   "language": "python",
   "name": "python3"
  },
  "language_info": {
   "codemirror_mode": {
    "name": "ipython",
    "version": 3
   },
   "file_extension": ".py",
   "mimetype": "text/x-python",
   "name": "python",
   "nbconvert_exporter": "python",
   "pygments_lexer": "ipython3",
   "version": "3.9.7"
  }
 },
 "nbformat": 4,
 "nbformat_minor": 5
}
