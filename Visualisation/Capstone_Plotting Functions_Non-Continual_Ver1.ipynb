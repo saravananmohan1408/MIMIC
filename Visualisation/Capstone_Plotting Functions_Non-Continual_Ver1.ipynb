{
 "cells": [
  {
   "cell_type": "code",
   "execution_count": 1,
   "id": "1f2dbe65",
   "metadata": {},
   "outputs": [],
   "source": [
    "# This is meant to be a combined notebook that will plot all the needed graphs for comparison"
   ]
  },
  {
   "cell_type": "code",
   "execution_count": 2,
   "id": "186c9372",
   "metadata": {},
   "outputs": [],
   "source": [
    "%matplotlib inline\n",
    "import pandas as pd\n",
    "import numpy as np\n",
    "try:\n",
    "    import cPickle as pickle\n",
    "except ImportError:\n",
    "    import _pickle as pickle\n",
    "import matplotlib.pyplot as plt"
   ]
  },
  {
   "cell_type": "code",
   "execution_count": 3,
   "id": "4f897cca",
   "metadata": {},
   "outputs": [],
   "source": [
    "# If plotting graphs for non-continual setting then use 'Final2' dataset.\n",
    "# If plotting graphs for continual setting then use either 'rl_below65_scaled' or 'rl_above65_scaled'\n",
    "df_orig = pd.read_csv('C:\\\\Users\\\\sara1\\\\Desktop\\\\Workingdata\\\\Final2.csv')"
   ]
  },
  {
   "cell_type": "code",
   "execution_count": 36,
   "id": "72dbe8be",
   "metadata": {},
   "outputs": [
    {
     "data": {
      "text/html": [
       "<div>\n",
       "<style scoped>\n",
       "    .dataframe tbody tr th:only-of-type {\n",
       "        vertical-align: middle;\n",
       "    }\n",
       "\n",
       "    .dataframe tbody tr th {\n",
       "        vertical-align: top;\n",
       "    }\n",
       "\n",
       "    .dataframe thead th {\n",
       "        text-align: right;\n",
       "    }\n",
       "</style>\n",
       "<table border=\"1\" class=\"dataframe\">\n",
       "  <thead>\n",
       "    <tr style=\"text-align: right;\">\n",
       "      <th></th>\n",
       "      <th>stay_id</th>\n",
       "      <th>sofa_score</th>\n",
       "      <th>sirs</th>\n",
       "      <th>age</th>\n",
       "      <th>weight</th>\n",
       "      <th>gender</th>\n",
       "      <th>gcs</th>\n",
       "      <th>sofa_24hours</th>\n",
       "      <th>bilirubin_total</th>\n",
       "      <th>bicarbonate</th>\n",
       "      <th>...</th>\n",
       "      <th>wbc</th>\n",
       "      <th>albumin</th>\n",
       "      <th>creatinine</th>\n",
       "      <th>heart_rate</th>\n",
       "      <th>temperature</th>\n",
       "      <th>spo2</th>\n",
       "      <th>vaso_rate</th>\n",
       "      <th>vaso_amount</th>\n",
       "      <th>urineoutput</th>\n",
       "      <th>died_in_hosp</th>\n",
       "    </tr>\n",
       "  </thead>\n",
       "  <tbody>\n",
       "    <tr>\n",
       "      <th>0</th>\n",
       "      <td>34712382</td>\n",
       "      <td>7</td>\n",
       "      <td>3</td>\n",
       "      <td>91</td>\n",
       "      <td>51.0</td>\n",
       "      <td>0</td>\n",
       "      <td>14</td>\n",
       "      <td>7</td>\n",
       "      <td>2.879823</td>\n",
       "      <td>36.0</td>\n",
       "      <td>...</td>\n",
       "      <td>1.7</td>\n",
       "      <td>2.895128</td>\n",
       "      <td>2.4</td>\n",
       "      <td>60.0</td>\n",
       "      <td>36.980675</td>\n",
       "      <td>96.0</td>\n",
       "      <td>2.400000</td>\n",
       "      <td>14.799999</td>\n",
       "      <td>0.0</td>\n",
       "      <td>0</td>\n",
       "    </tr>\n",
       "    <tr>\n",
       "      <th>1</th>\n",
       "      <td>34712382</td>\n",
       "      <td>7</td>\n",
       "      <td>3</td>\n",
       "      <td>91</td>\n",
       "      <td>51.0</td>\n",
       "      <td>0</td>\n",
       "      <td>14</td>\n",
       "      <td>7</td>\n",
       "      <td>2.879823</td>\n",
       "      <td>36.0</td>\n",
       "      <td>...</td>\n",
       "      <td>1.7</td>\n",
       "      <td>2.895128</td>\n",
       "      <td>2.4</td>\n",
       "      <td>60.0</td>\n",
       "      <td>36.980675</td>\n",
       "      <td>96.0</td>\n",
       "      <td>2.400000</td>\n",
       "      <td>14.799999</td>\n",
       "      <td>0.0</td>\n",
       "      <td>0</td>\n",
       "    </tr>\n",
       "    <tr>\n",
       "      <th>2</th>\n",
       "      <td>34712382</td>\n",
       "      <td>7</td>\n",
       "      <td>3</td>\n",
       "      <td>91</td>\n",
       "      <td>51.0</td>\n",
       "      <td>0</td>\n",
       "      <td>14</td>\n",
       "      <td>7</td>\n",
       "      <td>2.879823</td>\n",
       "      <td>36.0</td>\n",
       "      <td>...</td>\n",
       "      <td>1.7</td>\n",
       "      <td>2.895128</td>\n",
       "      <td>2.4</td>\n",
       "      <td>60.0</td>\n",
       "      <td>36.980675</td>\n",
       "      <td>96.0</td>\n",
       "      <td>2.400000</td>\n",
       "      <td>14.799999</td>\n",
       "      <td>0.0</td>\n",
       "      <td>1</td>\n",
       "    </tr>\n",
       "    <tr>\n",
       "      <th>3</th>\n",
       "      <td>34712382</td>\n",
       "      <td>7</td>\n",
       "      <td>3</td>\n",
       "      <td>91</td>\n",
       "      <td>51.0</td>\n",
       "      <td>0</td>\n",
       "      <td>14</td>\n",
       "      <td>7</td>\n",
       "      <td>2.879823</td>\n",
       "      <td>36.0</td>\n",
       "      <td>...</td>\n",
       "      <td>1.7</td>\n",
       "      <td>2.895128</td>\n",
       "      <td>2.4</td>\n",
       "      <td>60.0</td>\n",
       "      <td>36.980675</td>\n",
       "      <td>96.0</td>\n",
       "      <td>2.400000</td>\n",
       "      <td>14.799999</td>\n",
       "      <td>0.0</td>\n",
       "      <td>1</td>\n",
       "    </tr>\n",
       "    <tr>\n",
       "      <th>4</th>\n",
       "      <td>30902754</td>\n",
       "      <td>2</td>\n",
       "      <td>4</td>\n",
       "      <td>87</td>\n",
       "      <td>80.0</td>\n",
       "      <td>1</td>\n",
       "      <td>8</td>\n",
       "      <td>1</td>\n",
       "      <td>2.879823</td>\n",
       "      <td>36.0</td>\n",
       "      <td>...</td>\n",
       "      <td>13.2</td>\n",
       "      <td>2.895128</td>\n",
       "      <td>0.5</td>\n",
       "      <td>120.0</td>\n",
       "      <td>36.980675</td>\n",
       "      <td>97.0</td>\n",
       "      <td>2.406079</td>\n",
       "      <td>39.058680</td>\n",
       "      <td>30.0</td>\n",
       "      <td>1</td>\n",
       "    </tr>\n",
       "  </tbody>\n",
       "</table>\n",
       "<p>5 rows × 30 columns</p>\n",
       "</div>"
      ],
      "text/plain": [
       "    stay_id  sofa_score  sirs  age  weight  gender  gcs  sofa_24hours  \\\n",
       "0  34712382           7     3   91    51.0       0   14             7   \n",
       "1  34712382           7     3   91    51.0       0   14             7   \n",
       "2  34712382           7     3   91    51.0       0   14             7   \n",
       "3  34712382           7     3   91    51.0       0   14             7   \n",
       "4  30902754           2     4   87    80.0       1    8             1   \n",
       "\n",
       "   bilirubin_total  bicarbonate  ...   wbc   albumin  creatinine  heart_rate  \\\n",
       "0         2.879823         36.0  ...   1.7  2.895128         2.4        60.0   \n",
       "1         2.879823         36.0  ...   1.7  2.895128         2.4        60.0   \n",
       "2         2.879823         36.0  ...   1.7  2.895128         2.4        60.0   \n",
       "3         2.879823         36.0  ...   1.7  2.895128         2.4        60.0   \n",
       "4         2.879823         36.0  ...  13.2  2.895128         0.5       120.0   \n",
       "\n",
       "   temperature  spo2  vaso_rate  vaso_amount  urineoutput  died_in_hosp  \n",
       "0    36.980675  96.0   2.400000    14.799999          0.0             0  \n",
       "1    36.980675  96.0   2.400000    14.799999          0.0             0  \n",
       "2    36.980675  96.0   2.400000    14.799999          0.0             1  \n",
       "3    36.980675  96.0   2.400000    14.799999          0.0             1  \n",
       "4    36.980675  97.0   2.406079    39.058680         30.0             1  \n",
       "\n",
       "[5 rows x 30 columns]"
      ]
     },
     "execution_count": 36,
     "metadata": {},
     "output_type": "execute_result"
    }
   ],
   "source": [
    "df_orig.head()"
   ]
  },
  {
   "cell_type": "code",
   "execution_count": 4,
   "id": "05fcb224",
   "metadata": {},
   "outputs": [],
   "source": [
    "# Either 'rl_train_below65' or 'rl_train_above65'\n",
    "df_train = pd.read_csv('C:\\\\Users\\\\sara1\\\\Desktop\\\\Workingdata\\\\rl_train_data_final_cont_noterm.csv')"
   ]
  },
  {
   "cell_type": "code",
   "execution_count": 5,
   "id": "a3176e4d",
   "metadata": {},
   "outputs": [],
   "source": [
    "# Either 'rl_test_below65' or 'rl_test_above65'\n",
    "df_test = pd.read_csv('C:\\\\Users\\\\sara1\\\\Desktop\\\\Workingdata\\\\rl_test_data_final_cont_noterm.csv')"
   ]
  },
  {
   "cell_type": "code",
   "execution_count": 6,
   "id": "1e93b835",
   "metadata": {},
   "outputs": [],
   "source": [
    "df_train_orig = df_orig[df_orig['stay_id'].isin(df_train['stay_id'].unique())]"
   ]
  },
  {
   "cell_type": "code",
   "execution_count": 7,
   "id": "d38b85e4",
   "metadata": {},
   "outputs": [],
   "source": [
    "df_test_orig = df_orig[df_orig['stay_id'].isin(df_test['stay_id'].unique())]"
   ]
  },
  {
   "cell_type": "code",
   "execution_count": 8,
   "id": "820ad24a",
   "metadata": {},
   "outputs": [],
   "source": [
    "# Actions from the model that was trained\n",
    "# Copy multiple if need to compare multiple models together\n",
    "\n",
    "phys_actions = pickle.load(open( \"C:\\\\Users\\\\sara1\\\\Desktop\\\\Results\\\\SARSA_continous_noterm\\\\phys_actions_test.p\", \"rb\" ))\n",
    "ddqn_actions = pickle.load(open( \"C:\\\\Users\\\\sara1\\\\Desktop\\\\Results\\\\Ddqn_continous_noterm\\\\dqn_normal_actions_test.p\", \"rb\" ))"
   ]
  },
  {
   "cell_type": "code",
   "execution_count": 21,
   "id": "f7ae2371",
   "metadata": {},
   "outputs": [
    {
     "data": {
      "image/png": "[encoded data removed]",
      "text/plain": [
       "<Figure size 576x288 with 1 Axes>"
      ]
     },
     "metadata": {
      "needs_background": "light"
     },
     "output_type": "display_data"
    }
   ],
   "source": [
    "#Combined histogram but may not be very clear to see all values\n",
    "fig, ax = plt.subplots(figsize=(8, 4))\n",
    "\n",
    "# Plot the histograms\n",
    "ax.hist(phys_actions, bins=50, color='r', alpha=0.5, label=\"SARSA Physician Actions\")\n",
    "ax.hist(ddqn_actions, bins=50, color='g', alpha=0.5, label=\"DDQ-Network Actions\")\n",
    "\n",
    "# Set titles and labels\n",
    "ax.set_title(\"Histograms of Actions\", fontsize=10)\n",
    "ax.set_xlabel(\"Action number\", fontsize=15)\n",
    "ax.set_ylabel(\"Frequency\", fontsize=15)\n",
    "\n",
    "# Set x-axis ticks\n",
    "ax.set_xticks(range(5))\n",
    "\n",
    "# Add a legend\n",
    "ax.legend()\n",
    "\n",
    "# Show the plot\n",
    "plt.show()"
   ]
  },
  {
   "cell_type": "code",
   "execution_count": 48,
   "id": "88003a3f",
   "metadata": {},
   "outputs": [
    {
     "data": {
      "image/png": "[encoded data removed]",
      "text/plain": [
       "<Figure size 720x360 with 2 Axes>"
      ]
     },
     "metadata": {
      "needs_background": "light"
     },
     "output_type": "display_data"
    }
   ],
   "source": [
    "#Two subplots side by side but y-axis is shared and hence can be an issue\n",
    "f, (ax1, ax2) = plt.subplots(1, 2, sharey=True, figsize=(10,5))\n",
    "ax2.hist(phys_actions, bins=50, color='r')\n",
    "ax2.set_title(\"Physician Actions\", fontsize = 10)\n",
    "ax1.hist(ddqn_actions, bins=50, color='g')\n",
    "ax1.set_title(\"Q-Network Actions\", fontsize = 10)\n",
    "f.text(0.5, -0.03, 'Action number', ha='center', fontsize=15)\n",
    "f.text(-0.02, 0.5, 'Frequency', va='center', rotation='vertical', fontsize = 15)\n",
    "plt.tight_layout()"
   ]
  },
  {
   "cell_type": "code",
   "execution_count": 24,
   "id": "44b9ce56",
   "metadata": {},
   "outputs": [
    {
     "name": "stderr",
     "output_type": "stream",
     "text": [
      "C:\\Users\\sara1\\AppData\\Local\\Temp/ipykernel_11324/1995398100.py:2: SettingWithCopyWarning: \n",
      "A value is trying to be set on a copy of a slice from a DataFrame.\n",
      "Try using .loc[row_indexer,col_indexer] = value instead\n",
      "\n",
      "See the caveats in the documentation: https://pandas.pydata.org/pandas-docs/stable/user_guide/indexing.html#returning-a-view-versus-a-copy\n",
      "  df_test_orig['ddqn_actions'] = ddqn_actions\n",
      "C:\\Users\\sara1\\AppData\\Local\\Temp/ipykernel_11324/1995398100.py:3: SettingWithCopyWarning: \n",
      "A value is trying to be set on a copy of a slice from a DataFrame.\n",
      "Try using .loc[row_indexer,col_indexer] = value instead\n",
      "\n",
      "See the caveats in the documentation: https://pandas.pydata.org/pandas-docs/stable/user_guide/indexing.html#returning-a-view-versus-a-copy\n",
      "  df_test_orig['phys_actions'] = phys_actions\n"
     ]
    }
   ],
   "source": [
    "# Add in the actions selected to the df_test_orig dataframe. This helps with the stratified analysis afterwards\n",
    "df_test_orig['ddqn_actions'] = ddqn_actions\n",
    "df_test_orig['phys_actions'] = phys_actions"
   ]
  },
  {
   "cell_type": "code",
   "execution_count": 38,
   "id": "729323ac",
   "metadata": {},
   "outputs": [],
   "source": [
    "# Perform stratification based on low, medium and high SOFA score levels as decided in the project scope\n",
    "\n",
    "# Low SOFA - Score of below 5\n",
    "df_test_orig_low = df_test_orig[df_test_orig['sofa_score'] <= 5]\n",
    "\n",
    "# Middling SOFA - Score of between 5 to 15\n",
    "df_test_orig_mid = df_test_orig[df_test_orig['sofa_score'] > 5]\n",
    "df_test_orig_mid = df_test_orig_mid[df_test_orig_mid['sofa_score'] < 15]\n",
    "\n",
    "# High SOFA - Score of above 15\n",
    "df_test_orig_high = df_test_orig[df_test_orig['sofa_score'] >= 15]"
   ]
  },
  {
   "cell_type": "code",
   "execution_count": 39,
   "id": "58c491d4",
   "metadata": {},
   "outputs": [],
   "source": [
    "# Now re-select the phys_actions and ddqn_actions based on the statified dataset\n",
    "ddqn_actions_low = df_test_orig_low['ddqn_actions'].values\n",
    "phys_actions_low = df_test_orig_low['phys_actions'].values\n",
    "\n",
    "ddqn_actions_mid = df_test_orig_mid['ddqn_actions'].values\n",
    "phys_actions_mid = df_test_orig_mid['phys_actions'].values\n",
    "\n",
    "ddqn_actions_high = df_test_orig_high['ddqn_actions'].values\n",
    "phys_actions_high = df_test_orig_high['phys_actions'].values"
   ]
  },
  {
   "cell_type": "code",
   "execution_count": 40,
   "id": "9216cc3d",
   "metadata": {},
   "outputs": [],
   "source": [
    "#Since only one action used, inverese action map should have only i\n",
    "inv_action_map = {}\n",
    "count = 0\n",
    "for i in range(5):\n",
    "    inv_action_map[count] = [i]\n",
    "    count += 1"
   ]
  },
  {
   "cell_type": "code",
   "execution_count": 41,
   "id": "430f2d2e",
   "metadata": {},
   "outputs": [],
   "source": [
    "phys_actions_low_tuple = [None for i in range(len(phys_actions_low))]\n",
    "ddqn_actions_low_tuple = [None for i in range(len(ddqn_actions_low))]\n",
    "\n",
    "phys_actions_mid_tuple = [None for i in range(len(phys_actions_mid))]\n",
    "ddqn_actions_mid_tuple = [None for i in range(len(ddqn_actions_mid))]\n",
    "\n",
    "phys_actions_high_tuple = [None for i in range(len(phys_actions_high))]\n",
    "ddqn_actions_high_tuple = [None for i in range(len(ddqn_actions_high))]\n",
    "\n",
    "for i in range(len(phys_actions_low)):\n",
    "    phys_actions_low_tuple[i] = inv_action_map[phys_actions_low[i]]\n",
    "    ddqn_actions_low_tuple[i] = inv_action_map[ddqn_actions_low[i]]\n",
    "\n",
    "for i in range(len(phys_actions_mid)):\n",
    "    phys_actions_mid_tuple[i] = inv_action_map[phys_actions_mid[i]]\n",
    "    ddqn_actions_mid_tuple[i] = inv_action_map[ddqn_actions_mid[i]]\n",
    "                                                  \n",
    "for i in range(len(phys_actions_high)):\n",
    "    phys_actions_high_tuple[i] = inv_action_map[phys_actions_high[i]]\n",
    "    ddqn_actions_high_tuple[i] = inv_action_map[ddqn_actions_high[i]]"
   ]
  },
  {
   "cell_type": "code",
   "execution_count": 42,
   "id": "fc7c6bf2",
   "metadata": {},
   "outputs": [],
   "source": [
    "phys_actions_low_tuple = np.array(phys_actions_low_tuple)\n",
    "ddqn_actions_low_tuple = np.array(ddqn_actions_low_tuple)\n",
    "\n",
    "phys_actions_mid_tuple = np.array(phys_actions_mid_tuple)\n",
    "ddqn_actions_mid_tuple = np.array(ddqn_actions_mid_tuple)\n",
    "\n",
    "phys_actions_high_tuple = np.array(phys_actions_high_tuple)\n",
    "ddqn_actions_high_tuple = np.array(ddqn_actions_high_tuple)"
   ]
  },
  {
   "cell_type": "code",
   "execution_count": 43,
   "id": "d49e10fa",
   "metadata": {},
   "outputs": [],
   "source": [
    "# Setting the values to be plotted into histogram function for SARSA physician\n",
    "\n",
    "phys_actions_low_vaso = phys_actions_low_tuple[:,0]\n",
    "hist_ph1, x_edges, y_edges = np.histogram2d(phys_actions_low_vaso, phys_actions_low_vaso, bins=5)\n",
    "\n",
    "phys_actions_mid_vaso = phys_actions_mid_tuple[:,0]\n",
    "hist_ph2, _, _ = np.histogram2d(phys_actions_mid_vaso, phys_actions_mid_vaso, bins=5)\n",
    "\n",
    "phys_actions_high_vaso = phys_actions_high_tuple[:,0]\n",
    "hist_ph3, _, _ = np.histogram2d(phys_actions_high_vaso, phys_actions_high_vaso, bins=5)"
   ]
  },
  {
   "cell_type": "code",
   "execution_count": 44,
   "id": "d267b94e",
   "metadata": {},
   "outputs": [],
   "source": [
    "# Setting the values to be plotted into histogram function for DDQN\n",
    "\n",
    "ddqn_actions_low_vaso = ddqn_actions_low_tuple[:,0]\n",
    "hist_ddqn1, _, _ = np.histogram2d(ddqn_actions_low_vaso, ddqn_actions_low_vaso, bins=5)\n",
    "\n",
    "ddqn_actions_mid_vaso = ddqn_actions_mid_tuple[:,0]\n",
    "hist_ddqn2, _, _ = np.histogram2d(ddqn_actions_mid_vaso, ddqn_actions_mid_vaso, bins=5)\n",
    "\n",
    "ddqn_actions_high_vaso = ddqn_actions_high_tuple[:,0]\n",
    "hist_ddqn3, _, _ = np.histogram2d(ddqn_actions_high_vaso, ddqn_actions_high_vaso, bins=5)"
   ]
  },
  {
   "cell_type": "code",
   "execution_count": 45,
   "id": "a694c5f1",
   "metadata": {},
   "outputs": [],
   "source": [
    "x_edges = np.arange(-0.5,5)\n",
    "y_edges = np.arange(-0.5,5)"
   ]
  },
  {
   "cell_type": "code",
   "execution_count": 46,
   "id": "b614d055",
   "metadata": {},
   "outputs": [
    {
     "data": {
      "image/png": "[encoded data removed]",
      "text/plain": [
       "<Figure size 1152x288 with 6 Axes>"
      ]
     },
     "metadata": {
      "needs_background": "light"
     },
     "output_type": "display_data"
    }
   ],
   "source": [
    "#Plot heatmap graphs on DDQN policy\n",
    "f, (ax1, ax2, ax3) = plt.subplots(1, 3, figsize=(16,4))\n",
    "ax1.imshow(np.flipud(hist_ddqn1), cmap=\"Blues\",extent=[x_edges[0], x_edges[-1],  y_edges[0],y_edges[-1]])\n",
    "ax2.imshow(np.flipud(hist_ddqn2), cmap=\"OrRd\", extent=[x_edges[0], x_edges[-1],  y_edges[0],y_edges[-1]])\n",
    "ax3.imshow(np.flipud(hist_ddqn3), cmap=\"Greens\", extent=[x_edges[0], x_edges[-1],  y_edges[0],y_edges[-1]])\n",
    "\n",
    "\n",
    "# ax1.grid(color='b', linestyle='-', linewidth=1)\n",
    "# ax2.grid(color='r', linestyle='-', linewidth=1)\n",
    "# ax3.grid(color='g', linestyle='-', linewidth=1)\n",
    "\n",
    "# Major ticks\n",
    "ax1.set_xticks(np.arange(0, 5, 1));\n",
    "ax1.set_yticks(np.arange(0, 5, 1));\n",
    "ax2.set_xticks(np.arange(0, 5, 1));\n",
    "ax2.set_yticks(np.arange(0, 5, 1));\n",
    "ax3.set_xticks(np.arange(0, 5, 1));\n",
    "ax3.set_yticks(np.arange(0, 5, 1));\n",
    "\n",
    "\n",
    "# Labels for major ticks\n",
    "ax1.set_xticklabels(np.arange(0, 5, 1));\n",
    "ax1.set_yticklabels(np.arange(0, 5, 1));\n",
    "ax2.set_xticklabels(np.arange(0, 5, 1));\n",
    "ax2.set_yticklabels(np.arange(0, 5, 1));\n",
    "ax3.set_xticklabels(np.arange(0, 5, 1));\n",
    "ax3.set_yticklabels(np.arange(0, 5, 1));\n",
    "\n",
    "\n",
    "# Minor ticks\n",
    "ax1.set_xticks(np.arange(-.5, 5, 1), minor=True);\n",
    "ax1.set_yticks(np.arange(-.5, 5, 1), minor=True);\n",
    "ax2.set_xticks(np.arange(-.5, 5, 1), minor=True);\n",
    "ax2.set_yticks(np.arange(-.5, 5, 1), minor=True);\n",
    "ax3.set_xticks(np.arange(-.5, 5, 1), minor=True);\n",
    "ax3.set_yticks(np.arange(-.5, 5, 1), minor=True);\n",
    "\n",
    "\n",
    "# Gridlines based on minor ticks\n",
    "ax1.grid(which='minor', color='b', linestyle='-', linewidth=1)\n",
    "ax2.grid(which='minor', color='r', linestyle='-', linewidth=1)\n",
    "ax3.grid(which='minor', color='g', linestyle='-', linewidth=1)\n",
    "\n",
    "\n",
    "im1 = ax1.pcolormesh(x_edges, y_edges, hist_ddqn1, cmap='Blues')\n",
    "f.colorbar(im1, ax=ax1, label = \"Action counts\")\n",
    "\n",
    "im2 = ax2.pcolormesh(x_edges, y_edges, hist_ddqn2, cmap='Greens')\n",
    "f.colorbar(im2, ax=ax2, label = \"Action counts\")\n",
    "\n",
    "im3 = ax3.pcolormesh(x_edges, y_edges, hist_ddqn3, cmap='OrRd')\n",
    "f.colorbar(im3, ax=ax3, label = \"Action counts\")\n",
    "\n",
    "\n",
    "ax1.set_ylabel('Vasopressor dose')\n",
    "ax2.set_ylabel('Vasopressor dose')\n",
    "ax3.set_ylabel('Vasopressor dose')\n",
    "ax1.set_xlabel('Vasopressor dose')\n",
    "ax2.set_xlabel('Vasopressor dose')\n",
    "ax3.set_xlabel('Vasopressor dose')\n",
    "\n",
    "\n",
    "ax1.set_title(\"Q-Network Low SOFA policy\")\n",
    "ax2.set_title(\"Q-Network Mid SOFA policy\")\n",
    "ax3.set_title(\"Q-Network High SOFA policy\")\n",
    "plt.tight_layout()"
   ]
  },
  {
   "cell_type": "code",
   "execution_count": 47,
   "id": "4e60cce8",
   "metadata": {},
   "outputs": [
    {
     "data": {
      "image/png": "[encoded data removed]",
      "text/plain": [
       "<Figure size 1152x288 with 6 Axes>"
      ]
     },
     "metadata": {
      "needs_background": "light"
     },
     "output_type": "display_data"
    }
   ],
   "source": [
    "#Plot heatmap graphs on SARSA Physician policy\n",
    "f, (ax1, ax2, ax3) = plt.subplots(1, 3, figsize=(16,4))\n",
    "ax1.imshow(np.flipud(hist_ph1), cmap=\"Blues\",extent=[x_edges[0], x_edges[-1],  y_edges[0],y_edges[-1]])\n",
    "ax2.imshow(np.flipud(hist_ph2), cmap=\"OrRd\", extent=[x_edges[0], x_edges[-1],  y_edges[0],y_edges[-1]])\n",
    "ax3.imshow(np.flipud(hist_ph3), cmap=\"Greens\", extent=[x_edges[0], x_edges[-1],  y_edges[0],y_edges[-1]])\n",
    "\n",
    "\n",
    "# ax1.grid(color='b', linestyle='-', linewidth=1)\n",
    "# ax2.grid(color='r', linestyle='-', linewidth=1)\n",
    "# ax3.grid(color='g', linestyle='-', linewidth=1)\n",
    "\n",
    "# Major ticks\n",
    "ax1.set_xticks(np.arange(0, 5, 1));\n",
    "ax1.set_yticks(np.arange(0, 5, 1));\n",
    "ax2.set_xticks(np.arange(0, 5, 1));\n",
    "ax2.set_yticks(np.arange(0, 5, 1));\n",
    "ax3.set_xticks(np.arange(0, 5, 1));\n",
    "ax3.set_yticks(np.arange(0, 5, 1));\n",
    "\n",
    "\n",
    "# Labels for major ticks\n",
    "ax1.set_xticklabels(np.arange(0, 5, 1));\n",
    "ax1.set_yticklabels(np.arange(0, 5, 1));\n",
    "ax2.set_xticklabels(np.arange(0, 5, 1));\n",
    "ax2.set_yticklabels(np.arange(0, 5, 1));\n",
    "ax3.set_xticklabels(np.arange(0, 5, 1));\n",
    "ax3.set_yticklabels(np.arange(0, 5, 1));\n",
    "\n",
    "\n",
    "# Minor ticks\n",
    "ax1.set_xticks(np.arange(-.5, 5, 1), minor=True);\n",
    "ax1.set_yticks(np.arange(-.5, 5, 1), minor=True);\n",
    "ax2.set_xticks(np.arange(-.5, 5, 1), minor=True);\n",
    "ax2.set_yticks(np.arange(-.5, 5, 1), minor=True);\n",
    "ax3.set_xticks(np.arange(-.5, 5, 1), minor=True);\n",
    "ax3.set_yticks(np.arange(-.5, 5, 1), minor=True);\n",
    "\n",
    "\n",
    "# Gridlines based on minor ticks\n",
    "ax1.grid(which='minor', color='b', linestyle='-', linewidth=1)\n",
    "ax2.grid(which='minor', color='r', linestyle='-', linewidth=1)\n",
    "ax3.grid(which='minor', color='g', linestyle='-', linewidth=1)\n",
    "\n",
    "\n",
    "im1 = ax1.pcolormesh(x_edges, y_edges, hist_ph1, cmap='Blues')\n",
    "f.colorbar(im1, ax=ax1, label = \"Action counts\")\n",
    "\n",
    "im2 = ax2.pcolormesh(x_edges, y_edges, hist_ph2, cmap='Greens')\n",
    "f.colorbar(im2, ax=ax2, label = \"Action counts\")\n",
    "\n",
    "im3 = ax3.pcolormesh(x_edges, y_edges, hist_ph3, cmap='OrRd')\n",
    "f.colorbar(im3, ax=ax3, label = \"Action counts\")\n",
    "\n",
    "\n",
    "ax1.set_ylabel('Vasopressor dose')\n",
    "ax2.set_ylabel('Vasopressor dose')\n",
    "ax3.set_ylabel('Vasopressor dose')\n",
    "ax1.set_xlabel('Vasopressor dose')\n",
    "ax2.set_xlabel('Vasopressor dose')\n",
    "ax3.set_xlabel('Vasopressor dose')\n",
    "\n",
    "\n",
    "ax1.set_title(\"Physician Low SOFA policy\")\n",
    "ax2.set_title(\"Physician Mid SOFA policy\")\n",
    "ax3.set_title(\"Physician High SOFA policy\")\n",
    "plt.tight_layout()"
   ]
  },
  {
   "cell_type": "code",
   "execution_count": 54,
   "id": "ff5bab23",
   "metadata": {},
   "outputs": [
    {
     "data": {
      "text/html": [
       "<div>\n",
       "<style scoped>\n",
       "    .dataframe tbody tr th:only-of-type {\n",
       "        vertical-align: middle;\n",
       "    }\n",
       "\n",
       "    .dataframe tbody tr th {\n",
       "        vertical-align: top;\n",
       "    }\n",
       "\n",
       "    .dataframe thead th {\n",
       "        text-align: right;\n",
       "    }\n",
       "</style>\n",
       "<table border=\"1\" class=\"dataframe\">\n",
       "  <thead>\n",
       "    <tr style=\"text-align: right;\">\n",
       "      <th></th>\n",
       "      <th>vaso_amount</th>\n",
       "    </tr>\n",
       "  </thead>\n",
       "  <tbody>\n",
       "    <tr>\n",
       "      <th>0</th>\n",
       "      <td>14.799999</td>\n",
       "    </tr>\n",
       "    <tr>\n",
       "      <th>1</th>\n",
       "      <td>14.799999</td>\n",
       "    </tr>\n",
       "    <tr>\n",
       "      <th>2</th>\n",
       "      <td>14.799999</td>\n",
       "    </tr>\n",
       "    <tr>\n",
       "      <th>3</th>\n",
       "      <td>14.799999</td>\n",
       "    </tr>\n",
       "    <tr>\n",
       "      <th>4</th>\n",
       "      <td>39.058680</td>\n",
       "    </tr>\n",
       "  </tbody>\n",
       "</table>\n",
       "</div>"
      ],
      "text/plain": [
       "   vaso_amount\n",
       "0    14.799999\n",
       "1    14.799999\n",
       "2    14.799999\n",
       "3    14.799999\n",
       "4    39.058680"
      ]
     },
     "execution_count": 54,
     "metadata": {},
     "output_type": "execute_result"
    }
   ],
   "source": [
    "interventions = df_train_orig[[\"vaso_amount\"]]\n",
    "interventions.head()"
   ]
  },
  {
   "cell_type": "code",
   "execution_count": 55,
   "id": "2c45bce2",
   "metadata": {},
   "outputs": [],
   "source": [
    "adjusted_vaso = interventions[\"vaso_amount\"][interventions[\"vaso_amount\"] >0]"
   ]
  },
  {
   "cell_type": "code",
   "execution_count": 56,
   "id": "d4a9547e",
   "metadata": {},
   "outputs": [],
   "source": [
    "vaso_vals = [0]\n",
    "vaso_vals.extend(adjusted_vaso.quantile([0.125,0.375,0.625,0.875]))"
   ]
  },
  {
   "cell_type": "code",
   "execution_count": 61,
   "id": "58964f3e",
   "metadata": {},
   "outputs": [],
   "source": [
    "inv_action_map = {}\n",
    "count = 0\n",
    "for i in range(5):\n",
    "    for j in range(5):\n",
    "        inv_action_map[count] = [i,j]\n",
    "        count += 1"
   ]
  },
  {
   "cell_type": "code",
   "execution_count": 57,
   "id": "588d9edc",
   "metadata": {},
   "outputs": [],
   "source": [
    "def sliding_mean(data_array, window=1):\n",
    "    new_list = []\n",
    "    for i in range(len(data_array)):\n",
    "        indices = range(max(i - window + 1, 0),\n",
    "                        min(i + window + 1, len(data_array)))\n",
    "        avg = 0\n",
    "        for j in indices:\n",
    "            avg += data_array[j]\n",
    "        avg /= float(len(indices))\n",
    "        new_list.append(avg)     \n",
    "    return np.array(new_list)"
   ]
  },
  {
   "cell_type": "code",
   "execution_count": 62,
   "id": "a764888e",
   "metadata": {},
   "outputs": [],
   "source": [
    "def make_df_diff(op_actions, df_in):\n",
    "    op_vaso_med = []\n",
    "    for action in op_actions:\n",
    "        vaso,vaso = inv_action_map[action]\n",
    "        op_vaso_med.append(vaso_vals[vaso])\n",
    "    vaso_diff = np.array(op_vaso_med) - np.array(df_in['vaso_amount'])\n",
    "    df_diff = pd.DataFrame()\n",
    "    df_diff['mort'] = np.array(df_in['died_in_hosp'])\n",
    "    df_diff['vaso_diff'] = vaso_diff\n",
    "    return df_diff"
   ]
  },
  {
   "cell_type": "code",
   "execution_count": 63,
   "id": "57085de8",
   "metadata": {},
   "outputs": [],
   "source": [
    "from scipy.stats import sem\n",
    "def make_vaso_plot_data(df_diff):\n",
    "    bin_medians_vaso = []\n",
    "    mort_vaso= []\n",
    "    mort_std_vaso= []\n",
    "    i = -0.6\n",
    "    while i <= 0.6:\n",
    "        count =df_diff.loc[(df_diff['vaso_diff']>i-0.05) & (df_diff['vaso_diff']<i+0.05)]\n",
    "        try:\n",
    "            res = sum(count['mort'])/float(len(count))\n",
    "            if len(count) >=2:\n",
    "                bin_medians_vaso.append(i)\n",
    "                mort_vaso.append(res)\n",
    "                mort_std_vaso.append(sem(count['mort']))\n",
    "        except ZeroDivisionError:\n",
    "            pass\n",
    "        i += 0.1\n",
    "    return bin_medians_vaso, mort_vaso, mort_std_vaso"
   ]
  },
  {
   "cell_type": "code",
   "execution_count": 70,
   "id": "94617513",
   "metadata": {},
   "outputs": [],
   "source": [
    "df_diff_ddqn = make_df_diff(ddqn_actions, df_test_orig)\n",
    "df_diff_sarsa = make_df_diff(phys_actions, df_test_orig)"
   ]
  },
  {
   "cell_type": "code",
   "execution_count": 71,
   "id": "4af91ff9",
   "metadata": {},
   "outputs": [],
   "source": [
    "bin_med_vaso_ddqn, mort_vaso_ddqn, mort_std_vaso_ddqn = make_vaso_plot_data(df_diff_ddqn)\n",
    "bin_med_vaso_sarsa, mort_vaso_sarsa, mort_std_vaso_sarsa = make_vaso_plot_data(df_diff_sarsa)"
   ]
  },
  {
   "cell_type": "code",
   "execution_count": 75,
   "id": "02d7780f",
   "metadata": {},
   "outputs": [],
   "source": [
    "def diff_plot(med_vaso, mort_vaso, std_vaso, col, title):\n",
    "    f, ax1 = plt.subplots(1, 1, sharex='col', sharey='row', figsize = (8,4))\n",
    "    step = 2\n",
    "    if col == 'r':\n",
    "        fillcol = 'lightsalmon'\n",
    "    elif col == 'g':\n",
    "        fillcol = 'palegreen'\n",
    "        step = 1\n",
    "    elif col == 'b':\n",
    "        fillcol = 'lightblue'\n",
    "    ax1.plot(med_vaso, sliding_mean(mort_vaso), color=col)\n",
    "    ax1.fill_between(med_vaso, sliding_mean(mort_vaso) - 1*std_vaso,  \n",
    "                     sliding_mean(mort_vaso) + 1*std_vaso, color=fillcol)\n",
    "    t = title\n",
    "    ax1.set_title(t)\n",
    "    x_r = [i/10.0 for i in range(-6,8,2)]\n",
    "\n",
    "    y_r = [i/20.0 for i in range(0,20,step)]\n",
    "    ax1.set_xticks(x_r)\n",
    "    ax1.set_yticks(y_r)\n",
    "    ax1.grid()\n",
    "\n",
    "    f.text(0.5, -0.03, 'Difference between optimal and physician vasopressor dose', ha='center', fontsize=10)\n",
    "    f.text(0.05, 0.5, 'Observed Mortality', va='center', rotation='vertical', fontsize = 10)"
   ]
  },
  {
   "cell_type": "code",
   "execution_count": 76,
   "id": "7a60d240",
   "metadata": {},
   "outputs": [
    {
     "data": {
      "image/png": "[encoded data removed]",
      "text/plain": [
       "<Figure size 576x288 with 1 Axes>"
      ]
     },
     "metadata": {
      "needs_background": "light"
     },
     "output_type": "display_data"
    }
   ],
   "source": [
    "diff_plot(bin_med_vaso_ddqn, mort_vaso_ddqn, mort_std_vaso_ddqn, 'g', 'DDQN')"
   ]
  },
  {
   "cell_type": "code",
   "execution_count": 78,
   "id": "620f7f26",
   "metadata": {},
   "outputs": [
    {
     "data": {
      "image/png": "[encoded data removed]",
      "text/plain": [
       "<Figure size 576x288 with 1 Axes>"
      ]
     },
     "metadata": {
      "needs_background": "light"
     },
     "output_type": "display_data"
    }
   ],
   "source": [
    "diff_plot(bin_med_vaso_sarsa, mort_vaso_sarsa, mort_std_vaso_sarsa, 'b', 'SARSA')"
   ]
  }
 ],
 "metadata": {
  "kernelspec": {
   "display_name": "Python 3 (ipykernel)",
   "language": "python",
   "name": "python3"
  },
  "language_info": {
   "codemirror_mode": {
    "name": "ipython",
    "version": 3
   },
   "file_extension": ".py",
   "mimetype": "text/x-python",
   "name": "python",
   "nbconvert_exporter": "python",
   "pygments_lexer": "ipython3",
   "version": "3.9.7"
  }
 },
 "nbformat": 4,
 "nbformat_minor": 5
}
