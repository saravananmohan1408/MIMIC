{
 "cells": [
  {
   "cell_type": "code",
   "execution_count": 1,
   "metadata": {},
   "outputs": [],
   "source": [
    "# Make relevant plots of:\n",
    "#  - Policies (as histogram)\n",
    "#  - Policies (as bar chart)\n",
    "#  - Diff in dose vs observed mortality for diff policies"
   ]
  },
  {
   "cell_type": "code",
   "execution_count": 2,
   "metadata": {},
   "outputs": [],
   "source": [
    "%matplotlib inline\n",
    "import pandas as pd\n",
    "import numpy as np\n",
    "try:\n",
    "    import cPickle as pickle\n",
    "except ImportError:\n",
    "    import _pickle as pickle\n",
    "import matplotlib.pyplot as plt"
   ]
  },
  {
   "cell_type": "code",
   "execution_count": 3,
   "metadata": {},
   "outputs": [],
   "source": [
    "df_orig = pd.read_csv('C:\\\\Users\\\\sara1\\\\Desktop\\\\Workingdata\\\\Final2.csv')"
   ]
  },
  {
   "cell_type": "code",
   "execution_count": 4,
   "metadata": {},
   "outputs": [],
   "source": [
    "df_train = pd.read_csv('C:\\\\Users\\\\sara1\\\\Desktop\\\\Workingdata\\\\rl_train_below65.csv')"
   ]
  },
  {
   "cell_type": "code",
   "execution_count": 5,
   "metadata": {},
   "outputs": [],
   "source": [
    "df_test = pd.read_csv('C:\\\\Users\\\\sara1\\\\Desktop\\\\Workingdata\\\\rl_test_below65.csv')"
   ]
  },
  {
   "cell_type": "code",
   "execution_count": 5,
   "metadata": {},
   "outputs": [],
   "source": [
    "df_train_orig = df_orig[df_orig['stay_id'].isin(df_train['stay_id'].unique())]"
   ]
  },
  {
   "cell_type": "code",
   "execution_count": 6,
   "metadata": {},
   "outputs": [],
   "source": [
    "df_test_orig = df_orig[df_orig['stay_id'].isin(df_test['stay_id'].unique())]"
   ]
  },
  {
   "cell_type": "code",
   "execution_count": 7,
   "metadata": {},
   "outputs": [],
   "source": [
    "#  next two cells - check that the extracted trajectories are ok"
   ]
  },
  {
   "cell_type": "code",
   "execution_count": 7,
   "metadata": {},
   "outputs": [
    {
     "data": {
      "text/plain": [
       "True"
      ]
     },
     "execution_count": 7,
     "metadata": {},
     "output_type": "execute_result"
    }
   ],
   "source": [
    "len(df_test) == len(df_test_orig)"
   ]
  },
  {
   "cell_type": "code",
   "execution_count": 8,
   "metadata": {
    "scrolled": true
   },
   "outputs": [
    {
     "data": {
      "text/plain": [
       "False"
      ]
     },
     "execution_count": 8,
     "metadata": {},
     "output_type": "execute_result"
    }
   ],
   "source": [
    "False in np.array(df_test['stay_id']) == np.array(df_test_orig['stay_id'])"
   ]
  },
  {
   "cell_type": "code",
   "execution_count": 9,
   "metadata": {},
   "outputs": [
    {
     "data": {
      "text/html": [
       "<div>\n",
       "<style scoped>\n",
       "    .dataframe tbody tr th:only-of-type {\n",
       "        vertical-align: middle;\n",
       "    }\n",
       "\n",
       "    .dataframe tbody tr th {\n",
       "        vertical-align: top;\n",
       "    }\n",
       "\n",
       "    .dataframe thead th {\n",
       "        text-align: right;\n",
       "    }\n",
       "</style>\n",
       "<table border=\"1\" class=\"dataframe\">\n",
       "  <thead>\n",
       "    <tr style=\"text-align: right;\">\n",
       "      <th></th>\n",
       "      <th>stay_id</th>\n",
       "      <th>sofa_score</th>\n",
       "      <th>sirs</th>\n",
       "      <th>age</th>\n",
       "      <th>weight</th>\n",
       "      <th>gender</th>\n",
       "      <th>gcs</th>\n",
       "      <th>sofa_24hours</th>\n",
       "      <th>bilirubin_total</th>\n",
       "      <th>bicarbonate</th>\n",
       "      <th>...</th>\n",
       "      <th>creatinine</th>\n",
       "      <th>heart_rate</th>\n",
       "      <th>temperature</th>\n",
       "      <th>spo2</th>\n",
       "      <th>vaso_rate</th>\n",
       "      <th>vaso_amount</th>\n",
       "      <th>urineoutput</th>\n",
       "      <th>died_in_hosp</th>\n",
       "      <th>vaso_input</th>\n",
       "      <th>reward</th>\n",
       "    </tr>\n",
       "  </thead>\n",
       "  <tbody>\n",
       "    <tr>\n",
       "      <th>0</th>\n",
       "      <td>30223578</td>\n",
       "      <td>0.0</td>\n",
       "      <td>0.75</td>\n",
       "      <td>0.886076</td>\n",
       "      <td>0.136949</td>\n",
       "      <td>1.0</td>\n",
       "      <td>0.0</td>\n",
       "      <td>0.000000</td>\n",
       "      <td>0.514568</td>\n",
       "      <td>0.3125</td>\n",
       "      <td>...</td>\n",
       "      <td>0.548997</td>\n",
       "      <td>0.486842</td>\n",
       "      <td>0.605949</td>\n",
       "      <td>0.974913</td>\n",
       "      <td>0.359217</td>\n",
       "      <td>0.843146</td>\n",
       "      <td>0.0</td>\n",
       "      <td>1</td>\n",
       "      <td>4.0</td>\n",
       "      <td>-0.025</td>\n",
       "    </tr>\n",
       "    <tr>\n",
       "      <th>1</th>\n",
       "      <td>30223578</td>\n",
       "      <td>0.0</td>\n",
       "      <td>0.75</td>\n",
       "      <td>0.886076</td>\n",
       "      <td>0.136949</td>\n",
       "      <td>1.0</td>\n",
       "      <td>0.0</td>\n",
       "      <td>0.086957</td>\n",
       "      <td>0.514568</td>\n",
       "      <td>0.3125</td>\n",
       "      <td>...</td>\n",
       "      <td>0.548997</td>\n",
       "      <td>0.486842</td>\n",
       "      <td>0.605949</td>\n",
       "      <td>0.974913</td>\n",
       "      <td>0.359217</td>\n",
       "      <td>0.843146</td>\n",
       "      <td>0.0</td>\n",
       "      <td>1</td>\n",
       "      <td>4.0</td>\n",
       "      <td>0.625</td>\n",
       "    </tr>\n",
       "    <tr>\n",
       "      <th>2</th>\n",
       "      <td>30223578</td>\n",
       "      <td>0.0</td>\n",
       "      <td>0.75</td>\n",
       "      <td>0.886076</td>\n",
       "      <td>0.136949</td>\n",
       "      <td>1.0</td>\n",
       "      <td>0.0</td>\n",
       "      <td>0.130435</td>\n",
       "      <td>0.514568</td>\n",
       "      <td>0.0000</td>\n",
       "      <td>...</td>\n",
       "      <td>0.548997</td>\n",
       "      <td>0.486842</td>\n",
       "      <td>0.605949</td>\n",
       "      <td>0.974913</td>\n",
       "      <td>0.359217</td>\n",
       "      <td>0.843146</td>\n",
       "      <td>0.0</td>\n",
       "      <td>1</td>\n",
       "      <td>4.0</td>\n",
       "      <td>-0.025</td>\n",
       "    </tr>\n",
       "    <tr>\n",
       "      <th>3</th>\n",
       "      <td>30223578</td>\n",
       "      <td>0.0</td>\n",
       "      <td>0.75</td>\n",
       "      <td>0.886076</td>\n",
       "      <td>0.136949</td>\n",
       "      <td>1.0</td>\n",
       "      <td>0.0</td>\n",
       "      <td>0.217391</td>\n",
       "      <td>0.514568</td>\n",
       "      <td>0.3750</td>\n",
       "      <td>...</td>\n",
       "      <td>0.548997</td>\n",
       "      <td>0.486842</td>\n",
       "      <td>0.605949</td>\n",
       "      <td>0.974913</td>\n",
       "      <td>0.359217</td>\n",
       "      <td>0.843146</td>\n",
       "      <td>0.0</td>\n",
       "      <td>1</td>\n",
       "      <td>4.0</td>\n",
       "      <td>-0.025</td>\n",
       "    </tr>\n",
       "    <tr>\n",
       "      <th>4</th>\n",
       "      <td>30223578</td>\n",
       "      <td>0.0</td>\n",
       "      <td>0.75</td>\n",
       "      <td>0.886076</td>\n",
       "      <td>0.136949</td>\n",
       "      <td>1.0</td>\n",
       "      <td>0.0</td>\n",
       "      <td>0.260870</td>\n",
       "      <td>0.514568</td>\n",
       "      <td>0.0625</td>\n",
       "      <td>...</td>\n",
       "      <td>0.548997</td>\n",
       "      <td>0.486842</td>\n",
       "      <td>0.605949</td>\n",
       "      <td>0.974913</td>\n",
       "      <td>0.359217</td>\n",
       "      <td>0.843146</td>\n",
       "      <td>0.0</td>\n",
       "      <td>1</td>\n",
       "      <td>4.0</td>\n",
       "      <td>-0.025</td>\n",
       "    </tr>\n",
       "  </tbody>\n",
       "</table>\n",
       "<p>5 rows × 32 columns</p>\n",
       "</div>"
      ],
      "text/plain": [
       "    stay_id  sofa_score  sirs       age    weight  gender  gcs  sofa_24hours  \\\n",
       "0  30223578         0.0  0.75  0.886076  0.136949     1.0  0.0      0.000000   \n",
       "1  30223578         0.0  0.75  0.886076  0.136949     1.0  0.0      0.086957   \n",
       "2  30223578         0.0  0.75  0.886076  0.136949     1.0  0.0      0.130435   \n",
       "3  30223578         0.0  0.75  0.886076  0.136949     1.0  0.0      0.217391   \n",
       "4  30223578         0.0  0.75  0.886076  0.136949     1.0  0.0      0.260870   \n",
       "\n",
       "   bilirubin_total  bicarbonate  ...  creatinine  heart_rate  temperature  \\\n",
       "0         0.514568       0.3125  ...    0.548997    0.486842     0.605949   \n",
       "1         0.514568       0.3125  ...    0.548997    0.486842     0.605949   \n",
       "2         0.514568       0.0000  ...    0.548997    0.486842     0.605949   \n",
       "3         0.514568       0.3750  ...    0.548997    0.486842     0.605949   \n",
       "4         0.514568       0.0625  ...    0.548997    0.486842     0.605949   \n",
       "\n",
       "       spo2  vaso_rate  vaso_amount  urineoutput  died_in_hosp  vaso_input  \\\n",
       "0  0.974913   0.359217     0.843146          0.0             1         4.0   \n",
       "1  0.974913   0.359217     0.843146          0.0             1         4.0   \n",
       "2  0.974913   0.359217     0.843146          0.0             1         4.0   \n",
       "3  0.974913   0.359217     0.843146          0.0             1         4.0   \n",
       "4  0.974913   0.359217     0.843146          0.0             1         4.0   \n",
       "\n",
       "   reward  \n",
       "0  -0.025  \n",
       "1   0.625  \n",
       "2  -0.025  \n",
       "3  -0.025  \n",
       "4  -0.025  \n",
       "\n",
       "[5 rows x 32 columns]"
      ]
     },
     "execution_count": 9,
     "metadata": {},
     "output_type": "execute_result"
    }
   ],
   "source": [
    "df_test.head()"
   ]
  },
  {
   "cell_type": "code",
   "execution_count": 10,
   "metadata": {},
   "outputs": [
    {
     "data": {
      "text/html": [
       "<div>\n",
       "<style scoped>\n",
       "    .dataframe tbody tr th:only-of-type {\n",
       "        vertical-align: middle;\n",
       "    }\n",
       "\n",
       "    .dataframe tbody tr th {\n",
       "        vertical-align: top;\n",
       "    }\n",
       "\n",
       "    .dataframe thead th {\n",
       "        text-align: right;\n",
       "    }\n",
       "</style>\n",
       "<table border=\"1\" class=\"dataframe\">\n",
       "  <thead>\n",
       "    <tr style=\"text-align: right;\">\n",
       "      <th></th>\n",
       "      <th>stay_id</th>\n",
       "      <th>sofa_score</th>\n",
       "      <th>sirs</th>\n",
       "      <th>age</th>\n",
       "      <th>weight</th>\n",
       "      <th>gender</th>\n",
       "      <th>gcs</th>\n",
       "      <th>sofa_24hours</th>\n",
       "      <th>bilirubin_total</th>\n",
       "      <th>bicarbonate</th>\n",
       "      <th>...</th>\n",
       "      <th>wbc</th>\n",
       "      <th>albumin</th>\n",
       "      <th>creatinine</th>\n",
       "      <th>heart_rate</th>\n",
       "      <th>temperature</th>\n",
       "      <th>spo2</th>\n",
       "      <th>vaso_rate</th>\n",
       "      <th>vaso_amount</th>\n",
       "      <th>urineoutput</th>\n",
       "      <th>died_in_hosp</th>\n",
       "    </tr>\n",
       "  </thead>\n",
       "  <tbody>\n",
       "    <tr>\n",
       "      <th>3145</th>\n",
       "      <td>30223578</td>\n",
       "      <td>2</td>\n",
       "      <td>3</td>\n",
       "      <td>88</td>\n",
       "      <td>75.5</td>\n",
       "      <td>1</td>\n",
       "      <td>3</td>\n",
       "      <td>0</td>\n",
       "      <td>2.879823</td>\n",
       "      <td>36.0</td>\n",
       "      <td>...</td>\n",
       "      <td>28.8</td>\n",
       "      <td>2.895128</td>\n",
       "      <td>2.5</td>\n",
       "      <td>120.0</td>\n",
       "      <td>36.980675</td>\n",
       "      <td>89.289529</td>\n",
       "      <td>2.402412</td>\n",
       "      <td>39.840004</td>\n",
       "      <td>0.0</td>\n",
       "      <td>1</td>\n",
       "    </tr>\n",
       "    <tr>\n",
       "      <th>3146</th>\n",
       "      <td>30223578</td>\n",
       "      <td>2</td>\n",
       "      <td>3</td>\n",
       "      <td>88</td>\n",
       "      <td>75.5</td>\n",
       "      <td>1</td>\n",
       "      <td>3</td>\n",
       "      <td>2</td>\n",
       "      <td>2.879823</td>\n",
       "      <td>36.0</td>\n",
       "      <td>...</td>\n",
       "      <td>28.8</td>\n",
       "      <td>2.895128</td>\n",
       "      <td>2.5</td>\n",
       "      <td>120.0</td>\n",
       "      <td>36.980675</td>\n",
       "      <td>89.289529</td>\n",
       "      <td>2.402412</td>\n",
       "      <td>39.840004</td>\n",
       "      <td>0.0</td>\n",
       "      <td>1</td>\n",
       "    </tr>\n",
       "    <tr>\n",
       "      <th>3147</th>\n",
       "      <td>30223578</td>\n",
       "      <td>2</td>\n",
       "      <td>3</td>\n",
       "      <td>88</td>\n",
       "      <td>75.5</td>\n",
       "      <td>1</td>\n",
       "      <td>3</td>\n",
       "      <td>3</td>\n",
       "      <td>2.879823</td>\n",
       "      <td>36.0</td>\n",
       "      <td>...</td>\n",
       "      <td>28.8</td>\n",
       "      <td>2.895128</td>\n",
       "      <td>2.5</td>\n",
       "      <td>120.0</td>\n",
       "      <td>36.980675</td>\n",
       "      <td>89.289529</td>\n",
       "      <td>2.402412</td>\n",
       "      <td>39.840004</td>\n",
       "      <td>0.0</td>\n",
       "      <td>1</td>\n",
       "    </tr>\n",
       "    <tr>\n",
       "      <th>3148</th>\n",
       "      <td>30223578</td>\n",
       "      <td>2</td>\n",
       "      <td>3</td>\n",
       "      <td>88</td>\n",
       "      <td>75.5</td>\n",
       "      <td>1</td>\n",
       "      <td>3</td>\n",
       "      <td>5</td>\n",
       "      <td>2.879823</td>\n",
       "      <td>36.0</td>\n",
       "      <td>...</td>\n",
       "      <td>28.8</td>\n",
       "      <td>2.895128</td>\n",
       "      <td>2.5</td>\n",
       "      <td>120.0</td>\n",
       "      <td>36.980675</td>\n",
       "      <td>89.289529</td>\n",
       "      <td>2.402412</td>\n",
       "      <td>39.840004</td>\n",
       "      <td>0.0</td>\n",
       "      <td>1</td>\n",
       "    </tr>\n",
       "    <tr>\n",
       "      <th>3149</th>\n",
       "      <td>30223578</td>\n",
       "      <td>2</td>\n",
       "      <td>3</td>\n",
       "      <td>88</td>\n",
       "      <td>75.5</td>\n",
       "      <td>1</td>\n",
       "      <td>3</td>\n",
       "      <td>6</td>\n",
       "      <td>2.879823</td>\n",
       "      <td>36.0</td>\n",
       "      <td>...</td>\n",
       "      <td>28.8</td>\n",
       "      <td>2.895128</td>\n",
       "      <td>2.5</td>\n",
       "      <td>120.0</td>\n",
       "      <td>36.980675</td>\n",
       "      <td>89.289529</td>\n",
       "      <td>2.402412</td>\n",
       "      <td>39.840004</td>\n",
       "      <td>0.0</td>\n",
       "      <td>1</td>\n",
       "    </tr>\n",
       "  </tbody>\n",
       "</table>\n",
       "<p>5 rows × 30 columns</p>\n",
       "</div>"
      ],
      "text/plain": [
       "       stay_id  sofa_score  sirs  age  weight  gender  gcs  sofa_24hours  \\\n",
       "3145  30223578           2     3   88    75.5       1    3             0   \n",
       "3146  30223578           2     3   88    75.5       1    3             2   \n",
       "3147  30223578           2     3   88    75.5       1    3             3   \n",
       "3148  30223578           2     3   88    75.5       1    3             5   \n",
       "3149  30223578           2     3   88    75.5       1    3             6   \n",
       "\n",
       "      bilirubin_total  bicarbonate  ...   wbc   albumin  creatinine  \\\n",
       "3145         2.879823         36.0  ...  28.8  2.895128         2.5   \n",
       "3146         2.879823         36.0  ...  28.8  2.895128         2.5   \n",
       "3147         2.879823         36.0  ...  28.8  2.895128         2.5   \n",
       "3148         2.879823         36.0  ...  28.8  2.895128         2.5   \n",
       "3149         2.879823         36.0  ...  28.8  2.895128         2.5   \n",
       "\n",
       "      heart_rate  temperature       spo2  vaso_rate  vaso_amount  urineoutput  \\\n",
       "3145       120.0    36.980675  89.289529   2.402412    39.840004          0.0   \n",
       "3146       120.0    36.980675  89.289529   2.402412    39.840004          0.0   \n",
       "3147       120.0    36.980675  89.289529   2.402412    39.840004          0.0   \n",
       "3148       120.0    36.980675  89.289529   2.402412    39.840004          0.0   \n",
       "3149       120.0    36.980675  89.289529   2.402412    39.840004          0.0   \n",
       "\n",
       "      died_in_hosp  \n",
       "3145             1  \n",
       "3146             1  \n",
       "3147             1  \n",
       "3148             1  \n",
       "3149             1  \n",
       "\n",
       "[5 rows x 30 columns]"
      ]
     },
     "execution_count": 10,
     "metadata": {},
     "output_type": "execute_result"
    }
   ],
   "source": [
    "df_test_orig.head()"
   ]
  },
  {
   "cell_type": "code",
   "execution_count": 12,
   "metadata": {},
   "outputs": [],
   "source": [
    "#  Extract out the interventions from the training dataset and find the medians for each dosage - these\n",
    "#  represent the continuous analog of the chosen actions"
   ]
  },
  {
   "cell_type": "code",
   "execution_count": 11,
   "metadata": {},
   "outputs": [
    {
     "data": {
      "text/html": [
       "<div>\n",
       "<style scoped>\n",
       "    .dataframe tbody tr th:only-of-type {\n",
       "        vertical-align: middle;\n",
       "    }\n",
       "\n",
       "    .dataframe tbody tr th {\n",
       "        vertical-align: top;\n",
       "    }\n",
       "\n",
       "    .dataframe thead th {\n",
       "        text-align: right;\n",
       "    }\n",
       "</style>\n",
       "<table border=\"1\" class=\"dataframe\">\n",
       "  <thead>\n",
       "    <tr style=\"text-align: right;\">\n",
       "      <th></th>\n",
       "      <th>vaso_amount</th>\n",
       "    </tr>\n",
       "  </thead>\n",
       "  <tbody>\n",
       "    <tr>\n",
       "      <th>0</th>\n",
       "      <td>14.799999</td>\n",
       "    </tr>\n",
       "    <tr>\n",
       "      <th>1</th>\n",
       "      <td>14.799999</td>\n",
       "    </tr>\n",
       "    <tr>\n",
       "      <th>2</th>\n",
       "      <td>14.799999</td>\n",
       "    </tr>\n",
       "    <tr>\n",
       "      <th>3</th>\n",
       "      <td>14.799999</td>\n",
       "    </tr>\n",
       "    <tr>\n",
       "      <th>4</th>\n",
       "      <td>39.058680</td>\n",
       "    </tr>\n",
       "  </tbody>\n",
       "</table>\n",
       "</div>"
      ],
      "text/plain": [
       "   vaso_amount\n",
       "0    14.799999\n",
       "1    14.799999\n",
       "2    14.799999\n",
       "3    14.799999\n",
       "4    39.058680"
      ]
     },
     "execution_count": 11,
     "metadata": {},
     "output_type": "execute_result"
    }
   ],
   "source": [
    "interventions = df_train_orig[[\"vaso_amount\"]]\n",
    "interventions.head()"
   ]
  },
  {
   "cell_type": "code",
   "execution_count": 12,
   "metadata": {},
   "outputs": [],
   "source": [
    "adjusted_vaso = interventions[\"vaso_amount\"][interventions[\"vaso_amount\"] >0]"
   ]
  },
  {
   "cell_type": "code",
   "execution_count": 13,
   "metadata": {},
   "outputs": [],
   "source": [
    "vaso_vals = [0]\n",
    "vaso_vals.extend(adjusted_vaso.quantile([0.125,0.375,0.625,0.875]))"
   ]
  },
  {
   "cell_type": "code",
   "execution_count": 14,
   "metadata": {},
   "outputs": [],
   "source": [
    "def sliding_mean(data_array, window=1):\n",
    "    new_list = []\n",
    "    for i in range(len(data_array)):\n",
    "        indices = range(max(i - window + 1, 0),\n",
    "                        min(i + window + 1, len(data_array)))\n",
    "        avg = 0\n",
    "        for j in indices:\n",
    "            avg += data_array[j]\n",
    "        avg /= float(len(indices))\n",
    "        new_list.append(avg)     \n",
    "    return np.array(new_list)"
   ]
  },
  {
   "cell_type": "code",
   "execution_count": 17,
   "metadata": {},
   "outputs": [],
   "source": [
    "#  Next two cells - can change to load the correct phys/agent actions we want in the plots"
   ]
  },
  {
   "cell_type": "code",
   "execution_count": 6,
   "metadata": {},
   "outputs": [],
   "source": [
    "phys_actions = pickle.load(open( \"C:\\\\Users\\\\sara1\\\\Desktop\\\\Results\\\\SARSA_continual_below65\\\\phys_actions_test.p\", \"rb\" ))"
   ]
  },
  {
   "cell_type": "code",
   "execution_count": 7,
   "metadata": {},
   "outputs": [],
   "source": [
    "autoencode_actions = pickle.load(open( \"C:\\\\Users\\\\sara1\\\\Desktop\\\\Results\\\\Ddqn_continual_below65\\\\dqn_normal_actions_test.p\", \"rb\" ))\n",
    "deeprl2_actions = pickle.load(open( \"C:\\\\Users\\\\sara1\\\\Desktop\\\\Results\\\\Ddqn_continual_below65\\\\dqn_normal_actions_test.p\", \"rb\" ))"
   ]
  },
  {
   "cell_type": "code",
   "execution_count": 8,
   "metadata": {
    "scrolled": true
   },
   "outputs": [
    {
     "data": {
      "text/plain": [
       "Text(0, 0.5, 'Frequency')"
      ]
     },
     "execution_count": 8,
     "metadata": {},
     "output_type": "execute_result"
    },
    {
     "data": {
      "image/png": "[encoded data removed]",
      "text/plain": [
       "<Figure size 432x288 with 1 Axes>"
      ]
     },
     "metadata": {
      "needs_background": "light"
     },
     "output_type": "display_data"
    }
   ],
   "source": [
    "_ = plt.hist(phys_actions, bins=5)\n",
    "plt.title(\"Actions selected by physician\")\n",
    "plt.xlabel(\"Action number\")\n",
    "plt.ylabel(\"Frequency\")"
   ]
  },
  {
   "cell_type": "code",
   "execution_count": 9,
   "metadata": {},
   "outputs": [],
   "source": [
    "inv_action_map = {}\n",
    "count = 0\n",
    "for i in range(5):\n",
    "    for j in range(5):\n",
    "        inv_action_map[count] = [i,j]\n",
    "        count += 1"
   ]
  },
  {
   "cell_type": "code",
   "execution_count": 10,
   "metadata": {},
   "outputs": [],
   "source": [
    "phys_actions_tuple = [None for i in range(len(phys_actions))]\n",
    "deeprl2_actions_tuple = [None for i in range(len(phys_actions))]\n",
    "autoencode_actions_tuple = [None for i in range(len(phys_actions))]                                          \n",
    "\n",
    "for i in range(len(phys_actions)):\n",
    "    phys_actions_tuple[i] = inv_action_map[phys_actions[i]]\n",
    "    deeprl2_actions_tuple[i] = inv_action_map[deeprl2_actions[i]]\n",
    "    autoencode_actions_tuple[i] = inv_action_map[autoencode_actions[i]]"
   ]
  },
  {
   "cell_type": "code",
   "execution_count": 11,
   "metadata": {},
   "outputs": [],
   "source": [
    "phys_actions_tuple = np.array(phys_actions_tuple)\n",
    "deeprl2_actions_tuple = np.array(deeprl2_actions_tuple)\n",
    "autoencode_actions_tuple = np.array(autoencode_actions_tuple)"
   ]
  },
  {
   "cell_type": "code",
   "execution_count": 12,
   "metadata": {},
   "outputs": [],
   "source": [
    "phys_actions_vaso = phys_actions_tuple[:,0]\n",
    "hist, x_edges, y_edges = np.histogram2d(phys_actions_vaso, phys_actions_vaso, bins=5)"
   ]
  },
  {
   "cell_type": "code",
   "execution_count": 13,
   "metadata": {},
   "outputs": [],
   "source": [
    "deeprl2_actions_vaso = deeprl2_actions_tuple[:,0]\n",
    "hist2, _, _ = np.histogram2d(deeprl2_actions_vaso, deeprl2_actions_vaso, bins=5)"
   ]
  },
  {
   "cell_type": "code",
   "execution_count": 14,
   "metadata": {},
   "outputs": [],
   "source": [
    "autoencode_actions_vaso = autoencode_actions_tuple[:,0]\n",
    "hist3, _, _ = np.histogram2d(autoencode_actions_vaso, autoencode_actions_vaso, bins=5)"
   ]
  },
  {
   "cell_type": "code",
   "execution_count": 15,
   "metadata": {},
   "outputs": [],
   "source": [
    "x_edges = np.arange(-0.5,5)\n",
    "y_edges = np.arange(-0.5,5)"
   ]
  },
  {
   "cell_type": "code",
   "execution_count": 16,
   "metadata": {},
   "outputs": [
    {
     "data": {
      "image/png": "[encoded data removed]",
      "text/plain": [
       "<Figure size 1152x288 with 6 Axes>"
      ]
     },
     "metadata": {
      "needs_background": "light"
     },
     "output_type": "display_data"
    }
   ],
   "source": [
    "f, (ax1, ax2, ax3) = plt.subplots(1, 3, figsize=(16,4))\n",
    "ax1.imshow(np.flipud(hist), cmap=\"Blues\",extent=[x_edges[0], x_edges[-1],  y_edges[0],y_edges[-1]])\n",
    "ax2.imshow(np.flipud(hist2), cmap=\"OrRd\", extent=[x_edges[0], x_edges[-1],  y_edges[0],y_edges[-1]])\n",
    "ax3.imshow(np.flipud(hist3), cmap=\"Greens\", extent=[x_edges[0], x_edges[-1],  y_edges[0],y_edges[-1]])\n",
    "\n",
    "# ax1.grid(color='b', linestyle='-', linewidth=1)\n",
    "# ax2.grid(color='r', linestyle='-', linewidth=1)\n",
    "# ax3.grid(color='g', linestyle='-', linewidth=1)\n",
    "\n",
    "# Major ticks\n",
    "ax1.set_xticks(np.arange(0, 5, 1));\n",
    "ax1.set_yticks(np.arange(0, 5, 1));\n",
    "ax2.set_xticks(np.arange(0, 5, 1));\n",
    "ax2.set_yticks(np.arange(0, 5, 1));\n",
    "ax3.set_xticks(np.arange(0, 5, 1));\n",
    "ax3.set_yticks(np.arange(0, 5, 1));\n",
    "\n",
    "# Labels for major ticks\n",
    "ax1.set_xticklabels(np.arange(0, 5, 1));\n",
    "ax1.set_yticklabels(np.arange(0, 5, 1));\n",
    "ax2.set_xticklabels(np.arange(0, 5, 1));\n",
    "ax2.set_yticklabels(np.arange(0, 5, 1));\n",
    "ax3.set_xticklabels(np.arange(0, 5, 1));\n",
    "ax3.set_yticklabels(np.arange(0, 5, 1));\n",
    "\n",
    "# Minor ticks\n",
    "ax1.set_xticks(np.arange(-.5, 5, 1), minor=True);\n",
    "ax1.set_yticks(np.arange(-.5, 5, 1), minor=True);\n",
    "ax2.set_xticks(np.arange(-.5, 5, 1), minor=True);\n",
    "ax2.set_yticks(np.arange(-.5, 5, 1), minor=True);\n",
    "ax3.set_xticks(np.arange(-.5, 5, 1), minor=True);\n",
    "ax3.set_yticks(np.arange(-.5, 5, 1), minor=True);\n",
    "\n",
    "# Gridlines based on minor ticks\n",
    "ax1.grid(which='minor', color='b', linestyle='-', linewidth=1)\n",
    "ax2.grid(which='minor', color='r', linestyle='-', linewidth=1)\n",
    "ax3.grid(which='minor', color='g', linestyle='-', linewidth=1)\n",
    "\n",
    "im1 = ax1.pcolormesh(x_edges, y_edges, hist, cmap='Blues')\n",
    "f.colorbar(im1, ax=ax1, label = \"Action counts\")\n",
    "\n",
    "im2 = ax2.pcolormesh(x_edges, y_edges, hist2, cmap='OrRd')\n",
    "f.colorbar(im2, ax=ax2, label = \"Action counts\")\n",
    "\n",
    "im3 = ax3.pcolormesh(x_edges, y_edges, hist3, cmap='Greens')\n",
    "f.colorbar(im3, ax=ax3, label = \"Action counts\")\n",
    "\n",
    "ax1.set_ylabel('Vasopressor dose')\n",
    "ax2.set_ylabel('Vasopressor dose')\n",
    "ax3.set_ylabel('Vasopressor dose')\n",
    "ax1.set_xlabel('Vasopressor dose')\n",
    "ax2.set_xlabel('Vasopressor dose')\n",
    "ax3.set_xlabel('Vasopressor dose')\n",
    "\n",
    "ax1.set_title(\"Physician policy\")\n",
    "ax2.set_title(\"Q-Network (Sparse Rewards) policy\")\n",
    "ax3.set_title(\"Q-Network (Shaped Rewards) policy\")\n",
    "plt.tight_layout()"
   ]
  },
  {
   "cell_type": "code",
   "execution_count": 17,
   "metadata": {
    "scrolled": true
   },
   "outputs": [
    {
     "data": {
      "image/png": "[encoded data removed]",
      "text/plain": [
       "<Figure size 864x288 with 3 Axes>"
      ]
     },
     "metadata": {
      "needs_background": "light"
     },
     "output_type": "display_data"
    }
   ],
   "source": [
    "f, (ax1, ax2, ax3) = plt.subplots(1, 3, sharey=True, figsize=(12,4))\n",
    "ax1.hist(phys_actions, bins=50)\n",
    "ax1.set_title(\"Physician Actions\", fontsize = 10)\n",
    "ax2.hist(deeprl2_actions, bins=50, color='r')\n",
    "ax2.set_title(\"Q-Network Actions\", fontsize = 10)\n",
    "ax3.hist(autoencode_actions, bins=50, color='g')\n",
    "ax3.set_title(\"Autoencode Q-Network Actions\", fontsize = 10)\n",
    "f.text(0.5, -0.03, 'Action number', ha='center', fontsize=15)\n",
    "f.text(-0.02, 0.5, 'Frequency', va='center', rotation='vertical', fontsize = 15)\n",
    "# ax2.hist(autoencode_actions, bins=25, color ='g')\n",
    "plt.tight_layout()\n"
   ]
  },
  {
   "cell_type": "code",
   "execution_count": 27,
   "metadata": {},
   "outputs": [],
   "source": [
    "def make_df_diff(op_actions):\n",
    "    op_vaso_med = []\n",
    "    for action in op_actions:\n",
    "        vaso,vaso = inv_action_map[action]\n",
    "        op_vaso_med.append(vaso_vals[vaso])\n",
    "    vaso_diff = np.array(op_vaso_med) - np.array(df_test_orig['vaso_amount'])\n",
    "    df_diff = pd.DataFrame()\n",
    "    df_diff['mort'] = np.array(df_test_orig['died_in_hosp'])\n",
    "    df_diff['vaso_diff'] = vaso_diff\n",
    "    return df_diff"
   ]
  },
  {
   "cell_type": "code",
   "execution_count": 65,
   "metadata": {
    "collapsed": true
   },
   "outputs": [],
   "source": [
    "#Not needed\n",
    "\n",
    "from scipy.stats import sem\n",
    "def make_iv_plot_data(df_diff):\n",
    "    bin_medians_iv = []\n",
    "    mort_iv = []\n",
    "    mort_std_iv= []\n",
    "    i = -800\n",
    "    while i <= 900:\n",
    "        count =df_diff.loc[(df_diff['iv_diff']>i-50) & (df_diff['iv_diff']<i+50)]\n",
    "        try:\n",
    "            res = sum(count['mort'])/float(len(count))\n",
    "            if len(count) >=2:\n",
    "                bin_medians_iv.append(i)\n",
    "                mort_iv.append(res)\n",
    "                mort_std_iv.append(sem(count['mort']))\n",
    "        except ZeroDivisionError:\n",
    "            pass\n",
    "        i += 100\n",
    "    return bin_medians_iv, mort_iv, mort_std_iv"
   ]
  },
  {
   "cell_type": "code",
   "execution_count": 28,
   "metadata": {},
   "outputs": [],
   "source": [
    "from scipy.stats import sem\n",
    "def make_vaso_plot_data(df_diff):\n",
    "    bin_medians_vaso = []\n",
    "    mort_vaso= []\n",
    "    mort_std_vaso= []\n",
    "    i = -0.6\n",
    "    while i <= 0.8:\n",
    "        count =df_diff.loc[(df_diff['vaso_diff']>i-0.05) & (df_diff['vaso_diff']<i+0.05)]\n",
    "        try:\n",
    "            res = sum(count['mort'])/float(len(count))\n",
    "            if len(count) >=2:\n",
    "                bin_medians_vaso.append(i)\n",
    "                mort_vaso.append(res)\n",
    "                mort_std_vaso.append(sem(count['mort']))\n",
    "        except ZeroDivisionError:\n",
    "            pass\n",
    "        i += 0.1\n",
    "    return bin_medians_vaso, mort_vaso, mort_std_vaso"
   ]
  },
  {
   "cell_type": "code",
   "execution_count": 29,
   "metadata": {},
   "outputs": [],
   "source": [
    "df_diff_autoencode = make_df_diff(autoencode_actions)\n",
    "df_diff_deeprl2 = make_df_diff(deeprl2_actions)"
   ]
  },
  {
   "cell_type": "code",
   "execution_count": 30,
   "metadata": {},
   "outputs": [],
   "source": [
    "bin_med_vaso_auto, mort_vaso_auto, mort_std_vaso_auto = make_vaso_plot_data(df_diff_autoencode)\n",
    "bin_med_vaso_deep, mort_vaso_deep, mort_std_vaso_deep = make_vaso_plot_data(df_diff_deeprl2)"
   ]
  },
  {
   "cell_type": "code",
   "execution_count": 69,
   "metadata": {
    "scrolled": false
   },
   "outputs": [
    {
     "data": {
      "text/plain": [
       "<matplotlib.text.Text at 0x7fe0b9d9e790>"
      ]
     },
     "execution_count": 69,
     "metadata": {},
     "output_type": "execute_result"
    },
    {
     "data": {
      "image/png": "[encoded data removed]",
      "text/plain": [
       "<matplotlib.figure.Figure at 0x7fe0bb7ff910>"
      ]
     },
     "metadata": {},
     "output_type": "display_data"
    }
   ],
   "source": [
    "#Don't run this\n",
    "\n",
    "f, ((ax1, ax2), (ax3, ax4)) = plt.subplots(2, 2, sharex='col', sharey='row', figsize = (7.5,5))\n",
    "ax1.plot(bin_med_vaso_deep, sliding_mean(mort_vaso_deep), color='r')\n",
    "ax1.fill_between(bin_med_vaso_deep, sliding_mean(mort_vaso_deep) - 1*mort_std_vaso_deep,  \n",
    "                 sliding_mean(mort_vaso_deep) + 1*mort_std_vaso_deep, color='tomato')\n",
    "ax1.set_title('Q-Network (Sparse Rewards) - Vasopressors')\n",
    "x_r = [i/10.0 for i in range(-6,10,2)]\n",
    "y_r = [i/20.0 for i in range(0,20,1)]\n",
    "ax1.set_xticks(x_r)\n",
    "ax1.set_yticks(y_r)\n",
    "ax1.grid()\n",
    "\n",
    "ax2.plot(bin_med_iv_deep, sliding_mean(mort_iv_deep), color='r')\n",
    "ax2.fill_between(bin_med_iv_deep, sliding_mean(mort_iv_deep) - 1*mort_std_iv_deep,  \n",
    "                 sliding_mean(mort_iv_deep) + 1*mort_std_iv_deep, color='tomato')\n",
    "ax2.set_title('Q-Network (Sparse Rewards) - IV fluids')\n",
    "x_iv = [i for i in range(-800,900,400)]\n",
    "ax2.set_xticks(x_iv)\n",
    "ax2.grid()\n",
    "\n",
    "ax3.plot(bin_med_vaso_auto, sliding_mean(mort_vaso_auto), color='g')\n",
    "ax3.fill_between(bin_med_vaso_auto, sliding_mean(mort_vaso_auto) - 1*mort_std_vaso_auto,  \n",
    "                 sliding_mean(mort_vaso_auto) + 1*mort_std_vaso_auto, color='palegreen')\n",
    "y_auto = [i/20.0 for i in range(0,21,1)]\n",
    "ax3.set_yticks(y_auto)\n",
    "ax3.set_title('Q-Network (Shaped Rewards) - Vasopressors')\n",
    "ax3.grid()\n",
    "\n",
    "ax4.plot(bin_med_iv_auto, sliding_mean(mort_iv_auto), color='g')\n",
    "ax4.fill_between(bin_med_iv_auto, sliding_mean(mort_iv_auto) - 1*mort_std_iv_auto,  \n",
    "                 sliding_mean(mort_iv_auto) + 1*mort_std_iv_auto, color='palegreen')\n",
    "ax4.set_title('Q-Network (Shaped Rewards) - IV Fluids')\n",
    "ax4.grid()\n",
    "plt.tight_layout()\n",
    "f.text(0.225, -0.03, 'Difference between optimal and physician vasopressor dose', ha='center', fontsize=10)\n",
    "f.text(0.775, -0.03, 'Difference between optimal and physician IV dose', ha='center', fontsize=10)\n",
    "f.text(-0.02, 0.5, 'Observed Mortality', va='center', rotation='vertical', fontsize = 10)"
   ]
  },
  {
   "cell_type": "code",
   "execution_count": 31,
   "metadata": {},
   "outputs": [
    {
     "data": {
      "text/plain": [
       "Text(-0.02, 0.5, 'Observed Mortality')"
      ]
     },
     "execution_count": 31,
     "metadata": {},
     "output_type": "execute_result"
    },
    {
     "data": {
      "image/png": "[encoded data removed]",
      "text/plain": [
       "<Figure size 540x360 with 2 Axes>"
      ]
     },
     "metadata": {
      "needs_background": "light"
     },
     "output_type": "display_data"
    }
   ],
   "source": [
    "f, (ax1, ax2) = plt.subplots(1, 2, sharex='col', sharey='row', figsize = (7.5,5))\n",
    "ax1.plot(bin_med_vaso_deep, sliding_mean(mort_vaso_deep), color='r')\n",
    "ax1.fill_between(bin_med_vaso_deep, sliding_mean(mort_vaso_deep) - 1*mort_std_vaso_deep,  \n",
    "                 sliding_mean(mort_vaso_deep) + 1*mort_std_vaso_deep, color='tomato')\n",
    "ax1.set_title('Q-Network (Sparse Rewards) - Vasopressors')\n",
    "x_r = [i/10.0 for i in range(-6,10,2)]\n",
    "y_r = [i/20.0 for i in range(0,20,1)]\n",
    "ax1.set_xticks(x_r)\n",
    "ax1.set_yticks(y_r)\n",
    "ax1.grid()\n",
    "\n",
    "ax2.plot(bin_med_vaso_auto, sliding_mean(mort_vaso_auto), color='g')\n",
    "ax2.fill_between(bin_med_vaso_auto, sliding_mean(mort_vaso_auto) - 1*mort_std_vaso_auto,  \n",
    "                 sliding_mean(mort_vaso_auto) + 1*mort_std_vaso_auto, color='palegreen')\n",
    "y_auto = [i/20.0 for i in range(0,21,1)]\n",
    "ax2.set_yticks(y_auto)\n",
    "ax2.set_title('Q-Network (Shaped Rewards) - Vasopressors')\n",
    "ax2.grid()\n",
    "\n",
    "plt.tight_layout()\n",
    "f.text(0.5, -0.03, 'Difference between optimal and physician vasopressor dose', ha='center', fontsize=10)\n",
    "f.text(-0.02, 0.5, 'Observed Mortality', va='center', rotation='vertical', fontsize = 10)"
   ]
  }
 ],
 "metadata": {
  "kernelspec": {
   "display_name": "Python 3 (ipykernel)",
   "language": "python",
   "name": "python3"
  },
  "language_info": {
   "codemirror_mode": {
    "name": "ipython",
    "version": 3
   },
   "file_extension": ".py",
   "mimetype": "text/x-python",
   "name": "python",
   "nbconvert_exporter": "python",
   "pygments_lexer": "ipython3",
   "version": "3.9.7"
  }
 },
 "nbformat": 4,
 "nbformat_minor": 2
}
