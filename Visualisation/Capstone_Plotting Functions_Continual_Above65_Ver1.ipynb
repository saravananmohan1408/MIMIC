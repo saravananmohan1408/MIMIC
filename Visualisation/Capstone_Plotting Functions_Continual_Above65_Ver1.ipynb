{
 "cells": [
  {
   "cell_type": "code",
   "execution_count": 1,
   "id": "1f2dbe65",
   "metadata": {},
   "outputs": [],
   "source": [
    "# This is meant to be a combined notebook that will plot all the needed graphs for comparison"
   ]
  },
  {
   "cell_type": "code",
   "execution_count": 1,
   "id": "186c9372",
   "metadata": {},
   "outputs": [],
   "source": [
    "%matplotlib inline\n",
    "import pandas as pd\n",
    "import numpy as np\n",
    "try:\n",
    "    import cPickle as pickle\n",
    "except ImportError:\n",
    "    import _pickle as pickle\n",
    "import matplotlib.pyplot as plt"
   ]
  },
  {
   "cell_type": "code",
   "execution_count": 2,
   "id": "4f897cca",
   "metadata": {},
   "outputs": [],
   "source": [
    "# If plotting graphs for non-continual setting then use 'Final2' dataset.\n",
    "# If plotting graphs for continual setting then use either 'rl_below65_scaled' or 'rl_above65_scaled'\n",
    "df_orig = pd.read_csv('C:\\\\Users\\\\sara1\\\\Desktop\\\\Workingdata\\\\rl_above65_scaled.csv')"
   ]
  },
  {
   "cell_type": "code",
   "execution_count": 3,
   "id": "05fcb224",
   "metadata": {},
   "outputs": [],
   "source": [
    "# Either 'rl_train_below65' or 'rl_train_above65'\n",
    "df_train = pd.read_csv('C:\\\\Users\\\\sara1\\\\Desktop\\\\Workingdata\\\\rl_train_above65.csv')"
   ]
  },
  {
   "cell_type": "code",
   "execution_count": 4,
   "id": "a3176e4d",
   "metadata": {},
   "outputs": [],
   "source": [
    "# Either 'rl_test_below65' or 'rl_test_above65'\n",
    "df_test = pd.read_csv('C:\\\\Users\\\\sara1\\\\Desktop\\\\Workingdata\\\\rl_test_above65.csv')"
   ]
  },
  {
   "cell_type": "code",
   "execution_count": 5,
   "id": "1e93b835",
   "metadata": {},
   "outputs": [],
   "source": [
    "df_train_orig = df_orig[df_orig['stay_id'].isin(df_train['stay_id'].unique())]"
   ]
  },
  {
   "cell_type": "code",
   "execution_count": 6,
   "id": "d38b85e4",
   "metadata": {},
   "outputs": [],
   "source": [
    "df_test_orig = df_orig[df_orig['stay_id'].isin(df_test['stay_id'].unique())]"
   ]
  },
  {
   "cell_type": "code",
   "execution_count": 7,
   "id": "820ad24a",
   "metadata": {},
   "outputs": [],
   "source": [
    "# Actions from the model that was trained\n",
    "# Copy multiple if need to compare multiple models together\n",
    "\n",
    "phys_actions = pickle.load(open( \"C:\\\\Users\\\\sara1\\\\Desktop\\\\Results\\\\SARSA_continual_above65\\\\phys_actions_test.p\", \"rb\" ))\n",
    "ddqn_actions = pickle.load(open( \"C:\\\\Users\\\\sara1\\\\Desktop\\\\Results\\\\Ddqn_continual_above65\\\\dqn_normal_actions_test.p\", \"rb\" ))"
   ]
  },
  {
   "cell_type": "code",
   "execution_count": 8,
   "id": "f7ae2371",
   "metadata": {},
   "outputs": [
    {
     "data": {
      "image/png": "[encoded data removed]",
      "text/plain": [
       "<Figure size 576x288 with 1 Axes>"
      ]
     },
     "metadata": {
      "needs_background": "light"
     },
     "output_type": "display_data"
    }
   ],
   "source": [
    "fig, ax = plt.subplots(figsize=(8, 4))\n",
    "\n",
    "# Plot the histograms\n",
    "ax.hist(phys_actions, bins=50, color='r', label=\"SARSA Physician Actions\")\n",
    "ax.hist(ddqn_actions, bins=50, color='g', label=\"DDQ-Network Actions\")\n",
    "\n",
    "# Set titles and labels\n",
    "ax.set_title(\"Histograms of Actions\", fontsize=10)\n",
    "ax.set_xlabel(\"Action number\", fontsize=15)\n",
    "ax.set_ylabel(\"Frequency\", fontsize=15)\n",
    "\n",
    "# Add a legend\n",
    "ax.legend()\n",
    "\n",
    "# Adjust spacing\n",
    "plt.tight_layout()\n",
    "\n",
    "# Show the plot\n",
    "plt.show()"
   ]
  },
  {
   "cell_type": "code",
   "execution_count": 9,
   "id": "9f7f6e5a",
   "metadata": {},
   "outputs": [
    {
     "data": {
      "image/png": "[encoded data removed]",
      "text/plain": [
       "<Figure size 720x360 with 2 Axes>"
      ]
     },
     "metadata": {
      "needs_background": "light"
     },
     "output_type": "display_data"
    }
   ],
   "source": [
    "#Two subplots side by side but y-axis is shared and hence can be an issue\n",
    "f, (ax1, ax2) = plt.subplots(1, 2, sharey=True, figsize=(10,5))\n",
    "ax1.hist(ddqn_actions, bins=50, color='g')\n",
    "ax1.set_title(\"Q-Network Actions\", fontsize = 10)\n",
    "ax2.hist(phys_actions, bins=50, color='r')\n",
    "ax2.set_title(\"Physician Actions\", fontsize = 10)\n",
    "f.text(0.5, -0.03, 'Action number', ha='center', fontsize=15)\n",
    "f.text(-0.02, 0.5, 'Frequency', va='center', rotation='vertical', fontsize = 15)\n",
    "plt.tight_layout()"
   ]
  },
  {
   "cell_type": "code",
   "execution_count": 10,
   "id": "44b9ce56",
   "metadata": {},
   "outputs": [
    {
     "name": "stderr",
     "output_type": "stream",
     "text": [
      "C:\\Users\\sara1\\AppData\\Local\\Temp/ipykernel_4464/1995398100.py:2: SettingWithCopyWarning: \n",
      "A value is trying to be set on a copy of a slice from a DataFrame.\n",
      "Try using .loc[row_indexer,col_indexer] = value instead\n",
      "\n",
      "See the caveats in the documentation: https://pandas.pydata.org/pandas-docs/stable/user_guide/indexing.html#returning-a-view-versus-a-copy\n",
      "  df_test_orig['ddqn_actions'] = ddqn_actions\n",
      "C:\\Users\\sara1\\AppData\\Local\\Temp/ipykernel_4464/1995398100.py:3: SettingWithCopyWarning: \n",
      "A value is trying to be set on a copy of a slice from a DataFrame.\n",
      "Try using .loc[row_indexer,col_indexer] = value instead\n",
      "\n",
      "See the caveats in the documentation: https://pandas.pydata.org/pandas-docs/stable/user_guide/indexing.html#returning-a-view-versus-a-copy\n",
      "  df_test_orig['phys_actions'] = phys_actions\n"
     ]
    }
   ],
   "source": [
    "# Add in the actions selected to the df_test_orig dataframe. This helps with the stratified analysis afterwards\n",
    "df_test_orig['ddqn_actions'] = ddqn_actions\n",
    "df_test_orig['phys_actions'] = phys_actions"
   ]
  },
  {
   "cell_type": "code",
   "execution_count": 11,
   "id": "729323ac",
   "metadata": {},
   "outputs": [],
   "source": [
    "# Perform stratification based on low, medium and high SOFA score levels as decided in the project scope\n",
    "\n",
    "# Low SOFA - Score of below 5\n",
    "df_test_orig_low = df_test_orig[df_test_orig['sofa_score'] <= 0.3]\n",
    "\n",
    "# Middling SOFA - Score of between 5 to 15\n",
    "df_test_orig_mid = df_test_orig[df_test_orig['sofa_score'] > 0.3]\n",
    "df_test_orig_mid = df_test_orig_mid[df_test_orig_mid['sofa_score'] < 0.7]\n",
    "\n",
    "# High SOFA - Score of above 15\n",
    "df_test_orig_high = df_test_orig[df_test_orig['sofa_score'] >= 0.7]"
   ]
  },
  {
   "cell_type": "code",
   "execution_count": 12,
   "id": "58c491d4",
   "metadata": {},
   "outputs": [],
   "source": [
    "# Now re-select the phys_actions and ddqn_actions based on the statified dataset\n",
    "ddqn_actions_low = df_test_orig_low['ddqn_actions'].values\n",
    "phys_actions_low = df_test_orig_low['phys_actions'].values\n",
    "\n",
    "ddqn_actions_mid = df_test_orig_mid['ddqn_actions'].values\n",
    "phys_actions_mid = df_test_orig_mid['phys_actions'].values\n",
    "\n",
    "ddqn_actions_high = df_test_orig_high['ddqn_actions'].values\n",
    "phys_actions_high = df_test_orig_high['phys_actions'].values"
   ]
  },
  {
   "cell_type": "code",
   "execution_count": 13,
   "id": "9216cc3d",
   "metadata": {},
   "outputs": [],
   "source": [
    "#Since only one action used, inverese action map should have only i\n",
    "inv_action_map = {}\n",
    "count = 0\n",
    "for i in range(5):\n",
    "    inv_action_map[count] = [i]\n",
    "    count += 1"
   ]
  },
  {
   "cell_type": "code",
   "execution_count": 14,
   "id": "430f2d2e",
   "metadata": {},
   "outputs": [],
   "source": [
    "phys_actions_low_tuple = [None for i in range(len(phys_actions_low))]\n",
    "ddqn_actions_low_tuple = [None for i in range(len(ddqn_actions_low))]\n",
    "\n",
    "phys_actions_mid_tuple = [None for i in range(len(phys_actions_mid))]\n",
    "ddqn_actions_mid_tuple = [None for i in range(len(ddqn_actions_mid))]\n",
    "\n",
    "phys_actions_high_tuple = [None for i in range(len(phys_actions_high))]\n",
    "ddqn_actions_high_tuple = [None for i in range(len(ddqn_actions_high))]\n",
    "\n",
    "for i in range(len(phys_actions_low)):\n",
    "    phys_actions_low_tuple[i] = inv_action_map[phys_actions_low[i]]\n",
    "    ddqn_actions_low_tuple[i] = inv_action_map[ddqn_actions_low[i]]\n",
    "\n",
    "for i in range(len(phys_actions_mid)):\n",
    "    phys_actions_mid_tuple[i] = inv_action_map[phys_actions_mid[i]]\n",
    "    ddqn_actions_mid_tuple[i] = inv_action_map[ddqn_actions_mid[i]]\n",
    "                                                  \n",
    "for i in range(len(phys_actions_high)):\n",
    "    phys_actions_high_tuple[i] = inv_action_map[phys_actions_high[i]]\n",
    "    ddqn_actions_high_tuple[i] = inv_action_map[ddqn_actions_high[i]]"
   ]
  },
  {
   "cell_type": "code",
   "execution_count": 15,
   "id": "fc7c6bf2",
   "metadata": {},
   "outputs": [],
   "source": [
    "phys_actions_low_tuple = np.array(phys_actions_low_tuple)\n",
    "ddqn_actions_low_tuple = np.array(ddqn_actions_low_tuple)\n",
    "\n",
    "phys_actions_mid_tuple = np.array(phys_actions_mid_tuple)\n",
    "ddqn_actions_mid_tuple = np.array(ddqn_actions_mid_tuple)\n",
    "\n",
    "phys_actions_high_tuple = np.array(phys_actions_high_tuple)\n",
    "ddqn_actions_high_tuple = np.array(ddqn_actions_high_tuple)"
   ]
  },
  {
   "cell_type": "code",
   "execution_count": 16,
   "id": "d49e10fa",
   "metadata": {},
   "outputs": [],
   "source": [
    "# Setting the values to be plotted into histogram function for SARSA physician\n",
    "\n",
    "phys_actions_low_vaso = phys_actions_low_tuple[:,0]\n",
    "hist_ph1, x_edges, y_edges = np.histogram2d(phys_actions_low_vaso, phys_actions_low_vaso, bins=5)\n",
    "\n",
    "phys_actions_mid_vaso = phys_actions_mid_tuple[:,0]\n",
    "hist_ph2, _, _ = np.histogram2d(phys_actions_mid_vaso, phys_actions_mid_vaso, bins=5)\n",
    "\n",
    "phys_actions_high_vaso = phys_actions_high_tuple[:,0]\n",
    "hist_ph3, _, _ = np.histogram2d(phys_actions_high_vaso, phys_actions_high_vaso, bins=5)"
   ]
  },
  {
   "cell_type": "code",
   "execution_count": 17,
   "id": "d267b94e",
   "metadata": {},
   "outputs": [],
   "source": [
    "# Setting the values to be plotted into histogram function for DDQN\n",
    "\n",
    "ddqn_actions_low_vaso = ddqn_actions_low_tuple[:,0]\n",
    "hist_ddqn1, _, _ = np.histogram2d(ddqn_actions_low_vaso, ddqn_actions_low_vaso, bins=5)\n",
    "\n",
    "ddqn_actions_mid_vaso = ddqn_actions_mid_tuple[:,0]\n",
    "hist_ddqn2, _, _ = np.histogram2d(ddqn_actions_mid_vaso, ddqn_actions_mid_vaso, bins=5)\n",
    "\n",
    "ddqn_actions_high_vaso = ddqn_actions_high_tuple[:,0]\n",
    "hist_ddqn3, _, _ = np.histogram2d(ddqn_actions_high_vaso, ddqn_actions_high_vaso, bins=5)"
   ]
  },
  {
   "cell_type": "code",
   "execution_count": 18,
   "id": "a694c5f1",
   "metadata": {},
   "outputs": [],
   "source": [
    "x_edges = np.arange(-0.5,5)\n",
    "y_edges = np.arange(-0.5,5)"
   ]
  },
  {
   "cell_type": "code",
   "execution_count": 19,
   "id": "b614d055",
   "metadata": {},
   "outputs": [
    {
     "data": {
      "image/png": "[encoded data removed]",
      "text/plain": [
       "<Figure size 1152x288 with 6 Axes>"
      ]
     },
     "metadata": {
      "needs_background": "light"
     },
     "output_type": "display_data"
    }
   ],
   "source": [
    "#Plot heatmap graphs on DDQN policy\n",
    "f, (ax1, ax2, ax3) = plt.subplots(1, 3, figsize=(16,4))\n",
    "ax1.imshow(np.flipud(hist_ddqn1), cmap=\"Blues\",extent=[x_edges[0], x_edges[-1],  y_edges[0],y_edges[-1]])\n",
    "ax2.imshow(np.flipud(hist_ddqn2), cmap=\"OrRd\", extent=[x_edges[0], x_edges[-1],  y_edges[0],y_edges[-1]])\n",
    "ax3.imshow(np.flipud(hist_ddqn3), cmap=\"Greens\", extent=[x_edges[0], x_edges[-1],  y_edges[0],y_edges[-1]])\n",
    "\n",
    "\n",
    "# ax1.grid(color='b', linestyle='-', linewidth=1)\n",
    "# ax2.grid(color='r', linestyle='-', linewidth=1)\n",
    "# ax3.grid(color='g', linestyle='-', linewidth=1)\n",
    "\n",
    "# Major ticks\n",
    "ax1.set_xticks(np.arange(0, 5, 1));\n",
    "ax1.set_yticks(np.arange(0, 5, 1));\n",
    "ax2.set_xticks(np.arange(0, 5, 1));\n",
    "ax2.set_yticks(np.arange(0, 5, 1));\n",
    "ax3.set_xticks(np.arange(0, 5, 1));\n",
    "ax3.set_yticks(np.arange(0, 5, 1));\n",
    "\n",
    "\n",
    "# Labels for major ticks\n",
    "ax1.set_xticklabels(np.arange(0, 5, 1));\n",
    "ax1.set_yticklabels(np.arange(0, 5, 1));\n",
    "ax2.set_xticklabels(np.arange(0, 5, 1));\n",
    "ax2.set_yticklabels(np.arange(0, 5, 1));\n",
    "ax3.set_xticklabels(np.arange(0, 5, 1));\n",
    "ax3.set_yticklabels(np.arange(0, 5, 1));\n",
    "\n",
    "\n",
    "# Minor ticks\n",
    "ax1.set_xticks(np.arange(-.5, 5, 1), minor=True);\n",
    "ax1.set_yticks(np.arange(-.5, 5, 1), minor=True);\n",
    "ax2.set_xticks(np.arange(-.5, 5, 1), minor=True);\n",
    "ax2.set_yticks(np.arange(-.5, 5, 1), minor=True);\n",
    "ax3.set_xticks(np.arange(-.5, 5, 1), minor=True);\n",
    "ax3.set_yticks(np.arange(-.5, 5, 1), minor=True);\n",
    "\n",
    "\n",
    "# Gridlines based on minor ticks\n",
    "ax1.grid(which='minor', color='b', linestyle='-', linewidth=1)\n",
    "ax2.grid(which='minor', color='r', linestyle='-', linewidth=1)\n",
    "ax3.grid(which='minor', color='g', linestyle='-', linewidth=1)\n",
    "\n",
    "\n",
    "im1 = ax1.pcolormesh(x_edges, y_edges, hist_ddqn1, cmap='Blues')\n",
    "f.colorbar(im1, ax=ax1, label = \"Action counts\")\n",
    "\n",
    "im2 = ax2.pcolormesh(x_edges, y_edges, hist_ddqn2, cmap='Greens')\n",
    "f.colorbar(im2, ax=ax2, label = \"Action counts\")\n",
    "\n",
    "im3 = ax3.pcolormesh(x_edges, y_edges, hist_ddqn3, cmap='OrRd')\n",
    "f.colorbar(im3, ax=ax3, label = \"Action counts\")\n",
    "\n",
    "\n",
    "ax1.set_ylabel('Vasopressor dose')\n",
    "ax2.set_ylabel('Vasopressor dose')\n",
    "ax3.set_ylabel('Vasopressor dose')\n",
    "ax1.set_xlabel('Vasopressor dose')\n",
    "ax2.set_xlabel('Vasopressor dose')\n",
    "ax3.set_xlabel('Vasopressor dose')\n",
    "\n",
    "\n",
    "ax1.set_title(\"Q-Network Low SOFA policy\")\n",
    "ax2.set_title(\"Q-Network Mid SOFA policy\")\n",
    "ax3.set_title(\"Q-Network High SOFA policy\")\n",
    "plt.tight_layout()"
   ]
  },
  {
   "cell_type": "code",
   "execution_count": 20,
   "id": "4e60cce8",
   "metadata": {},
   "outputs": [
    {
     "data": {
      "image/png": "[encoded data removed]",
      "text/plain": [
       "<Figure size 1152x288 with 6 Axes>"
      ]
     },
     "metadata": {
      "needs_background": "light"
     },
     "output_type": "display_data"
    }
   ],
   "source": [
    "#Plot heatmap graphs on SARSA Physician policy\n",
    "f, (ax1, ax2, ax3) = plt.subplots(1, 3, figsize=(16,4))\n",
    "ax1.imshow(np.flipud(hist_ph1), cmap=\"Blues\",extent=[x_edges[0], x_edges[-1],  y_edges[0],y_edges[-1]])\n",
    "ax2.imshow(np.flipud(hist_ph2), cmap=\"OrRd\", extent=[x_edges[0], x_edges[-1],  y_edges[0],y_edges[-1]])\n",
    "ax3.imshow(np.flipud(hist_ph3), cmap=\"Greens\", extent=[x_edges[0], x_edges[-1],  y_edges[0],y_edges[-1]])\n",
    "\n",
    "\n",
    "# ax1.grid(color='b', linestyle='-', linewidth=1)\n",
    "# ax2.grid(color='r', linestyle='-', linewidth=1)\n",
    "# ax3.grid(color='g', linestyle='-', linewidth=1)\n",
    "\n",
    "# Major ticks\n",
    "ax1.set_xticks(np.arange(0, 5, 1));\n",
    "ax1.set_yticks(np.arange(0, 5, 1));\n",
    "ax2.set_xticks(np.arange(0, 5, 1));\n",
    "ax2.set_yticks(np.arange(0, 5, 1));\n",
    "ax3.set_xticks(np.arange(0, 5, 1));\n",
    "ax3.set_yticks(np.arange(0, 5, 1));\n",
    "\n",
    "\n",
    "# Labels for major ticks\n",
    "ax1.set_xticklabels(np.arange(0, 5, 1));\n",
    "ax1.set_yticklabels(np.arange(0, 5, 1));\n",
    "ax2.set_xticklabels(np.arange(0, 5, 1));\n",
    "ax2.set_yticklabels(np.arange(0, 5, 1));\n",
    "ax3.set_xticklabels(np.arange(0, 5, 1));\n",
    "ax3.set_yticklabels(np.arange(0, 5, 1));\n",
    "\n",
    "\n",
    "# Minor ticks\n",
    "ax1.set_xticks(np.arange(-.5, 5, 1), minor=True);\n",
    "ax1.set_yticks(np.arange(-.5, 5, 1), minor=True);\n",
    "ax2.set_xticks(np.arange(-.5, 5, 1), minor=True);\n",
    "ax2.set_yticks(np.arange(-.5, 5, 1), minor=True);\n",
    "ax3.set_xticks(np.arange(-.5, 5, 1), minor=True);\n",
    "ax3.set_yticks(np.arange(-.5, 5, 1), minor=True);\n",
    "\n",
    "\n",
    "# Gridlines based on minor ticks\n",
    "ax1.grid(which='minor', color='b', linestyle='-', linewidth=1)\n",
    "ax2.grid(which='minor', color='r', linestyle='-', linewidth=1)\n",
    "ax3.grid(which='minor', color='g', linestyle='-', linewidth=1)\n",
    "\n",
    "\n",
    "im1 = ax1.pcolormesh(x_edges, y_edges, hist_ph1, cmap='Blues')\n",
    "f.colorbar(im1, ax=ax1, label = \"Action counts\")\n",
    "\n",
    "im2 = ax2.pcolormesh(x_edges, y_edges, hist_ph2, cmap='Greens')\n",
    "f.colorbar(im2, ax=ax2, label = \"Action counts\")\n",
    "\n",
    "im3 = ax3.pcolormesh(x_edges, y_edges, hist_ph3, cmap='OrRd')\n",
    "f.colorbar(im3, ax=ax3, label = \"Action counts\")\n",
    "\n",
    "\n",
    "ax1.set_ylabel('Vasopressor dose')\n",
    "ax2.set_ylabel('Vasopressor dose')\n",
    "ax3.set_ylabel('Vasopressor dose')\n",
    "ax1.set_xlabel('Vasopressor dose')\n",
    "ax2.set_xlabel('Vasopressor dose')\n",
    "ax3.set_xlabel('Vasopressor dose')\n",
    "\n",
    "\n",
    "ax1.set_title(\"SARSA Low SOFA policy\")\n",
    "ax2.set_title(\"SARSA Mid SOFA policy\")\n",
    "ax3.set_title(\"SARSA High SOFA policy\")\n",
    "plt.tight_layout()"
   ]
  },
  {
   "cell_type": "code",
   "execution_count": 21,
   "id": "db57ed37",
   "metadata": {},
   "outputs": [
    {
     "data": {
      "text/html": [
       "<div>\n",
       "<style scoped>\n",
       "    .dataframe tbody tr th:only-of-type {\n",
       "        vertical-align: middle;\n",
       "    }\n",
       "\n",
       "    .dataframe tbody tr th {\n",
       "        vertical-align: top;\n",
       "    }\n",
       "\n",
       "    .dataframe thead th {\n",
       "        text-align: right;\n",
       "    }\n",
       "</style>\n",
       "<table border=\"1\" class=\"dataframe\">\n",
       "  <thead>\n",
       "    <tr style=\"text-align: right;\">\n",
       "      <th></th>\n",
       "      <th>vaso_amount</th>\n",
       "    </tr>\n",
       "  </thead>\n",
       "  <tbody>\n",
       "    <tr>\n",
       "      <th>4</th>\n",
       "      <td>0.326336</td>\n",
       "    </tr>\n",
       "    <tr>\n",
       "      <th>5</th>\n",
       "      <td>0.326336</td>\n",
       "    </tr>\n",
       "    <tr>\n",
       "      <th>6</th>\n",
       "      <td>0.326336</td>\n",
       "    </tr>\n",
       "    <tr>\n",
       "      <th>7</th>\n",
       "      <td>0.326336</td>\n",
       "    </tr>\n",
       "    <tr>\n",
       "      <th>8</th>\n",
       "      <td>0.326336</td>\n",
       "    </tr>\n",
       "  </tbody>\n",
       "</table>\n",
       "</div>"
      ],
      "text/plain": [
       "   vaso_amount\n",
       "4     0.326336\n",
       "5     0.326336\n",
       "6     0.326336\n",
       "7     0.326336\n",
       "8     0.326336"
      ]
     },
     "execution_count": 21,
     "metadata": {},
     "output_type": "execute_result"
    }
   ],
   "source": [
    "interventions = df_train_orig[[\"vaso_amount\"]]\n",
    "interventions.head()"
   ]
  },
  {
   "cell_type": "code",
   "execution_count": 22,
   "id": "b487715c",
   "metadata": {},
   "outputs": [],
   "source": [
    "adjusted_vaso = interventions[\"vaso_amount\"][interventions[\"vaso_amount\"] >0]"
   ]
  },
  {
   "cell_type": "code",
   "execution_count": 23,
   "id": "2e60ee17",
   "metadata": {},
   "outputs": [],
   "source": [
    "vaso_vals = [0]\n",
    "vaso_vals.extend(adjusted_vaso.quantile([0.125,0.375,0.625,0.875]))"
   ]
  },
  {
   "cell_type": "code",
   "execution_count": 24,
   "id": "142717f0",
   "metadata": {},
   "outputs": [],
   "source": [
    "inv_action_map = {}\n",
    "count = 0\n",
    "for i in range(5):\n",
    "    for j in range(5):\n",
    "        inv_action_map[count] = [i,j]\n",
    "        count += 1"
   ]
  },
  {
   "cell_type": "code",
   "execution_count": 25,
   "id": "95345645",
   "metadata": {},
   "outputs": [],
   "source": [
    "def sliding_mean(data_array, window=1):\n",
    "    new_list = []\n",
    "    for i in range(len(data_array)):\n",
    "        indices = range(max(i - window + 1, 0),\n",
    "                        min(i + window + 1, len(data_array)))\n",
    "        avg = 0\n",
    "        for j in indices:\n",
    "            avg += data_array[j]\n",
    "        avg /= float(len(indices))\n",
    "        new_list.append(avg)     \n",
    "    return np.array(new_list)"
   ]
  },
  {
   "cell_type": "code",
   "execution_count": 26,
   "id": "3d88558e",
   "metadata": {},
   "outputs": [],
   "source": [
    "def make_df_diff(op_actions, df_in):\n",
    "    op_vaso_med = []\n",
    "    for action in op_actions:\n",
    "        vaso,vaso = inv_action_map[action]\n",
    "        op_vaso_med.append(vaso_vals[vaso])\n",
    "    vaso_diff = np.array(op_vaso_med) - np.array(df_in['vaso_amount'])\n",
    "    df_diff = pd.DataFrame()\n",
    "    df_diff['mort'] = np.array(df_in['died_in_hosp'])\n",
    "    df_diff['vaso_diff'] = vaso_diff\n",
    "    return df_diff"
   ]
  },
  {
   "cell_type": "code",
   "execution_count": 27,
   "id": "27966277",
   "metadata": {},
   "outputs": [],
   "source": [
    "from scipy.stats import sem\n",
    "def make_vaso_plot_data(df_diff):\n",
    "    bin_medians_vaso = []\n",
    "    mort_vaso= []\n",
    "    mort_std_vaso= []\n",
    "    i = -0.6\n",
    "    while i <= 0.6:\n",
    "        count =df_diff.loc[(df_diff['vaso_diff']>i-0.05) & (df_diff['vaso_diff']<i+0.05)]\n",
    "        try:\n",
    "            res = sum(count['mort'])/float(len(count))\n",
    "            if len(count) >=2:\n",
    "                bin_medians_vaso.append(i)\n",
    "                mort_vaso.append(res)\n",
    "                mort_std_vaso.append(sem(count['mort']))\n",
    "        except ZeroDivisionError:\n",
    "            pass\n",
    "        i += 0.1\n",
    "    return bin_medians_vaso, mort_vaso, mort_std_vaso"
   ]
  },
  {
   "cell_type": "code",
   "execution_count": 28,
   "id": "06f5a5b5",
   "metadata": {},
   "outputs": [],
   "source": [
    "df_diff_ddqn = make_df_diff(ddqn_actions, df_test_orig)\n",
    "df_diff_sarsa = make_df_diff(phys_actions, df_test_orig)"
   ]
  },
  {
   "cell_type": "code",
   "execution_count": 29,
   "id": "9dc9a8a8",
   "metadata": {},
   "outputs": [],
   "source": [
    "bin_med_vaso_ddqn, mort_vaso_ddqn, mort_std_vaso_ddqn = make_vaso_plot_data(df_diff_ddqn)\n",
    "bin_med_vaso_sarsa, mort_vaso_sarsa, mort_std_vaso_sarsa = make_vaso_plot_data(df_diff_sarsa)"
   ]
  },
  {
   "cell_type": "code",
   "execution_count": 30,
   "id": "a386a43a",
   "metadata": {},
   "outputs": [],
   "source": [
    "def diff_plot(med_vaso, mort_vaso, std_vaso, col, title):\n",
    "    f, ax1 = plt.subplots(1, 1, sharex='col', sharey='row', figsize = (8,4))\n",
    "    step = 2\n",
    "    if col == 'r':\n",
    "        fillcol = 'lightsalmon'\n",
    "    elif col == 'g':\n",
    "        fillcol = 'palegreen'\n",
    "        step = 1\n",
    "    elif col == 'b':\n",
    "        fillcol = 'lightblue'\n",
    "    ax1.plot(med_vaso, sliding_mean(mort_vaso), color=col)\n",
    "    ax1.fill_between(med_vaso, sliding_mean(mort_vaso) - 1*std_vaso,  \n",
    "                     sliding_mean(mort_vaso) + 1*std_vaso, color=fillcol)\n",
    "    t = title\n",
    "    ax1.set_title(t)\n",
    "    x_r = [i/10.0 for i in range(-6,8,2)]\n",
    "\n",
    "    y_r = [i/20.0 for i in range(0,20,step)]\n",
    "    ax1.set_xticks(x_r)\n",
    "    ax1.set_yticks(y_r)\n",
    "    ax1.grid()\n",
    "\n",
    "    f.text(0.5, -0.03, 'Difference between optimal and physician vasopressor dose', ha='center', fontsize=10)\n",
    "    f.text(0.05, 0.5, 'Observed Mortality', va='center', rotation='vertical', fontsize = 10)"
   ]
  },
  {
   "cell_type": "code",
   "execution_count": 31,
   "id": "5436279a",
   "metadata": {},
   "outputs": [
    {
     "data": {
      "image/png": "[encoded data removed]",
      "text/plain": [
       "<Figure size 576x288 with 1 Axes>"
      ]
     },
     "metadata": {
      "needs_background": "light"
     },
     "output_type": "display_data"
    }
   ],
   "source": [
    "diff_plot(bin_med_vaso_ddqn, mort_vaso_ddqn, mort_std_vaso_ddqn, 'g', 'DDQN')"
   ]
  },
  {
   "cell_type": "code",
   "execution_count": 32,
   "id": "92aef5a0",
   "metadata": {},
   "outputs": [
    {
     "data": {
      "image/png": "[encoded data removed]",
      "text/plain": [
       "<Figure size 576x288 with 1 Axes>"
      ]
     },
     "metadata": {
      "needs_background": "light"
     },
     "output_type": "display_data"
    }
   ],
   "source": [
    "diff_plot(bin_med_vaso_sarsa, mort_vaso_sarsa, mort_std_vaso_sarsa, 'b', 'SARSA')"
   ]
  },
  {
   "cell_type": "code",
   "execution_count": null,
   "id": "a360d6d2",
   "metadata": {},
   "outputs": [],
   "source": []
  }
 ],
 "metadata": {
  "kernelspec": {
   "display_name": "Python 3 (ipykernel)",
   "language": "python",
   "name": "python3"
  },
  "language_info": {
   "codemirror_mode": {
    "name": "ipython",
    "version": 3
   },
   "file_extension": ".py",
   "mimetype": "text/x-python",
   "name": "python",
   "nbconvert_exporter": "python",
   "pygments_lexer": "ipython3",
   "version": "3.9.7"
  }
 },
 "nbformat": 4,
 "nbformat_minor": 5
}
