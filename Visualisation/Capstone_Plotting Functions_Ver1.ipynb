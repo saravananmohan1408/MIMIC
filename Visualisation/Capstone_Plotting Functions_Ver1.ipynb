{
 "cells": [
  {
   "cell_type": "code",
   "execution_count": 1,
   "id": "1f2dbe65",
   "metadata": {},
   "outputs": [],
   "source": [
    "# This is meant to be a combined notebook that will plot all the needed graphs for comparison"
   ]
  },
  {
   "cell_type": "code",
   "execution_count": 2,
   "id": "186c9372",
   "metadata": {},
   "outputs": [],
   "source": [
    "%matplotlib inline\n",
    "import pandas as pd\n",
    "import numpy as np\n",
    "try:\n",
    "    import cPickle as pickle\n",
    "except ImportError:\n",
    "    import _pickle as pickle\n",
    "import matplotlib.pyplot as plt"
   ]
  },
  {
   "cell_type": "code",
   "execution_count": 3,
   "id": "4f897cca",
   "metadata": {},
   "outputs": [],
   "source": [
    "# If plotting graphs for non-continual setting then use 'Final2' dataset.\n",
    "# If plotting graphs for continual setting then use either 'rl_below65_scaled' or 'rl_above65_scaled'\n",
    "df_orig = pd.read_csv('C:\\\\Users\\\\sara1\\\\Desktop\\\\Workingdata\\\\rl_below65_scaled.csv')"
   ]
  },
  {
   "cell_type": "code",
   "execution_count": 4,
   "id": "05fcb224",
   "metadata": {},
   "outputs": [],
   "source": [
    "# Either 'rl_train_below65' or 'rl_train_above65'\n",
    "df_train = pd.read_csv('C:\\\\Users\\\\sara1\\\\Desktop\\\\Workingdata\\\\rl_train_below65.csv')"
   ]
  },
  {
   "cell_type": "code",
   "execution_count": 5,
   "id": "a3176e4d",
   "metadata": {},
   "outputs": [],
   "source": [
    "# Either 'rl_test_below65' or 'rl_test_above65'\n",
    "df_test = pd.read_csv('C:\\\\Users\\\\sara1\\\\Desktop\\\\Workingdata\\\\rl_test_below65.csv')"
   ]
  },
  {
   "cell_type": "code",
   "execution_count": 16,
   "id": "1e93b835",
   "metadata": {},
   "outputs": [],
   "source": [
    "df_train_orig = df_orig[df_orig['stay_id'].isin(df_train['stay_id'].unique())]"
   ]
  },
  {
   "cell_type": "code",
   "execution_count": 17,
   "id": "d38b85e4",
   "metadata": {},
   "outputs": [],
   "source": [
    "df_test_orig = df_orig[df_orig['stay_id'].isin(df_test['stay_id'].unique())]"
   ]
  },
  {
   "cell_type": "code",
   "execution_count": 20,
   "id": "820ad24a",
   "metadata": {},
   "outputs": [],
   "source": [
    "# Actions from the model that was trained\n",
    "# Copy multiple if need to compare multiple models together\n",
    "\n",
    "phys_actions = pickle.load(open( \"C:\\\\Users\\\\sara1\\\\Desktop\\\\Results\\\\SARSA_continual_below65\\\\phys_actions_test.p\", \"rb\" ))\n",
    "ddqn_actions = pickle.load(open( \"C:\\\\Users\\\\sara1\\\\Desktop\\\\Results\\\\Ddqn_continual_below65\\\\dqn_normal_actions_test.p\", \"rb\" ))"
   ]
  },
  {
   "cell_type": "code",
   "execution_count": 11,
   "id": "f7ae2371",
   "metadata": {},
   "outputs": [
    {
     "data": {
      "image/png": "[encoded data removed]",
      "text/plain": [
       "<Figure size 576x288 with 1 Axes>"
      ]
     },
     "metadata": {
      "needs_background": "light"
     },
     "output_type": "display_data"
    }
   ],
   "source": [
    "fig, ax = plt.subplots(figsize=(8, 4))\n",
    "\n",
    "# Plot the histograms\n",
    "ax.hist(phys_actions, bins=50, color='r', label=\"SARSA Physician Actions\")\n",
    "ax.hist(ddqn_actions, bins=50, color='g', label=\"DDQ-Network Actions\")\n",
    "\n",
    "# Set titles and labels\n",
    "ax.set_title(\"Histograms of Actions\", fontsize=10)\n",
    "ax.set_xlabel(\"Action number\", fontsize=15)\n",
    "ax.set_ylabel(\"Frequency\", fontsize=15)\n",
    "\n",
    "# Add a legend\n",
    "ax.legend()\n",
    "\n",
    "# Adjust spacing\n",
    "plt.tight_layout()\n",
    "\n",
    "# Show the plot\n",
    "plt.show()"
   ]
  },
  {
   "cell_type": "code",
   "execution_count": 22,
   "id": "44b9ce56",
   "metadata": {},
   "outputs": [
    {
     "name": "stderr",
     "output_type": "stream",
     "text": [
      "C:\\Users\\sara1\\AppData\\Local\\Temp/ipykernel_1332/1995398100.py:2: SettingWithCopyWarning: \n",
      "A value is trying to be set on a copy of a slice from a DataFrame.\n",
      "Try using .loc[row_indexer,col_indexer] = value instead\n",
      "\n",
      "See the caveats in the documentation: https://pandas.pydata.org/pandas-docs/stable/user_guide/indexing.html#returning-a-view-versus-a-copy\n",
      "  df_test_orig['ddqn_actions'] = ddqn_actions\n",
      "C:\\Users\\sara1\\AppData\\Local\\Temp/ipykernel_1332/1995398100.py:3: SettingWithCopyWarning: \n",
      "A value is trying to be set on a copy of a slice from a DataFrame.\n",
      "Try using .loc[row_indexer,col_indexer] = value instead\n",
      "\n",
      "See the caveats in the documentation: https://pandas.pydata.org/pandas-docs/stable/user_guide/indexing.html#returning-a-view-versus-a-copy\n",
      "  df_test_orig['phys_actions'] = phys_actions\n"
     ]
    }
   ],
   "source": [
    "# Add in the actions selected to the df_test_orig dataframe. This helps with the stratified analysis afterwards\n",
    "df_test_orig['ddqn_actions'] = ddqn_actions\n",
    "df_test_orig['phys_actions'] = phys_actions"
   ]
  },
  {
   "cell_type": "code",
   "execution_count": 58,
   "id": "729323ac",
   "metadata": {},
   "outputs": [],
   "source": [
    "# Perform stratification based on low, medium and high SOFA score levels as decided in the project scope\n",
    "\n",
    "# Low SOFA - Score of below 5\n",
    "df_test_orig_low = df_test_orig[df_test_orig['sofa_score'] <= 0.3]\n",
    "\n",
    "# Middling SOFA - Score of between 5 to 15\n",
    "df_test_orig_mid = df_test_orig[df_test_orig['sofa_score'] > 0.3]\n",
    "df_test_orig_mid = df_test_orig_mid[df_test_orig_mid['sofa_score'] < 0.7]\n",
    "\n",
    "# High SOFA - Score of above 15\n",
    "df_test_orig_high = df_test_orig[df_test_orig['sofa_score'] >= 0.7]"
   ]
  },
  {
   "cell_type": "code",
   "execution_count": 59,
   "id": "58c491d4",
   "metadata": {},
   "outputs": [],
   "source": [
    "# Now re-select the phys_actions and ddqn_actions based on the statified dataset\n",
    "ddqn_actions_low = df_test_orig_low['ddqn_actions'].values\n",
    "phys_actions_low = df_test_orig_low['phys_actions'].values\n",
    "\n",
    "ddqn_actions_mid = df_test_orig_mid['ddqn_actions'].values\n",
    "phys_actions_mid = df_test_orig_mid['phys_actions'].values\n",
    "\n",
    "ddqn_actions_high = df_test_orig_high['ddqn_actions'].values\n",
    "phys_actions_high = df_test_orig_high['phys_actions'].values"
   ]
  },
  {
   "cell_type": "code",
   "execution_count": 60,
   "id": "9216cc3d",
   "metadata": {},
   "outputs": [],
   "source": [
    "#Since only one action used, inverese action map should have only i\n",
    "inv_action_map = {}\n",
    "count = 0\n",
    "for i in range(5):\n",
    "    inv_action_map[count] = [i]\n",
    "    count += 1"
   ]
  },
  {
   "cell_type": "code",
   "execution_count": 61,
   "id": "430f2d2e",
   "metadata": {},
   "outputs": [],
   "source": [
    "phys_actions_low_tuple = [None for i in range(len(phys_actions_low))]\n",
    "ddqn_actions_low_tuple = [None for i in range(len(ddqn_actions_low))]\n",
    "\n",
    "phys_actions_mid_tuple = [None for i in range(len(phys_actions_mid))]\n",
    "ddqn_actions_mid_tuple = [None for i in range(len(ddqn_actions_mid))]\n",
    "\n",
    "phys_actions_high_tuple = [None for i in range(len(phys_actions_high))]\n",
    "ddqn_actions_high_tuple = [None for i in range(len(ddqn_actions_high))]\n",
    "\n",
    "for i in range(len(phys_actions_low)):\n",
    "    phys_actions_low_tuple[i] = inv_action_map[phys_actions_low[i]]\n",
    "    ddqn_actions_low_tuple[i] = inv_action_map[ddqn_actions_low[i]]\n",
    "\n",
    "for i in range(len(phys_actions_mid)):\n",
    "    phys_actions_mid_tuple[i] = inv_action_map[phys_actions_mid[i]]\n",
    "    ddqn_actions_mid_tuple[i] = inv_action_map[ddqn_actions_mid[i]]\n",
    "                                                  \n",
    "for i in range(len(phys_actions_high)):\n",
    "    phys_actions_high_tuple[i] = inv_action_map[phys_actions_high[i]]\n",
    "    ddqn_actions_high_tuple[i] = inv_action_map[ddqn_actions_high[i]]"
   ]
  },
  {
   "cell_type": "code",
   "execution_count": 62,
   "id": "fc7c6bf2",
   "metadata": {},
   "outputs": [],
   "source": [
    "phys_actions_low_tuple = np.array(phys_actions_low_tuple)\n",
    "ddqn_actions_low_tuple = np.array(ddqn_actions_low_tuple)\n",
    "\n",
    "phys_actions_mid_tuple = np.array(phys_actions_mid_tuple)\n",
    "ddqn_actions_mid_tuple = np.array(ddqn_actions_mid_tuple)\n",
    "\n",
    "phys_actions_high_tuple = np.array(phys_actions_high_tuple)\n",
    "ddqn_actions_high_tuple = np.array(ddqn_actions_high_tuple)"
   ]
  },
  {
   "cell_type": "code",
   "execution_count": 63,
   "id": "d49e10fa",
   "metadata": {},
   "outputs": [],
   "source": [
    "# Setting the values to be plotted into histogram function for SARSA physician\n",
    "\n",
    "phys_actions_low_vaso = phys_actions_low_tuple[:,0]\n",
    "hist_ph1, x_edges, y_edges = np.histogram2d(phys_actions_low_vaso, phys_actions_low_vaso, bins=5)\n",
    "\n",
    "phys_actions_mid_vaso = phys_actions_mid_tuple[:,0]\n",
    "hist_ph2, _, _ = np.histogram2d(phys_actions_mid_vaso, phys_actions_mid_vaso, bins=5)\n",
    "\n",
    "phys_actions_high_vaso = phys_actions_high_tuple[:,0]\n",
    "hist_ph3, _, _ = np.histogram2d(phys_actions_high_vaso, phys_actions_high_vaso, bins=5)"
   ]
  },
  {
   "cell_type": "code",
   "execution_count": 64,
   "id": "d267b94e",
   "metadata": {},
   "outputs": [],
   "source": [
    "# Setting the values to be plotted into histogram function for DDQN\n",
    "\n",
    "ddqn_actions_low_vaso = ddqn_actions_low_tuple[:,0]\n",
    "hist_ddqn1, _, _ = np.histogram2d(ddqn_actions_low_vaso, ddqn_actions_low_vaso, bins=5)\n",
    "\n",
    "ddqn_actions_mid_vaso = ddqn_actions_mid_tuple[:,0]\n",
    "hist_ddqn2, _, _ = np.histogram2d(ddqn_actions_mid_vaso, ddqn_actions_mid_vaso, bins=5)\n",
    "\n",
    "ddqn_actions_high_vaso = ddqn_actions_high_tuple[:,0]\n",
    "hist_ddqn3, _, _ = np.histogram2d(ddqn_actions_high_vaso, ddqn_actions_high_vaso, bins=5)"
   ]
  },
  {
   "cell_type": "code",
   "execution_count": 65,
   "id": "a694c5f1",
   "metadata": {},
   "outputs": [],
   "source": [
    "x_edges = np.arange(-0.5,5)\n",
    "y_edges = np.arange(-0.5,5)"
   ]
  },
  {
   "cell_type": "code",
   "execution_count": 66,
   "id": "b614d055",
   "metadata": {},
   "outputs": [
    {
     "data": {
      "image/png": "[encoded data removed]",
      "text/plain": [
       "<Figure size 1152x288 with 6 Axes>"
      ]
     },
     "metadata": {
      "needs_background": "light"
     },
     "output_type": "display_data"
    }
   ],
   "source": [
    "#Plot heatmap graphs on DDQN policy\n",
    "f, (ax1, ax2, ax3) = plt.subplots(1, 3, figsize=(16,4))\n",
    "ax1.imshow(np.flipud(hist_ddqn1), cmap=\"Blues\",extent=[x_edges[0], x_edges[-1],  y_edges[0],y_edges[-1]])\n",
    "ax2.imshow(np.flipud(hist_ddqn2), cmap=\"OrRd\", extent=[x_edges[0], x_edges[-1],  y_edges[0],y_edges[-1]])\n",
    "ax3.imshow(np.flipud(hist_ddqn3), cmap=\"Greens\", extent=[x_edges[0], x_edges[-1],  y_edges[0],y_edges[-1]])\n",
    "\n",
    "\n",
    "# ax1.grid(color='b', linestyle='-', linewidth=1)\n",
    "# ax2.grid(color='r', linestyle='-', linewidth=1)\n",
    "# ax3.grid(color='g', linestyle='-', linewidth=1)\n",
    "\n",
    "# Major ticks\n",
    "ax1.set_xticks(np.arange(0, 5, 1));\n",
    "ax1.set_yticks(np.arange(0, 5, 1));\n",
    "ax2.set_xticks(np.arange(0, 5, 1));\n",
    "ax2.set_yticks(np.arange(0, 5, 1));\n",
    "ax3.set_xticks(np.arange(0, 5, 1));\n",
    "ax3.set_yticks(np.arange(0, 5, 1));\n",
    "\n",
    "\n",
    "# Labels for major ticks\n",
    "ax1.set_xticklabels(np.arange(0, 5, 1));\n",
    "ax1.set_yticklabels(np.arange(0, 5, 1));\n",
    "ax2.set_xticklabels(np.arange(0, 5, 1));\n",
    "ax2.set_yticklabels(np.arange(0, 5, 1));\n",
    "ax3.set_xticklabels(np.arange(0, 5, 1));\n",
    "ax3.set_yticklabels(np.arange(0, 5, 1));\n",
    "\n",
    "\n",
    "# Minor ticks\n",
    "ax1.set_xticks(np.arange(-.5, 5, 1), minor=True);\n",
    "ax1.set_yticks(np.arange(-.5, 5, 1), minor=True);\n",
    "ax2.set_xticks(np.arange(-.5, 5, 1), minor=True);\n",
    "ax2.set_yticks(np.arange(-.5, 5, 1), minor=True);\n",
    "ax3.set_xticks(np.arange(-.5, 5, 1), minor=True);\n",
    "ax3.set_yticks(np.arange(-.5, 5, 1), minor=True);\n",
    "\n",
    "\n",
    "# Gridlines based on minor ticks\n",
    "ax1.grid(which='minor', color='b', linestyle='-', linewidth=1)\n",
    "ax2.grid(which='minor', color='r', linestyle='-', linewidth=1)\n",
    "ax3.grid(which='minor', color='g', linestyle='-', linewidth=1)\n",
    "\n",
    "\n",
    "im1 = ax1.pcolormesh(x_edges, y_edges, hist_ddqn1, cmap='Blues')\n",
    "f.colorbar(im1, ax=ax1, label = \"Action counts\")\n",
    "\n",
    "im2 = ax2.pcolormesh(x_edges, y_edges, hist_ddqn2, cmap='Greens')\n",
    "f.colorbar(im2, ax=ax2, label = \"Action counts\")\n",
    "\n",
    "im3 = ax3.pcolormesh(x_edges, y_edges, hist_ddqn3, cmap='OrRd')\n",
    "f.colorbar(im3, ax=ax3, label = \"Action counts\")\n",
    "\n",
    "\n",
    "ax1.set_ylabel('Vasopressor dose')\n",
    "ax2.set_ylabel('Vasopressor dose')\n",
    "ax3.set_ylabel('Vasopressor dose')\n",
    "ax1.set_xlabel('Vasopressor dose')\n",
    "ax2.set_xlabel('Vasopressor dose')\n",
    "ax3.set_xlabel('Vasopressor dose')\n",
    "\n",
    "\n",
    "ax1.set_title(\"Q-Network Low SOFA policy\")\n",
    "ax2.set_title(\"Q-Network Mid SOFA policy\")\n",
    "ax3.set_title(\"Q-Network High SOFA policy\")\n",
    "plt.tight_layout()"
   ]
  },
  {
   "cell_type": "code",
   "execution_count": 67,
   "id": "4e60cce8",
   "metadata": {},
   "outputs": [
    {
     "data": {
      "image/png": "[encoded data removed]",
      "text/plain": [
       "<Figure size 1152x288 with 6 Axes>"
      ]
     },
     "metadata": {
      "needs_background": "light"
     },
     "output_type": "display_data"
    }
   ],
   "source": [
    "#Plot heatmap graphs on SARSA Physician policy\n",
    "f, (ax1, ax2, ax3) = plt.subplots(1, 3, figsize=(16,4))\n",
    "ax1.imshow(np.flipud(hist_ph1), cmap=\"Blues\",extent=[x_edges[0], x_edges[-1],  y_edges[0],y_edges[-1]])\n",
    "ax2.imshow(np.flipud(hist_ph2), cmap=\"OrRd\", extent=[x_edges[0], x_edges[-1],  y_edges[0],y_edges[-1]])\n",
    "ax3.imshow(np.flipud(hist_ph3), cmap=\"Greens\", extent=[x_edges[0], x_edges[-1],  y_edges[0],y_edges[-1]])\n",
    "\n",
    "\n",
    "# ax1.grid(color='b', linestyle='-', linewidth=1)\n",
    "# ax2.grid(color='r', linestyle='-', linewidth=1)\n",
    "# ax3.grid(color='g', linestyle='-', linewidth=1)\n",
    "\n",
    "# Major ticks\n",
    "ax1.set_xticks(np.arange(0, 5, 1));\n",
    "ax1.set_yticks(np.arange(0, 5, 1));\n",
    "ax2.set_xticks(np.arange(0, 5, 1));\n",
    "ax2.set_yticks(np.arange(0, 5, 1));\n",
    "ax3.set_xticks(np.arange(0, 5, 1));\n",
    "ax3.set_yticks(np.arange(0, 5, 1));\n",
    "\n",
    "\n",
    "# Labels for major ticks\n",
    "ax1.set_xticklabels(np.arange(0, 5, 1));\n",
    "ax1.set_yticklabels(np.arange(0, 5, 1));\n",
    "ax2.set_xticklabels(np.arange(0, 5, 1));\n",
    "ax2.set_yticklabels(np.arange(0, 5, 1));\n",
    "ax3.set_xticklabels(np.arange(0, 5, 1));\n",
    "ax3.set_yticklabels(np.arange(0, 5, 1));\n",
    "\n",
    "\n",
    "# Minor ticks\n",
    "ax1.set_xticks(np.arange(-.5, 5, 1), minor=True);\n",
    "ax1.set_yticks(np.arange(-.5, 5, 1), minor=True);\n",
    "ax2.set_xticks(np.arange(-.5, 5, 1), minor=True);\n",
    "ax2.set_yticks(np.arange(-.5, 5, 1), minor=True);\n",
    "ax3.set_xticks(np.arange(-.5, 5, 1), minor=True);\n",
    "ax3.set_yticks(np.arange(-.5, 5, 1), minor=True);\n",
    "\n",
    "\n",
    "# Gridlines based on minor ticks\n",
    "ax1.grid(which='minor', color='b', linestyle='-', linewidth=1)\n",
    "ax2.grid(which='minor', color='r', linestyle='-', linewidth=1)\n",
    "ax3.grid(which='minor', color='g', linestyle='-', linewidth=1)\n",
    "\n",
    "\n",
    "im1 = ax1.pcolormesh(x_edges, y_edges, hist_ph1, cmap='Blues')\n",
    "f.colorbar(im1, ax=ax1, label = \"Action counts\")\n",
    "\n",
    "im2 = ax2.pcolormesh(x_edges, y_edges, hist_ph2, cmap='Greens')\n",
    "f.colorbar(im2, ax=ax2, label = \"Action counts\")\n",
    "\n",
    "im3 = ax3.pcolormesh(x_edges, y_edges, hist_ph3, cmap='OrRd')\n",
    "f.colorbar(im3, ax=ax3, label = \"Action counts\")\n",
    "\n",
    "\n",
    "ax1.set_ylabel('Vasopressor dose')\n",
    "ax2.set_ylabel('Vasopressor dose')\n",
    "ax3.set_ylabel('Vasopressor dose')\n",
    "ax1.set_xlabel('Vasopressor dose')\n",
    "ax2.set_xlabel('Vasopressor dose')\n",
    "ax3.set_xlabel('Vasopressor dose')\n",
    "\n",
    "\n",
    "ax1.set_title(\"Physician Low SOFA policy\")\n",
    "ax2.set_title(\"Physician Mid SOFA policy\")\n",
    "ax3.set_title(\"Physician High SOFA policy\")\n",
    "plt.tight_layout()"
   ]
  }
 ],
 "metadata": {
  "kernelspec": {
   "display_name": "Python 3 (ipykernel)",
   "language": "python",
   "name": "python3"
  },
  "language_info": {
   "codemirror_mode": {
    "name": "ipython",
    "version": 3
   },
   "file_extension": ".py",
   "mimetype": "text/x-python",
   "name": "python",
   "nbconvert_exporter": "python",
   "pygments_lexer": "ipython3",
   "version": "3.9.7"
  }
 },
 "nbformat": 4,
 "nbformat_minor": 5
}
