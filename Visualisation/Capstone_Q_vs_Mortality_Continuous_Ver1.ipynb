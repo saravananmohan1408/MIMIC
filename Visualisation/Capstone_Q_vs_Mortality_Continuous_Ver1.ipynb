{
 "cells": [
  {
   "cell_type": "code",
   "execution_count": 1,
   "metadata": {
    "colab": {
     "base_uri": "https://localhost:8080/"
    },
    "executionInfo": {
     "elapsed": 17614,
     "status": "ok",
     "timestamp": 1683880360644,
     "user": {
      "displayName": "Saravanan Mohan",
      "userId": "07953971426601696695"
     },
     "user_tz": -480
    },
    "id": "W5_ltocYFtdl",
    "outputId": "669277ae-51db-40fa-9be5-1a46299eeac1"
   },
   "outputs": [
    {
     "name": "stdout",
     "output_type": "stream",
     "text": [
      "Mounted at /content/drive\n"
     ]
    }
   ],
   "source": [
    "#from google.colab import drive\n",
    "#drive.mount('/content/drive')"
   ]
  },
  {
   "cell_type": "code",
   "execution_count": 1,
   "metadata": {
    "id": "TgXon37kFrfS"
   },
   "outputs": [],
   "source": [
    "#  Generate a function of q value vs mortality on the test set, including a graph, from the continuous model"
   ]
  },
  {
   "cell_type": "code",
   "execution_count": 2,
   "metadata": {
    "id": "M5HlCwDVFx6f"
   },
   "outputs": [],
   "source": [
    "%matplotlib inline\n",
    "import numpy as np\n",
    "import pandas as pd\n",
    "try:\n",
    "    import cPickle as pickle\n",
    "except ImportError:\n",
    "    import _pickle as pickle\n",
    "from pandas import DataFrame\n",
    "import matplotlib.pyplot as plt\n",
    "train_orig = pd.read_csv('C:\\\\Users\\\\sara1\\\\Desktop\\\\Workingdata\\\\rl_train_data_final_cont.csv')"
   ]
  },
  {
   "cell_type": "code",
   "execution_count": 3,
   "metadata": {
    "id": "9NJTPo9OFx4G"
   },
   "outputs": [],
   "source": [
    "test_data = pd.read_csv(\"C:\\\\Users\\\\sara1\\\\Desktop\\\\Workingdata\\\\rl_test_data_final_cont.csv\")\n",
    "q_vals_path = 'C:\\\\Users\\\\sara1\\\\Desktop\\\\Results\\\\SARSA_continous_noterm\\\\phys_q_test.p'\n",
    "q_vals_test = pickle.load(open( q_vals_path, \"rb\" ))"
   ]
  },
  {
   "cell_type": "code",
   "execution_count": 4,
   "metadata": {
    "id": "FeWRrHubFx1c"
   },
   "outputs": [
    {
     "data": {
      "text/html": [
       "<div>\n",
       "<style scoped>\n",
       "    .dataframe tbody tr th:only-of-type {\n",
       "        vertical-align: middle;\n",
       "    }\n",
       "\n",
       "    .dataframe tbody tr th {\n",
       "        vertical-align: top;\n",
       "    }\n",
       "\n",
       "    .dataframe thead th {\n",
       "        text-align: right;\n",
       "    }\n",
       "</style>\n",
       "<table border=\"1\" class=\"dataframe\">\n",
       "  <thead>\n",
       "    <tr style=\"text-align: right;\">\n",
       "      <th></th>\n",
       "      <th>stay_id</th>\n",
       "      <th>sofa_score</th>\n",
       "      <th>sirs</th>\n",
       "      <th>age</th>\n",
       "      <th>weight</th>\n",
       "      <th>gender</th>\n",
       "      <th>gcs</th>\n",
       "      <th>sofa_24hours</th>\n",
       "      <th>bilirubin_total</th>\n",
       "      <th>bicarbonate</th>\n",
       "      <th>...</th>\n",
       "      <th>creatinine</th>\n",
       "      <th>heart_rate</th>\n",
       "      <th>temperature</th>\n",
       "      <th>spo2</th>\n",
       "      <th>vaso_rate</th>\n",
       "      <th>vaso_amount</th>\n",
       "      <th>urineoutput</th>\n",
       "      <th>died_in_hosp</th>\n",
       "      <th>vaso_input</th>\n",
       "      <th>reward</th>\n",
       "    </tr>\n",
       "  </thead>\n",
       "  <tbody>\n",
       "    <tr>\n",
       "      <th>0</th>\n",
       "      <td>30223578</td>\n",
       "      <td>0.0</td>\n",
       "      <td>0.75</td>\n",
       "      <td>0.886076</td>\n",
       "      <td>0.136949</td>\n",
       "      <td>1.0</td>\n",
       "      <td>0.0</td>\n",
       "      <td>0.000000</td>\n",
       "      <td>0.514568</td>\n",
       "      <td>0.3125</td>\n",
       "      <td>...</td>\n",
       "      <td>0.548997</td>\n",
       "      <td>0.486842</td>\n",
       "      <td>0.605949</td>\n",
       "      <td>0.974913</td>\n",
       "      <td>0.359217</td>\n",
       "      <td>0.843146</td>\n",
       "      <td>0.0</td>\n",
       "      <td>1</td>\n",
       "      <td>4.0</td>\n",
       "      <td>-0.025</td>\n",
       "    </tr>\n",
       "    <tr>\n",
       "      <th>1</th>\n",
       "      <td>30223578</td>\n",
       "      <td>0.0</td>\n",
       "      <td>0.75</td>\n",
       "      <td>0.886076</td>\n",
       "      <td>0.136949</td>\n",
       "      <td>1.0</td>\n",
       "      <td>0.0</td>\n",
       "      <td>0.086957</td>\n",
       "      <td>0.514568</td>\n",
       "      <td>0.3125</td>\n",
       "      <td>...</td>\n",
       "      <td>0.548997</td>\n",
       "      <td>0.486842</td>\n",
       "      <td>0.605949</td>\n",
       "      <td>0.974913</td>\n",
       "      <td>0.359217</td>\n",
       "      <td>0.843146</td>\n",
       "      <td>0.0</td>\n",
       "      <td>1</td>\n",
       "      <td>4.0</td>\n",
       "      <td>0.625</td>\n",
       "    </tr>\n",
       "    <tr>\n",
       "      <th>2</th>\n",
       "      <td>30223578</td>\n",
       "      <td>0.0</td>\n",
       "      <td>0.75</td>\n",
       "      <td>0.886076</td>\n",
       "      <td>0.136949</td>\n",
       "      <td>1.0</td>\n",
       "      <td>0.0</td>\n",
       "      <td>0.130435</td>\n",
       "      <td>0.514568</td>\n",
       "      <td>0.0000</td>\n",
       "      <td>...</td>\n",
       "      <td>0.548997</td>\n",
       "      <td>0.486842</td>\n",
       "      <td>0.605949</td>\n",
       "      <td>0.974913</td>\n",
       "      <td>0.359217</td>\n",
       "      <td>0.843146</td>\n",
       "      <td>0.0</td>\n",
       "      <td>1</td>\n",
       "      <td>4.0</td>\n",
       "      <td>-0.025</td>\n",
       "    </tr>\n",
       "    <tr>\n",
       "      <th>3</th>\n",
       "      <td>30223578</td>\n",
       "      <td>0.0</td>\n",
       "      <td>0.75</td>\n",
       "      <td>0.886076</td>\n",
       "      <td>0.136949</td>\n",
       "      <td>1.0</td>\n",
       "      <td>0.0</td>\n",
       "      <td>0.217391</td>\n",
       "      <td>0.514568</td>\n",
       "      <td>0.3750</td>\n",
       "      <td>...</td>\n",
       "      <td>0.548997</td>\n",
       "      <td>0.486842</td>\n",
       "      <td>0.605949</td>\n",
       "      <td>0.974913</td>\n",
       "      <td>0.359217</td>\n",
       "      <td>0.843146</td>\n",
       "      <td>0.0</td>\n",
       "      <td>1</td>\n",
       "      <td>4.0</td>\n",
       "      <td>-0.025</td>\n",
       "    </tr>\n",
       "    <tr>\n",
       "      <th>4</th>\n",
       "      <td>30223578</td>\n",
       "      <td>0.0</td>\n",
       "      <td>0.75</td>\n",
       "      <td>0.886076</td>\n",
       "      <td>0.136949</td>\n",
       "      <td>1.0</td>\n",
       "      <td>0.0</td>\n",
       "      <td>0.260870</td>\n",
       "      <td>0.514568</td>\n",
       "      <td>0.0625</td>\n",
       "      <td>...</td>\n",
       "      <td>0.548997</td>\n",
       "      <td>0.486842</td>\n",
       "      <td>0.605949</td>\n",
       "      <td>0.974913</td>\n",
       "      <td>0.359217</td>\n",
       "      <td>0.843146</td>\n",
       "      <td>0.0</td>\n",
       "      <td>1</td>\n",
       "      <td>4.0</td>\n",
       "      <td>-0.025</td>\n",
       "    </tr>\n",
       "  </tbody>\n",
       "</table>\n",
       "<p>5 rows × 32 columns</p>\n",
       "</div>"
      ],
      "text/plain": [
       "    stay_id  sofa_score  sirs       age    weight  gender  gcs  sofa_24hours  \\\n",
       "0  30223578         0.0  0.75  0.886076  0.136949     1.0  0.0      0.000000   \n",
       "1  30223578         0.0  0.75  0.886076  0.136949     1.0  0.0      0.086957   \n",
       "2  30223578         0.0  0.75  0.886076  0.136949     1.0  0.0      0.130435   \n",
       "3  30223578         0.0  0.75  0.886076  0.136949     1.0  0.0      0.217391   \n",
       "4  30223578         0.0  0.75  0.886076  0.136949     1.0  0.0      0.260870   \n",
       "\n",
       "   bilirubin_total  bicarbonate  ...  creatinine  heart_rate  temperature  \\\n",
       "0         0.514568       0.3125  ...    0.548997    0.486842     0.605949   \n",
       "1         0.514568       0.3125  ...    0.548997    0.486842     0.605949   \n",
       "2         0.514568       0.0000  ...    0.548997    0.486842     0.605949   \n",
       "3         0.514568       0.3750  ...    0.548997    0.486842     0.605949   \n",
       "4         0.514568       0.0625  ...    0.548997    0.486842     0.605949   \n",
       "\n",
       "       spo2  vaso_rate  vaso_amount  urineoutput  died_in_hosp  vaso_input  \\\n",
       "0  0.974913   0.359217     0.843146          0.0             1         4.0   \n",
       "1  0.974913   0.359217     0.843146          0.0             1         4.0   \n",
       "2  0.974913   0.359217     0.843146          0.0             1         4.0   \n",
       "3  0.974913   0.359217     0.843146          0.0             1         4.0   \n",
       "4  0.974913   0.359217     0.843146          0.0             1         4.0   \n",
       "\n",
       "   reward  \n",
       "0  -0.025  \n",
       "1   0.625  \n",
       "2  -0.025  \n",
       "3  -0.025  \n",
       "4  -0.025  \n",
       "\n",
       "[5 rows x 32 columns]"
      ]
     },
     "execution_count": 4,
     "metadata": {},
     "output_type": "execute_result"
    }
   ],
   "source": [
    "test_data.head()"
   ]
  },
  {
   "cell_type": "code",
   "execution_count": 5,
   "metadata": {
    "id": "HYV5945pFxyr"
   },
   "outputs": [],
   "source": [
    "# get the unique ids\n",
    "unique_ids = test_data['stay_id'].unique()"
   ]
  },
  {
   "cell_type": "code",
   "execution_count": null,
   "metadata": {
    "id": "M7Qv-DWlFxv2"
   },
   "outputs": [],
   "source": [
    "# BELOW THREE CELLS ARE DIAGNOSTICS ON TRAIN-TEST SET DISTRIBUTION"
   ]
  },
  {
   "cell_type": "code",
   "execution_count": null,
   "metadata": {
    "id": "SSKurSiBFxtV"
   },
   "outputs": [],
   "source": [
    "# count = 0\n",
    "# for i in unique_ids:\n",
    "#     a= test_data[test_data['stay_id'] == i]\n",
    "#     u = a[a['bloc'] ==1]['mortality']\n",
    "#     x =  np.array(u)[0]\n",
    "#     count += x\n",
    "# print count/float(len(unique_ids))\n",
    "# print count"
   ]
  },
  {
   "cell_type": "code",
   "execution_count": null,
   "metadata": {
    "id": "FUpX_yf9Fxqy"
   },
   "outputs": [],
   "source": [
    "# train_data = pd.read_csv('rl_train_set_small.csv')\n",
    "# unique_ids2 = train_data['icustayid'].unique()"
   ]
  },
  {
   "cell_type": "code",
   "execution_count": null,
   "metadata": {
    "id": "j09IXe9xFxoi"
   },
   "outputs": [],
   "source": [
    "# count = 0\n",
    "# for i in unique_ids2:\n",
    "#     a= train_data[train_data['stay_id'] == i]\n",
    "#     u = a[a['bloc'] ==1]['mortality']\n",
    "#     x =  np.array(u)[0]\n",
    "#     count += x\n",
    "# print count/float(len(unique_ids2))"
   ]
  },
  {
   "cell_type": "code",
   "execution_count": 6,
   "metadata": {
    "id": "UWCrnlz0Fxl6"
   },
   "outputs": [],
   "source": [
    "# define an action mapping - how to get an id representing the action from the (vaso) tuple\n",
    "action_map = {}\n",
    "count = 0\n",
    "for vaso in range(5):\n",
    "    action_map[(vaso)] = count\n",
    "    count += 1"
   ]
  },
  {
   "cell_type": "code",
   "execution_count": 7,
   "metadata": {
    "id": "Kpio-GS9FxjE"
   },
   "outputs": [
    {
     "name": "stdout",
     "output_type": "stream",
     "text": [
      "0.009876251\n"
     ]
    }
   ],
   "source": [
    "phys_score = np.mean(q_vals_test)\n",
    "print (phys_score)"
   ]
  },
  {
   "cell_type": "code",
   "execution_count": 8,
   "metadata": {
    "id": "lpGnQ388Fxga"
   },
   "outputs": [],
   "source": [
    "pp = pd.Series(q_vals_test)\n",
    "phys_df = pd.DataFrame(pp)"
   ]
  },
  {
   "cell_type": "code",
   "execution_count": 9,
   "metadata": {
    "id": "88vO-XtaFxdo"
   },
   "outputs": [],
   "source": [
    "import copy\n",
    "phys_df['mort'] = copy.deepcopy(np.array(test_data['died_in_hosp']))"
   ]
  },
  {
   "cell_type": "code",
   "execution_count": 10,
   "metadata": {
    "id": "iY3oZ-uKFxbF"
   },
   "outputs": [],
   "source": [
    "from scipy.stats import sem"
   ]
  },
  {
   "cell_type": "code",
   "execution_count": 11,
   "metadata": {
    "id": "4MMXoUr-FxYW"
   },
   "outputs": [],
   "source": [
    "bin_medians = []\n",
    "mort = []\n",
    "mort_std = []\n",
    "i = -15\n",
    "while i <= 20:\n",
    "    count =phys_df.loc[(phys_df[0]>i-0.5) & (phys_df[0]<i+0.5)]\n",
    "    try:\n",
    "        res = sum(count['mort'])/float(len(count))\n",
    "        if len(count) >=2:\n",
    "            bin_medians.append(i)\n",
    "            mort.append(res)\n",
    "            mort_std.append(sem(count['mort']))\n",
    "    except ZeroDivisionError:\n",
    "        pass\n",
    "    i += 1"
   ]
  },
  {
   "cell_type": "code",
   "execution_count": 12,
   "metadata": {
    "id": "H6nxxoUHFxUh"
   },
   "outputs": [],
   "source": [
    "def sliding_mean(data_array, window=2):\n",
    "    new_list = []\n",
    "    for i in range(len(data_array)):\n",
    "        indices = range(max(i - window + 1, 0),\n",
    "                        min(i + window + 1, len(data_array)))\n",
    "        avg = 0\n",
    "        for j in indices:\n",
    "            avg += data_array[j]\n",
    "        avg /= float(len(indices))\n",
    "        new_list.append(avg)     \n",
    "    return np.array(new_list)"
   ]
  },
  {
   "cell_type": "code",
   "execution_count": 13,
   "metadata": {
    "id": "dqKEDe-2GSws"
   },
   "outputs": [
    {
     "data": {
      "image/png": "[encoded data removed]",
      "text/plain": [
       "<Figure size 432x324 with 1 Axes>"
      ]
     },
     "metadata": {
      "needs_background": "light"
     },
     "output_type": "display_data"
    }
   ],
   "source": [
    "plt.figure(figsize=(6, 4.5))\n",
    "plt.plot(bin_medians, sliding_mean(mort))\n",
    "plt.fill_between(bin_medians, sliding_mean(mort) - 1*sliding_mean(mort_std),  \n",
    "                 sliding_mean(mort) + 1*sliding_mean(mort_std), color='#ADD8E6')\n",
    "plt.grid()\n",
    "plt.xticks(range(-15,20,5))\n",
    "r = [float(i)/10 for i in range(0,11,1)]\n",
    "_ = plt.yticks(r)\n",
    "_ = plt.title(\"Mortality vs Expected Return\", fontsize=15)  \n",
    "_ = plt.ylabel(\"Proportion Mortality\")\n",
    "_ = plt.xlabel(\"Expected Return\")"
   ]
  },
  {
   "cell_type": "code",
   "execution_count": 14,
   "metadata": {
    "id": "ltIO2UZ3GSq_"
   },
   "outputs": [
    {
     "data": {
      "image/png": "[encoded data removed]",
      "text/plain": [
       "<Figure size 432x324 with 1 Axes>"
      ]
     },
     "metadata": {
      "needs_background": "light"
     },
     "output_type": "display_data"
    }
   ],
   "source": [
    "plt.figure(figsize=(6, 4.5))\n",
    "plt.plot(bin_medians, sliding_mean(mort))\n",
    "plt.fill_between(bin_medians, sliding_mean(mort) - 1*sliding_mean(mort_std),  \n",
    "                 sliding_mean(mort) + 1*sliding_mean(mort_std), color='#ADD8E6')\n",
    "plt.grid()\n",
    "plt.xticks(np.arange(-3, 3, 1), fontsize=12)\n",
    "plt.yticks(np.arange(0.3, 0.4, 0.01), fontsize=12)\n",
    "plt.title(\"Mortality vs Expected Return\", fontsize=15)  \n",
    "plt.ylabel(\"Proportion Mortality\", fontsize=12)\n",
    "plt.xlabel(\"Expected Return\", fontsize=12)\n",
    "plt.show()\n"
   ]
  },
  {
   "cell_type": "code",
   "execution_count": 15,
   "metadata": {
    "id": "NbSBqjGbGSuE"
   },
   "outputs": [
    {
     "data": {
      "text/plain": [
       "0.3209146240318485"
      ]
     },
     "execution_count": 15,
     "metadata": {},
     "output_type": "execute_result"
    }
   ],
   "source": [
    "len(phys_df[phys_df['mort']==1])/float(len(phys_df))"
   ]
  }
 ],
 "metadata": {
  "colab": {
   "authorship_tag": "ABX9TyMh2Ew39slkwFYeXGU6kxAP",
   "provenance": []
  },
  "kernelspec": {
   "display_name": "Python 3 (ipykernel)",
   "language": "python",
   "name": "python3"
  },
  "language_info": {
   "codemirror_mode": {
    "name": "ipython",
    "version": 3
   },
   "file_extension": ".py",
   "mimetype": "text/x-python",
   "name": "python",
   "nbconvert_exporter": "python",
   "pygments_lexer": "ipython3",
   "version": "3.9.7"
  }
 },
 "nbformat": 4,
 "nbformat_minor": 1
}
