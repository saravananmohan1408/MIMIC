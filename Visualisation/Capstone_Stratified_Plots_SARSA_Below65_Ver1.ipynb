{
 "cells": [
  {
   "cell_type": "code",
   "execution_count": 1,
   "metadata": {
    "id": "oSFp4kV8Aqqy"
   },
   "outputs": [],
   "source": [
    "# Make plots of the deviation in treatment vs mortality, stratified for different subcohorts of patients\n",
    "# those with high SOFA: extract points where SOFA > 15\n",
    "# those with low SOFA: extract points where SOFA < 5\n",
    "# those with middling SOFA: between 5 and 15\n",
    "# Plot variation over time?"
   ]
  },
  {
   "cell_type": "code",
   "execution_count": 2,
   "metadata": {
    "id": "TIKZ3O_qBaOX"
   },
   "outputs": [],
   "source": [
    "%matplotlib inline\n",
    "import pandas as pd\n",
    "import numpy as np\n",
    "try:\n",
    "    import cPickle as pickle\n",
    "except ImportError:\n",
    "    import _pickle as pickle\n",
    "import matplotlib.pyplot as plt"
   ]
  },
  {
   "cell_type": "code",
   "execution_count": 3,
   "metadata": {
    "id": "UZp9qS7fBaRA"
   },
   "outputs": [],
   "source": [
    "#Keep as 'Final2'\n",
    "df_orig = pd.read_csv('C:\\\\Users\\\\sara1\\\\Desktop\\\\Workingdata\\\\Final2.csv')"
   ]
  },
  {
   "cell_type": "code",
   "execution_count": 4,
   "metadata": {
    "id": "4ooxG2A1BaT2"
   },
   "outputs": [],
   "source": [
    "#Replace with below 65 train\n",
    "df_train = pd.read_csv('C:\\\\Users\\\\sara1\\\\Desktop\\\\Workingdata\\\\rl_train_data_final_cont.csv')"
   ]
  },
  {
   "cell_type": "code",
   "execution_count": 5,
   "metadata": {
    "id": "edaMQGZKBaWW"
   },
   "outputs": [],
   "source": [
    "#Replace with below 65 train\n",
    "df_test = pd.read_csv('C:\\\\Users\\\\sara1\\\\Desktop\\\\Workingdata\\\\rl_test_data_final_cont.csv')"
   ]
  },
  {
   "cell_type": "code",
   "execution_count": 6,
   "metadata": {
    "id": "PPTVPBgIBaYg"
   },
   "outputs": [],
   "source": [
    "df_train_orig = df_orig[df_orig['stay_id'].isin(df_train['stay_id'].unique())]"
   ]
  },
  {
   "cell_type": "code",
   "execution_count": 7,
   "metadata": {
    "id": "QwFgEz7lBabJ"
   },
   "outputs": [],
   "source": [
    "df_test_orig = df_orig[df_orig['stay_id'].isin(df_test['stay_id'].unique())]"
   ]
  },
  {
   "cell_type": "code",
   "execution_count": 8,
   "metadata": {
    "id": "RouG6KV7Badv"
   },
   "outputs": [
    {
     "data": {
      "text/html": [
       "<div>\n",
       "<style scoped>\n",
       "    .dataframe tbody tr th:only-of-type {\n",
       "        vertical-align: middle;\n",
       "    }\n",
       "\n",
       "    .dataframe tbody tr th {\n",
       "        vertical-align: top;\n",
       "    }\n",
       "\n",
       "    .dataframe thead th {\n",
       "        text-align: right;\n",
       "    }\n",
       "</style>\n",
       "<table border=\"1\" class=\"dataframe\">\n",
       "  <thead>\n",
       "    <tr style=\"text-align: right;\">\n",
       "      <th></th>\n",
       "      <th>stay_id</th>\n",
       "      <th>sofa_score</th>\n",
       "      <th>sirs</th>\n",
       "      <th>age</th>\n",
       "      <th>weight</th>\n",
       "      <th>gender</th>\n",
       "      <th>gcs</th>\n",
       "      <th>sofa_24hours</th>\n",
       "      <th>bilirubin_total</th>\n",
       "      <th>bicarbonate</th>\n",
       "      <th>...</th>\n",
       "      <th>creatinine</th>\n",
       "      <th>heart_rate</th>\n",
       "      <th>temperature</th>\n",
       "      <th>spo2</th>\n",
       "      <th>vaso_rate</th>\n",
       "      <th>vaso_amount</th>\n",
       "      <th>urineoutput</th>\n",
       "      <th>died_in_hosp</th>\n",
       "      <th>vaso_input</th>\n",
       "      <th>reward</th>\n",
       "    </tr>\n",
       "  </thead>\n",
       "  <tbody>\n",
       "    <tr>\n",
       "      <th>0</th>\n",
       "      <td>30223578</td>\n",
       "      <td>0.0</td>\n",
       "      <td>0.75</td>\n",
       "      <td>0.886076</td>\n",
       "      <td>0.136949</td>\n",
       "      <td>1.0</td>\n",
       "      <td>0.0</td>\n",
       "      <td>0.000000</td>\n",
       "      <td>0.514568</td>\n",
       "      <td>0.3125</td>\n",
       "      <td>...</td>\n",
       "      <td>0.548997</td>\n",
       "      <td>0.486842</td>\n",
       "      <td>0.605949</td>\n",
       "      <td>0.974913</td>\n",
       "      <td>0.359217</td>\n",
       "      <td>0.843146</td>\n",
       "      <td>0.0</td>\n",
       "      <td>1</td>\n",
       "      <td>4.0</td>\n",
       "      <td>-0.025</td>\n",
       "    </tr>\n",
       "    <tr>\n",
       "      <th>1</th>\n",
       "      <td>30223578</td>\n",
       "      <td>0.0</td>\n",
       "      <td>0.75</td>\n",
       "      <td>0.886076</td>\n",
       "      <td>0.136949</td>\n",
       "      <td>1.0</td>\n",
       "      <td>0.0</td>\n",
       "      <td>0.086957</td>\n",
       "      <td>0.514568</td>\n",
       "      <td>0.3125</td>\n",
       "      <td>...</td>\n",
       "      <td>0.548997</td>\n",
       "      <td>0.486842</td>\n",
       "      <td>0.605949</td>\n",
       "      <td>0.974913</td>\n",
       "      <td>0.359217</td>\n",
       "      <td>0.843146</td>\n",
       "      <td>0.0</td>\n",
       "      <td>1</td>\n",
       "      <td>4.0</td>\n",
       "      <td>0.625</td>\n",
       "    </tr>\n",
       "    <tr>\n",
       "      <th>2</th>\n",
       "      <td>30223578</td>\n",
       "      <td>0.0</td>\n",
       "      <td>0.75</td>\n",
       "      <td>0.886076</td>\n",
       "      <td>0.136949</td>\n",
       "      <td>1.0</td>\n",
       "      <td>0.0</td>\n",
       "      <td>0.130435</td>\n",
       "      <td>0.514568</td>\n",
       "      <td>0.0000</td>\n",
       "      <td>...</td>\n",
       "      <td>0.548997</td>\n",
       "      <td>0.486842</td>\n",
       "      <td>0.605949</td>\n",
       "      <td>0.974913</td>\n",
       "      <td>0.359217</td>\n",
       "      <td>0.843146</td>\n",
       "      <td>0.0</td>\n",
       "      <td>1</td>\n",
       "      <td>4.0</td>\n",
       "      <td>-0.025</td>\n",
       "    </tr>\n",
       "    <tr>\n",
       "      <th>3</th>\n",
       "      <td>30223578</td>\n",
       "      <td>0.0</td>\n",
       "      <td>0.75</td>\n",
       "      <td>0.886076</td>\n",
       "      <td>0.136949</td>\n",
       "      <td>1.0</td>\n",
       "      <td>0.0</td>\n",
       "      <td>0.217391</td>\n",
       "      <td>0.514568</td>\n",
       "      <td>0.3750</td>\n",
       "      <td>...</td>\n",
       "      <td>0.548997</td>\n",
       "      <td>0.486842</td>\n",
       "      <td>0.605949</td>\n",
       "      <td>0.974913</td>\n",
       "      <td>0.359217</td>\n",
       "      <td>0.843146</td>\n",
       "      <td>0.0</td>\n",
       "      <td>1</td>\n",
       "      <td>4.0</td>\n",
       "      <td>-0.025</td>\n",
       "    </tr>\n",
       "    <tr>\n",
       "      <th>4</th>\n",
       "      <td>30223578</td>\n",
       "      <td>0.0</td>\n",
       "      <td>0.75</td>\n",
       "      <td>0.886076</td>\n",
       "      <td>0.136949</td>\n",
       "      <td>1.0</td>\n",
       "      <td>0.0</td>\n",
       "      <td>0.260870</td>\n",
       "      <td>0.514568</td>\n",
       "      <td>0.0625</td>\n",
       "      <td>...</td>\n",
       "      <td>0.548997</td>\n",
       "      <td>0.486842</td>\n",
       "      <td>0.605949</td>\n",
       "      <td>0.974913</td>\n",
       "      <td>0.359217</td>\n",
       "      <td>0.843146</td>\n",
       "      <td>0.0</td>\n",
       "      <td>1</td>\n",
       "      <td>4.0</td>\n",
       "      <td>-0.025</td>\n",
       "    </tr>\n",
       "  </tbody>\n",
       "</table>\n",
       "<p>5 rows × 32 columns</p>\n",
       "</div>"
      ],
      "text/plain": [
       "    stay_id  sofa_score  sirs       age    weight  gender  gcs  sofa_24hours  \\\n",
       "0  30223578         0.0  0.75  0.886076  0.136949     1.0  0.0      0.000000   \n",
       "1  30223578         0.0  0.75  0.886076  0.136949     1.0  0.0      0.086957   \n",
       "2  30223578         0.0  0.75  0.886076  0.136949     1.0  0.0      0.130435   \n",
       "3  30223578         0.0  0.75  0.886076  0.136949     1.0  0.0      0.217391   \n",
       "4  30223578         0.0  0.75  0.886076  0.136949     1.0  0.0      0.260870   \n",
       "\n",
       "   bilirubin_total  bicarbonate  ...  creatinine  heart_rate  temperature  \\\n",
       "0         0.514568       0.3125  ...    0.548997    0.486842     0.605949   \n",
       "1         0.514568       0.3125  ...    0.548997    0.486842     0.605949   \n",
       "2         0.514568       0.0000  ...    0.548997    0.486842     0.605949   \n",
       "3         0.514568       0.3750  ...    0.548997    0.486842     0.605949   \n",
       "4         0.514568       0.0625  ...    0.548997    0.486842     0.605949   \n",
       "\n",
       "       spo2  vaso_rate  vaso_amount  urineoutput  died_in_hosp  vaso_input  \\\n",
       "0  0.974913   0.359217     0.843146          0.0             1         4.0   \n",
       "1  0.974913   0.359217     0.843146          0.0             1         4.0   \n",
       "2  0.974913   0.359217     0.843146          0.0             1         4.0   \n",
       "3  0.974913   0.359217     0.843146          0.0             1         4.0   \n",
       "4  0.974913   0.359217     0.843146          0.0             1         4.0   \n",
       "\n",
       "   reward  \n",
       "0  -0.025  \n",
       "1   0.625  \n",
       "2  -0.025  \n",
       "3  -0.025  \n",
       "4  -0.025  \n",
       "\n",
       "[5 rows x 32 columns]"
      ]
     },
     "execution_count": 8,
     "metadata": {},
     "output_type": "execute_result"
    }
   ],
   "source": [
    "df_test.head()"
   ]
  },
  {
   "cell_type": "code",
   "execution_count": 9,
   "metadata": {
    "id": "7aWaNBU9Bagh"
   },
   "outputs": [
    {
     "data": {
      "text/html": [
       "<div>\n",
       "<style scoped>\n",
       "    .dataframe tbody tr th:only-of-type {\n",
       "        vertical-align: middle;\n",
       "    }\n",
       "\n",
       "    .dataframe tbody tr th {\n",
       "        vertical-align: top;\n",
       "    }\n",
       "\n",
       "    .dataframe thead th {\n",
       "        text-align: right;\n",
       "    }\n",
       "</style>\n",
       "<table border=\"1\" class=\"dataframe\">\n",
       "  <thead>\n",
       "    <tr style=\"text-align: right;\">\n",
       "      <th></th>\n",
       "      <th>stay_id</th>\n",
       "      <th>sofa_score</th>\n",
       "      <th>sirs</th>\n",
       "      <th>age</th>\n",
       "      <th>weight</th>\n",
       "      <th>gender</th>\n",
       "      <th>gcs</th>\n",
       "      <th>sofa_24hours</th>\n",
       "      <th>bilirubin_total</th>\n",
       "      <th>bicarbonate</th>\n",
       "      <th>...</th>\n",
       "      <th>wbc</th>\n",
       "      <th>albumin</th>\n",
       "      <th>creatinine</th>\n",
       "      <th>heart_rate</th>\n",
       "      <th>temperature</th>\n",
       "      <th>spo2</th>\n",
       "      <th>vaso_rate</th>\n",
       "      <th>vaso_amount</th>\n",
       "      <th>urineoutput</th>\n",
       "      <th>died_in_hosp</th>\n",
       "    </tr>\n",
       "  </thead>\n",
       "  <tbody>\n",
       "    <tr>\n",
       "      <th>3145</th>\n",
       "      <td>30223578</td>\n",
       "      <td>2</td>\n",
       "      <td>3</td>\n",
       "      <td>88</td>\n",
       "      <td>75.5</td>\n",
       "      <td>1</td>\n",
       "      <td>3</td>\n",
       "      <td>0</td>\n",
       "      <td>2.879823</td>\n",
       "      <td>36.0</td>\n",
       "      <td>...</td>\n",
       "      <td>28.8</td>\n",
       "      <td>2.895128</td>\n",
       "      <td>2.5</td>\n",
       "      <td>120.0</td>\n",
       "      <td>36.980675</td>\n",
       "      <td>89.289529</td>\n",
       "      <td>2.402412</td>\n",
       "      <td>39.840004</td>\n",
       "      <td>0.0</td>\n",
       "      <td>1</td>\n",
       "    </tr>\n",
       "    <tr>\n",
       "      <th>3146</th>\n",
       "      <td>30223578</td>\n",
       "      <td>2</td>\n",
       "      <td>3</td>\n",
       "      <td>88</td>\n",
       "      <td>75.5</td>\n",
       "      <td>1</td>\n",
       "      <td>3</td>\n",
       "      <td>2</td>\n",
       "      <td>2.879823</td>\n",
       "      <td>36.0</td>\n",
       "      <td>...</td>\n",
       "      <td>28.8</td>\n",
       "      <td>2.895128</td>\n",
       "      <td>2.5</td>\n",
       "      <td>120.0</td>\n",
       "      <td>36.980675</td>\n",
       "      <td>89.289529</td>\n",
       "      <td>2.402412</td>\n",
       "      <td>39.840004</td>\n",
       "      <td>0.0</td>\n",
       "      <td>1</td>\n",
       "    </tr>\n",
       "    <tr>\n",
       "      <th>3147</th>\n",
       "      <td>30223578</td>\n",
       "      <td>2</td>\n",
       "      <td>3</td>\n",
       "      <td>88</td>\n",
       "      <td>75.5</td>\n",
       "      <td>1</td>\n",
       "      <td>3</td>\n",
       "      <td>3</td>\n",
       "      <td>2.879823</td>\n",
       "      <td>36.0</td>\n",
       "      <td>...</td>\n",
       "      <td>28.8</td>\n",
       "      <td>2.895128</td>\n",
       "      <td>2.5</td>\n",
       "      <td>120.0</td>\n",
       "      <td>36.980675</td>\n",
       "      <td>89.289529</td>\n",
       "      <td>2.402412</td>\n",
       "      <td>39.840004</td>\n",
       "      <td>0.0</td>\n",
       "      <td>1</td>\n",
       "    </tr>\n",
       "    <tr>\n",
       "      <th>3148</th>\n",
       "      <td>30223578</td>\n",
       "      <td>2</td>\n",
       "      <td>3</td>\n",
       "      <td>88</td>\n",
       "      <td>75.5</td>\n",
       "      <td>1</td>\n",
       "      <td>3</td>\n",
       "      <td>5</td>\n",
       "      <td>2.879823</td>\n",
       "      <td>36.0</td>\n",
       "      <td>...</td>\n",
       "      <td>28.8</td>\n",
       "      <td>2.895128</td>\n",
       "      <td>2.5</td>\n",
       "      <td>120.0</td>\n",
       "      <td>36.980675</td>\n",
       "      <td>89.289529</td>\n",
       "      <td>2.402412</td>\n",
       "      <td>39.840004</td>\n",
       "      <td>0.0</td>\n",
       "      <td>1</td>\n",
       "    </tr>\n",
       "    <tr>\n",
       "      <th>3149</th>\n",
       "      <td>30223578</td>\n",
       "      <td>2</td>\n",
       "      <td>3</td>\n",
       "      <td>88</td>\n",
       "      <td>75.5</td>\n",
       "      <td>1</td>\n",
       "      <td>3</td>\n",
       "      <td>6</td>\n",
       "      <td>2.879823</td>\n",
       "      <td>36.0</td>\n",
       "      <td>...</td>\n",
       "      <td>28.8</td>\n",
       "      <td>2.895128</td>\n",
       "      <td>2.5</td>\n",
       "      <td>120.0</td>\n",
       "      <td>36.980675</td>\n",
       "      <td>89.289529</td>\n",
       "      <td>2.402412</td>\n",
       "      <td>39.840004</td>\n",
       "      <td>0.0</td>\n",
       "      <td>1</td>\n",
       "    </tr>\n",
       "  </tbody>\n",
       "</table>\n",
       "<p>5 rows × 30 columns</p>\n",
       "</div>"
      ],
      "text/plain": [
       "       stay_id  sofa_score  sirs  age  weight  gender  gcs  sofa_24hours  \\\n",
       "3145  30223578           2     3   88    75.5       1    3             0   \n",
       "3146  30223578           2     3   88    75.5       1    3             2   \n",
       "3147  30223578           2     3   88    75.5       1    3             3   \n",
       "3148  30223578           2     3   88    75.5       1    3             5   \n",
       "3149  30223578           2     3   88    75.5       1    3             6   \n",
       "\n",
       "      bilirubin_total  bicarbonate  ...   wbc   albumin  creatinine  \\\n",
       "3145         2.879823         36.0  ...  28.8  2.895128         2.5   \n",
       "3146         2.879823         36.0  ...  28.8  2.895128         2.5   \n",
       "3147         2.879823         36.0  ...  28.8  2.895128         2.5   \n",
       "3148         2.879823         36.0  ...  28.8  2.895128         2.5   \n",
       "3149         2.879823         36.0  ...  28.8  2.895128         2.5   \n",
       "\n",
       "      heart_rate  temperature       spo2  vaso_rate  vaso_amount  urineoutput  \\\n",
       "3145       120.0    36.980675  89.289529   2.402412    39.840004          0.0   \n",
       "3146       120.0    36.980675  89.289529   2.402412    39.840004          0.0   \n",
       "3147       120.0    36.980675  89.289529   2.402412    39.840004          0.0   \n",
       "3148       120.0    36.980675  89.289529   2.402412    39.840004          0.0   \n",
       "3149       120.0    36.980675  89.289529   2.402412    39.840004          0.0   \n",
       "\n",
       "      died_in_hosp  \n",
       "3145             1  \n",
       "3146             1  \n",
       "3147             1  \n",
       "3148             1  \n",
       "3149             1  \n",
       "\n",
       "[5 rows x 30 columns]"
      ]
     },
     "execution_count": 9,
     "metadata": {},
     "output_type": "execute_result"
    }
   ],
   "source": [
    "df_test_orig.head()"
   ]
  },
  {
   "cell_type": "code",
   "execution_count": null,
   "metadata": {
    "id": "1E664wtIBaiU"
   },
   "outputs": [],
   "source": [
    "#  Extract out the interventions from the training dataset and find the medians for each dosage - these\n",
    "#  represent the continuous analog of the chosen actions"
   ]
  },
  {
   "cell_type": "code",
   "execution_count": 10,
   "metadata": {
    "id": "PMTsmkW2Bakk"
   },
   "outputs": [
    {
     "data": {
      "text/html": [
       "<div>\n",
       "<style scoped>\n",
       "    .dataframe tbody tr th:only-of-type {\n",
       "        vertical-align: middle;\n",
       "    }\n",
       "\n",
       "    .dataframe tbody tr th {\n",
       "        vertical-align: top;\n",
       "    }\n",
       "\n",
       "    .dataframe thead th {\n",
       "        text-align: right;\n",
       "    }\n",
       "</style>\n",
       "<table border=\"1\" class=\"dataframe\">\n",
       "  <thead>\n",
       "    <tr style=\"text-align: right;\">\n",
       "      <th></th>\n",
       "      <th>vaso_amount</th>\n",
       "    </tr>\n",
       "  </thead>\n",
       "  <tbody>\n",
       "    <tr>\n",
       "      <th>0</th>\n",
       "      <td>14.799999</td>\n",
       "    </tr>\n",
       "    <tr>\n",
       "      <th>1</th>\n",
       "      <td>14.799999</td>\n",
       "    </tr>\n",
       "    <tr>\n",
       "      <th>2</th>\n",
       "      <td>14.799999</td>\n",
       "    </tr>\n",
       "    <tr>\n",
       "      <th>3</th>\n",
       "      <td>14.799999</td>\n",
       "    </tr>\n",
       "    <tr>\n",
       "      <th>4</th>\n",
       "      <td>39.058680</td>\n",
       "    </tr>\n",
       "  </tbody>\n",
       "</table>\n",
       "</div>"
      ],
      "text/plain": [
       "   vaso_amount\n",
       "0    14.799999\n",
       "1    14.799999\n",
       "2    14.799999\n",
       "3    14.799999\n",
       "4    39.058680"
      ]
     },
     "execution_count": 10,
     "metadata": {},
     "output_type": "execute_result"
    }
   ],
   "source": [
    "interventions = df_train_orig[[\"vaso_amount\"]]\n",
    "interventions.head()"
   ]
  },
  {
   "cell_type": "code",
   "execution_count": 11,
   "metadata": {
    "id": "zUw6Gsd8Bang"
   },
   "outputs": [],
   "source": [
    "adjusted_vaso = interventions[\"vaso_amount\"][interventions[\"vaso_amount\"] >0]"
   ]
  },
  {
   "cell_type": "code",
   "execution_count": 12,
   "metadata": {
    "id": "xdQqomQaBaqY"
   },
   "outputs": [],
   "source": [
    "vaso_vals = [0]\n",
    "vaso_vals.extend(adjusted_vaso.quantile([0.125,0.375,0.625,0.875]))"
   ]
  },
  {
   "cell_type": "code",
   "execution_count": 13,
   "metadata": {
    "id": "85z1bGT0BatA"
   },
   "outputs": [],
   "source": [
    "def sliding_mean(data_array, window=1):\n",
    "    new_list = []\n",
    "    for i in range(len(data_array)):\n",
    "        indices = range(max(i - window + 1, 0),\n",
    "                        min(i + window + 1, len(data_array)))\n",
    "        avg = 0\n",
    "        for j in indices:\n",
    "            avg += data_array[j]\n",
    "        avg /= float(len(indices))\n",
    "        new_list.append(avg)     \n",
    "    return np.array(new_list)"
   ]
  },
  {
   "cell_type": "code",
   "execution_count": null,
   "metadata": {
    "id": "bSA77uoZBav1"
   },
   "outputs": [],
   "source": [
    "#  Next two cells - can change to load the correct phys/agent actions we want in the plots"
   ]
  },
  {
   "cell_type": "code",
   "execution_count": 14,
   "metadata": {
    "id": "ykNGFFjQBayk"
   },
   "outputs": [],
   "source": [
    "#Put in the new model-below 65\n",
    "phys_actions = pickle.load(open( \"C:\\\\Users\\\\sara1\\\\Desktop\\\\Results\\\\SARSA_continous_noterm\\\\phys_actions_test.p\", \"rb\" ))"
   ]
  },
  {
   "cell_type": "code",
   "execution_count": 15,
   "metadata": {
    "id": "K-DjsX-JBa1U"
   },
   "outputs": [],
   "source": [
    "deeprl2_actions = pickle.load(open( \"C:\\\\Users\\\\sara1\\\\Desktop\\\\Results\\\\Ddqn_continous_noterm\\\\dqn_normal_actions_test.p\", \"rb\" ))"
   ]
  },
  {
   "cell_type": "code",
   "execution_count": 16,
   "metadata": {
    "id": "trxAV2goB_LA"
   },
   "outputs": [
    {
     "name": "stderr",
     "output_type": "stream",
     "text": [
      "C:\\Users\\sara1\\AppData\\Local\\Temp/ipykernel_14156/1219642290.py:2: SettingWithCopyWarning: \n",
      "A value is trying to be set on a copy of a slice from a DataFrame.\n",
      "Try using .loc[row_indexer,col_indexer] = value instead\n",
      "\n",
      "See the caveats in the documentation: https://pandas.pydata.org/pandas-docs/stable/user_guide/indexing.html#returning-a-view-versus-a-copy\n",
      "  df_test_orig['deeprl2_actions'] = deeprl2_actions\n",
      "C:\\Users\\sara1\\AppData\\Local\\Temp/ipykernel_14156/1219642290.py:3: SettingWithCopyWarning: \n",
      "A value is trying to be set on a copy of a slice from a DataFrame.\n",
      "Try using .loc[row_indexer,col_indexer] = value instead\n",
      "\n",
      "See the caveats in the documentation: https://pandas.pydata.org/pandas-docs/stable/user_guide/indexing.html#returning-a-view-versus-a-copy\n",
      "  df_test_orig['phys_actions'] = phys_actions\n"
     ]
    }
   ],
   "source": [
    "# Add in the actions selected to the df_test_orig dataframe. This helps with the stratified analysis afterwards\n",
    "df_test_orig['deeprl2_actions'] = deeprl2_actions\n",
    "df_test_orig['phys_actions'] = phys_actions"
   ]
  },
  {
   "cell_type": "code",
   "execution_count": 17,
   "metadata": {
    "id": "QDlyo49-B_GY"
   },
   "outputs": [],
   "source": [
    "# Perform stratification based on what we're looking for\n",
    "\n",
    "# Low SOFA\n",
    "df_test_orig_low = df_test_orig[df_test_orig['sofa_score'] <= 5]\n",
    "\n",
    "# # Middling SOFA\n",
    "df_test_orig_mid = df_test_orig[df_test_orig['sofa_score'] > 5]\n",
    "df_test_orig_mid = df_test_orig_mid[df_test_orig_mid['sofa_score'] < 15]\n",
    "\n",
    "# # High SOFA\n",
    "df_test_orig_high = df_test_orig[df_test_orig['sofa_score'] >= 15]"
   ]
  },
  {
   "cell_type": "code",
   "execution_count": 18,
   "metadata": {
    "id": "3Z0BBkDyB_CO"
   },
   "outputs": [],
   "source": [
    "# Now re-select the phys_actions, autoencode_actions, and deeprl2_actions based on the statified dataset\n",
    "deeprl2_actions_low = df_test_orig_low['deeprl2_actions'].values\n",
    "phys_actions_low = df_test_orig_low['phys_actions'].values\n",
    "\n",
    "deeprl2_actions_mid = df_test_orig_mid['deeprl2_actions'].values\n",
    "phys_actions_mid = df_test_orig_mid['phys_actions'].values\n",
    "\n",
    "deeprl2_actions_high = df_test_orig_high['deeprl2_actions'].values\n",
    "phys_actions_high = df_test_orig_high['phys_actions'].values"
   ]
  },
  {
   "cell_type": "code",
   "execution_count": 19,
   "metadata": {
    "id": "Ed6ASDmeCKyl"
   },
   "outputs": [],
   "source": [
    "inv_action_map = {}\n",
    "count = 0\n",
    "for i in range(5):\n",
    "    for j in range(5):\n",
    "        inv_action_map[count] = [i,j]\n",
    "        count += 1"
   ]
  },
  {
   "cell_type": "code",
   "execution_count": 20,
   "metadata": {
    "id": "mkJlaQnRCKt-"
   },
   "outputs": [],
   "source": [
    "phys_actions_low_tuple = [None for i in range(len(phys_actions_low))]\n",
    "deeprl2_actions_low_tuple = [None for i in range(len(phys_actions_low))]\n",
    "\n",
    "phys_actions_mid_tuple = [None for i in range(len(phys_actions_mid))]\n",
    "deeprl2_actions_mid_tuple = [None for i in range(len(phys_actions_mid))]\n",
    "\n",
    "phys_actions_high_tuple = [None for i in range(len(phys_actions_high))]\n",
    "deeprl2_actions_high_tuple = [None for i in range(len(phys_actions_high))]\n",
    "\n",
    "for i in range(len(phys_actions_low)):\n",
    "    phys_actions_low_tuple[i] = inv_action_map[phys_actions_low[i]]\n",
    "    deeprl2_actions_low_tuple[i] = inv_action_map[deeprl2_actions_low[i]]\n",
    "\n",
    "for i in range(len(phys_actions_mid)):\n",
    "    phys_actions_mid_tuple[i] = inv_action_map[phys_actions_mid[i]]\n",
    "    deeprl2_actions_mid_tuple[i] = inv_action_map[deeprl2_actions_mid[i]]\n",
    "                                                  \n",
    "for i in range(len(phys_actions_high)):\n",
    "    phys_actions_high_tuple[i] = inv_action_map[phys_actions_high[i]]\n",
    "    deeprl2_actions_high_tuple[i] = inv_action_map[deeprl2_actions_high[i]]"
   ]
  },
  {
   "cell_type": "code",
   "execution_count": 21,
   "metadata": {
    "id": "p8B0bWBjCKpN"
   },
   "outputs": [],
   "source": [
    "phys_actions_low_tuple = np.array(phys_actions_low_tuple)\n",
    "deeprl2_actions_low_tuple = np.array(deeprl2_actions_low_tuple)\n",
    "\n",
    "phys_actions_mid_tuple = np.array(phys_actions_mid_tuple)\n",
    "deeprl2_actions_mid_tuple = np.array(deeprl2_actions_mid_tuple)\n",
    "\n",
    "phys_actions_high_tuple = np.array(phys_actions_high_tuple)\n",
    "deeprl2_actions_high_tuple = np.array(deeprl2_actions_high_tuple)"
   ]
  },
  {
   "cell_type": "code",
   "execution_count": 22,
   "metadata": {
    "id": "dyW9beASCKju"
   },
   "outputs": [],
   "source": [
    "phys_actions_low_vaso = phys_actions_low_tuple[:,0]\n",
    "hist_ph1, x_edges, y_edges = np.histogram2d(phys_actions_low_vaso, phys_actions_low_vaso, bins=5)\n",
    "\n",
    "phys_actions_mid_vaso = phys_actions_mid_tuple[:,0]\n",
    "hist_ph2, _, _ = np.histogram2d(phys_actions_mid_vaso, phys_actions_mid_vaso, bins=5)\n",
    "\n",
    "phys_actions_high_vaso = phys_actions_high_tuple[:,0]\n",
    "hist_ph3, _, _ = np.histogram2d(phys_actions_high_vaso, phys_actions_high_vaso, bins=5)"
   ]
  },
  {
   "cell_type": "code",
   "execution_count": 23,
   "metadata": {
    "id": "S46HnH28CKdS"
   },
   "outputs": [],
   "source": [
    "deeprl2_actions_low_vaso = deeprl2_actions_low_tuple[:,0]\n",
    "hist_drl1, _, _ = np.histogram2d(deeprl2_actions_low_vaso, deeprl2_actions_low_vaso, bins=5)\n",
    "\n",
    "deeprl2_actions_mid_vaso = deeprl2_actions_mid_tuple[:,0]\n",
    "hist_drl2, _, _ = np.histogram2d(deeprl2_actions_mid_vaso, deeprl2_actions_mid_vaso, bins=5)\n",
    "\n",
    "deeprl2_actions_high_vaso = deeprl2_actions_high_tuple[:,0]\n",
    "hist_drl3, _, _ = np.histogram2d(deeprl2_actions_high_vaso, deeprl2_actions_high_vaso, bins=5)"
   ]
  },
  {
   "cell_type": "code",
   "execution_count": 24,
   "metadata": {
    "id": "_S0x2lGtCXRv"
   },
   "outputs": [],
   "source": [
    "x_edges = np.arange(-0.5,5)\n",
    "y_edges = np.arange(-0.5,5)"
   ]
  },
  {
   "cell_type": "code",
   "execution_count": 25,
   "metadata": {
    "id": "fw26NQDqCXO5"
   },
   "outputs": [
    {
     "data": {
      "image/png": "[encoded data removed]",
      "text/plain": [
       "<Figure size 1152x288 with 6 Axes>"
      ]
     },
     "metadata": {
      "needs_background": "light"
     },
     "output_type": "display_data"
    }
   ],
   "source": [
    "#Can ignore this for now\n",
    "#Plot heatmap graphs on Q-network policy\n",
    "f, (ax1, ax2, ax3) = plt.subplots(1, 3, figsize=(16,4))\n",
    "ax1.imshow(np.flipud(hist_drl1), cmap=\"Blues\",extent=[x_edges[0], x_edges[-1],  y_edges[0],y_edges[-1]])\n",
    "ax2.imshow(np.flipud(hist_drl2), cmap=\"OrRd\", extent=[x_edges[0], x_edges[-1],  y_edges[0],y_edges[-1]])\n",
    "ax3.imshow(np.flipud(hist_drl3), cmap=\"Greens\", extent=[x_edges[0], x_edges[-1],  y_edges[0],y_edges[-1]])\n",
    "\n",
    "\n",
    "# ax1.grid(color='b', linestyle='-', linewidth=1)\n",
    "# ax2.grid(color='r', linestyle='-', linewidth=1)\n",
    "# ax3.grid(color='g', linestyle='-', linewidth=1)\n",
    "\n",
    "# Major ticks\n",
    "ax1.set_xticks(np.arange(0, 5, 1));\n",
    "ax1.set_yticks(np.arange(0, 5, 1));\n",
    "ax2.set_xticks(np.arange(0, 5, 1));\n",
    "ax2.set_yticks(np.arange(0, 5, 1));\n",
    "ax3.set_xticks(np.arange(0, 5, 1));\n",
    "ax3.set_yticks(np.arange(0, 5, 1));\n",
    "\n",
    "\n",
    "# Labels for major ticks\n",
    "ax1.set_xticklabels(np.arange(0, 5, 1));\n",
    "ax1.set_yticklabels(np.arange(0, 5, 1));\n",
    "ax2.set_xticklabels(np.arange(0, 5, 1));\n",
    "ax2.set_yticklabels(np.arange(0, 5, 1));\n",
    "ax3.set_xticklabels(np.arange(0, 5, 1));\n",
    "ax3.set_yticklabels(np.arange(0, 5, 1));\n",
    "\n",
    "\n",
    "# Minor ticks\n",
    "ax1.set_xticks(np.arange(-.5, 5, 1), minor=True);\n",
    "ax1.set_yticks(np.arange(-.5, 5, 1), minor=True);\n",
    "ax2.set_xticks(np.arange(-.5, 5, 1), minor=True);\n",
    "ax2.set_yticks(np.arange(-.5, 5, 1), minor=True);\n",
    "ax3.set_xticks(np.arange(-.5, 5, 1), minor=True);\n",
    "ax3.set_yticks(np.arange(-.5, 5, 1), minor=True);\n",
    "\n",
    "\n",
    "# Gridlines based on minor ticks\n",
    "ax1.grid(which='minor', color='b', linestyle='-', linewidth=1)\n",
    "ax2.grid(which='minor', color='r', linestyle='-', linewidth=1)\n",
    "ax3.grid(which='minor', color='g', linestyle='-', linewidth=1)\n",
    "\n",
    "\n",
    "im1 = ax1.pcolormesh(x_edges, y_edges, hist_drl1, cmap='Blues')\n",
    "f.colorbar(im1, ax=ax1, label = \"Action counts\")\n",
    "\n",
    "im2 = ax2.pcolormesh(x_edges, y_edges, hist_drl2, cmap='Greens')\n",
    "f.colorbar(im2, ax=ax2, label = \"Action counts\")\n",
    "\n",
    "im3 = ax3.pcolormesh(x_edges, y_edges, hist_drl3, cmap='OrRd')\n",
    "f.colorbar(im3, ax=ax3, label = \"Action counts\")\n",
    "\n",
    "\n",
    "ax1.set_ylabel('Vasopressor dose')\n",
    "ax2.set_ylabel('Vasopressor dose')\n",
    "ax3.set_ylabel('Vasopressor dose')\n",
    "ax1.set_xlabel('Vasopressor dose')\n",
    "ax2.set_xlabel('Vasopressor dose')\n",
    "ax3.set_xlabel('Vasopressor dose')\n",
    "\n",
    "\n",
    "ax1.set_title(\"Q-Network Low SOFA policy\")\n",
    "ax2.set_title(\"Q-Network Mid SOFA policy\")\n",
    "ax3.set_title(\"Q-Network High SOFA policy\")\n",
    "plt.tight_layout()"
   ]
  },
  {
   "cell_type": "code",
   "execution_count": 26,
   "metadata": {
    "id": "yJN09GGCCXML"
   },
   "outputs": [
    {
     "data": {
      "image/png": "[encoded data removed]",
      "text/plain": [
       "<Figure size 1152x288 with 6 Axes>"
      ]
     },
     "metadata": {
      "needs_background": "light"
     },
     "output_type": "display_data"
    }
   ],
   "source": [
    "#Kai wen this should be run with your SARSA results\n",
    "#Plot heatmap graphs on SARSA Physician policy\n",
    "f, (ax1, ax2, ax3) = plt.subplots(1, 3, figsize=(16,4))\n",
    "ax1.imshow(np.flipud(hist_ph1), cmap=\"Blues\",extent=[x_edges[0], x_edges[-1],  y_edges[0],y_edges[-1]])\n",
    "ax2.imshow(np.flipud(hist_ph2), cmap=\"OrRd\", extent=[x_edges[0], x_edges[-1],  y_edges[0],y_edges[-1]])\n",
    "ax3.imshow(np.flipud(hist_ph3), cmap=\"Greens\", extent=[x_edges[0], x_edges[-1],  y_edges[0],y_edges[-1]])\n",
    "\n",
    "\n",
    "# ax1.grid(color='b', linestyle='-', linewidth=1)\n",
    "# ax2.grid(color='r', linestyle='-', linewidth=1)\n",
    "# ax3.grid(color='g', linestyle='-', linewidth=1)\n",
    "\n",
    "# Major ticks\n",
    "ax1.set_xticks(np.arange(0, 5, 1));\n",
    "ax1.set_yticks(np.arange(0, 5, 1));\n",
    "ax2.set_xticks(np.arange(0, 5, 1));\n",
    "ax2.set_yticks(np.arange(0, 5, 1));\n",
    "ax3.set_xticks(np.arange(0, 5, 1));\n",
    "ax3.set_yticks(np.arange(0, 5, 1));\n",
    "\n",
    "\n",
    "# Labels for major ticks\n",
    "ax1.set_xticklabels(np.arange(0, 5, 1));\n",
    "ax1.set_yticklabels(np.arange(0, 5, 1));\n",
    "ax2.set_xticklabels(np.arange(0, 5, 1));\n",
    "ax2.set_yticklabels(np.arange(0, 5, 1));\n",
    "ax3.set_xticklabels(np.arange(0, 5, 1));\n",
    "ax3.set_yticklabels(np.arange(0, 5, 1));\n",
    "\n",
    "\n",
    "# Minor ticks\n",
    "ax1.set_xticks(np.arange(-.5, 5, 1), minor=True);\n",
    "ax1.set_yticks(np.arange(-.5, 5, 1), minor=True);\n",
    "ax2.set_xticks(np.arange(-.5, 5, 1), minor=True);\n",
    "ax2.set_yticks(np.arange(-.5, 5, 1), minor=True);\n",
    "ax3.set_xticks(np.arange(-.5, 5, 1), minor=True);\n",
    "ax3.set_yticks(np.arange(-.5, 5, 1), minor=True);\n",
    "\n",
    "\n",
    "# Gridlines based on minor ticks\n",
    "ax1.grid(which='minor', color='b', linestyle='-', linewidth=1)\n",
    "ax2.grid(which='minor', color='r', linestyle='-', linewidth=1)\n",
    "ax3.grid(which='minor', color='g', linestyle='-', linewidth=1)\n",
    "\n",
    "\n",
    "im1 = ax1.pcolormesh(x_edges, y_edges, hist_ph1, cmap='Blues')\n",
    "f.colorbar(im1, ax=ax1, label = \"Action counts\")\n",
    "\n",
    "im2 = ax2.pcolormesh(x_edges, y_edges, hist_ph2, cmap='Greens')\n",
    "f.colorbar(im2, ax=ax2, label = \"Action counts\")\n",
    "\n",
    "im3 = ax3.pcolormesh(x_edges, y_edges, hist_ph3, cmap='OrRd')\n",
    "f.colorbar(im3, ax=ax3, label = \"Action counts\")\n",
    "\n",
    "\n",
    "ax1.set_ylabel('Vasopressor dose')\n",
    "ax2.set_ylabel('Vasopressor dose')\n",
    "ax3.set_ylabel('Vasopressor dose')\n",
    "ax1.set_xlabel('Vasopressor dose')\n",
    "ax2.set_xlabel('Vasopressor dose')\n",
    "ax3.set_xlabel('Vasopressor dose')\n",
    "\n",
    "\n",
    "ax1.set_title(\"Physician Low SOFA policy\")\n",
    "ax2.set_title(\"Physician Mid SOFA policy\")\n",
    "ax3.set_title(\"Physician High SOFA policy\")\n",
    "plt.tight_layout()"
   ]
  },
  {
   "cell_type": "code",
   "execution_count": 27,
   "metadata": {
    "id": "oxOggP1gCXJ0"
   },
   "outputs": [],
   "source": [
    "def make_df_diff(op_actions, df_in):\n",
    "    op_vaso_med = []\n",
    "    for action in op_actions:\n",
    "        vaso,vaso = inv_action_map[action]\n",
    "        op_vaso_med.append(vaso_vals[vaso])\n",
    "    vaso_diff = np.array(op_vaso_med) - np.array(df_in['vaso_amount'])\n",
    "    df_diff = pd.DataFrame()\n",
    "    df_diff['mort'] = np.array(df_in['died_in_hosp'])\n",
    "    df_diff['vaso_diff'] = vaso_diff\n",
    "    return df_diff"
   ]
  },
  {
   "cell_type": "code",
   "execution_count": null,
   "metadata": {
    "id": "ROhi3iW6CXER"
   },
   "outputs": [],
   "source": [
    "#Don't run this box. Old code\n",
    "from scipy.stats import sem\n",
    "def make_iv_plot_data(df_diff):\n",
    "    bin_medians_iv = []\n",
    "    mort_iv = []\n",
    "    mort_std_iv= []\n",
    "    i = -800\n",
    "    while i <= 900:\n",
    "        count =df_diff.loc[(df_diff['iv_diff']>i-50) & (df_diff['iv_diff']<i+50)]\n",
    "        try:\n",
    "            res = sum(count['mort'])/float(len(count))\n",
    "            if len(count) >=2:\n",
    "                bin_medians_iv.append(i)\n",
    "                mort_iv.append(res)\n",
    "                mort_std_iv.append(sem(count['mort']))\n",
    "        except ZeroDivisionError:\n",
    "            pass\n",
    "        i += 100\n",
    "    return bin_medians_iv, mort_iv, mort_std_iv"
   ]
  },
  {
   "cell_type": "code",
   "execution_count": 28,
   "metadata": {
    "id": "334l5F3uCgRi"
   },
   "outputs": [],
   "source": [
    "from scipy.stats import sem\n",
    "def make_vaso_plot_data(df_diff):\n",
    "    bin_medians_vaso = []\n",
    "    mort_vaso= []\n",
    "    mort_std_vaso= []\n",
    "    i = -0.6\n",
    "    while i <= 0.6:\n",
    "        count =df_diff.loc[(df_diff['vaso_diff']>i-0.05) & (df_diff['vaso_diff']<i+0.05)]\n",
    "        try:\n",
    "            res = sum(count['mort'])/float(len(count))\n",
    "            if len(count) >=2:\n",
    "                bin_medians_vaso.append(i)\n",
    "                mort_vaso.append(res)\n",
    "                mort_std_vaso.append(sem(count['mort']))\n",
    "        except ZeroDivisionError:\n",
    "            pass\n",
    "        i += 0.1\n",
    "    return bin_medians_vaso, mort_vaso, mort_std_vaso"
   ]
  },
  {
   "cell_type": "code",
   "execution_count": 29,
   "metadata": {
    "id": "_6VDlqZsCgLo"
   },
   "outputs": [],
   "source": [
    "df_diff_low = make_df_diff(deeprl2_actions_low, df_test_orig_low)\n",
    "df_diff_mid = make_df_diff(deeprl2_actions_mid, df_test_orig_mid)\n",
    "df_diff_high = make_df_diff(deeprl2_actions_high, df_test_orig_high)"
   ]
  },
  {
   "cell_type": "code",
   "execution_count": 30,
   "metadata": {
    "id": "P0dZVqhRCgJQ"
   },
   "outputs": [],
   "source": [
    "bin_med_vaso_deep_low, mort_vaso_deep_low, mort_std_vaso_deep_low = make_vaso_plot_data(df_diff_low)\n",
    "\n",
    "bin_med_vaso_deep_mid, mort_vaso_deep_mid, mort_std_vaso_deep_mid = make_vaso_plot_data(df_diff_mid)\n",
    "\n",
    "bin_med_vaso_deep_high, mort_vaso_deep_high, mort_std_vaso_deep_high = make_vaso_plot_data(df_diff_high)"
   ]
  },
  {
   "cell_type": "code",
   "execution_count": 30,
   "metadata": {
    "id": "2u-3eeclCgGn"
   },
   "outputs": [],
   "source": [
    "#Don't run this box. Old code\n",
    "def diff_plot(med_vaso, mort_vaso, std_vaso, col, title):\n",
    "    f, ((ax1, ax2)) = plt.subplots(1, 2, sharex='col', sharey='row', figsize = (10,4))\n",
    "    step = 2\n",
    "    if col == 'r':\n",
    "        fillcol = 'lightsalmon'\n",
    "    elif col == 'g':\n",
    "        fillcol = 'palegreen'\n",
    "        step = 1\n",
    "    elif col == 'b':\n",
    "        fillcol = 'lightblue'\n",
    "    ax1.plot(med_vaso, sliding_mean(mort_vaso), color=col)\n",
    "    ax1.fill_between(med_vaso, sliding_mean(mort_vaso) - 1*std_vaso,  \n",
    "                     sliding_mean(mort_vaso) + 1*std_vaso, color=fillcol)\n",
    "    t = title + \": Vasopressors\"\n",
    "    ax1.set_title(t)\n",
    "    x_r = [i/10.0 for i in range(-6,8,2)]\n",
    "\n",
    "    y_r = [i/20.0 for i in range(0,20,step)]\n",
    "    ax1.set_xticks(x_r)\n",
    "    ax1.set_yticks(y_r)\n",
    "    ax1.grid()\n",
    "\n",
    "    ax2.plot(bin_med_vaso_auto, sliding_mean(mort_vaso_auto), color='g')\n",
    "    ax2.fill_between(bin_med_vaso_auto, sliding_mean(mort_vaso_auto) - 1*mort_std_vaso_auto,  \n",
    "                     sliding_mean(mort_vaso_auto) + 1*mort_std_vaso_auto, color='palegreen')\n",
    "    y_auto = [i/20.0 for i in range(0,21,1)]\n",
    "    ax2.set_yticks(y_auto)\n",
    "    ax2.set_title('Q-Network (Shaped Rewards) - Vasopressors')\n",
    "    ax2.grid()\n",
    "\n",
    "    f.text(0.5, -0.03, 'Difference between optimal and physician vasopressor dose', ha='center', fontsize=10)\n",
    "    f.text(0.05, 0.5, 'Observed Mortality', va='center', rotation='vertical', fontsize = 10)"
   ]
  },
  {
   "cell_type": "code",
   "execution_count": 31,
   "metadata": {},
   "outputs": [],
   "source": [
    "def diff_plot(med_vaso, mort_vaso, std_vaso, col, title):\n",
    "    f, ax1 = plt.subplots(1, 1, sharex='col', sharey='row', figsize = (8,4))\n",
    "    step = 2\n",
    "    if col == 'r':\n",
    "        fillcol = 'lightsalmon'\n",
    "    elif col == 'g':\n",
    "        fillcol = 'palegreen'\n",
    "        step = 1\n",
    "    elif col == 'b':\n",
    "        fillcol = 'lightblue'\n",
    "    ax1.plot(med_vaso, sliding_mean(mort_vaso), color=col)\n",
    "    ax1.fill_between(med_vaso, sliding_mean(mort_vaso) - 1*std_vaso,  \n",
    "                     sliding_mean(mort_vaso) + 1*std_vaso, color=fillcol)\n",
    "    t = title + \": Vasopressors\"\n",
    "    ax1.set_title(t)\n",
    "    x_r = [i/10.0 for i in range(-6,8,2)]\n",
    "\n",
    "    y_r = [i/20.0 for i in range(0,20,step)]\n",
    "    ax1.set_xticks(x_r)\n",
    "    ax1.set_yticks(y_r)\n",
    "    ax1.grid()\n",
    "\n",
    "    f.text(0.5, -0.03, 'Difference between optimal and physician vasopressor dose', ha='center', fontsize=10)\n",
    "    f.text(0.05, 0.5, 'Observed Mortality', va='center', rotation='vertical', fontsize = 10)\n"
   ]
  },
  {
   "cell_type": "code",
   "execution_count": 32,
   "metadata": {
    "id": "26mMXb_5CgDv"
   },
   "outputs": [
    {
     "data": {
      "image/png": "[encoded data removed]",
      "text/plain": [
       "<Figure size 576x288 with 1 Axes>"
      ]
     },
     "metadata": {
      "needs_background": "light"
     },
     "output_type": "display_data"
    }
   ],
   "source": [
    "diff_plot(bin_med_vaso_deep_low, mort_vaso_deep_low, mort_std_vaso_deep_low, 'b', 'Low SOFA')"
   ]
  },
  {
   "cell_type": "code",
   "execution_count": 33,
   "metadata": {
    "id": "pphEuUs2CqWw"
   },
   "outputs": [
    {
     "data": {
      "image/png": "[encoded data removed]",
      "text/plain": [
       "<Figure size 576x288 with 1 Axes>"
      ]
     },
     "metadata": {
      "needs_background": "light"
     },
     "output_type": "display_data"
    }
   ],
   "source": [
    "diff_plot(bin_med_vaso_deep_mid, mort_vaso_deep_mid, mort_std_vaso_deep_mid, 'g', 'Medium SOFA')"
   ]
  },
  {
   "cell_type": "code",
   "execution_count": 35,
   "metadata": {
    "id": "OolOEedWCqPk"
   },
   "outputs": [
    {
     "data": {
      "image/png": "[encoded data removed]",
      "text/plain": [
       "<Figure size 576x288 with 1 Axes>"
      ]
     },
     "metadata": {
      "needs_background": "light"
     },
     "output_type": "display_data"
    }
   ],
   "source": [
    "diff_plot(bin_med_vaso_deep_high, mort_vaso_deep_high, mort_std_vaso_deep_high, 'r', 'High SOFA')"
   ]
  },
  {
   "cell_type": "code",
   "execution_count": null,
   "metadata": {
    "id": "-tkDUOLdCf_S"
   },
   "outputs": [],
   "source": []
  }
 ],
 "metadata": {
  "colab": {
   "authorship_tag": "ABX9TyMQHtntyXagbSknh4+2gJYY",
   "mount_file_id": "1kXxUAsOtIOmhcG322hbOGSbx8lg3qolr",
   "provenance": []
  },
  "kernelspec": {
   "display_name": "Python 3 (ipykernel)",
   "language": "python",
   "name": "python3"
  },
  "language_info": {
   "codemirror_mode": {
    "name": "ipython",
    "version": 3
   },
   "file_extension": ".py",
   "mimetype": "text/x-python",
   "name": "python",
   "nbconvert_exporter": "python",
   "pygments_lexer": "ipython3",
   "version": "3.9.7"
  }
 },
 "nbformat": 4,
 "nbformat_minor": 1
}
