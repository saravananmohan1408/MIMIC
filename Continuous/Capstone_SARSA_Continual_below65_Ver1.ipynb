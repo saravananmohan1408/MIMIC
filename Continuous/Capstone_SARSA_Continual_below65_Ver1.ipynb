{
 "cells": [
  {
   "cell_type": "code",
   "execution_count": 1,
   "metadata": {
    "executionInfo": {
     "elapsed": 3160,
     "status": "ok",
     "timestamp": 1683681946206,
     "user": {
      "displayName": "Saravanan Mohan",
      "userId": "07953971426601696695"
     },
     "user_tz": -480
    },
    "id": "QPCrDs3DXQTd"
   },
   "outputs": [],
   "source": [
    "import tensorflow as tf\n",
    "import numpy as np\n",
    "import math\n",
    "import os\n",
    "import random\n",
    "import numpy as np\n",
    "import pandas as pd\n",
    "from pandas import DataFrame\n",
    "import pickle as pickle\n",
    "import math\n",
    "import copy"
   ]
  },
  {
   "cell_type": "code",
   "execution_count": 2,
   "metadata": {
    "executionInfo": {
     "elapsed": 330,
     "status": "ok",
     "timestamp": 1683681949054,
     "user": {
      "displayName": "Saravanan Mohan",
      "userId": "07953971426601696695"
     },
     "user_tz": -480
    },
    "id": "3yW_sTbjXQTg"
   },
   "outputs": [],
   "source": [
    "os.environ['CUDA_VISIBLE_DEVICES'] = '0'"
   ]
  },
  {
   "cell_type": "code",
   "execution_count": 3,
   "metadata": {
    "colab": {
     "base_uri": "https://localhost:8080/"
    },
    "executionInfo": {
     "elapsed": 2109,
     "status": "ok",
     "timestamp": 1683681953127,
     "user": {
      "displayName": "Saravanan Mohan",
      "userId": "07953971426601696695"
     },
     "user_tz": -480
    },
    "id": "1gg85VvEXQTg",
    "outputId": "dd375e61-57bb-40d3-ada1-c3c74f1bf87f"
   },
   "outputs": [
    {
     "name": "stdout",
     "output_type": "stream",
     "text": [
      "['sofa_score', 'sirs', 'age', 'weight', 'gender', 'gcs', 'sofa_24hours', 'bilirubin_total', 'bicarbonate', 'hemoglobin', 'chloride', 'calcium', 'potassium', 'sodium', 'lactate', 'glucose', 'respiratory_rate_total', 'fio2', 'platelet', 'wbc', 'albumin', 'creatinine', 'heart_rate', 'temperature', 'spo2', 'vaso_rate', 'vaso_amount', 'urineoutput']\n",
      "28\n"
     ]
    }
   ],
   "source": [
    "with open('C:\\\\Users\\\\sara1\\\\Desktop\\\\Workingdata\\\\state_features.txt') as f:\n",
    "    state_features = f.read().split()\n",
    "print (state_features)\n",
    "print (len(state_features))"
   ]
  },
  {
   "cell_type": "code",
   "execution_count": 4,
   "metadata": {
    "executionInfo": {
     "elapsed": 27879,
     "status": "ok",
     "timestamp": 1683681982594,
     "user": {
      "displayName": "Saravanan Mohan",
      "userId": "07953971426601696695"
     },
     "user_tz": -480
    },
    "id": "yatABA-SXQTi"
   },
   "outputs": [],
   "source": [
    "df = pd.read_csv('C:\\\\Users\\\\sara1\\\\Desktop\\\\Workingdata\\\\rl_train_below65.csv')"
   ]
  },
  {
   "cell_type": "code",
   "execution_count": 5,
   "metadata": {
    "colab": {
     "base_uri": "https://localhost:8080/",
     "height": 300
    },
    "executionInfo": {
     "elapsed": 327,
     "status": "ok",
     "timestamp": 1683681994878,
     "user": {
      "displayName": "Saravanan Mohan",
      "userId": "07953971426601696695"
     },
     "user_tz": -480
    },
    "id": "2YvgwVR0XQTj",
    "outputId": "320eab43-82f4-4edd-b83c-7f2b855a25e7",
    "scrolled": false
   },
   "outputs": [
    {
     "data": {
      "text/html": [
       "<div>\n",
       "<style scoped>\n",
       "    .dataframe tbody tr th:only-of-type {\n",
       "        vertical-align: middle;\n",
       "    }\n",
       "\n",
       "    .dataframe tbody tr th {\n",
       "        vertical-align: top;\n",
       "    }\n",
       "\n",
       "    .dataframe thead th {\n",
       "        text-align: right;\n",
       "    }\n",
       "</style>\n",
       "<table border=\"1\" class=\"dataframe\">\n",
       "  <thead>\n",
       "    <tr style=\"text-align: right;\">\n",
       "      <th></th>\n",
       "      <th>stay_id</th>\n",
       "      <th>sofa_score</th>\n",
       "      <th>sirs</th>\n",
       "      <th>age</th>\n",
       "      <th>weight</th>\n",
       "      <th>gender</th>\n",
       "      <th>gcs</th>\n",
       "      <th>sofa_24hours</th>\n",
       "      <th>bilirubin_total</th>\n",
       "      <th>bicarbonate</th>\n",
       "      <th>...</th>\n",
       "      <th>creatinine</th>\n",
       "      <th>heart_rate</th>\n",
       "      <th>temperature</th>\n",
       "      <th>spo2</th>\n",
       "      <th>vaso_rate</th>\n",
       "      <th>vaso_amount</th>\n",
       "      <th>urineoutput</th>\n",
       "      <th>died_in_hosp</th>\n",
       "      <th>vaso_input</th>\n",
       "      <th>reward</th>\n",
       "    </tr>\n",
       "  </thead>\n",
       "  <tbody>\n",
       "    <tr>\n",
       "      <th>0</th>\n",
       "      <td>38563000</td>\n",
       "      <td>0.0</td>\n",
       "      <td>1.0</td>\n",
       "      <td>0.425532</td>\n",
       "      <td>0.107514</td>\n",
       "      <td>1.0</td>\n",
       "      <td>1.0</td>\n",
       "      <td>0.043478</td>\n",
       "      <td>0.065682</td>\n",
       "      <td>0.8125</td>\n",
       "      <td>...</td>\n",
       "      <td>0.105287</td>\n",
       "      <td>0.506438</td>\n",
       "      <td>0.563117</td>\n",
       "      <td>0.959184</td>\n",
       "      <td>0.000483</td>\n",
       "      <td>0.039987</td>\n",
       "      <td>0.057143</td>\n",
       "      <td>0</td>\n",
       "      <td>2.0</td>\n",
       "      <td>-0.25</td>\n",
       "    </tr>\n",
       "    <tr>\n",
       "      <th>1</th>\n",
       "      <td>38563000</td>\n",
       "      <td>0.0</td>\n",
       "      <td>1.0</td>\n",
       "      <td>0.425532</td>\n",
       "      <td>0.107514</td>\n",
       "      <td>1.0</td>\n",
       "      <td>1.0</td>\n",
       "      <td>0.086957</td>\n",
       "      <td>0.065682</td>\n",
       "      <td>0.3750</td>\n",
       "      <td>...</td>\n",
       "      <td>0.105287</td>\n",
       "      <td>0.506438</td>\n",
       "      <td>0.563117</td>\n",
       "      <td>0.959184</td>\n",
       "      <td>0.000483</td>\n",
       "      <td>0.039987</td>\n",
       "      <td>0.057143</td>\n",
       "      <td>0</td>\n",
       "      <td>2.0</td>\n",
       "      <td>0.00</td>\n",
       "    </tr>\n",
       "    <tr>\n",
       "      <th>2</th>\n",
       "      <td>38563000</td>\n",
       "      <td>0.0</td>\n",
       "      <td>1.0</td>\n",
       "      <td>0.425532</td>\n",
       "      <td>0.107514</td>\n",
       "      <td>1.0</td>\n",
       "      <td>1.0</td>\n",
       "      <td>0.173913</td>\n",
       "      <td>0.065682</td>\n",
       "      <td>0.0000</td>\n",
       "      <td>...</td>\n",
       "      <td>0.105287</td>\n",
       "      <td>0.506438</td>\n",
       "      <td>0.563117</td>\n",
       "      <td>0.959184</td>\n",
       "      <td>0.000483</td>\n",
       "      <td>0.039987</td>\n",
       "      <td>0.057143</td>\n",
       "      <td>0</td>\n",
       "      <td>2.0</td>\n",
       "      <td>-0.25</td>\n",
       "    </tr>\n",
       "    <tr>\n",
       "      <th>3</th>\n",
       "      <td>38563000</td>\n",
       "      <td>0.0</td>\n",
       "      <td>1.0</td>\n",
       "      <td>0.425532</td>\n",
       "      <td>0.107514</td>\n",
       "      <td>1.0</td>\n",
       "      <td>1.0</td>\n",
       "      <td>0.043478</td>\n",
       "      <td>0.065682</td>\n",
       "      <td>0.3125</td>\n",
       "      <td>...</td>\n",
       "      <td>0.105287</td>\n",
       "      <td>0.506438</td>\n",
       "      <td>0.563117</td>\n",
       "      <td>0.959184</td>\n",
       "      <td>0.000483</td>\n",
       "      <td>0.039987</td>\n",
       "      <td>0.057143</td>\n",
       "      <td>0</td>\n",
       "      <td>2.0</td>\n",
       "      <td>-0.25</td>\n",
       "    </tr>\n",
       "    <tr>\n",
       "      <th>4</th>\n",
       "      <td>38563000</td>\n",
       "      <td>0.0</td>\n",
       "      <td>1.0</td>\n",
       "      <td>0.425532</td>\n",
       "      <td>0.107514</td>\n",
       "      <td>1.0</td>\n",
       "      <td>1.0</td>\n",
       "      <td>0.086957</td>\n",
       "      <td>0.065682</td>\n",
       "      <td>0.3750</td>\n",
       "      <td>...</td>\n",
       "      <td>0.105287</td>\n",
       "      <td>0.506438</td>\n",
       "      <td>0.563117</td>\n",
       "      <td>0.959184</td>\n",
       "      <td>0.000483</td>\n",
       "      <td>0.039987</td>\n",
       "      <td>0.057143</td>\n",
       "      <td>0</td>\n",
       "      <td>2.0</td>\n",
       "      <td>-0.25</td>\n",
       "    </tr>\n",
       "  </tbody>\n",
       "</table>\n",
       "<p>5 rows × 32 columns</p>\n",
       "</div>"
      ],
      "text/plain": [
       "    stay_id  sofa_score  sirs       age    weight  gender  gcs  sofa_24hours  \\\n",
       "0  38563000         0.0   1.0  0.425532  0.107514     1.0  1.0      0.043478   \n",
       "1  38563000         0.0   1.0  0.425532  0.107514     1.0  1.0      0.086957   \n",
       "2  38563000         0.0   1.0  0.425532  0.107514     1.0  1.0      0.173913   \n",
       "3  38563000         0.0   1.0  0.425532  0.107514     1.0  1.0      0.043478   \n",
       "4  38563000         0.0   1.0  0.425532  0.107514     1.0  1.0      0.086957   \n",
       "\n",
       "   bilirubin_total  bicarbonate  ...  creatinine  heart_rate  temperature  \\\n",
       "0         0.065682       0.8125  ...    0.105287    0.506438     0.563117   \n",
       "1         0.065682       0.3750  ...    0.105287    0.506438     0.563117   \n",
       "2         0.065682       0.0000  ...    0.105287    0.506438     0.563117   \n",
       "3         0.065682       0.3125  ...    0.105287    0.506438     0.563117   \n",
       "4         0.065682       0.3750  ...    0.105287    0.506438     0.563117   \n",
       "\n",
       "       spo2  vaso_rate  vaso_amount  urineoutput  died_in_hosp  vaso_input  \\\n",
       "0  0.959184   0.000483     0.039987     0.057143             0         2.0   \n",
       "1  0.959184   0.000483     0.039987     0.057143             0         2.0   \n",
       "2  0.959184   0.000483     0.039987     0.057143             0         2.0   \n",
       "3  0.959184   0.000483     0.039987     0.057143             0         2.0   \n",
       "4  0.959184   0.000483     0.039987     0.057143             0         2.0   \n",
       "\n",
       "   reward  \n",
       "0   -0.25  \n",
       "1    0.00  \n",
       "2   -0.25  \n",
       "3   -0.25  \n",
       "4   -0.25  \n",
       "\n",
       "[5 rows x 32 columns]"
      ]
     },
     "execution_count": 5,
     "metadata": {},
     "output_type": "execute_result"
    }
   ],
   "source": [
    "df.head()"
   ]
  },
  {
   "cell_type": "code",
   "execution_count": 6,
   "metadata": {
    "executionInfo": {
     "elapsed": 4544,
     "status": "ok",
     "timestamp": 1683682002774,
     "user": {
      "displayName": "Saravanan Mohan",
      "userId": "07953971426601696695"
     },
     "user_tz": -480
    },
    "id": "9daBu6dDXQTj"
   },
   "outputs": [],
   "source": [
    "val_df = pd.read_csv('C:\\\\Users\\\\sara1\\\\Desktop\\\\Workingdata\\\\rl_val_below65.csv')"
   ]
  },
  {
   "cell_type": "code",
   "execution_count": 7,
   "metadata": {
    "executionInfo": {
     "elapsed": 8227,
     "status": "ok",
     "timestamp": 1683682014464,
     "user": {
      "displayName": "Saravanan Mohan",
      "userId": "07953971426601696695"
     },
     "user_tz": -480
    },
    "id": "SBVv0hdpXQTk"
   },
   "outputs": [],
   "source": [
    "test_df = pd.read_csv('C:\\\\Users\\\\sara1\\\\Desktop\\\\Workingdata\\\\rl_test_below65.csv')"
   ]
  },
  {
   "cell_type": "code",
   "execution_count": 8,
   "metadata": {
    "executionInfo": {
     "elapsed": 307,
     "status": "ok",
     "timestamp": 1683682016523,
     "user": {
      "displayName": "Saravanan Mohan",
      "userId": "07953971426601696695"
     },
     "user_tz": -480
    },
    "id": "Aa6Wf-q-XQTk"
   },
   "outputs": [],
   "source": [
    "REWARD_THRESHOLD = 20\n",
    "reg_lambda = 5"
   ]
  },
  {
   "cell_type": "code",
   "execution_count": 9,
   "metadata": {
    "executionInfo": {
     "elapsed": 308,
     "status": "ok",
     "timestamp": 1683682019370,
     "user": {
      "displayName": "Saravanan Mohan",
      "userId": "07953971426601696695"
     },
     "user_tz": -480
    },
    "id": "a85c0MP6XQTk"
   },
   "outputs": [],
   "source": [
    "# PER important weights and params\n",
    "per_flag = True\n",
    "beta_start = 0.9\n",
    "df['prob'] = abs(df['reward'])\n",
    "temp = 1.0/df['prob']\n",
    "#temp[temp == float('Inf')] = 1.0\n",
    "df['imp_weight'] = pow((1.0/len(df) * temp), beta_start)"
   ]
  },
  {
   "cell_type": "code",
   "execution_count": 10,
   "metadata": {
    "executionInfo": {
     "elapsed": 2,
     "status": "ok",
     "timestamp": 1683682022164,
     "user": {
      "displayName": "Saravanan Mohan",
      "userId": "07953971426601696695"
     },
     "user_tz": -480
    },
    "id": "fOl2F4CAXQTl"
   },
   "outputs": [],
   "source": [
    "hidden_1_size = 128\n",
    "hidden_2_size = 128\n",
    "#  Q-network uses Leaky ReLU activation\n",
    "class Qnetwork():\n",
    "    def __init__(self):\n",
    "        self.phase = tf.compat.v1.placeholder(tf.bool)\n",
    "\n",
    "        self.num_actions = 5\n",
    "\n",
    "        self.input_size = len(state_features)\n",
    "\n",
    "        self.state = tf.compat.v1.placeholder(tf.float32, shape=[None, self.input_size],name=\"input_state\")\n",
    "\n",
    "        self.fc_1 = tf.keras.layers.Dense(hidden_1_size, activation=None)(self.state)\n",
    "        self.fc_1_bn = tf.keras.layers.BatchNormalization(center=True, scale=True)(self.fc_1, training=self.phase)\n",
    "        self.fc_1_ac = tf.keras.activations.relu(self.fc_1_bn, alpha=0.01)\n",
    "        self.fc_2 = tf.keras.layers.Dense(hidden_2_size, activation=None)(self.fc_1_ac)\n",
    "        self.fc_2_bn = tf.keras.layers.BatchNormalization(center=True, scale=True)(self.fc_2, training=self.phase)\n",
    "        self.fc_2_ac = tf.keras.activations.relu(self.fc_2_bn, alpha=0.01)\n",
    "\n",
    "        # advantage and value streams\n",
    "        self.streamA,self.streamV = tf.split(self.fc_2_ac,2,axis=1)\n",
    "        self.AW = tf.Variable(tf.random.normal([hidden_2_size//2,self.num_actions]))\n",
    "        self.VW = tf.Variable(tf.random.normal([hidden_2_size//2,1]))\n",
    "        self.Advantage = tf.matmul(self.streamA,self.AW)\n",
    "        self.Value = tf.matmul(self.streamV,self.VW)\n",
    "\n",
    "        #Then combine them together to get our final Q-values.\n",
    "        self.q_output = self.Value + tf.subtract(self.Advantage,tf.reduce_mean(self.Advantage,axis=1,keepdims=True))\n",
    "\n",
    "        #Below we obtain the loss by taking the sum of squares difference between the target and predicted Q values.\n",
    "        self.targetQ = tf.compat.v1.placeholder(shape=[None],dtype=tf.float32)\n",
    "        self.actions = tf.compat.v1.placeholder(shape=[None],dtype=tf.int32)\n",
    "        self.actions_onehot = tf.one_hot(self.actions,self.num_actions,dtype=tf.float32)\n",
    "\n",
    "        # Importance sampling weights for PER, used in network update\n",
    "        self.imp_weights = tf.compat.v1.placeholder(shape=[None], dtype=tf.float32)\n",
    "\n",
    "        # select the Q values for the actions that would be selected\n",
    "        self.Q = tf.reduce_sum(tf.multiply(self.q_output, self.actions_onehot), axis=1) # batch size x 1 vector\n",
    "\n",
    "        # regularisation penalises the network when it produces rewards that are above the\n",
    "        # reward threshold, to ensure reasonable Q-value predictions\n",
    "        self.reg_vector = tf.maximum(tf.abs(self.Q)-REWARD_THRESHOLD,0)\n",
    "        self.reg_term = tf.reduce_sum(self.reg_vector)\n",
    "\n",
    "        self.abs_error = tf.abs(self.targetQ - self.Q)\n",
    "\n",
    "        self.td_error = tf.square(self.targetQ - self.Q)\n",
    "\n",
    "        # below is the loss when we are not using PER\n",
    "        self.old_loss = tf.reduce_mean(self.td_error)\n",
    "\n",
    "        # as in the paper, to get PER loss we weight the squared error by the importance weights\n",
    "        self.per_error = tf.multiply(self.td_error, self.imp_weights)\n",
    "\n",
    "        # total loss is a sum of PER loss and the regularisation term\n",
    "        if per_flag:\n",
    "            self.loss = tf.reduce_mean(self.per_error) + reg_lambda*self.reg_term\n",
    "        else:\n",
    "            self.loss = self.old_loss + reg_lambda*self.reg_term\n",
    "\n",
    "        self.trainer = tf.compat.v1.train.AdamOptimizer(learning_rate=0.0001)\n",
    "        self.update_ops = tf.compat.v1.get_collection(tf.compat.v1.GraphKeys.UPDATE_OPS)\n",
    "        with tf.control_dependencies(self.update_ops):\n",
    "        # Ensures that we execute the update_ops before performing the model update, so batchnorm works\n",
    "            self.update_model = self.trainer.minimize(self.loss)"
   ]
  },
  {
   "cell_type": "code",
   "execution_count": 11,
   "metadata": {
    "executionInfo": {
     "elapsed": 2,
     "status": "ok",
     "timestamp": 1683682027619,
     "user": {
      "displayName": "Saravanan Mohan",
      "userId": "07953971426601696695"
     },
     "user_tz": -480
    },
    "id": "Ws_ho_L4XQTm"
   },
   "outputs": [],
   "source": [
    "# function is needed to update parameters between main and target network\n",
    "# tf_vars are the trainable variables to update, and tau is the rate at which to update\n",
    "# returns tf ops corresponding to the updates\n",
    "def update_target_graph(tf_vars,tau):\n",
    "    total_vars = len(tf_vars)\n",
    "    op_holder = []\n",
    "    for idx,var in enumerate(tf_vars[0:int(total_vars/2)]):\n",
    "        op_holder.append(tf_vars[idx+int(total_vars/2)].assign((var.value()*tau) + ((1-tau)*tf_vars[idx+int(total_vars/2)].value())))\n",
    "    return op_holder"
   ]
  },
  {
   "cell_type": "code",
   "execution_count": 12,
   "metadata": {
    "executionInfo": {
     "elapsed": 330,
     "status": "ok",
     "timestamp": 1683682030203,
     "user": {
      "displayName": "Saravanan Mohan",
      "userId": "07953971426601696695"
     },
     "user_tz": -480
    },
    "id": "-Tc-BQCnXQTm"
   },
   "outputs": [],
   "source": [
    "def update_target(op_holder,sess):\n",
    "    for op in op_holder:\n",
    "        sess.run(op)"
   ]
  },
  {
   "cell_type": "code",
   "execution_count": 13,
   "metadata": {
    "executionInfo": {
     "elapsed": 637,
     "status": "ok",
     "timestamp": 1683682032972,
     "user": {
      "displayName": "Saravanan Mohan",
      "userId": "07953971426601696695"
     },
     "user_tz": -480
    },
    "id": "bixxUw1_XQTn"
   },
   "outputs": [],
   "source": [
    "# define an action mapping - how to get an id representing the action from the (vaso) tuple\n",
    "action_map = {}\n",
    "count = 0\n",
    "for vaso in range(5):\n",
    "    action_map[(vaso)] = count\n",
    "    count += 1"
   ]
  },
  {
   "cell_type": "code",
   "execution_count": 14,
   "metadata": {
    "executionInfo": {
     "elapsed": 439,
     "status": "ok",
     "timestamp": 1683682036597,
     "user": {
      "displayName": "Saravanan Mohan",
      "userId": "07953971426601696695"
     },
     "user_tz": -480
    },
    "id": "RkZv1uF_XQTn"
   },
   "outputs": [],
   "source": [
    "# generates batches for the Q network - depending on train and eval_type, can select data from train/val/test sets.\n",
    "def process_train_batch(size):\n",
    "    if per_flag:\n",
    "        # uses prioritised exp replay\n",
    "        a = df.sample(n=size, weights=df['prob'])\n",
    "    else:\n",
    "        a = df.sample(n=size)\n",
    "    states = None\n",
    "    actions = None\n",
    "    rewards = None\n",
    "    next_states = None\n",
    "    next_actions = None\n",
    "    done_flags = None\n",
    "    for i in a.index:\n",
    "        cur_state = a.loc[i,state_features]\n",
    "        vaso = int(a.loc[i, 'vaso_input'])\n",
    "        action = action_map[vaso]\n",
    "        reward = a.loc[i,'reward']\n",
    "\n",
    "        if i != df.index[-1]:\n",
    "            # if not terminal step in trajectory\n",
    "            if df.loc[i, 'stay_id'] == df.loc[i+1, 'stay_id']:\n",
    "                next_state = df.loc[i + 1, state_features]\n",
    "                next_vaso = int(df.loc[i+1, 'vaso_input'])\n",
    "                next_action = action_map[vaso]\n",
    "                done = 0\n",
    "            else:\n",
    "                # trajectory is finished\n",
    "                next_state = np.zeros(len(cur_state))\n",
    "                next_action = 0\n",
    "                done = 1\n",
    "        else:\n",
    "            # last entry in df is the final state of that trajectory\n",
    "            next_state = np.zeros(len(cur_state))\n",
    "            next_action = 0\n",
    "            done = 1\n",
    "\n",
    "        if states is None:\n",
    "            states = copy.deepcopy(cur_state)\n",
    "        else:\n",
    "            states = np.vstack((states,cur_state))\n",
    "\n",
    "        if actions is None:\n",
    "            actions = [action]\n",
    "        else:\n",
    "            actions = np.vstack((actions,action))\n",
    "\n",
    "        if rewards is None:\n",
    "            rewards = [reward]\n",
    "        else:\n",
    "            rewards = np.vstack((rewards,reward))\n",
    "\n",
    "        if next_states is None:\n",
    "            next_states = copy.deepcopy(next_state)\n",
    "        else:\n",
    "            next_states = np.vstack((next_states,next_state))\n",
    "\n",
    "        if next_actions is None:\n",
    "            next_actions = [next_action]\n",
    "        else:\n",
    "            next_actions = np.vstack((next_actions,next_action))\n",
    "\n",
    "        if done_flags is None:\n",
    "            done_flags = [done]\n",
    "        else:\n",
    "            done_flags = np.vstack((done_flags,done))\n",
    "\n",
    "    return (states, np.squeeze(actions), np.squeeze(rewards), next_states,np.squeeze(next_actions), np.squeeze(done_flags), a)\n"
   ]
  },
  {
   "cell_type": "code",
   "execution_count": 15,
   "metadata": {
    "executionInfo": {
     "elapsed": 672,
     "status": "ok",
     "timestamp": 1683682041107,
     "user": {
      "displayName": "Saravanan Mohan",
      "userId": "07953971426601696695"
     },
     "user_tz": -480
    },
    "id": "NrXCbeH1XQTq"
   },
   "outputs": [],
   "source": [
    "# extract chunks of length size from the relevant dataframe, and yield these to the caller\n",
    "def process_eval_batch(size, eval_type = None):\n",
    "    if eval_type is None:\n",
    "        raise Exception('Provide eval_type to process_eval_batch')\n",
    "    elif eval_type == 'train':\n",
    "        a = df.copy()\n",
    "    elif eval_type == 'val':\n",
    "        a = val_df.copy()\n",
    "    elif eval_type == 'test':\n",
    "        a = test_df.copy()\n",
    "    else:\n",
    "        raise Exception('Unknown eval_type')\n",
    "\n",
    "    count = 0\n",
    "    while count < len(a.index):\n",
    "        states = None\n",
    "        actions = None\n",
    "        rewards = None\n",
    "        next_states = None\n",
    "        next_actions = None\n",
    "        done_flags = None\n",
    "\n",
    "        start_idx = count\n",
    "        end_idx = min(len(a.index), count+size)\n",
    "        segment = a.index[start_idx:end_idx]\n",
    "\n",
    "        for i in segment:\n",
    "            cur_state = a.loc[i,state_features]\n",
    "            vaso = int(a.loc[i, 'vaso_input'])\n",
    "            action = action_map[vaso]\n",
    "            reward = a.loc[i,'reward']\n",
    "\n",
    "            if i != a.index[-1]:\n",
    "                # if not terminal step in trajectory\n",
    "                if a.loc[i, 'stay_id'] == a.loc[i+1, 'stay_id']:\n",
    "                    next_state = a.loc[i + 1, state_features]\n",
    "                    next_vaso = int(a.loc[i+1, 'vaso_input'])\n",
    "                    next_action = action_map[vaso]\n",
    "                    done = 0\n",
    "                else:\n",
    "                    # trajectory is finished\n",
    "                    next_state = np.zeros(len(cur_state))\n",
    "                    next_action = 0\n",
    "                    done = 1\n",
    "\n",
    "            else:\n",
    "                # last entry in df is the final state of that trajectory\n",
    "                next_state = np.zeros(len(cur_state))\n",
    "                done = 1\n",
    "\n",
    "            if states is None:\n",
    "                states = copy.deepcopy(cur_state)\n",
    "            else:\n",
    "                states = np.vstack((states,cur_state))\n",
    "\n",
    "            if actions is None:\n",
    "                actions = [action]\n",
    "            else:\n",
    "                actions = np.vstack((actions,action))\n",
    "\n",
    "            if rewards is None:\n",
    "                rewards = [reward]\n",
    "            else:\n",
    "                rewards = np.vstack((rewards,reward))\n",
    "\n",
    "            if next_states is None:\n",
    "                next_states = copy.deepcopy(next_state)\n",
    "            else:\n",
    "                next_states = np.vstack((next_states,next_state))\n",
    "\n",
    "            if next_actions is None:\n",
    "                next_actions = [next_action]\n",
    "            else:\n",
    "                next_actions = np.vstack((next_actions,next_action))\n",
    "\n",
    "            if done_flags is None:\n",
    "                done_flags = [done]\n",
    "            else:\n",
    "                done_flags = np.vstack((done_flags,done))\n",
    "\n",
    "        yield (states, np.squeeze(actions), np.squeeze(rewards), next_states,np.squeeze(next_actions), np.squeeze(done_flags), a)\n",
    "\n",
    "        count += size\n"
   ]
  },
  {
   "cell_type": "code",
   "execution_count": 16,
   "metadata": {
    "executionInfo": {
     "elapsed": 333,
     "status": "ok",
     "timestamp": 1683682045339,
     "user": {
      "displayName": "Saravanan Mohan",
      "userId": "07953971426601696695"
     },
     "user_tz": -480
    },
    "id": "BiMOgU4gXQTr"
   },
   "outputs": [],
   "source": [
    "#  Used to run diagnostics on the train set\n",
    "phys_q_train = []\n",
    "phys_actions_tr = []\n",
    "def train_set_performance():\n",
    "    count = 0\n",
    "    global phys_q_train\n",
    "    global phys_actions\n",
    "    phys_q_train = []\n",
    "    phys_actions_tr = []\n",
    "    for r in df.index:\n",
    "        cur_state = [df.loc[r,state_features]]\n",
    "        vaso = int(df.loc[r, 'vaso_input'])\n",
    "        action = action_map[vaso]\n",
    "        output_q = np.squeeze(sess.run(mainQN.q_output, feed_dict = {mainQN.state : cur_state, mainQN.phase : False}))\n",
    "        phys_q_train.append(output_q[action])\n",
    "        phys_actions_tr.append(action)\n",
    "        count += 1"
   ]
  },
  {
   "cell_type": "code",
   "execution_count": 17,
   "metadata": {
    "executionInfo": {
     "elapsed": 2,
     "status": "ok",
     "timestamp": 1683682047214,
     "user": {
      "displayName": "Saravanan Mohan",
      "userId": "07953971426601696695"
     },
     "user_tz": -480
    },
    "id": "Xf4k2s-zXQTr"
   },
   "outputs": [],
   "source": [
    "def do_eval(eval_type):\n",
    "    gen = process_eval_batch(size = 1000, eval_type=eval_type)\n",
    "\n",
    "    phys_q_ret = []\n",
    "    actions_ret = []\n",
    "    error_ret = 0\n",
    "\n",
    "    for b in gen:\n",
    "        states,actions,rewards,next_states, next_actions, done_flags, _ = b\n",
    "\n",
    "        # Q values for the next timestep from target network, as part of the target Q calculation\n",
    "        Q2 = sess.run(targetQN.q_output,feed_dict={targetQN.state:next_states, targetQN.phase : 0})\n",
    "\n",
    "        # handles the case when a trajectory is finished\n",
    "        end_multiplier = 1 - done_flags\n",
    "\n",
    "        # Using the next actions, find the q value for the next state/action pairs\n",
    "        next_state_q = Q2[range(len(Q2)),next_actions]\n",
    "\n",
    "        # definition of target Q\n",
    "        targetQ = rewards + (gamma*next_state_q * end_multiplier)\n",
    "\n",
    "        # get the output q's, actions, and loss\n",
    "        q_output, abs_error = sess.run([mainQN.q_output, mainQN.abs_error], \\\n",
    "            feed_dict={mainQN.state:states,\n",
    "                       mainQN.targetQ:targetQ,\n",
    "                       mainQN.actions:actions,\n",
    "                       mainQN.phase:False})\n",
    "\n",
    "        phys_q = q_output[range(len(q_output)), actions]\n",
    "        error = np.mean(abs_error)\n",
    "\n",
    "        #  update the return vals\n",
    "        phys_q_ret.extend(phys_q)\n",
    "        actions_ret.extend(actions)\n",
    "        error_ret += error\n",
    "\n",
    "    return phys_q_ret, actions_ret, error_ret"
   ]
  },
  {
   "cell_type": "code",
   "execution_count": 18,
   "metadata": {
    "executionInfo": {
     "elapsed": 319,
     "status": "ok",
     "timestamp": 1683682050147,
     "user": {
      "displayName": "Saravanan Mohan",
      "userId": "07953971426601696695"
     },
     "user_tz": -480
    },
    "id": "dALHlf1RXQTr"
   },
   "outputs": [],
   "source": [
    "config = tf.compat.v1.ConfigProto()\n",
    "config.gpu_options.allow_growth = True  # Don't use all GPUs\n",
    "config.allow_soft_placement = True  # Enable manual control"
   ]
  },
  {
   "cell_type": "code",
   "execution_count": 19,
   "metadata": {
    "executionInfo": {
     "elapsed": 3,
     "status": "ok",
     "timestamp": 1683682051788,
     "user": {
      "displayName": "Saravanan Mohan",
      "userId": "07953971426601696695"
     },
     "user_tz": -480
    },
    "id": "l1u_WC1AXQTr"
   },
   "outputs": [],
   "source": [
    "def do_save_results():\n",
    "    # get the chosen actions for the train, val, and test set when training is complete.\n",
    "    phys_q_train, phys_actions_train, _ =  do_eval(eval_type = 'train')\n",
    "    phys_q_val, phys_actions_val, _ = do_eval(eval_type = 'val')\n",
    "    phys_q_test, phys_actions_test, _ = do_eval(eval_type = 'test')\n",
    "\n",
    "    # save everything for later - they're used in policy evaluation and when generating plots\n",
    "    with open(save_dir + 'phys_actions_train.p', 'wb') as f:\n",
    "        pickle.dump(phys_actions_train, f)\n",
    "    with open(save_dir + 'phys_actions_val.p', 'wb') as f:\n",
    "        pickle.dump(phys_actions_val, f)\n",
    "    with open(save_dir + 'phys_actions_test.p', 'wb') as f:\n",
    "        pickle.dump(phys_actions_test, f)\n",
    "\n",
    "    with open(save_dir + 'phys_q_train.p', 'wb') as f:\n",
    "        pickle.dump(phys_q_train, f)\n",
    "    with open(save_dir + 'phys_q_val.p', 'wb') as f:\n",
    "        pickle.dump(phys_q_val, f)\n",
    "    with open(save_dir + 'phys_q_test.p', 'wb') as f:\n",
    "        pickle.dump(phys_q_test, f)\n",
    "    return"
   ]
  },
  {
   "cell_type": "code",
   "execution_count": 20,
   "metadata": {
    "colab": {
     "base_uri": "https://localhost:8080/"
    },
    "executionInfo": {
     "elapsed": 13597552,
     "status": "ok",
     "timestamp": 1683695767580,
     "user": {
      "displayName": "Saravanan Mohan",
      "userId": "07953971426601696695"
     },
     "user_tz": -480
    },
    "id": "gJMO3NzZXQTs",
    "outputId": "919d30be-642f-482a-c55b-c90b635182fa",
    "scrolled": false
   },
   "outputs": [
    {
     "name": "stdout",
     "output_type": "stream",
     "text": [
      "WARNING:tensorflow:From C:\\Users\\sara1\\Anaconda3\\lib\\site-packages\\keras\\layers\\normalization\\batch_normalization.py:561: _colocate_with (from tensorflow.python.framework.ops) is deprecated and will be removed in a future version.\n",
      "Instructions for updating:\n",
      "Colocations handled automatically by placer.\n",
      "Running default init\n",
      "Init done\n",
      "Saved Model, step is 1000\n",
      "Average loss is  5.078155596477911\n",
      "Saving PER and importance weights\n",
      "Saved Model, step is 2000\n",
      "Average loss is  3.0810449720118194\n",
      "Saving PER and importance weights\n",
      "Saved Model, step is 3000\n",
      "Average loss is  2.3988273158031514\n",
      "Saving PER and importance weights\n",
      "Saved Model, step is 4000\n",
      "Average loss is  2.277058135843836\n",
      "Saving PER and importance weights\n",
      "Saved Model, step is 5000\n",
      "Average loss is  2.3274528771177865\n",
      "Saving PER and importance weights\n",
      "Saved Model, step is 6000\n",
      "Average loss is  2.223408730316907\n",
      "Saving PER and importance weights\n",
      "Saved Model, step is 7000\n",
      "Average loss is  2.151845588367665\n",
      "Saving PER and importance weights\n",
      "Saved Model, step is 8000\n",
      "Average loss is  2.022121742970776\n",
      "Saving PER and importance weights\n",
      "Saved Model, step is 9000\n",
      "Average loss is  1.9608340614233166\n",
      "Saving PER and importance weights\n"
     ]
    }
   ],
   "source": [
    "tf.compat.v1.disable_eager_execution()\n",
    "\n",
    "# The main training loop is here\n",
    "per_alpha = 0.6 # PER hyperparameter\n",
    "per_epsilon = 0.01 # PER hyperparameter\n",
    "batch_size = 32\n",
    "gamma = 0.99 # discount factor\n",
    "num_steps = 10000 # How many steps to train for\n",
    "load_model = False #Whether to load a saved model.\n",
    "save_dir = \"C:\\\\Users\\\\sara1\\\\Desktop\\\\Results\\\\SARSA_continual_below65\\\\\"\n",
    "save_path = \"C:\\\\Users\\\\sara1\\\\Desktop\\\\Results\\\\SARSA_continual_below65\\\\ckpt\"#The path to save our model to.\n",
    "tau = 0.001 #Rate to update target network toward primary network\n",
    "tf.compat.v1.reset_default_graph()\n",
    "mainQN = Qnetwork()\n",
    "targetQN = Qnetwork()\n",
    "av_q_list = []\n",
    "save_results = False\n",
    "\n",
    "saver = tf.compat.v1.train.Saver(tf.compat.v1.global_variables())\n",
    "\n",
    "init = tf.compat.v1.global_variables_initializer()\n",
    "\n",
    "trainables = tf.compat.v1.trainable_variables()\n",
    "\n",
    "target_ops = update_target_graph(trainables,tau)\n",
    "\n",
    "#Make a path for our model to be saved in.\n",
    "if not os.path.exists(save_dir):\n",
    "    os.makedirs(save_dir)\n",
    "\n",
    "with tf.compat.v1.Session(config=config) as sess:\n",
    "    if load_model == True:\n",
    "        print('Trying to load model...')\n",
    "        try:\n",
    "            restorer = tf.compat.v1.train.import_meta_graph(save_path + '.meta')\n",
    "            restorer.restore(sess, tf.train.latest_checkpoint(save_dir))\n",
    "            print (\"Model restored\")\n",
    "        except IOError:\n",
    "            print (\"No previous model found, running default init\")\n",
    "            sess.run(init)\n",
    "        try:\n",
    "            per_weights = pickle.load(open( save_dir + \"per_weights.p\", \"rb\" ))\n",
    "            imp_weights = pickle.load(open( save_dir + \"imp_weights.p\", \"rb\" ))\n",
    "\n",
    "            # the PER weights, governing probability of sampling, and importance sampling\n",
    "            # weights for use in the gradient descent updates\n",
    "            df['prob'] = per_weights\n",
    "            df['imp_weight'] = imp_weights\n",
    "            print (\"PER and Importance weights restored\")\n",
    "        except IOError:\n",
    "            print(\"No PER weights found - default being used for PER and importance sampling\")\n",
    "    else:\n",
    "        print(\"Running default init\")\n",
    "        sess.run(init)\n",
    "    print(\"Init done\")\n",
    "    net_loss = 0.0\n",
    "    for i in range(num_steps):\n",
    "        if save_results:\n",
    "            do_save_results()\n",
    "            break\n",
    "\n",
    "        states,actions,rewards,next_states, next_actions, done_flags, sampled_df = process_train_batch(batch_size)\n",
    "\n",
    "        # Q values for the next timestep from target network, as part of the update step\n",
    "        Q2 = sess.run(targetQN.q_output,feed_dict={targetQN.state:next_states, targetQN.phase : 1})\n",
    "\n",
    "        # handles the case when a trajectory is finished\n",
    "        end_multiplier = 1 - done_flags\n",
    "\n",
    "        # Using the next actions, find the q value for the next state/action pairs\n",
    "        next_state_q = Q2[range(len(Q2)),next_actions]\n",
    "\n",
    "        # empirical hack to make the Q values never exceed the threshold - helps learning\n",
    "        next_state_q[next_state_q > REWARD_THRESHOLD] = REWARD_THRESHOLD\n",
    "        next_state_q[next_state_q < -REWARD_THRESHOLD] = -REWARD_THRESHOLD\n",
    "\n",
    "\n",
    "        # definition of target Q\n",
    "        targetQ = rewards + (gamma*next_state_q * end_multiplier)\n",
    "\n",
    "        # Calculate the importance sampling weights for PER\n",
    "        imp_sampling_weights = np.array(sampled_df['imp_weight'] / float(max(df['imp_weight'])))\n",
    "        imp_sampling_weights[np.isnan(imp_sampling_weights)] = 1\n",
    "        imp_sampling_weights[imp_sampling_weights <= 0.001] = 0.001\n",
    "\n",
    "\n",
    "        # Train with the batch\n",
    "        _,loss, error, q_tmp = sess.run([mainQN.update_model,mainQN.loss, mainQN.abs_error, mainQN.Q], \\\n",
    "            feed_dict={mainQN.state:states,\n",
    "                       mainQN.targetQ:targetQ,\n",
    "                       mainQN.actions:actions,\n",
    "                       mainQN.phase:True,\n",
    "                       mainQN.imp_weights:imp_sampling_weights})\n",
    "\n",
    "        # Update target towards main network\n",
    "        update_target(target_ops,sess)\n",
    "\n",
    "        net_loss += sum(error)\n",
    "\n",
    "        # Set the selection weight/prob to the abs prediction error and update the importance sampling weight\n",
    "        new_weights = pow((error + per_epsilon), per_alpha)\n",
    "        df.loc[df.index.isin(sampled_df.index), 'prob'] = new_weights\n",
    "        temp = 1.0/new_weights\n",
    "        df.loc[df.index.isin(sampled_df.index), 'imp_weight'] = pow(((1.0/len(df)) * temp), beta_start)\n",
    "\n",
    "\n",
    "        if i % 1000 == 0 and i > 0:\n",
    "            saver.save(sess,save_path)\n",
    "            print(\"Saved Model, step is \" + str(i))\n",
    "\n",
    "            av_loss = net_loss/(1000.0 * batch_size)\n",
    "            print(\"Average loss is \", av_loss)\n",
    "            net_loss = 0.0\n",
    "\n",
    "            print (\"Saving PER and importance weights\")\n",
    "            with open(save_dir + 'per_weights.p', 'wb') as f:\n",
    "                pickle.dump(df['prob'], f)\n",
    "            with open(save_dir + 'imp_weights.p', 'wb') as f:\n",
    "                pickle.dump(df['imp_weight'], f)\n",
    "\n",
    "\n",
    "        if (i % 10000==0) and i > 0:\n",
    "            # run an evaluation on the validation set\n",
    "            phys_q,_, mean_abs_error = do_eval(eval_type = 'val')\n",
    "            print (np.mean(phys_q))\n",
    "            print (mean_abs_error)\n",
    "            if (i % 10000==0) and i > 0:\n",
    "                print (\"Saving results\")\n",
    "                do_save_results()\n",
    "#                 break\n",
    "    do_save_results()"
   ]
  },
  {
   "cell_type": "code",
   "execution_count": null,
   "metadata": {
    "id": "LSNGkHauXQTt"
   },
   "outputs": [],
   "source": []
  },
  {
   "cell_type": "code",
   "execution_count": null,
   "metadata": {
    "id": "k2GBXJsxXQTt"
   },
   "outputs": [],
   "source": []
  }
 ],
 "metadata": {
  "accelerator": "GPU",
  "colab": {
   "gpuType": "T4",
   "machine_shape": "hm",
   "provenance": []
  },
  "gpuClass": "standard",
  "kernelspec": {
   "display_name": "Python 3 (ipykernel)",
   "language": "python",
   "name": "python3"
  },
  "language_info": {
   "codemirror_mode": {
    "name": "ipython",
    "version": 3
   },
   "file_extension": ".py",
   "mimetype": "text/x-python",
   "name": "python",
   "nbconvert_exporter": "python",
   "pygments_lexer": "ipython3",
   "version": "3.9.7"
  }
 },
 "nbformat": 4,
 "nbformat_minor": 1
}
