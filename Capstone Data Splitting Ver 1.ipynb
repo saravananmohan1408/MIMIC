{
 "cells": [
  {
   "cell_type": "code",
   "execution_count": 1,
   "id": "e1d095d1",
   "metadata": {},
   "outputs": [],
   "source": [
    "%matplotlib inline\n",
    "import numpy as np\n",
    "import pandas as pd\n",
    "import matplotlib.pyplot as plt\n",
    "from pandas import DataFrame"
   ]
  },
  {
   "cell_type": "code",
   "execution_count": 2,
   "id": "22589df3",
   "metadata": {},
   "outputs": [],
   "source": [
    "disc_inp_data = pd.read_csv(\"C:\\\\Users\\\\sara1\\\\Desktop\\\\Rawdata\\\\Combined.csv\", low_memory=False)"
   ]
  },
  {
   "cell_type": "code",
   "execution_count": 3,
   "id": "8a47c010",
   "metadata": {},
   "outputs": [
    {
     "data": {
      "text/html": [
       "<div>\n",
       "<style scoped>\n",
       "    .dataframe tbody tr th:only-of-type {\n",
       "        vertical-align: middle;\n",
       "    }\n",
       "\n",
       "    .dataframe tbody tr th {\n",
       "        vertical-align: top;\n",
       "    }\n",
       "\n",
       "    .dataframe thead th {\n",
       "        text-align: right;\n",
       "    }\n",
       "</style>\n",
       "<table border=\"1\" class=\"dataframe\">\n",
       "  <thead>\n",
       "    <tr style=\"text-align: right;\">\n",
       "      <th></th>\n",
       "      <th>subject_id</th>\n",
       "      <th>stay_id</th>\n",
       "      <th>sofa_score</th>\n",
       "      <th>respiration</th>\n",
       "      <th>coagulation</th>\n",
       "      <th>liver</th>\n",
       "      <th>cardiovascular</th>\n",
       "      <th>cns</th>\n",
       "      <th>renal</th>\n",
       "      <th>sirs</th>\n",
       "      <th>...</th>\n",
       "      <th>glucose</th>\n",
       "      <th>respiratory_rate_total</th>\n",
       "      <th>fio2</th>\n",
       "      <th>platelet</th>\n",
       "      <th>wbc</th>\n",
       "      <th>albumin</th>\n",
       "      <th>creatinine</th>\n",
       "      <th>heart_rate</th>\n",
       "      <th>temperature</th>\n",
       "      <th>spo2</th>\n",
       "    </tr>\n",
       "  </thead>\n",
       "  <tbody>\n",
       "    <tr>\n",
       "      <th>0</th>\n",
       "      <td>18426683</td>\n",
       "      <td>33144981</td>\n",
       "      <td>2</td>\n",
       "      <td>0</td>\n",
       "      <td>0</td>\n",
       "      <td>0</td>\n",
       "      <td>0</td>\n",
       "      <td>0</td>\n",
       "      <td>2</td>\n",
       "      <td>3</td>\n",
       "      <td>...</td>\n",
       "      <td>NaN</td>\n",
       "      <td>NaN</td>\n",
       "      <td>NaN</td>\n",
       "      <td>213.0</td>\n",
       "      <td>22.0</td>\n",
       "      <td>NaN</td>\n",
       "      <td>NaN</td>\n",
       "      <td>NaN</td>\n",
       "      <td>36.89</td>\n",
       "      <td>NaN</td>\n",
       "    </tr>\n",
       "    <tr>\n",
       "      <th>1</th>\n",
       "      <td>18426683</td>\n",
       "      <td>33144981</td>\n",
       "      <td>2</td>\n",
       "      <td>0</td>\n",
       "      <td>0</td>\n",
       "      <td>0</td>\n",
       "      <td>0</td>\n",
       "      <td>0</td>\n",
       "      <td>2</td>\n",
       "      <td>3</td>\n",
       "      <td>...</td>\n",
       "      <td>NaN</td>\n",
       "      <td>NaN</td>\n",
       "      <td>NaN</td>\n",
       "      <td>213.0</td>\n",
       "      <td>22.0</td>\n",
       "      <td>NaN</td>\n",
       "      <td>NaN</td>\n",
       "      <td>NaN</td>\n",
       "      <td>36.89</td>\n",
       "      <td>NaN</td>\n",
       "    </tr>\n",
       "    <tr>\n",
       "      <th>2</th>\n",
       "      <td>18426683</td>\n",
       "      <td>33144981</td>\n",
       "      <td>2</td>\n",
       "      <td>0</td>\n",
       "      <td>0</td>\n",
       "      <td>0</td>\n",
       "      <td>0</td>\n",
       "      <td>0</td>\n",
       "      <td>2</td>\n",
       "      <td>3</td>\n",
       "      <td>...</td>\n",
       "      <td>NaN</td>\n",
       "      <td>NaN</td>\n",
       "      <td>NaN</td>\n",
       "      <td>213.0</td>\n",
       "      <td>22.0</td>\n",
       "      <td>NaN</td>\n",
       "      <td>NaN</td>\n",
       "      <td>NaN</td>\n",
       "      <td>36.89</td>\n",
       "      <td>NaN</td>\n",
       "    </tr>\n",
       "    <tr>\n",
       "      <th>3</th>\n",
       "      <td>18426683</td>\n",
       "      <td>33144981</td>\n",
       "      <td>2</td>\n",
       "      <td>0</td>\n",
       "      <td>0</td>\n",
       "      <td>0</td>\n",
       "      <td>0</td>\n",
       "      <td>0</td>\n",
       "      <td>2</td>\n",
       "      <td>3</td>\n",
       "      <td>...</td>\n",
       "      <td>NaN</td>\n",
       "      <td>NaN</td>\n",
       "      <td>NaN</td>\n",
       "      <td>213.0</td>\n",
       "      <td>22.0</td>\n",
       "      <td>NaN</td>\n",
       "      <td>NaN</td>\n",
       "      <td>NaN</td>\n",
       "      <td>36.89</td>\n",
       "      <td>NaN</td>\n",
       "    </tr>\n",
       "    <tr>\n",
       "      <th>4</th>\n",
       "      <td>18426683</td>\n",
       "      <td>33144981</td>\n",
       "      <td>2</td>\n",
       "      <td>0</td>\n",
       "      <td>0</td>\n",
       "      <td>0</td>\n",
       "      <td>0</td>\n",
       "      <td>0</td>\n",
       "      <td>2</td>\n",
       "      <td>3</td>\n",
       "      <td>...</td>\n",
       "      <td>NaN</td>\n",
       "      <td>NaN</td>\n",
       "      <td>NaN</td>\n",
       "      <td>213.0</td>\n",
       "      <td>22.0</td>\n",
       "      <td>NaN</td>\n",
       "      <td>NaN</td>\n",
       "      <td>NaN</td>\n",
       "      <td>36.89</td>\n",
       "      <td>NaN</td>\n",
       "    </tr>\n",
       "  </tbody>\n",
       "</table>\n",
       "<p>5 rows × 36 columns</p>\n",
       "</div>"
      ],
      "text/plain": [
       "   subject_id   stay_id  sofa_score  respiration  coagulation  liver  \\\n",
       "0    18426683  33144981           2            0            0      0   \n",
       "1    18426683  33144981           2            0            0      0   \n",
       "2    18426683  33144981           2            0            0      0   \n",
       "3    18426683  33144981           2            0            0      0   \n",
       "4    18426683  33144981           2            0            0      0   \n",
       "\n",
       "   cardiovascular  cns  renal  sirs  ...  glucose  respiratory_rate_total  \\\n",
       "0               0    0      2     3  ...      NaN                     NaN   \n",
       "1               0    0      2     3  ...      NaN                     NaN   \n",
       "2               0    0      2     3  ...      NaN                     NaN   \n",
       "3               0    0      2     3  ...      NaN                     NaN   \n",
       "4               0    0      2     3  ...      NaN                     NaN   \n",
       "\n",
       "  fio2 platelet   wbc  albumin  creatinine  heart_rate  temperature  spo2  \n",
       "0  NaN    213.0  22.0      NaN         NaN         NaN        36.89   NaN  \n",
       "1  NaN    213.0  22.0      NaN         NaN         NaN        36.89   NaN  \n",
       "2  NaN    213.0  22.0      NaN         NaN         NaN        36.89   NaN  \n",
       "3  NaN    213.0  22.0      NaN         NaN         NaN        36.89   NaN  \n",
       "4  NaN    213.0  22.0      NaN         NaN         NaN        36.89   NaN  \n",
       "\n",
       "[5 rows x 36 columns]"
      ]
     },
     "execution_count": 3,
     "metadata": {},
     "output_type": "execute_result"
    }
   ],
   "source": [
    "disc_inp_data.head()"
   ]
  },
  {
   "cell_type": "code",
   "execution_count": 4,
   "id": "751ac5b6",
   "metadata": {},
   "outputs": [
    {
     "name": "stdout",
     "output_type": "stream",
     "text": [
      "subject_id                       0\n",
      "stay_id                          0\n",
      "sofa_score                       0\n",
      "respiration                      0\n",
      "coagulation                      0\n",
      "liver                            0\n",
      "cardiovascular                   0\n",
      "cns                              0\n",
      "renal                            0\n",
      "sirs                             0\n",
      "age                              0\n",
      "weight                       60730\n",
      "deathtime                 12769227\n",
      "gender                           0\n",
      "first_hosp_stay                  0\n",
      "first_icu_stay                   0\n",
      "gcs                            171\n",
      "sofa_24hours                     0\n",
      "bilirubin_total           16244756\n",
      "bicarbonate               16955416\n",
      "hemoglobin                16420948\n",
      "chloride                  16919282\n",
      "calcium                    8309911\n",
      "potassium                 16916395\n",
      "sodium                    16807700\n",
      "lactate                    4831069\n",
      "glucose                   13885182\n",
      "respiratory_rate_total    16927921\n",
      "fio2                      15867524\n",
      "platelet                        15\n",
      "wbc                          32763\n",
      "albumin                   16619118\n",
      "creatinine                15578116\n",
      "heart_rate                 3267564\n",
      "temperature               12554711\n",
      "spo2                       7900887\n",
      "dtype: int64\n"
     ]
    }
   ],
   "source": [
    "print(disc_inp_data.isnull().sum())"
   ]
  },
  {
   "cell_type": "code",
   "execution_count": 5,
   "id": "55418322",
   "metadata": {},
   "outputs": [
    {
     "data": {
      "text/plain": [
       "(16958914, 36)"
      ]
     },
     "execution_count": 5,
     "metadata": {},
     "output_type": "execute_result"
    }
   ],
   "source": [
    "disc_inp_data.shape"
   ]
  },
  {
   "cell_type": "code",
   "execution_count": 7,
   "id": "c953a335",
   "metadata": {},
   "outputs": [
    {
     "data": {
      "text/plain": [
       "subject_id                  int64\n",
       "stay_id                     int64\n",
       "sofa_score                  int64\n",
       "respiration                 int64\n",
       "coagulation                 int64\n",
       "liver                       int64\n",
       "cardiovascular              int64\n",
       "cns                         int64\n",
       "renal                       int64\n",
       "sirs                        int64\n",
       "age                         int64\n",
       "weight                    float64\n",
       "deathtime                  object\n",
       "gender                     object\n",
       "first_hosp_stay              bool\n",
       "first_icu_stay               bool\n",
       "gcs                       float64\n",
       "sofa_24hours                int64\n",
       "bilirubin_total           float64\n",
       "bicarbonate               float64\n",
       "hemoglobin                float64\n",
       "chloride                  float64\n",
       "calcium                   float64\n",
       "potassium                 float64\n",
       "sodium                    float64\n",
       "lactate                   float64\n",
       "glucose                   float64\n",
       "respiratory_rate_total    float64\n",
       "fio2                      float64\n",
       "platelet                  float64\n",
       "wbc                       float64\n",
       "albumin                   float64\n",
       "creatinine                float64\n",
       "heart_rate                float64\n",
       "temperature               float64\n",
       "spo2                      float64\n",
       "dtype: object"
      ]
     },
     "execution_count": 7,
     "metadata": {},
     "output_type": "execute_result"
    }
   ],
   "source": [
    "disc_inp_data.dtypes"
   ]
  },
  {
   "cell_type": "code",
   "execution_count": 8,
   "id": "1a374134",
   "metadata": {},
   "outputs": [],
   "source": [
    "disc_inp_data['died_in_hosp'] = 0"
   ]
  },
  {
   "cell_type": "code",
   "execution_count": 9,
   "id": "0f28ad6a",
   "metadata": {},
   "outputs": [],
   "source": [
    "disc_inp_data.loc[disc_inp_data['deathtime'].isna(), 'died_in_hosp'] = 0"
   ]
  },
  {
   "cell_type": "code",
   "execution_count": 10,
   "id": "fd4a62a3",
   "metadata": {},
   "outputs": [],
   "source": [
    "disc_inp_data.loc[disc_inp_data['deathtime'].notna(), 'died_in_hosp'] = 1"
   ]
  },
  {
   "cell_type": "code",
   "execution_count": 11,
   "id": "e2d79549",
   "metadata": {},
   "outputs": [
    {
     "name": "stdout",
     "output_type": "stream",
     "text": [
      "0           0\n",
      "1           0\n",
      "2           0\n",
      "3           0\n",
      "4           0\n",
      "           ..\n",
      "16958909    0\n",
      "16958910    0\n",
      "16958911    0\n",
      "16958912    0\n",
      "16958913    0\n",
      "Name: died_in_hosp, Length: 16958914, dtype: int64\n"
     ]
    }
   ],
   "source": [
    "print(disc_inp_data['died_in_hosp'])"
   ]
  },
  {
   "cell_type": "code",
   "execution_count": 12,
   "id": "8a4f2f9c",
   "metadata": {},
   "outputs": [
    {
     "name": "stdout",
     "output_type": "stream",
     "text": [
      "0    12769227\n",
      "1     4189687\n",
      "Name: died_in_hosp, dtype: int64\n"
     ]
    }
   ],
   "source": [
    "print(disc_inp_data['died_in_hosp'].value_counts())"
   ]
  },
  {
   "cell_type": "code",
   "execution_count": 13,
   "id": "4200bcc5",
   "metadata": {},
   "outputs": [],
   "source": [
    "disc_inp_data = disc_inp_data.drop(['deathtime','subject_id','first_hosp_stay','first_icu_stay'], axis=1)"
   ]
  },
  {
   "cell_type": "code",
   "execution_count": 14,
   "id": "49b4edca",
   "metadata": {},
   "outputs": [],
   "source": [
    "mean_weight = disc_inp_data['weight'].mean()\n",
    "disc_inp_data['weight'] = disc_inp_data['weight'].fillna(mean_weight)"
   ]
  },
  {
   "cell_type": "code",
   "execution_count": 15,
   "id": "e759c503",
   "metadata": {},
   "outputs": [
    {
     "name": "stdout",
     "output_type": "stream",
     "text": [
      "stay_id                          0\n",
      "sofa_score                       0\n",
      "respiration                      0\n",
      "coagulation                      0\n",
      "liver                            0\n",
      "cardiovascular                   0\n",
      "cns                              0\n",
      "renal                            0\n",
      "sirs                             0\n",
      "age                              0\n",
      "weight                           0\n",
      "gender                           0\n",
      "gcs                            171\n",
      "sofa_24hours                     0\n",
      "bilirubin_total           16244756\n",
      "bicarbonate               16955416\n",
      "hemoglobin                16420948\n",
      "chloride                  16919282\n",
      "calcium                    8309911\n",
      "potassium                 16916395\n",
      "sodium                    16807700\n",
      "lactate                    4831069\n",
      "glucose                   13885182\n",
      "respiratory_rate_total    16927921\n",
      "fio2                      15867524\n",
      "platelet                        15\n",
      "wbc                          32763\n",
      "albumin                   16619118\n",
      "creatinine                15578116\n",
      "heart_rate                 3267564\n",
      "temperature               12554711\n",
      "spo2                       7900887\n",
      "died_in_hosp                     0\n",
      "dtype: int64\n"
     ]
    }
   ],
   "source": [
    "print(disc_inp_data.isnull().sum())"
   ]
  },
  {
   "cell_type": "code",
   "execution_count": 16,
   "id": "319d3c8f",
   "metadata": {},
   "outputs": [],
   "source": [
    "mean_gcs = disc_inp_data['gcs'].mean()\n",
    "disc_inp_data['gcs'] = disc_inp_data['gcs'].fillna(mean_gcs)"
   ]
  },
  {
   "cell_type": "code",
   "execution_count": 17,
   "id": "6446f3ca",
   "metadata": {},
   "outputs": [
    {
     "name": "stdout",
     "output_type": "stream",
     "text": [
      "stay_id                          0\n",
      "sofa_score                       0\n",
      "respiration                      0\n",
      "coagulation                      0\n",
      "liver                            0\n",
      "cardiovascular                   0\n",
      "cns                              0\n",
      "renal                            0\n",
      "sirs                             0\n",
      "age                              0\n",
      "weight                           0\n",
      "gender                           0\n",
      "gcs                              0\n",
      "sofa_24hours                     0\n",
      "bilirubin_total           16244756\n",
      "bicarbonate               16955416\n",
      "hemoglobin                16420948\n",
      "chloride                  16919282\n",
      "calcium                    8309911\n",
      "potassium                 16916395\n",
      "sodium                    16807700\n",
      "lactate                    4831069\n",
      "glucose                   13885182\n",
      "respiratory_rate_total    16927921\n",
      "fio2                      15867524\n",
      "platelet                        15\n",
      "wbc                          32763\n",
      "albumin                   16619118\n",
      "creatinine                15578116\n",
      "heart_rate                 3267564\n",
      "temperature               12554711\n",
      "spo2                       7900887\n",
      "died_in_hosp                     0\n",
      "dtype: int64\n"
     ]
    }
   ],
   "source": [
    "print(disc_inp_data.isnull().sum())"
   ]
  },
  {
   "cell_type": "code",
   "execution_count": 18,
   "id": "3049c19d",
   "metadata": {},
   "outputs": [],
   "source": [
    "mean_bilirubin_total = disc_inp_data['bilirubin_total'].mean()\n",
    "disc_inp_data['bilirubin_total'] = disc_inp_data['bilirubin_total'].fillna(mean_bilirubin_total)"
   ]
  },
  {
   "cell_type": "code",
   "execution_count": 19,
   "id": "1ab70528",
   "metadata": {},
   "outputs": [
    {
     "name": "stdout",
     "output_type": "stream",
     "text": [
      "stay_id                          0\n",
      "sofa_score                       0\n",
      "respiration                      0\n",
      "coagulation                      0\n",
      "liver                            0\n",
      "cardiovascular                   0\n",
      "cns                              0\n",
      "renal                            0\n",
      "sirs                             0\n",
      "age                              0\n",
      "weight                           0\n",
      "gender                           0\n",
      "gcs                              0\n",
      "sofa_24hours                     0\n",
      "bilirubin_total                  0\n",
      "bicarbonate               16955416\n",
      "hemoglobin                16420948\n",
      "chloride                  16919282\n",
      "calcium                    8309911\n",
      "potassium                 16916395\n",
      "sodium                    16807700\n",
      "lactate                    4831069\n",
      "glucose                   13885182\n",
      "respiratory_rate_total    16927921\n",
      "fio2                      15867524\n",
      "platelet                        15\n",
      "wbc                          32763\n",
      "albumin                   16619118\n",
      "creatinine                15578116\n",
      "heart_rate                 3267564\n",
      "temperature               12554711\n",
      "spo2                       7900887\n",
      "died_in_hosp                     0\n",
      "dtype: int64\n"
     ]
    }
   ],
   "source": [
    "print(disc_inp_data.isnull().sum())"
   ]
  },
  {
   "cell_type": "code",
   "execution_count": 20,
   "id": "52f4515c",
   "metadata": {},
   "outputs": [],
   "source": [
    "mean_bicarbonate = disc_inp_data['bicarbonate'].mean()\n",
    "disc_inp_data['bicarbonate'] = disc_inp_data['bicarbonate'].fillna(mean_bicarbonate)"
   ]
  },
  {
   "cell_type": "code",
   "execution_count": 21,
   "id": "3659bf7c",
   "metadata": {},
   "outputs": [
    {
     "name": "stdout",
     "output_type": "stream",
     "text": [
      "stay_id                          0\n",
      "sofa_score                       0\n",
      "respiration                      0\n",
      "coagulation                      0\n",
      "liver                            0\n",
      "cardiovascular                   0\n",
      "cns                              0\n",
      "renal                            0\n",
      "sirs                             0\n",
      "age                              0\n",
      "weight                           0\n",
      "gender                           0\n",
      "gcs                              0\n",
      "sofa_24hours                     0\n",
      "bilirubin_total                  0\n",
      "bicarbonate                      0\n",
      "hemoglobin                16420948\n",
      "chloride                  16919282\n",
      "calcium                    8309911\n",
      "potassium                 16916395\n",
      "sodium                    16807700\n",
      "lactate                    4831069\n",
      "glucose                   13885182\n",
      "respiratory_rate_total    16927921\n",
      "fio2                      15867524\n",
      "platelet                        15\n",
      "wbc                          32763\n",
      "albumin                   16619118\n",
      "creatinine                15578116\n",
      "heart_rate                 3267564\n",
      "temperature               12554711\n",
      "spo2                       7900887\n",
      "died_in_hosp                     0\n",
      "dtype: int64\n"
     ]
    }
   ],
   "source": [
    "print(disc_inp_data.isnull().sum())"
   ]
  },
  {
   "cell_type": "code",
   "execution_count": 22,
   "id": "512ae5bf",
   "metadata": {},
   "outputs": [],
   "source": [
    "mean_hemoglobin = disc_inp_data['hemoglobin'].mean()\n",
    "disc_inp_data['hemoglobin'] = disc_inp_data['hemoglobin'].fillna(mean_hemoglobin)"
   ]
  },
  {
   "cell_type": "code",
   "execution_count": 23,
   "id": "bbeac205",
   "metadata": {},
   "outputs": [
    {
     "name": "stdout",
     "output_type": "stream",
     "text": [
      "stay_id                          0\n",
      "sofa_score                       0\n",
      "respiration                      0\n",
      "coagulation                      0\n",
      "liver                            0\n",
      "cardiovascular                   0\n",
      "cns                              0\n",
      "renal                            0\n",
      "sirs                             0\n",
      "age                              0\n",
      "weight                           0\n",
      "gender                           0\n",
      "gcs                              0\n",
      "sofa_24hours                     0\n",
      "bilirubin_total                  0\n",
      "bicarbonate                      0\n",
      "hemoglobin                       0\n",
      "chloride                  16919282\n",
      "calcium                    8309911\n",
      "potassium                 16916395\n",
      "sodium                    16807700\n",
      "lactate                    4831069\n",
      "glucose                   13885182\n",
      "respiratory_rate_total    16927921\n",
      "fio2                      15867524\n",
      "platelet                        15\n",
      "wbc                          32763\n",
      "albumin                   16619118\n",
      "creatinine                15578116\n",
      "heart_rate                 3267564\n",
      "temperature               12554711\n",
      "spo2                       7900887\n",
      "died_in_hosp                     0\n",
      "dtype: int64\n"
     ]
    }
   ],
   "source": [
    "print(disc_inp_data.isnull().sum())"
   ]
  },
  {
   "cell_type": "code",
   "execution_count": 24,
   "id": "10dbdd2c",
   "metadata": {},
   "outputs": [],
   "source": [
    "mean_chloride = disc_inp_data['chloride'].mean()\n",
    "disc_inp_data['chloride'] = disc_inp_data['chloride'].fillna(mean_chloride)"
   ]
  },
  {
   "cell_type": "code",
   "execution_count": 25,
   "id": "c1ab47b0",
   "metadata": {},
   "outputs": [
    {
     "name": "stdout",
     "output_type": "stream",
     "text": [
      "stay_id                          0\n",
      "sofa_score                       0\n",
      "respiration                      0\n",
      "coagulation                      0\n",
      "liver                            0\n",
      "cardiovascular                   0\n",
      "cns                              0\n",
      "renal                            0\n",
      "sirs                             0\n",
      "age                              0\n",
      "weight                           0\n",
      "gender                           0\n",
      "gcs                              0\n",
      "sofa_24hours                     0\n",
      "bilirubin_total                  0\n",
      "bicarbonate                      0\n",
      "hemoglobin                       0\n",
      "chloride                         0\n",
      "calcium                    8309911\n",
      "potassium                 16916395\n",
      "sodium                    16807700\n",
      "lactate                    4831069\n",
      "glucose                   13885182\n",
      "respiratory_rate_total    16927921\n",
      "fio2                      15867524\n",
      "platelet                        15\n",
      "wbc                          32763\n",
      "albumin                   16619118\n",
      "creatinine                15578116\n",
      "heart_rate                 3267564\n",
      "temperature               12554711\n",
      "spo2                       7900887\n",
      "died_in_hosp                     0\n",
      "dtype: int64\n"
     ]
    }
   ],
   "source": [
    "print(disc_inp_data.isnull().sum())"
   ]
  },
  {
   "cell_type": "code",
   "execution_count": 26,
   "id": "09728af1",
   "metadata": {},
   "outputs": [],
   "source": [
    "mean_calcium = disc_inp_data['calcium'].mean()\n",
    "disc_inp_data['calcium'] = disc_inp_data['calcium'].fillna(mean_calcium)"
   ]
  },
  {
   "cell_type": "code",
   "execution_count": 27,
   "id": "7a39d110",
   "metadata": {},
   "outputs": [
    {
     "name": "stdout",
     "output_type": "stream",
     "text": [
      "stay_id                          0\n",
      "sofa_score                       0\n",
      "respiration                      0\n",
      "coagulation                      0\n",
      "liver                            0\n",
      "cardiovascular                   0\n",
      "cns                              0\n",
      "renal                            0\n",
      "sirs                             0\n",
      "age                              0\n",
      "weight                           0\n",
      "gender                           0\n",
      "gcs                              0\n",
      "sofa_24hours                     0\n",
      "bilirubin_total                  0\n",
      "bicarbonate                      0\n",
      "hemoglobin                       0\n",
      "chloride                         0\n",
      "calcium                          0\n",
      "potassium                 16916395\n",
      "sodium                    16807700\n",
      "lactate                    4831069\n",
      "glucose                   13885182\n",
      "respiratory_rate_total    16927921\n",
      "fio2                      15867524\n",
      "platelet                        15\n",
      "wbc                          32763\n",
      "albumin                   16619118\n",
      "creatinine                15578116\n",
      "heart_rate                 3267564\n",
      "temperature               12554711\n",
      "spo2                       7900887\n",
      "died_in_hosp                     0\n",
      "dtype: int64\n"
     ]
    }
   ],
   "source": [
    "print(disc_inp_data.isnull().sum())"
   ]
  },
  {
   "cell_type": "code",
   "execution_count": 28,
   "id": "4b3c1b9e",
   "metadata": {},
   "outputs": [],
   "source": [
    "mean_potassium = disc_inp_data['potassium'].mean()\n",
    "disc_inp_data['potassium'] = disc_inp_data['potassium'].fillna(mean_potassium)"
   ]
  },
  {
   "cell_type": "code",
   "execution_count": 29,
   "id": "18e007e2",
   "metadata": {},
   "outputs": [
    {
     "name": "stdout",
     "output_type": "stream",
     "text": [
      "stay_id                          0\n",
      "sofa_score                       0\n",
      "respiration                      0\n",
      "coagulation                      0\n",
      "liver                            0\n",
      "cardiovascular                   0\n",
      "cns                              0\n",
      "renal                            0\n",
      "sirs                             0\n",
      "age                              0\n",
      "weight                           0\n",
      "gender                           0\n",
      "gcs                              0\n",
      "sofa_24hours                     0\n",
      "bilirubin_total                  0\n",
      "bicarbonate                      0\n",
      "hemoglobin                       0\n",
      "chloride                         0\n",
      "calcium                          0\n",
      "potassium                        0\n",
      "sodium                    16807700\n",
      "lactate                    4831069\n",
      "glucose                   13885182\n",
      "respiratory_rate_total    16927921\n",
      "fio2                      15867524\n",
      "platelet                        15\n",
      "wbc                          32763\n",
      "albumin                   16619118\n",
      "creatinine                15578116\n",
      "heart_rate                 3267564\n",
      "temperature               12554711\n",
      "spo2                       7900887\n",
      "died_in_hosp                     0\n",
      "dtype: int64\n"
     ]
    }
   ],
   "source": [
    "print(disc_inp_data.isnull().sum())"
   ]
  },
  {
   "cell_type": "code",
   "execution_count": 30,
   "id": "81c12541",
   "metadata": {},
   "outputs": [],
   "source": [
    "mean_sodium = disc_inp_data['sodium'].mean()\n",
    "disc_inp_data['sodium'] = disc_inp_data['sodium'].fillna(mean_sodium)"
   ]
  },
  {
   "cell_type": "code",
   "execution_count": 31,
   "id": "71f25db2",
   "metadata": {},
   "outputs": [
    {
     "name": "stdout",
     "output_type": "stream",
     "text": [
      "stay_id                          0\n",
      "sofa_score                       0\n",
      "respiration                      0\n",
      "coagulation                      0\n",
      "liver                            0\n",
      "cardiovascular                   0\n",
      "cns                              0\n",
      "renal                            0\n",
      "sirs                             0\n",
      "age                              0\n",
      "weight                           0\n",
      "gender                           0\n",
      "gcs                              0\n",
      "sofa_24hours                     0\n",
      "bilirubin_total                  0\n",
      "bicarbonate                      0\n",
      "hemoglobin                       0\n",
      "chloride                         0\n",
      "calcium                          0\n",
      "potassium                        0\n",
      "sodium                           0\n",
      "lactate                    4831069\n",
      "glucose                   13885182\n",
      "respiratory_rate_total    16927921\n",
      "fio2                      15867524\n",
      "platelet                        15\n",
      "wbc                          32763\n",
      "albumin                   16619118\n",
      "creatinine                15578116\n",
      "heart_rate                 3267564\n",
      "temperature               12554711\n",
      "spo2                       7900887\n",
      "died_in_hosp                     0\n",
      "dtype: int64\n"
     ]
    }
   ],
   "source": [
    "print(disc_inp_data.isnull().sum())"
   ]
  },
  {
   "cell_type": "code",
   "execution_count": 32,
   "id": "f2b01b2b",
   "metadata": {},
   "outputs": [],
   "source": [
    "mean_lactate = disc_inp_data['lactate'].mean()\n",
    "disc_inp_data['lactate'] = disc_inp_data['lactate'].fillna(mean_lactate)"
   ]
  },
  {
   "cell_type": "code",
   "execution_count": 33,
   "id": "bd1f515e",
   "metadata": {},
   "outputs": [
    {
     "name": "stdout",
     "output_type": "stream",
     "text": [
      "stay_id                          0\n",
      "sofa_score                       0\n",
      "respiration                      0\n",
      "coagulation                      0\n",
      "liver                            0\n",
      "cardiovascular                   0\n",
      "cns                              0\n",
      "renal                            0\n",
      "sirs                             0\n",
      "age                              0\n",
      "weight                           0\n",
      "gender                           0\n",
      "gcs                              0\n",
      "sofa_24hours                     0\n",
      "bilirubin_total                  0\n",
      "bicarbonate                      0\n",
      "hemoglobin                       0\n",
      "chloride                         0\n",
      "calcium                          0\n",
      "potassium                        0\n",
      "sodium                           0\n",
      "lactate                          0\n",
      "glucose                   13885182\n",
      "respiratory_rate_total    16927921\n",
      "fio2                      15867524\n",
      "platelet                        15\n",
      "wbc                          32763\n",
      "albumin                   16619118\n",
      "creatinine                15578116\n",
      "heart_rate                 3267564\n",
      "temperature               12554711\n",
      "spo2                       7900887\n",
      "died_in_hosp                     0\n",
      "dtype: int64\n"
     ]
    }
   ],
   "source": [
    "print(disc_inp_data.isnull().sum())"
   ]
  },
  {
   "cell_type": "code",
   "execution_count": 34,
   "id": "4db80bbf",
   "metadata": {},
   "outputs": [],
   "source": [
    "mean_glucose = disc_inp_data['glucose'].mean()\n",
    "disc_inp_data['glucose'] = disc_inp_data['glucose'].fillna(mean_glucose)"
   ]
  },
  {
   "cell_type": "code",
   "execution_count": 35,
   "id": "d5f38cc8",
   "metadata": {},
   "outputs": [
    {
     "name": "stdout",
     "output_type": "stream",
     "text": [
      "stay_id                          0\n",
      "sofa_score                       0\n",
      "respiration                      0\n",
      "coagulation                      0\n",
      "liver                            0\n",
      "cardiovascular                   0\n",
      "cns                              0\n",
      "renal                            0\n",
      "sirs                             0\n",
      "age                              0\n",
      "weight                           0\n",
      "gender                           0\n",
      "gcs                              0\n",
      "sofa_24hours                     0\n",
      "bilirubin_total                  0\n",
      "bicarbonate                      0\n",
      "hemoglobin                       0\n",
      "chloride                         0\n",
      "calcium                          0\n",
      "potassium                        0\n",
      "sodium                           0\n",
      "lactate                          0\n",
      "glucose                          0\n",
      "respiratory_rate_total    16927921\n",
      "fio2                      15867524\n",
      "platelet                        15\n",
      "wbc                          32763\n",
      "albumin                   16619118\n",
      "creatinine                15578116\n",
      "heart_rate                 3267564\n",
      "temperature               12554711\n",
      "spo2                       7900887\n",
      "died_in_hosp                     0\n",
      "dtype: int64\n"
     ]
    }
   ],
   "source": [
    "print(disc_inp_data.isnull().sum())"
   ]
  },
  {
   "cell_type": "code",
   "execution_count": 36,
   "id": "4fb28b67",
   "metadata": {},
   "outputs": [],
   "source": [
    "mean_respiratory_rate_total = disc_inp_data['respiratory_rate_total'].mean()\n",
    "disc_inp_data['respiratory_rate_total'] = disc_inp_data['respiratory_rate_total'].fillna(mean_respiratory_rate_total)"
   ]
  },
  {
   "cell_type": "code",
   "execution_count": 37,
   "id": "11de4345",
   "metadata": {},
   "outputs": [
    {
     "name": "stdout",
     "output_type": "stream",
     "text": [
      "stay_id                          0\n",
      "sofa_score                       0\n",
      "respiration                      0\n",
      "coagulation                      0\n",
      "liver                            0\n",
      "cardiovascular                   0\n",
      "cns                              0\n",
      "renal                            0\n",
      "sirs                             0\n",
      "age                              0\n",
      "weight                           0\n",
      "gender                           0\n",
      "gcs                              0\n",
      "sofa_24hours                     0\n",
      "bilirubin_total                  0\n",
      "bicarbonate                      0\n",
      "hemoglobin                       0\n",
      "chloride                         0\n",
      "calcium                          0\n",
      "potassium                        0\n",
      "sodium                           0\n",
      "lactate                          0\n",
      "glucose                          0\n",
      "respiratory_rate_total           0\n",
      "fio2                      15867524\n",
      "platelet                        15\n",
      "wbc                          32763\n",
      "albumin                   16619118\n",
      "creatinine                15578116\n",
      "heart_rate                 3267564\n",
      "temperature               12554711\n",
      "spo2                       7900887\n",
      "died_in_hosp                     0\n",
      "dtype: int64\n"
     ]
    }
   ],
   "source": [
    "print(disc_inp_data.isnull().sum())"
   ]
  },
  {
   "cell_type": "code",
   "execution_count": 38,
   "id": "e18569bc",
   "metadata": {},
   "outputs": [],
   "source": [
    "mean_fio2 = disc_inp_data['fio2'].mean()\n",
    "disc_inp_data['fio2'] = disc_inp_data['fio2'].fillna(mean_fio2)"
   ]
  },
  {
   "cell_type": "code",
   "execution_count": 39,
   "id": "99bdc2ef",
   "metadata": {},
   "outputs": [
    {
     "name": "stdout",
     "output_type": "stream",
     "text": [
      "stay_id                          0\n",
      "sofa_score                       0\n",
      "respiration                      0\n",
      "coagulation                      0\n",
      "liver                            0\n",
      "cardiovascular                   0\n",
      "cns                              0\n",
      "renal                            0\n",
      "sirs                             0\n",
      "age                              0\n",
      "weight                           0\n",
      "gender                           0\n",
      "gcs                              0\n",
      "sofa_24hours                     0\n",
      "bilirubin_total                  0\n",
      "bicarbonate                      0\n",
      "hemoglobin                       0\n",
      "chloride                         0\n",
      "calcium                          0\n",
      "potassium                        0\n",
      "sodium                           0\n",
      "lactate                          0\n",
      "glucose                          0\n",
      "respiratory_rate_total           0\n",
      "fio2                             0\n",
      "platelet                        15\n",
      "wbc                          32763\n",
      "albumin                   16619118\n",
      "creatinine                15578116\n",
      "heart_rate                 3267564\n",
      "temperature               12554711\n",
      "spo2                       7900887\n",
      "died_in_hosp                     0\n",
      "dtype: int64\n"
     ]
    }
   ],
   "source": [
    "print(disc_inp_data.isnull().sum())"
   ]
  },
  {
   "cell_type": "code",
   "execution_count": 40,
   "id": "c91ab8bb",
   "metadata": {},
   "outputs": [],
   "source": [
    "mean_platelet = disc_inp_data['platelet'].mean()\n",
    "disc_inp_data['platelet'] = disc_inp_data['platelet'].fillna(mean_platelet)"
   ]
  },
  {
   "cell_type": "code",
   "execution_count": 41,
   "id": "fe9f7dd6",
   "metadata": {},
   "outputs": [
    {
     "name": "stdout",
     "output_type": "stream",
     "text": [
      "stay_id                          0\n",
      "sofa_score                       0\n",
      "respiration                      0\n",
      "coagulation                      0\n",
      "liver                            0\n",
      "cardiovascular                   0\n",
      "cns                              0\n",
      "renal                            0\n",
      "sirs                             0\n",
      "age                              0\n",
      "weight                           0\n",
      "gender                           0\n",
      "gcs                              0\n",
      "sofa_24hours                     0\n",
      "bilirubin_total                  0\n",
      "bicarbonate                      0\n",
      "hemoglobin                       0\n",
      "chloride                         0\n",
      "calcium                          0\n",
      "potassium                        0\n",
      "sodium                           0\n",
      "lactate                          0\n",
      "glucose                          0\n",
      "respiratory_rate_total           0\n",
      "fio2                             0\n",
      "platelet                         0\n",
      "wbc                          32763\n",
      "albumin                   16619118\n",
      "creatinine                15578116\n",
      "heart_rate                 3267564\n",
      "temperature               12554711\n",
      "spo2                       7900887\n",
      "died_in_hosp                     0\n",
      "dtype: int64\n"
     ]
    }
   ],
   "source": [
    "print(disc_inp_data.isnull().sum())"
   ]
  },
  {
   "cell_type": "code",
   "execution_count": 42,
   "id": "e13b1f21",
   "metadata": {},
   "outputs": [],
   "source": [
    "mean_wbc = disc_inp_data['wbc'].mean()\n",
    "disc_inp_data['wbc'] = disc_inp_data['wbc'].fillna(mean_wbc)"
   ]
  },
  {
   "cell_type": "code",
   "execution_count": 43,
   "id": "60941c20",
   "metadata": {},
   "outputs": [
    {
     "name": "stdout",
     "output_type": "stream",
     "text": [
      "stay_id                          0\n",
      "sofa_score                       0\n",
      "respiration                      0\n",
      "coagulation                      0\n",
      "liver                            0\n",
      "cardiovascular                   0\n",
      "cns                              0\n",
      "renal                            0\n",
      "sirs                             0\n",
      "age                              0\n",
      "weight                           0\n",
      "gender                           0\n",
      "gcs                              0\n",
      "sofa_24hours                     0\n",
      "bilirubin_total                  0\n",
      "bicarbonate                      0\n",
      "hemoglobin                       0\n",
      "chloride                         0\n",
      "calcium                          0\n",
      "potassium                        0\n",
      "sodium                           0\n",
      "lactate                          0\n",
      "glucose                          0\n",
      "respiratory_rate_total           0\n",
      "fio2                             0\n",
      "platelet                         0\n",
      "wbc                              0\n",
      "albumin                   16619118\n",
      "creatinine                15578116\n",
      "heart_rate                 3267564\n",
      "temperature               12554711\n",
      "spo2                       7900887\n",
      "died_in_hosp                     0\n",
      "dtype: int64\n"
     ]
    }
   ],
   "source": [
    "print(disc_inp_data.isnull().sum())"
   ]
  },
  {
   "cell_type": "code",
   "execution_count": 44,
   "id": "0da0b4fb",
   "metadata": {},
   "outputs": [],
   "source": [
    "mean_albumin = disc_inp_data['albumin'].mean()\n",
    "disc_inp_data['albumin'] = disc_inp_data['albumin'].fillna(mean_albumin)"
   ]
  },
  {
   "cell_type": "code",
   "execution_count": 45,
   "id": "3dbf52f6",
   "metadata": {},
   "outputs": [
    {
     "name": "stdout",
     "output_type": "stream",
     "text": [
      "stay_id                          0\n",
      "sofa_score                       0\n",
      "respiration                      0\n",
      "coagulation                      0\n",
      "liver                            0\n",
      "cardiovascular                   0\n",
      "cns                              0\n",
      "renal                            0\n",
      "sirs                             0\n",
      "age                              0\n",
      "weight                           0\n",
      "gender                           0\n",
      "gcs                              0\n",
      "sofa_24hours                     0\n",
      "bilirubin_total                  0\n",
      "bicarbonate                      0\n",
      "hemoglobin                       0\n",
      "chloride                         0\n",
      "calcium                          0\n",
      "potassium                        0\n",
      "sodium                           0\n",
      "lactate                          0\n",
      "glucose                          0\n",
      "respiratory_rate_total           0\n",
      "fio2                             0\n",
      "platelet                         0\n",
      "wbc                              0\n",
      "albumin                          0\n",
      "creatinine                15578116\n",
      "heart_rate                 3267564\n",
      "temperature               12554711\n",
      "spo2                       7900887\n",
      "died_in_hosp                     0\n",
      "dtype: int64\n"
     ]
    }
   ],
   "source": [
    "print(disc_inp_data.isnull().sum())"
   ]
  },
  {
   "cell_type": "code",
   "execution_count": 46,
   "id": "b164b77c",
   "metadata": {},
   "outputs": [],
   "source": [
    "mean_creatinine = disc_inp_data['creatinine'].mean()\n",
    "disc_inp_data['creatinine'] = disc_inp_data['creatinine'].fillna(mean_creatinine)"
   ]
  },
  {
   "cell_type": "code",
   "execution_count": 47,
   "id": "a45706ad",
   "metadata": {},
   "outputs": [
    {
     "name": "stdout",
     "output_type": "stream",
     "text": [
      "stay_id                          0\n",
      "sofa_score                       0\n",
      "respiration                      0\n",
      "coagulation                      0\n",
      "liver                            0\n",
      "cardiovascular                   0\n",
      "cns                              0\n",
      "renal                            0\n",
      "sirs                             0\n",
      "age                              0\n",
      "weight                           0\n",
      "gender                           0\n",
      "gcs                              0\n",
      "sofa_24hours                     0\n",
      "bilirubin_total                  0\n",
      "bicarbonate                      0\n",
      "hemoglobin                       0\n",
      "chloride                         0\n",
      "calcium                          0\n",
      "potassium                        0\n",
      "sodium                           0\n",
      "lactate                          0\n",
      "glucose                          0\n",
      "respiratory_rate_total           0\n",
      "fio2                             0\n",
      "platelet                         0\n",
      "wbc                              0\n",
      "albumin                          0\n",
      "creatinine                       0\n",
      "heart_rate                 3267564\n",
      "temperature               12554711\n",
      "spo2                       7900887\n",
      "died_in_hosp                     0\n",
      "dtype: int64\n"
     ]
    }
   ],
   "source": [
    "print(disc_inp_data.isnull().sum())"
   ]
  },
  {
   "cell_type": "code",
   "execution_count": 48,
   "id": "9a3ff337",
   "metadata": {},
   "outputs": [],
   "source": [
    "mean_heart_rate = disc_inp_data['heart_rate'].mean()\n",
    "disc_inp_data['heart_rate'] = disc_inp_data['heart_rate'].fillna(mean_heart_rate)"
   ]
  },
  {
   "cell_type": "code",
   "execution_count": 49,
   "id": "2bfc8592",
   "metadata": {},
   "outputs": [
    {
     "name": "stdout",
     "output_type": "stream",
     "text": [
      "stay_id                          0\n",
      "sofa_score                       0\n",
      "respiration                      0\n",
      "coagulation                      0\n",
      "liver                            0\n",
      "cardiovascular                   0\n",
      "cns                              0\n",
      "renal                            0\n",
      "sirs                             0\n",
      "age                              0\n",
      "weight                           0\n",
      "gender                           0\n",
      "gcs                              0\n",
      "sofa_24hours                     0\n",
      "bilirubin_total                  0\n",
      "bicarbonate                      0\n",
      "hemoglobin                       0\n",
      "chloride                         0\n",
      "calcium                          0\n",
      "potassium                        0\n",
      "sodium                           0\n",
      "lactate                          0\n",
      "glucose                          0\n",
      "respiratory_rate_total           0\n",
      "fio2                             0\n",
      "platelet                         0\n",
      "wbc                              0\n",
      "albumin                          0\n",
      "creatinine                       0\n",
      "heart_rate                       0\n",
      "temperature               12554711\n",
      "spo2                       7900887\n",
      "died_in_hosp                     0\n",
      "dtype: int64\n"
     ]
    }
   ],
   "source": [
    "print(disc_inp_data.isnull().sum())"
   ]
  },
  {
   "cell_type": "code",
   "execution_count": 50,
   "id": "56dd806a",
   "metadata": {},
   "outputs": [],
   "source": [
    "mean_temperature = disc_inp_data['temperature'].mean()\n",
    "disc_inp_data['temperature'] = disc_inp_data['temperature'].fillna(mean_temperature)"
   ]
  },
  {
   "cell_type": "code",
   "execution_count": 51,
   "id": "9dcf5583",
   "metadata": {},
   "outputs": [
    {
     "name": "stdout",
     "output_type": "stream",
     "text": [
      "stay_id                         0\n",
      "sofa_score                      0\n",
      "respiration                     0\n",
      "coagulation                     0\n",
      "liver                           0\n",
      "cardiovascular                  0\n",
      "cns                             0\n",
      "renal                           0\n",
      "sirs                            0\n",
      "age                             0\n",
      "weight                          0\n",
      "gender                          0\n",
      "gcs                             0\n",
      "sofa_24hours                    0\n",
      "bilirubin_total                 0\n",
      "bicarbonate                     0\n",
      "hemoglobin                      0\n",
      "chloride                        0\n",
      "calcium                         0\n",
      "potassium                       0\n",
      "sodium                          0\n",
      "lactate                         0\n",
      "glucose                         0\n",
      "respiratory_rate_total          0\n",
      "fio2                            0\n",
      "platelet                        0\n",
      "wbc                             0\n",
      "albumin                         0\n",
      "creatinine                      0\n",
      "heart_rate                      0\n",
      "temperature                     0\n",
      "spo2                      7900887\n",
      "died_in_hosp                    0\n",
      "dtype: int64\n"
     ]
    }
   ],
   "source": [
    "print(disc_inp_data.isnull().sum())"
   ]
  },
  {
   "cell_type": "code",
   "execution_count": 52,
   "id": "17e512aa",
   "metadata": {},
   "outputs": [],
   "source": [
    "mean_spo2 = disc_inp_data['spo2'].mean()\n",
    "disc_inp_data['spo2'] = disc_inp_data['spo2'].fillna(mean_spo2)"
   ]
  },
  {
   "cell_type": "code",
   "execution_count": 53,
   "id": "62fb2655",
   "metadata": {},
   "outputs": [
    {
     "name": "stdout",
     "output_type": "stream",
     "text": [
      "stay_id                   0\n",
      "sofa_score                0\n",
      "respiration               0\n",
      "coagulation               0\n",
      "liver                     0\n",
      "cardiovascular            0\n",
      "cns                       0\n",
      "renal                     0\n",
      "sirs                      0\n",
      "age                       0\n",
      "weight                    0\n",
      "gender                    0\n",
      "gcs                       0\n",
      "sofa_24hours              0\n",
      "bilirubin_total           0\n",
      "bicarbonate               0\n",
      "hemoglobin                0\n",
      "chloride                  0\n",
      "calcium                   0\n",
      "potassium                 0\n",
      "sodium                    0\n",
      "lactate                   0\n",
      "glucose                   0\n",
      "respiratory_rate_total    0\n",
      "fio2                      0\n",
      "platelet                  0\n",
      "wbc                       0\n",
      "albumin                   0\n",
      "creatinine                0\n",
      "heart_rate                0\n",
      "temperature               0\n",
      "spo2                      0\n",
      "died_in_hosp              0\n",
      "dtype: int64\n"
     ]
    }
   ],
   "source": [
    "print(disc_inp_data.isnull().sum())"
   ]
  },
  {
   "cell_type": "code",
   "execution_count": null,
   "id": "468c24b2",
   "metadata": {},
   "outputs": [],
   "source": [
    "# add rewards - sparsely for now; reward function shaping comes in a separate script\n",
    "disc_inp_data['reward'] = 0\n",
    "for i in disc_inp_data.index:\n",
    "    if i == 0:\n",
    "        continue\n",
    "    else:\n",
    "        if disc_inp_data.loc[i, 'stay_id'] != disc_inp_data.loc[i-1, 'stay_id']:\n",
    "            if disc_inp_data.loc[i-1, 'died_in_hosp'] == 1:\n",
    "                disc_inp_data.loc[i-1,'reward'] = -100\n",
    "            elif disc_inp_data.loc[i-1, 'died_in_hosp'] == 0:\n",
    "                disc_inp_data.loc[i-1,'reward'] = 100\n",
    "            else:\n",
    "                print (\"error in row\"), i-1\n",
    "if disc_inp_data.loc[len(disc_inp_data)-1, 'died_in_hosp'] == 1:\n",
    "    disc_inp_data.loc[len(disc_inp_data)-1, 'reward'] = -100\n",
    "elif disc_inp_data.loc[len(disc_inp_data)-1, 'died_in_hosp'] == 0:\n",
    "     disc_inp_data.loc[len(disc_inp_data)-1, 'reward'] = 100\n",
    "print (disc_inp_data['reward'].value_counts())"
   ]
  },
  {
   "cell_type": "code",
   "execution_count": null,
   "id": "0937422e",
   "metadata": {},
   "outputs": [],
   "source": [
    "# now split into train/validation/test sets\n",
    "import random\n",
    "unique_ids = disc_inp_data['stay_id'].unique()\n",
    "random.shuffle(unique_ids)\n",
    "train_sample = 0.7\n",
    "val_sample = 0.1\n",
    "test_sample = 0.2\n",
    "train_num = int(len(unique_ids) * 0.7)\n",
    "val_num = int(len(unique_ids)*0.1) + train_num\n",
    "train_ids = unique_ids[:train_num]\n",
    "val_ids = unique_ids[train_num:val_num]\n",
    "test_ids = unique_ids[val_num:]"
   ]
  },
  {
   "cell_type": "code",
   "execution_count": null,
   "id": "6d9bc210",
   "metadata": {},
   "outputs": [],
   "source": [
    "train_set = DataFrame()\n",
    "train_set = disc_inp_data.loc[disc_inp_data['stay_id'].isin(train_ids)]\n",
    "\n",
    "val_set = DataFrame()\n",
    "val_set = disc_inp_data.loc[disc_inp_data['stay_id'].isin(val_ids)]\n",
    "\n",
    "test_set = DataFrame()\n",
    "test_set = disc_inp_data.loc[disc_inp_data['stay_id'].isin(test_ids)]"
   ]
  },
  {
   "cell_type": "code",
   "execution_count": null,
   "id": "fa17ef16",
   "metadata": {},
   "outputs": [],
   "source": []
  },
  {
   "cell_type": "code",
   "execution_count": null,
   "id": "64034b20",
   "metadata": {},
   "outputs": [],
   "source": []
  },
  {
   "cell_type": "code",
   "execution_count": null,
   "id": "85385d28",
   "metadata": {},
   "outputs": [],
   "source": []
  },
  {
   "cell_type": "code",
   "execution_count": null,
   "id": "a4fadc42",
   "metadata": {},
   "outputs": [],
   "source": []
  }
 ],
 "metadata": {
  "kernelspec": {
   "display_name": "Python 3 (ipykernel)",
   "language": "python",
   "name": "python3"
  },
  "language_info": {
   "codemirror_mode": {
    "name": "ipython",
    "version": 3
   },
   "file_extension": ".py",
   "mimetype": "text/x-python",
   "name": "python",
   "nbconvert_exporter": "python",
   "pygments_lexer": "ipython3",
   "version": "3.9.7"
  }
 },
 "nbformat": 4,
 "nbformat_minor": 5
}
