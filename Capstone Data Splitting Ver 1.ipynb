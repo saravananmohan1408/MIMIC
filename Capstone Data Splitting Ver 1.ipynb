{
 "cells": [
  {
   "cell_type": "code",
   "execution_count": 1,
   "id": "e1d095d1",
   "metadata": {},
   "outputs": [],
   "source": [
    "%matplotlib inline\n",
    "import numpy as np\n",
    "import pandas as pd\n",
    "import matplotlib.pyplot as plt\n",
    "from pandas import DataFrame"
   ]
  },
  {
   "cell_type": "code",
   "execution_count": 2,
   "id": "22589df3",
   "metadata": {},
   "outputs": [],
   "source": [
    "disc_inp_data = pd.read_csv(\"C:\\\\Users\\\\sara1\\\\Desktop\\\\Rawdata\\\\Final1.csv\", low_memory=False)"
   ]
  },
  {
   "cell_type": "code",
   "execution_count": 3,
   "id": "8a47c010",
   "metadata": {},
   "outputs": [
    {
     "data": {
      "text/html": [
       "<div>\n",
       "<style scoped>\n",
       "    .dataframe tbody tr th:only-of-type {\n",
       "        vertical-align: middle;\n",
       "    }\n",
       "\n",
       "    .dataframe tbody tr th {\n",
       "        vertical-align: top;\n",
       "    }\n",
       "\n",
       "    .dataframe thead th {\n",
       "        text-align: right;\n",
       "    }\n",
       "</style>\n",
       "<table border=\"1\" class=\"dataframe\">\n",
       "  <thead>\n",
       "    <tr style=\"text-align: right;\">\n",
       "      <th></th>\n",
       "      <th>stay_id</th>\n",
       "      <th>sofa_score</th>\n",
       "      <th>sirs</th>\n",
       "      <th>age</th>\n",
       "      <th>weight</th>\n",
       "      <th>gender</th>\n",
       "      <th>gcs</th>\n",
       "      <th>sofa_24hours</th>\n",
       "      <th>bilirubin_total</th>\n",
       "      <th>bicarbonate</th>\n",
       "      <th>...</th>\n",
       "      <th>wbc</th>\n",
       "      <th>albumin</th>\n",
       "      <th>creatinine</th>\n",
       "      <th>heart_rate</th>\n",
       "      <th>temperature</th>\n",
       "      <th>spo2</th>\n",
       "      <th>vaso_rate</th>\n",
       "      <th>vaso_amount</th>\n",
       "      <th>urineoutput</th>\n",
       "      <th>died_in_hosp</th>\n",
       "    </tr>\n",
       "  </thead>\n",
       "  <tbody>\n",
       "    <tr>\n",
       "      <th>0</th>\n",
       "      <td>34712382</td>\n",
       "      <td>7</td>\n",
       "      <td>3</td>\n",
       "      <td>91</td>\n",
       "      <td>51.0</td>\n",
       "      <td>F</td>\n",
       "      <td>14</td>\n",
       "      <td>7</td>\n",
       "      <td>2.879823</td>\n",
       "      <td>36.0</td>\n",
       "      <td>...</td>\n",
       "      <td>1.7</td>\n",
       "      <td>2.895128</td>\n",
       "      <td>2.4</td>\n",
       "      <td>60.0</td>\n",
       "      <td>36.980675</td>\n",
       "      <td>96.0</td>\n",
       "      <td>2.400000</td>\n",
       "      <td>14.799999</td>\n",
       "      <td>0.0</td>\n",
       "      <td>0</td>\n",
       "    </tr>\n",
       "    <tr>\n",
       "      <th>1</th>\n",
       "      <td>34712382</td>\n",
       "      <td>7</td>\n",
       "      <td>3</td>\n",
       "      <td>91</td>\n",
       "      <td>51.0</td>\n",
       "      <td>F</td>\n",
       "      <td>14</td>\n",
       "      <td>7</td>\n",
       "      <td>2.879823</td>\n",
       "      <td>36.0</td>\n",
       "      <td>...</td>\n",
       "      <td>1.7</td>\n",
       "      <td>2.895128</td>\n",
       "      <td>2.4</td>\n",
       "      <td>60.0</td>\n",
       "      <td>36.980675</td>\n",
       "      <td>96.0</td>\n",
       "      <td>2.400000</td>\n",
       "      <td>14.799999</td>\n",
       "      <td>0.0</td>\n",
       "      <td>0</td>\n",
       "    </tr>\n",
       "    <tr>\n",
       "      <th>2</th>\n",
       "      <td>34712382</td>\n",
       "      <td>7</td>\n",
       "      <td>3</td>\n",
       "      <td>91</td>\n",
       "      <td>51.0</td>\n",
       "      <td>F</td>\n",
       "      <td>14</td>\n",
       "      <td>7</td>\n",
       "      <td>2.879823</td>\n",
       "      <td>36.0</td>\n",
       "      <td>...</td>\n",
       "      <td>1.7</td>\n",
       "      <td>2.895128</td>\n",
       "      <td>2.4</td>\n",
       "      <td>60.0</td>\n",
       "      <td>36.980675</td>\n",
       "      <td>96.0</td>\n",
       "      <td>2.400000</td>\n",
       "      <td>14.799999</td>\n",
       "      <td>0.0</td>\n",
       "      <td>1</td>\n",
       "    </tr>\n",
       "    <tr>\n",
       "      <th>3</th>\n",
       "      <td>34712382</td>\n",
       "      <td>7</td>\n",
       "      <td>3</td>\n",
       "      <td>91</td>\n",
       "      <td>51.0</td>\n",
       "      <td>F</td>\n",
       "      <td>14</td>\n",
       "      <td>7</td>\n",
       "      <td>2.879823</td>\n",
       "      <td>36.0</td>\n",
       "      <td>...</td>\n",
       "      <td>1.7</td>\n",
       "      <td>2.895128</td>\n",
       "      <td>2.4</td>\n",
       "      <td>60.0</td>\n",
       "      <td>36.980675</td>\n",
       "      <td>96.0</td>\n",
       "      <td>2.400000</td>\n",
       "      <td>14.799999</td>\n",
       "      <td>0.0</td>\n",
       "      <td>1</td>\n",
       "    </tr>\n",
       "    <tr>\n",
       "      <th>4</th>\n",
       "      <td>30902754</td>\n",
       "      <td>2</td>\n",
       "      <td>4</td>\n",
       "      <td>87</td>\n",
       "      <td>80.0</td>\n",
       "      <td>M</td>\n",
       "      <td>8</td>\n",
       "      <td>1</td>\n",
       "      <td>2.879823</td>\n",
       "      <td>36.0</td>\n",
       "      <td>...</td>\n",
       "      <td>13.2</td>\n",
       "      <td>2.895128</td>\n",
       "      <td>0.5</td>\n",
       "      <td>120.0</td>\n",
       "      <td>36.980675</td>\n",
       "      <td>97.0</td>\n",
       "      <td>2.406079</td>\n",
       "      <td>39.058680</td>\n",
       "      <td>30.0</td>\n",
       "      <td>1</td>\n",
       "    </tr>\n",
       "  </tbody>\n",
       "</table>\n",
       "<p>5 rows × 30 columns</p>\n",
       "</div>"
      ],
      "text/plain": [
       "    stay_id  sofa_score  sirs  age  weight gender  gcs  sofa_24hours  \\\n",
       "0  34712382           7     3   91    51.0      F   14             7   \n",
       "1  34712382           7     3   91    51.0      F   14             7   \n",
       "2  34712382           7     3   91    51.0      F   14             7   \n",
       "3  34712382           7     3   91    51.0      F   14             7   \n",
       "4  30902754           2     4   87    80.0      M    8             1   \n",
       "\n",
       "   bilirubin_total  bicarbonate  ...   wbc   albumin  creatinine  heart_rate  \\\n",
       "0         2.879823         36.0  ...   1.7  2.895128         2.4        60.0   \n",
       "1         2.879823         36.0  ...   1.7  2.895128         2.4        60.0   \n",
       "2         2.879823         36.0  ...   1.7  2.895128         2.4        60.0   \n",
       "3         2.879823         36.0  ...   1.7  2.895128         2.4        60.0   \n",
       "4         2.879823         36.0  ...  13.2  2.895128         0.5       120.0   \n",
       "\n",
       "   temperature  spo2  vaso_rate  vaso_amount  urineoutput  died_in_hosp  \n",
       "0    36.980675  96.0   2.400000    14.799999          0.0             0  \n",
       "1    36.980675  96.0   2.400000    14.799999          0.0             0  \n",
       "2    36.980675  96.0   2.400000    14.799999          0.0             1  \n",
       "3    36.980675  96.0   2.400000    14.799999          0.0             1  \n",
       "4    36.980675  97.0   2.406079    39.058680         30.0             1  \n",
       "\n",
       "[5 rows x 30 columns]"
      ]
     },
     "execution_count": 3,
     "metadata": {},
     "output_type": "execute_result"
    }
   ],
   "source": [
    "disc_inp_data.head()"
   ]
  },
  {
   "cell_type": "code",
   "execution_count": 4,
   "id": "9cf940ed",
   "metadata": {},
   "outputs": [
    {
     "data": {
      "text/plain": [
       "(6038365, 30)"
      ]
     },
     "execution_count": 4,
     "metadata": {},
     "output_type": "execute_result"
    }
   ],
   "source": [
    "disc_inp_data.shape"
   ]
  },
  {
   "cell_type": "code",
   "execution_count": null,
   "id": "751ac5b6",
   "metadata": {},
   "outputs": [],
   "source": [
    "print(disc_inp_data.isnull().sum())"
   ]
  },
  {
   "cell_type": "code",
   "execution_count": null,
   "id": "55418322",
   "metadata": {},
   "outputs": [],
   "source": [
    "disc_inp_data.shape"
   ]
  },
  {
   "cell_type": "code",
   "execution_count": null,
   "id": "c953a335",
   "metadata": {},
   "outputs": [],
   "source": [
    "disc_inp_data.dtypes"
   ]
  },
  {
   "cell_type": "code",
   "execution_count": null,
   "id": "1a374134",
   "metadata": {},
   "outputs": [],
   "source": [
    "disc_inp_data['died_in_hosp'] = 0"
   ]
  },
  {
   "cell_type": "code",
   "execution_count": null,
   "id": "0f28ad6a",
   "metadata": {},
   "outputs": [],
   "source": [
    "disc_inp_data.loc[disc_inp_data['deathtime'].isna(), 'died_in_hosp'] = 0"
   ]
  },
  {
   "cell_type": "code",
   "execution_count": null,
   "id": "fd4a62a3",
   "metadata": {},
   "outputs": [],
   "source": [
    "disc_inp_data.loc[disc_inp_data['deathtime'].notna(), 'died_in_hosp'] = 1"
   ]
  },
  {
   "cell_type": "code",
   "execution_count": null,
   "id": "e2d79549",
   "metadata": {},
   "outputs": [],
   "source": [
    "print(disc_inp_data['died_in_hosp'])"
   ]
  },
  {
   "cell_type": "code",
   "execution_count": null,
   "id": "8a4f2f9c",
   "metadata": {},
   "outputs": [],
   "source": [
    "print(disc_inp_data['died_in_hosp'].value_counts())"
   ]
  },
  {
   "cell_type": "code",
   "execution_count": null,
   "id": "4200bcc5",
   "metadata": {},
   "outputs": [],
   "source": [
    "disc_inp_data = disc_inp_data.drop(['deathtime','subject_id','first_hosp_stay','first_icu_stay'], axis=1)"
   ]
  },
  {
   "cell_type": "code",
   "execution_count": null,
   "id": "49b4edca",
   "metadata": {},
   "outputs": [],
   "source": [
    "mean_weight = disc_inp_data['weight'].mean()\n",
    "disc_inp_data['weight'] = disc_inp_data['weight'].fillna(mean_weight)"
   ]
  },
  {
   "cell_type": "code",
   "execution_count": null,
   "id": "e759c503",
   "metadata": {},
   "outputs": [],
   "source": [
    "print(disc_inp_data.isnull().sum())"
   ]
  },
  {
   "cell_type": "code",
   "execution_count": null,
   "id": "319d3c8f",
   "metadata": {},
   "outputs": [],
   "source": [
    "mean_gcs = disc_inp_data['gcs'].mean()\n",
    "disc_inp_data['gcs'] = disc_inp_data['gcs'].fillna(mean_gcs)"
   ]
  },
  {
   "cell_type": "code",
   "execution_count": null,
   "id": "6446f3ca",
   "metadata": {},
   "outputs": [],
   "source": [
    "print(disc_inp_data.isnull().sum())"
   ]
  },
  {
   "cell_type": "code",
   "execution_count": null,
   "id": "3049c19d",
   "metadata": {},
   "outputs": [],
   "source": [
    "mean_bilirubin_total = disc_inp_data['bilirubin_total'].mean()\n",
    "disc_inp_data['bilirubin_total'] = disc_inp_data['bilirubin_total'].fillna(mean_bilirubin_total)"
   ]
  },
  {
   "cell_type": "code",
   "execution_count": null,
   "id": "1ab70528",
   "metadata": {},
   "outputs": [],
   "source": [
    "print(disc_inp_data.isnull().sum())"
   ]
  },
  {
   "cell_type": "code",
   "execution_count": null,
   "id": "52f4515c",
   "metadata": {},
   "outputs": [],
   "source": [
    "mean_bicarbonate = disc_inp_data['bicarbonate'].mean()\n",
    "disc_inp_data['bicarbonate'] = disc_inp_data['bicarbonate'].fillna(mean_bicarbonate)"
   ]
  },
  {
   "cell_type": "code",
   "execution_count": null,
   "id": "3659bf7c",
   "metadata": {},
   "outputs": [],
   "source": [
    "print(disc_inp_data.isnull().sum())"
   ]
  },
  {
   "cell_type": "code",
   "execution_count": null,
   "id": "512ae5bf",
   "metadata": {},
   "outputs": [],
   "source": [
    "mean_hemoglobin = disc_inp_data['hemoglobin'].mean()\n",
    "disc_inp_data['hemoglobin'] = disc_inp_data['hemoglobin'].fillna(mean_hemoglobin)"
   ]
  },
  {
   "cell_type": "code",
   "execution_count": null,
   "id": "bbeac205",
   "metadata": {},
   "outputs": [],
   "source": [
    "print(disc_inp_data.isnull().sum())"
   ]
  },
  {
   "cell_type": "code",
   "execution_count": null,
   "id": "10dbdd2c",
   "metadata": {},
   "outputs": [],
   "source": [
    "mean_chloride = disc_inp_data['chloride'].mean()\n",
    "disc_inp_data['chloride'] = disc_inp_data['chloride'].fillna(mean_chloride)"
   ]
  },
  {
   "cell_type": "code",
   "execution_count": null,
   "id": "c1ab47b0",
   "metadata": {},
   "outputs": [],
   "source": [
    "print(disc_inp_data.isnull().sum())"
   ]
  },
  {
   "cell_type": "code",
   "execution_count": null,
   "id": "09728af1",
   "metadata": {},
   "outputs": [],
   "source": [
    "mean_calcium = disc_inp_data['calcium'].mean()\n",
    "disc_inp_data['calcium'] = disc_inp_data['calcium'].fillna(mean_calcium)"
   ]
  },
  {
   "cell_type": "code",
   "execution_count": null,
   "id": "7a39d110",
   "metadata": {},
   "outputs": [],
   "source": [
    "print(disc_inp_data.isnull().sum())"
   ]
  },
  {
   "cell_type": "code",
   "execution_count": null,
   "id": "4b3c1b9e",
   "metadata": {},
   "outputs": [],
   "source": [
    "mean_potassium = disc_inp_data['potassium'].mean()\n",
    "disc_inp_data['potassium'] = disc_inp_data['potassium'].fillna(mean_potassium)"
   ]
  },
  {
   "cell_type": "code",
   "execution_count": null,
   "id": "18e007e2",
   "metadata": {},
   "outputs": [],
   "source": [
    "print(disc_inp_data.isnull().sum())"
   ]
  },
  {
   "cell_type": "code",
   "execution_count": null,
   "id": "81c12541",
   "metadata": {},
   "outputs": [],
   "source": [
    "mean_sodium = disc_inp_data['sodium'].mean()\n",
    "disc_inp_data['sodium'] = disc_inp_data['sodium'].fillna(mean_sodium)"
   ]
  },
  {
   "cell_type": "code",
   "execution_count": null,
   "id": "71f25db2",
   "metadata": {},
   "outputs": [],
   "source": [
    "print(disc_inp_data.isnull().sum())"
   ]
  },
  {
   "cell_type": "code",
   "execution_count": null,
   "id": "f2b01b2b",
   "metadata": {},
   "outputs": [],
   "source": [
    "mean_lactate = disc_inp_data['lactate'].mean()\n",
    "disc_inp_data['lactate'] = disc_inp_data['lactate'].fillna(mean_lactate)"
   ]
  },
  {
   "cell_type": "code",
   "execution_count": null,
   "id": "bd1f515e",
   "metadata": {},
   "outputs": [],
   "source": [
    "print(disc_inp_data.isnull().sum())"
   ]
  },
  {
   "cell_type": "code",
   "execution_count": null,
   "id": "4db80bbf",
   "metadata": {},
   "outputs": [],
   "source": [
    "mean_glucose = disc_inp_data['glucose'].mean()\n",
    "disc_inp_data['glucose'] = disc_inp_data['glucose'].fillna(mean_glucose)"
   ]
  },
  {
   "cell_type": "code",
   "execution_count": null,
   "id": "d5f38cc8",
   "metadata": {},
   "outputs": [],
   "source": [
    "print(disc_inp_data.isnull().sum())"
   ]
  },
  {
   "cell_type": "code",
   "execution_count": null,
   "id": "4fb28b67",
   "metadata": {},
   "outputs": [],
   "source": [
    "mean_respiratory_rate_total = disc_inp_data['respiratory_rate_total'].mean()\n",
    "disc_inp_data['respiratory_rate_total'] = disc_inp_data['respiratory_rate_total'].fillna(mean_respiratory_rate_total)"
   ]
  },
  {
   "cell_type": "code",
   "execution_count": null,
   "id": "11de4345",
   "metadata": {},
   "outputs": [],
   "source": [
    "print(disc_inp_data.isnull().sum())"
   ]
  },
  {
   "cell_type": "code",
   "execution_count": null,
   "id": "e18569bc",
   "metadata": {},
   "outputs": [],
   "source": [
    "mean_fio2 = disc_inp_data['fio2'].mean()\n",
    "disc_inp_data['fio2'] = disc_inp_data['fio2'].fillna(mean_fio2)"
   ]
  },
  {
   "cell_type": "code",
   "execution_count": null,
   "id": "99bdc2ef",
   "metadata": {},
   "outputs": [],
   "source": [
    "print(disc_inp_data.isnull().sum())"
   ]
  },
  {
   "cell_type": "code",
   "execution_count": null,
   "id": "c91ab8bb",
   "metadata": {},
   "outputs": [],
   "source": [
    "mean_platelet = disc_inp_data['platelet'].mean()\n",
    "disc_inp_data['platelet'] = disc_inp_data['platelet'].fillna(mean_platelet)"
   ]
  },
  {
   "cell_type": "code",
   "execution_count": null,
   "id": "fe9f7dd6",
   "metadata": {},
   "outputs": [],
   "source": [
    "print(disc_inp_data.isnull().sum())"
   ]
  },
  {
   "cell_type": "code",
   "execution_count": null,
   "id": "e13b1f21",
   "metadata": {},
   "outputs": [],
   "source": [
    "mean_wbc = disc_inp_data['wbc'].mean()\n",
    "disc_inp_data['wbc'] = disc_inp_data['wbc'].fillna(mean_wbc)"
   ]
  },
  {
   "cell_type": "code",
   "execution_count": null,
   "id": "60941c20",
   "metadata": {},
   "outputs": [],
   "source": [
    "print(disc_inp_data.isnull().sum())"
   ]
  },
  {
   "cell_type": "code",
   "execution_count": null,
   "id": "0da0b4fb",
   "metadata": {},
   "outputs": [],
   "source": [
    "mean_albumin = disc_inp_data['albumin'].mean()\n",
    "disc_inp_data['albumin'] = disc_inp_data['albumin'].fillna(mean_albumin)"
   ]
  },
  {
   "cell_type": "code",
   "execution_count": null,
   "id": "3dbf52f6",
   "metadata": {},
   "outputs": [],
   "source": [
    "print(disc_inp_data.isnull().sum())"
   ]
  },
  {
   "cell_type": "code",
   "execution_count": null,
   "id": "b164b77c",
   "metadata": {},
   "outputs": [],
   "source": [
    "mean_creatinine = disc_inp_data['creatinine'].mean()\n",
    "disc_inp_data['creatinine'] = disc_inp_data['creatinine'].fillna(mean_creatinine)"
   ]
  },
  {
   "cell_type": "code",
   "execution_count": null,
   "id": "a45706ad",
   "metadata": {},
   "outputs": [],
   "source": [
    "print(disc_inp_data.isnull().sum())"
   ]
  },
  {
   "cell_type": "code",
   "execution_count": null,
   "id": "9a3ff337",
   "metadata": {},
   "outputs": [],
   "source": [
    "mean_heart_rate = disc_inp_data['heart_rate'].mean()\n",
    "disc_inp_data['heart_rate'] = disc_inp_data['heart_rate'].fillna(mean_heart_rate)"
   ]
  },
  {
   "cell_type": "code",
   "execution_count": null,
   "id": "2bfc8592",
   "metadata": {},
   "outputs": [],
   "source": [
    "print(disc_inp_data.isnull().sum())"
   ]
  },
  {
   "cell_type": "code",
   "execution_count": null,
   "id": "56dd806a",
   "metadata": {},
   "outputs": [],
   "source": [
    "mean_temperature = disc_inp_data['temperature'].mean()\n",
    "disc_inp_data['temperature'] = disc_inp_data['temperature'].fillna(mean_temperature)"
   ]
  },
  {
   "cell_type": "code",
   "execution_count": null,
   "id": "9dcf5583",
   "metadata": {},
   "outputs": [],
   "source": [
    "print(disc_inp_data.isnull().sum())"
   ]
  },
  {
   "cell_type": "code",
   "execution_count": null,
   "id": "17e512aa",
   "metadata": {},
   "outputs": [],
   "source": [
    "mean_spo2 = disc_inp_data['spo2'].mean()\n",
    "disc_inp_data['spo2'] = disc_inp_data['spo2'].fillna(mean_spo2)"
   ]
  },
  {
   "cell_type": "code",
   "execution_count": 5,
   "id": "62fb2655",
   "metadata": {},
   "outputs": [
    {
     "name": "stdout",
     "output_type": "stream",
     "text": [
      "stay_id                   0\n",
      "sofa_score                0\n",
      "sirs                      0\n",
      "age                       0\n",
      "weight                    0\n",
      "gender                    0\n",
      "gcs                       0\n",
      "sofa_24hours              0\n",
      "bilirubin_total           0\n",
      "bicarbonate               0\n",
      "hemoglobin                0\n",
      "chloride                  0\n",
      "calcium                   0\n",
      "potassium                 0\n",
      "sodium                    0\n",
      "lactate                   0\n",
      "glucose                   0\n",
      "respiratory_rate_total    0\n",
      "fio2                      0\n",
      "platelet                  0\n",
      "wbc                       0\n",
      "albumin                   0\n",
      "creatinine                0\n",
      "heart_rate                0\n",
      "temperature               0\n",
      "spo2                      0\n",
      "vaso_rate                 0\n",
      "vaso_amount               0\n",
      "urineoutput               0\n",
      "died_in_hosp              0\n",
      "dtype: int64\n"
     ]
    }
   ],
   "source": [
    "print(disc_inp_data.isnull().sum())"
   ]
  },
  {
   "cell_type": "code",
   "execution_count": 3,
   "id": "468c24b2",
   "metadata": {},
   "outputs": [
    {
     "name": "stdout",
     "output_type": "stream",
     "text": [
      " 0      16925943\n",
      " 100       25202\n",
      "-100        7769\n",
      "Name: reward, dtype: int64\n"
     ]
    }
   ],
   "source": [
    "# add rewards - sparsely for now; reward function shaping comes in a separate script\n",
    "disc_inp_data['reward'] = 0\n",
    "for i in disc_inp_data.index:\n",
    "    if i == 0:\n",
    "        continue\n",
    "    else:\n",
    "        if disc_inp_data.loc[i, 'stay_id'] != disc_inp_data.loc[i-1, 'stay_id']:\n",
    "            if disc_inp_data.loc[i-1, 'died_in_hosp'] == 1:\n",
    "                disc_inp_data.loc[i-1,'reward'] = -100\n",
    "            elif disc_inp_data.loc[i-1, 'died_in_hosp'] == 0:\n",
    "                disc_inp_data.loc[i-1,'reward'] = 100\n",
    "            else:\n",
    "                print (\"error in row\"), i-1\n",
    "if disc_inp_data.loc[len(disc_inp_data)-1, 'died_in_hosp'] == 1:\n",
    "    disc_inp_data.loc[len(disc_inp_data)-1, 'reward'] = -100\n",
    "elif disc_inp_data.loc[len(disc_inp_data)-1, 'died_in_hosp'] == 0:\n",
    "     disc_inp_data.loc[len(disc_inp_data)-1, 'reward'] = 100\n",
    "print (disc_inp_data['reward'].value_counts())"
   ]
  },
  {
   "cell_type": "code",
   "execution_count": 4,
   "id": "0937422e",
   "metadata": {},
   "outputs": [],
   "source": [
    "# now split into train/validation/test sets\n",
    "import random\n",
    "unique_ids = disc_inp_data['stay_id'].unique()\n",
    "random.shuffle(unique_ids)\n",
    "train_sample = 0.7\n",
    "val_sample = 0.1\n",
    "test_sample = 0.2\n",
    "train_num = int(len(unique_ids) * 0.7)\n",
    "val_num = int(len(unique_ids)*0.1) + train_num\n",
    "train_ids = unique_ids[:train_num]\n",
    "val_ids = unique_ids[train_num:val_num]\n",
    "test_ids = unique_ids[val_num:]"
   ]
  },
  {
   "cell_type": "code",
   "execution_count": 5,
   "id": "6d9bc210",
   "metadata": {},
   "outputs": [],
   "source": [
    "train_set = DataFrame()\n",
    "train_set = disc_inp_data.loc[disc_inp_data['stay_id'].isin(train_ids)]\n",
    "\n",
    "val_set = DataFrame()\n",
    "val_set = disc_inp_data.loc[disc_inp_data['stay_id'].isin(val_ids)]\n",
    "\n",
    "test_set = DataFrame()\n",
    "test_set = disc_inp_data.loc[disc_inp_data['stay_id'].isin(test_ids)]"
   ]
  },
  {
   "cell_type": "code",
   "execution_count": null,
   "id": "fa17ef16",
   "metadata": {},
   "outputs": [],
   "source": [
    "# cap values in train and test\n",
    "caps = pd.read_csv(\"capping_values.csv\")\n",
    "for i in caps.index:\n",
    "    param = caps.loc[i,'parameter'][1:-1]\n",
    "    maxval = caps.loc[i,'limsup']\n",
    "    minval = caps.loc[i,'liminf']\n",
    "    train_set[param][train_set[param] >= maxval] = maxval\n",
    "    train_set[param][train_set[param] <= minval] = minval\n",
    "    val_set[param][val_set[param] >= maxval] = maxval\n",
    "    val_set[param][val_set[param] <= minval] = minval\n",
    "    test_set[param][test_set[param] >= maxval] = maxval\n",
    "    test_set[param][test_set[param] <= minval] = minval"
   ]
  },
  {
   "cell_type": "code",
   "execution_count": null,
   "id": "64034b20",
   "metadata": {},
   "outputs": [],
   "source": [
    "binary_fields = ['gender','mechvent','re_admission']\n",
    "norm_fields= ['age','Weight_kg','GCS','HR','SysBP','MeanBP','DiaBP','RR','Temp_C','FiO2_1',\n",
    "    'Potassium','Sodium','Chloride','Glucose','Magnesium','Calcium',\n",
    "    'Hb','WBC_count','Platelets_count','PTT','PT','Arterial_pH','paO2','paCO2',\n",
    "    'Arterial_BE','HCO3','Arterial_lactate','SOFA','SIRS','Shock_Index',\n",
    "    'PaO2_FiO2','cumulated_balance_tev', 'elixhauser', 'Albumin', u'CO2_mEqL', 'Ionised_Ca']\n",
    "log_fields = ['max_dose_vaso','SpO2','BUN','Creatinine','SGOT','SGPT','Total_bili','INR',\n",
    "              'input_total_tev','input_4hourly_tev','output_total','output_4hourly', 'bloc']"
   ]
  },
  {
   "cell_type": "code",
   "execution_count": null,
   "id": "85385d28",
   "metadata": {},
   "outputs": [],
   "source": [
    "# normalise binary fields\n",
    "train_set[binary_fields] = train_set[binary_fields] - 0.5 \n",
    "val_set[binary_fields] = val_set[binary_fields] - 0.5 \n",
    "test_set[binary_fields] = test_set[binary_fields] - 0.5 "
   ]
  },
  {
   "cell_type": "code",
   "execution_count": null,
   "id": "991ce054",
   "metadata": {},
   "outputs": [],
   "source": [
    "# normal distn fields\n",
    "for item in norm_fields:\n",
    "    av = train_set[item].mean()\n",
    "    std = train_set[item].std()\n",
    "    train_set[item] = (train_set[item] - av) / std\n",
    "    val_set[item] = (val_set[item] - av) / std\n",
    "    test_set[item] = (test_set[item] - av) / std"
   ]
  },
  {
   "cell_type": "code",
   "execution_count": null,
   "id": "6d5207bd",
   "metadata": {},
   "outputs": [],
   "source": [
    "# log normal fields\n",
    "train_set[log_fields] = np.log(0.1 + train_set[log_fields])\n",
    "val_set[log_fields] = np.log(0.1 + val_set[log_fields])\n",
    "test_set[log_fields] = np.log(0.1 + test_set[log_fields])\n",
    "for item in log_fields:\n",
    "    av = train_set[item].mean()\n",
    "    std = train_set[item].std()\n",
    "    train_set[item] = (train_set[item] - av) / std\n",
    "    val_set[item] = (val_set[item] - av) / std\n",
    "    test_set[item] = (test_set[item] - av) / std"
   ]
  },
  {
   "cell_type": "code",
   "execution_count": null,
   "id": "4f5ff777",
   "metadata": {},
   "outputs": [],
   "source": []
  },
  {
   "cell_type": "code",
   "execution_count": null,
   "id": "d1f8f7e4",
   "metadata": {},
   "outputs": [],
   "source": []
  },
  {
   "cell_type": "code",
   "execution_count": null,
   "id": "a4fadc42",
   "metadata": {},
   "outputs": [],
   "source": []
  }
 ],
 "metadata": {
  "kernelspec": {
   "display_name": "Python 3 (ipykernel)",
   "language": "python",
   "name": "python3"
  },
  "language_info": {
   "codemirror_mode": {
    "name": "ipython",
    "version": 3
   },
   "file_extension": ".py",
   "mimetype": "text/x-python",
   "name": "python",
   "nbconvert_exporter": "python",
   "pygments_lexer": "ipython3",
   "version": "3.9.7"
  }
 },
 "nbformat": 4,
 "nbformat_minor": 5
}
