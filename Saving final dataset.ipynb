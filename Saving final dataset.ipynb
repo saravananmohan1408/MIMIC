{
 "cells": [
  {
   "cell_type": "code",
   "execution_count": 1,
   "id": "4ea911ff",
   "metadata": {},
   "outputs": [],
   "source": [
    "%matplotlib inline\n",
    "import numpy as np\n",
    "import pandas as pd\n",
    "import matplotlib.pyplot as plt\n",
    "from pandas import DataFrame"
   ]
  },
  {
   "cell_type": "code",
   "execution_count": 2,
   "id": "e731b228",
   "metadata": {},
   "outputs": [],
   "source": [
    "disc_inp_data = pd.read_csv(\"C:\\\\Users\\\\sara1\\\\Desktop\\\\Rawdata\\\\Combined.csv\", low_memory=False)"
   ]
  },
  {
   "cell_type": "code",
   "execution_count": 3,
   "id": "96050c8e",
   "metadata": {},
   "outputs": [],
   "source": [
    "disc_inp_data['died_in_hosp'] = 0"
   ]
  },
  {
   "cell_type": "code",
   "execution_count": 4,
   "id": "b0d8f04f",
   "metadata": {},
   "outputs": [],
   "source": [
    "disc_inp_data.loc[disc_inp_data['deathtime'].isna(), 'died_in_hosp'] = 0"
   ]
  },
  {
   "cell_type": "code",
   "execution_count": 5,
   "id": "898e9389",
   "metadata": {},
   "outputs": [],
   "source": [
    "disc_inp_data.loc[disc_inp_data['deathtime'].notna(), 'died_in_hosp'] = 1"
   ]
  },
  {
   "cell_type": "code",
   "execution_count": 6,
   "id": "508224f5",
   "metadata": {},
   "outputs": [
    {
     "name": "stdout",
     "output_type": "stream",
     "text": [
      "0           0\n",
      "1           0\n",
      "2           0\n",
      "3           0\n",
      "4           0\n",
      "           ..\n",
      "16958909    0\n",
      "16958910    0\n",
      "16958911    0\n",
      "16958912    0\n",
      "16958913    0\n",
      "Name: died_in_hosp, Length: 16958914, dtype: int64\n"
     ]
    }
   ],
   "source": [
    "print(disc_inp_data['died_in_hosp'])"
   ]
  },
  {
   "cell_type": "code",
   "execution_count": 7,
   "id": "e8ec9788",
   "metadata": {},
   "outputs": [],
   "source": [
    "disc_inp_data = disc_inp_data.drop(['deathtime','subject_id','first_hosp_stay','first_icu_stay'], axis=1)"
   ]
  },
  {
   "cell_type": "code",
   "execution_count": 8,
   "id": "8806fff3",
   "metadata": {},
   "outputs": [],
   "source": [
    "mean_weight = disc_inp_data['weight'].mean()\n",
    "disc_inp_data['weight'] = disc_inp_data['weight'].fillna(mean_weight)"
   ]
  },
  {
   "cell_type": "code",
   "execution_count": 9,
   "id": "8944316f",
   "metadata": {},
   "outputs": [],
   "source": [
    "mean_gcs = disc_inp_data['gcs'].mean()\n",
    "disc_inp_data['gcs'] = disc_inp_data['gcs'].fillna(mean_gcs)"
   ]
  },
  {
   "cell_type": "code",
   "execution_count": 10,
   "id": "47fa5429",
   "metadata": {},
   "outputs": [],
   "source": [
    "mean_bilirubin_total = disc_inp_data['bilirubin_total'].mean()\n",
    "disc_inp_data['bilirubin_total'] = disc_inp_data['bilirubin_total'].fillna(mean_bilirubin_total)"
   ]
  },
  {
   "cell_type": "code",
   "execution_count": 11,
   "id": "ea6edaf8",
   "metadata": {},
   "outputs": [],
   "source": [
    "mean_bicarbonate = disc_inp_data['bicarbonate'].mean()\n",
    "disc_inp_data['bicarbonate'] = disc_inp_data['bicarbonate'].fillna(mean_bicarbonate)"
   ]
  },
  {
   "cell_type": "code",
   "execution_count": 12,
   "id": "21164f45",
   "metadata": {},
   "outputs": [],
   "source": [
    "mean_hemoglobin = disc_inp_data['hemoglobin'].mean()\n",
    "disc_inp_data['hemoglobin'] = disc_inp_data['hemoglobin'].fillna(mean_hemoglobin)"
   ]
  },
  {
   "cell_type": "code",
   "execution_count": 13,
   "id": "303d15c7",
   "metadata": {},
   "outputs": [],
   "source": [
    "mean_chloride = disc_inp_data['chloride'].mean()\n",
    "disc_inp_data['chloride'] = disc_inp_data['chloride'].fillna(mean_chloride)"
   ]
  },
  {
   "cell_type": "code",
   "execution_count": 14,
   "id": "60de6ab4",
   "metadata": {},
   "outputs": [],
   "source": [
    "mean_calcium = disc_inp_data['calcium'].mean()\n",
    "disc_inp_data['calcium'] = disc_inp_data['calcium'].fillna(mean_calcium)"
   ]
  },
  {
   "cell_type": "code",
   "execution_count": 15,
   "id": "81df1909",
   "metadata": {},
   "outputs": [],
   "source": [
    "mean_potassium = disc_inp_data['potassium'].mean()\n",
    "disc_inp_data['potassium'] = disc_inp_data['potassium'].fillna(mean_potassium)"
   ]
  },
  {
   "cell_type": "code",
   "execution_count": 16,
   "id": "378e17a3",
   "metadata": {},
   "outputs": [],
   "source": [
    "mean_sodium = disc_inp_data['sodium'].mean()\n",
    "disc_inp_data['sodium'] = disc_inp_data['sodium'].fillna(mean_sodium)"
   ]
  },
  {
   "cell_type": "code",
   "execution_count": 17,
   "id": "780840a8",
   "metadata": {},
   "outputs": [],
   "source": [
    "mean_lactate = disc_inp_data['lactate'].mean()\n",
    "disc_inp_data['lactate'] = disc_inp_data['lactate'].fillna(mean_lactate)"
   ]
  },
  {
   "cell_type": "code",
   "execution_count": 18,
   "id": "0b5519a0",
   "metadata": {},
   "outputs": [],
   "source": [
    "mean_glucose = disc_inp_data['glucose'].mean()\n",
    "disc_inp_data['glucose'] = disc_inp_data['glucose'].fillna(mean_glucose)"
   ]
  },
  {
   "cell_type": "code",
   "execution_count": 19,
   "id": "8a458ff8",
   "metadata": {},
   "outputs": [],
   "source": [
    "mean_respiratory_rate_total = disc_inp_data['respiratory_rate_total'].mean()\n",
    "disc_inp_data['respiratory_rate_total'] = disc_inp_data['respiratory_rate_total'].fillna(mean_respiratory_rate_total)"
   ]
  },
  {
   "cell_type": "code",
   "execution_count": 20,
   "id": "0a5f3e64",
   "metadata": {},
   "outputs": [],
   "source": [
    "mean_fio2 = disc_inp_data['fio2'].mean()\n",
    "disc_inp_data['fio2'] = disc_inp_data['fio2'].fillna(mean_fio2)"
   ]
  },
  {
   "cell_type": "code",
   "execution_count": 21,
   "id": "f537c446",
   "metadata": {},
   "outputs": [],
   "source": [
    "mean_platelet = disc_inp_data['platelet'].mean()\n",
    "disc_inp_data['platelet'] = disc_inp_data['platelet'].fillna(mean_platelet)"
   ]
  },
  {
   "cell_type": "code",
   "execution_count": 22,
   "id": "fd33bad0",
   "metadata": {},
   "outputs": [],
   "source": [
    "mean_wbc = disc_inp_data['wbc'].mean()\n",
    "disc_inp_data['wbc'] = disc_inp_data['wbc'].fillna(mean_wbc)"
   ]
  },
  {
   "cell_type": "code",
   "execution_count": 23,
   "id": "1649a831",
   "metadata": {},
   "outputs": [],
   "source": [
    "mean_albumin = disc_inp_data['albumin'].mean()\n",
    "disc_inp_data['albumin'] = disc_inp_data['albumin'].fillna(mean_albumin)"
   ]
  },
  {
   "cell_type": "code",
   "execution_count": 24,
   "id": "f14a5a36",
   "metadata": {},
   "outputs": [],
   "source": [
    "mean_creatinine = disc_inp_data['creatinine'].mean()\n",
    "disc_inp_data['creatinine'] = disc_inp_data['creatinine'].fillna(mean_creatinine)"
   ]
  },
  {
   "cell_type": "code",
   "execution_count": 25,
   "id": "6683a985",
   "metadata": {},
   "outputs": [],
   "source": [
    "mean_heart_rate = disc_inp_data['heart_rate'].mean()\n",
    "disc_inp_data['heart_rate'] = disc_inp_data['heart_rate'].fillna(mean_heart_rate)"
   ]
  },
  {
   "cell_type": "code",
   "execution_count": 26,
   "id": "604beb37",
   "metadata": {},
   "outputs": [],
   "source": [
    "mean_temperature = disc_inp_data['temperature'].mean()\n",
    "disc_inp_data['temperature'] = disc_inp_data['temperature'].fillna(mean_temperature)"
   ]
  },
  {
   "cell_type": "code",
   "execution_count": 27,
   "id": "ae297d1b",
   "metadata": {},
   "outputs": [],
   "source": [
    "mean_spo2 = disc_inp_data['spo2'].mean()\n",
    "disc_inp_data['spo2'] = disc_inp_data['spo2'].fillna(mean_spo2)"
   ]
  },
  {
   "cell_type": "code",
   "execution_count": 28,
   "id": "cc829e40",
   "metadata": {},
   "outputs": [
    {
     "name": "stdout",
     "output_type": "stream",
     "text": [
      "stay_id                   0\n",
      "sofa_score                0\n",
      "respiration               0\n",
      "coagulation               0\n",
      "liver                     0\n",
      "cardiovascular            0\n",
      "cns                       0\n",
      "renal                     0\n",
      "sirs                      0\n",
      "age                       0\n",
      "weight                    0\n",
      "gender                    0\n",
      "gcs                       0\n",
      "sofa_24hours              0\n",
      "bilirubin_total           0\n",
      "bicarbonate               0\n",
      "hemoglobin                0\n",
      "chloride                  0\n",
      "calcium                   0\n",
      "potassium                 0\n",
      "sodium                    0\n",
      "lactate                   0\n",
      "glucose                   0\n",
      "respiratory_rate_total    0\n",
      "fio2                      0\n",
      "platelet                  0\n",
      "wbc                       0\n",
      "albumin                   0\n",
      "creatinine                0\n",
      "heart_rate                0\n",
      "temperature               0\n",
      "spo2                      0\n",
      "died_in_hosp              0\n",
      "dtype: int64\n"
     ]
    }
   ],
   "source": [
    "print(disc_inp_data.isnull().sum())"
   ]
  },
  {
   "cell_type": "code",
   "execution_count": null,
   "id": "8f2622ba",
   "metadata": {},
   "outputs": [],
   "source": [
    "disc_inp_data.to_csv(\"C:\\\\Users\\\\sara1\\\\Desktop\\\\Rawdata\\\\Final.csv\", index=False, chunksize=1000)"
   ]
  }
 ],
 "metadata": {
  "kernelspec": {
   "display_name": "Python 3 (ipykernel)",
   "language": "python",
   "name": "python3"
  },
  "language_info": {
   "codemirror_mode": {
    "name": "ipython",
    "version": 3
   },
   "file_extension": ".py",
   "mimetype": "text/x-python",
   "name": "python",
   "nbconvert_exporter": "python",
   "pygments_lexer": "ipython3",
   "version": "3.9.7"
  }
 },
 "nbformat": 4,
 "nbformat_minor": 5
}
