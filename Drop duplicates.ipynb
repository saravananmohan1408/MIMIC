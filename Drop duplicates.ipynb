{
 "cells": [
  {
   "cell_type": "code",
   "execution_count": 39,
   "id": "0b39ac1a",
   "metadata": {},
   "outputs": [],
   "source": [
    "import pandas as pd"
   ]
  },
  {
   "cell_type": "code",
   "execution_count": 40,
   "id": "4c2ed3dc",
   "metadata": {},
   "outputs": [],
   "source": [
    "enzyme = pd.read_csv(\"C:\\\\Users\\\\sara1\\\\Desktop\\\\Rawdata\\\\Enzyme.csv\")"
   ]
  },
  {
   "cell_type": "code",
   "execution_count": 41,
   "id": "59ed7d44",
   "metadata": {},
   "outputs": [
    {
     "data": {
      "text/plain": [
       "(187578, 2)"
      ]
     },
     "execution_count": 41,
     "metadata": {},
     "output_type": "execute_result"
    }
   ],
   "source": [
    "enzyme.shape"
   ]
  },
  {
   "cell_type": "code",
   "execution_count": 42,
   "id": "ba0dfd2b",
   "metadata": {},
   "outputs": [],
   "source": [
    "enzyme.drop_duplicates(subset=['subject_id'], keep='first', inplace=True)"
   ]
  },
  {
   "cell_type": "code",
   "execution_count": 43,
   "id": "8e3a220e",
   "metadata": {},
   "outputs": [
    {
     "data": {
      "text/plain": [
       "(24813, 2)"
      ]
     },
     "execution_count": 43,
     "metadata": {},
     "output_type": "execute_result"
    }
   ],
   "source": [
    "enzyme.shape"
   ]
  },
  {
   "cell_type": "code",
   "execution_count": 44,
   "id": "110a6334",
   "metadata": {},
   "outputs": [],
   "source": [
    "enzyme.to_csv(\"C:\\\\Users\\\\sara1\\\\Desktop\\\\Rawdata\\\\Enzyme1.csv\", index=False)"
   ]
  },
  {
   "cell_type": "code",
   "execution_count": 45,
   "id": "2b0457a5",
   "metadata": {},
   "outputs": [],
   "source": [
    "bg = pd.read_csv(\"C:\\\\Users\\\\sara1\\\\Desktop\\\\Rawdata\\\\bg.csv\")"
   ]
  },
  {
   "cell_type": "code",
   "execution_count": 46,
   "id": "0e5e2e54",
   "metadata": {},
   "outputs": [
    {
     "data": {
      "text/plain": [
       "(283300, 9)"
      ]
     },
     "execution_count": 46,
     "metadata": {},
     "output_type": "execute_result"
    }
   ],
   "source": [
    "bg.shape"
   ]
  },
  {
   "cell_type": "code",
   "execution_count": 47,
   "id": "5011aa9a",
   "metadata": {},
   "outputs": [],
   "source": [
    "bg.drop_duplicates(subset=['subject_id'], keep='first', inplace=True)"
   ]
  },
  {
   "cell_type": "code",
   "execution_count": 48,
   "id": "0979980a",
   "metadata": {},
   "outputs": [
    {
     "data": {
      "text/plain": [
       "(23139, 9)"
      ]
     },
     "execution_count": 48,
     "metadata": {},
     "output_type": "execute_result"
    }
   ],
   "source": [
    "bg.shape"
   ]
  },
  {
   "cell_type": "code",
   "execution_count": 49,
   "id": "18ec7730",
   "metadata": {},
   "outputs": [],
   "source": [
    "bg.to_csv(\"C:\\\\Users\\\\sara1\\\\Desktop\\\\Rawdata\\\\bg1.csv\", index=False)"
   ]
  },
  {
   "cell_type": "code",
   "execution_count": 50,
   "id": "6f7b0526",
   "metadata": {},
   "outputs": [],
   "source": [
    "ventilatorsetting = pd.read_csv(\"C:\\\\Users\\\\sara1\\\\Desktop\\\\Rawdata\\\\VentilatorSetting.csv\")"
   ]
  },
  {
   "cell_type": "code",
   "execution_count": 51,
   "id": "8babe608",
   "metadata": {},
   "outputs": [
    {
     "data": {
      "text/plain": [
       "(315129, 3)"
      ]
     },
     "execution_count": 51,
     "metadata": {},
     "output_type": "execute_result"
    }
   ],
   "source": [
    "ventilatorsetting.shape"
   ]
  },
  {
   "cell_type": "code",
   "execution_count": 52,
   "id": "88ae87ea",
   "metadata": {},
   "outputs": [],
   "source": [
    "ventilatorsetting.drop_duplicates(subset=['stay_id'], keep='first', inplace=True)"
   ]
  },
  {
   "cell_type": "code",
   "execution_count": 53,
   "id": "7e4aa1fb",
   "metadata": {},
   "outputs": [
    {
     "data": {
      "text/plain": [
       "(22664, 3)"
      ]
     },
     "execution_count": 53,
     "metadata": {},
     "output_type": "execute_result"
    }
   ],
   "source": [
    "ventilatorsetting.shape"
   ]
  },
  {
   "cell_type": "code",
   "execution_count": 54,
   "id": "6dfb1e59",
   "metadata": {},
   "outputs": [],
   "source": [
    "ventilatorsetting.to_csv(\"C:\\\\Users\\\\sara1\\\\Desktop\\\\Rawdata\\\\VentilatorSetting1.csv\", index=False)"
   ]
  },
  {
   "cell_type": "code",
   "execution_count": 55,
   "id": "2f6fdb14",
   "metadata": {},
   "outputs": [],
   "source": [
    "bloodcount = pd.read_csv(\"C:\\\\Users\\\\sara1\\\\Desktop\\\\Rawdata\\\\Bloodcount.csv\")"
   ]
  },
  {
   "cell_type": "code",
   "execution_count": 56,
   "id": "c8511bf4",
   "metadata": {},
   "outputs": [
    {
     "data": {
      "text/plain": [
       "(1111732, 3)"
      ]
     },
     "execution_count": 56,
     "metadata": {},
     "output_type": "execute_result"
    }
   ],
   "source": [
    "bloodcount.shape"
   ]
  },
  {
   "cell_type": "code",
   "execution_count": 57,
   "id": "c517e3b1",
   "metadata": {},
   "outputs": [],
   "source": [
    "bloodcount.drop_duplicates(subset=['subject_id'], keep='first', inplace=True)"
   ]
  },
  {
   "cell_type": "code",
   "execution_count": 58,
   "id": "9d6ede8e",
   "metadata": {},
   "outputs": [
    {
     "data": {
      "text/plain": [
       "(25594, 3)"
      ]
     },
     "execution_count": 58,
     "metadata": {},
     "output_type": "execute_result"
    }
   ],
   "source": [
    "bloodcount.shape"
   ]
  },
  {
   "cell_type": "code",
   "execution_count": 59,
   "id": "71c15fb4",
   "metadata": {},
   "outputs": [],
   "source": [
    "bloodcount.to_csv(\"C:\\\\Users\\\\sara1\\\\Desktop\\\\Rawdata\\\\Bloodcount1.csv\", index=False)"
   ]
  },
  {
   "cell_type": "code",
   "execution_count": 60,
   "id": "1e3d14c0",
   "metadata": {},
   "outputs": [],
   "source": [
    "chemistry = pd.read_csv(\"C:\\\\Users\\\\sara1\\\\Desktop\\\\Rawdata\\\\Chemistry.csv\")"
   ]
  },
  {
   "cell_type": "code",
   "execution_count": 61,
   "id": "7c723df4",
   "metadata": {},
   "outputs": [
    {
     "data": {
      "text/plain": [
       "(1322148, 3)"
      ]
     },
     "execution_count": 61,
     "metadata": {},
     "output_type": "execute_result"
    }
   ],
   "source": [
    "chemistry.shape"
   ]
  },
  {
   "cell_type": "code",
   "execution_count": 62,
   "id": "5ecb98ef",
   "metadata": {},
   "outputs": [],
   "source": [
    "chemistry.drop_duplicates(subset=['subject_id'], keep='first', inplace=True)"
   ]
  },
  {
   "cell_type": "code",
   "execution_count": 63,
   "id": "53fb22c9",
   "metadata": {},
   "outputs": [
    {
     "data": {
      "text/plain": [
       "(25595, 3)"
      ]
     },
     "execution_count": 63,
     "metadata": {},
     "output_type": "execute_result"
    }
   ],
   "source": [
    "chemistry.shape"
   ]
  },
  {
   "cell_type": "code",
   "execution_count": 64,
   "id": "e3f5a8c9",
   "metadata": {},
   "outputs": [],
   "source": [
    "chemistry.to_csv(\"C:\\\\Users\\\\sara1\\\\Desktop\\\\Rawdata\\\\Chemistry1.csv\", index=False)"
   ]
  },
  {
   "cell_type": "code",
   "execution_count": 65,
   "id": "52e05c54",
   "metadata": {},
   "outputs": [],
   "source": [
    "vitalsign = pd.read_csv(\"C:\\\\Users\\\\sara1\\\\Desktop\\\\Rawdata\\\\Vitalsign.csv\")"
   ]
  },
  {
   "cell_type": "code",
   "execution_count": 66,
   "id": "711f1938",
   "metadata": {},
   "outputs": [
    {
     "data": {
      "text/plain": [
       "(3544122, 4)"
      ]
     },
     "execution_count": 66,
     "metadata": {},
     "output_type": "execute_result"
    }
   ],
   "source": [
    "vitalsign.shape"
   ]
  },
  {
   "cell_type": "code",
   "execution_count": 67,
   "id": "7e4a24ef",
   "metadata": {},
   "outputs": [],
   "source": [
    "vitalsign.drop_duplicates(subset=['stay_id'], keep='first', inplace=True)"
   ]
  },
  {
   "cell_type": "code",
   "execution_count": 68,
   "id": "c7c7d2b2",
   "metadata": {},
   "outputs": [
    {
     "data": {
      "text/plain": [
       "(32971, 4)"
      ]
     },
     "execution_count": 68,
     "metadata": {},
     "output_type": "execute_result"
    }
   ],
   "source": [
    "vitalsign.shape"
   ]
  },
  {
   "cell_type": "code",
   "execution_count": 69,
   "id": "d90bc1d5",
   "metadata": {},
   "outputs": [],
   "source": [
    "vitalsign.to_csv(\"C:\\\\Users\\\\sara1\\\\Desktop\\\\Rawdata\\\\Vitalsign1.csv\", index=False)"
   ]
  }
 ],
 "metadata": {
  "kernelspec": {
   "display_name": "Python 3 (ipykernel)",
   "language": "python",
   "name": "python3"
  },
  "language_info": {
   "codemirror_mode": {
    "name": "ipython",
    "version": 3
   },
   "file_extension": ".py",
   "mimetype": "text/x-python",
   "name": "python",
   "nbconvert_exporter": "python",
   "pygments_lexer": "ipython3",
   "version": "3.9.7"
  }
 },
 "nbformat": 4,
 "nbformat_minor": 5
}
