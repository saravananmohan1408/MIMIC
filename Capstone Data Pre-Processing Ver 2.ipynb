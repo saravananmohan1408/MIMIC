{
 "cells": [
  {
   "cell_type": "code",
   "execution_count": 1,
   "id": "bd57e8f0",
   "metadata": {},
   "outputs": [],
   "source": [
    "import numpy as np\n",
    "import pandas as pd\n",
    "from pandas import DataFrame"
   ]
  },
  {
   "cell_type": "code",
   "execution_count": 2,
   "id": "dccad49c",
   "metadata": {},
   "outputs": [],
   "source": [
    "sepsis3 = pd.read_csv(\"C:\\\\Users\\\\sara1\\\\Desktop\\\\Rawdata\\\\Sepsis3.csv\")"
   ]
  },
  {
   "cell_type": "code",
   "execution_count": 3,
   "id": "3ced3287",
   "metadata": {},
   "outputs": [],
   "source": [
    "sepsis3.drop(['sepsis3', 'antibiotic_time', 'culture_time', 'suspected_infection_time', 'sofa_time'], axis=1, inplace=True)"
   ]
  },
  {
   "cell_type": "code",
   "execution_count": 4,
   "id": "5f170f43",
   "metadata": {},
   "outputs": [],
   "source": [
    "sepsis3['sofa_score'] = sepsis3['sofa_score'].astype('int8')\n",
    "sepsis3['respiration'] = sepsis3['respiration'].astype('int8')\n",
    "sepsis3['coagulation'] = sepsis3['coagulation'].astype('int8')\n",
    "sepsis3['liver'] = sepsis3['liver'].astype('int8')\n",
    "sepsis3['cardiovascular'] = sepsis3['cardiovascular'].astype('int8')\n",
    "sepsis3['cns'] = sepsis3['cns'].astype('int8')\n",
    "sepsis3['renal'] = sepsis3['renal'].astype('int8')\n",
    "sepsis3['subject_id'] = sepsis3['subject_id'].astype('int32')\n",
    "sepsis3['stay_id'] = sepsis3['stay_id'].astype('int32')"
   ]
  },
  {
   "cell_type": "code",
   "execution_count": 5,
   "id": "b0b4462b",
   "metadata": {},
   "outputs": [],
   "source": [
    "sirs = pd.read_csv(\"C:\\\\Users\\\\sara1\\\\Desktop\\\\Rawdata\\\\SIRS.csv\")"
   ]
  },
  {
   "cell_type": "code",
   "execution_count": 6,
   "id": "36265756",
   "metadata": {},
   "outputs": [],
   "source": [
    "sirs['stay_id'] = sirs['stay_id'].astype('int32')\n",
    "sirs['sirs'] = sirs['sirs'].astype('int8')"
   ]
  },
  {
   "cell_type": "code",
   "execution_count": 7,
   "id": "2e0e7186",
   "metadata": {},
   "outputs": [],
   "source": [
    "join1 = sepsis3.merge(sirs, on='stay_id', how='left')"
   ]
  },
  {
   "cell_type": "code",
   "execution_count": 8,
   "id": "69ea8646",
   "metadata": {},
   "outputs": [],
   "source": [
    "age = pd.read_csv(\"C:\\\\Users\\\\sara1\\\\Desktop\\\\Rawdata\\\\Age.csv\")"
   ]
  },
  {
   "cell_type": "code",
   "execution_count": 9,
   "id": "1aa83d7a",
   "metadata": {},
   "outputs": [],
   "source": [
    "age['subject_id'] = age['subject_id'].astype('int32')\n",
    "age['age'] = age['age'].astype('int8')"
   ]
  },
  {
   "cell_type": "code",
   "execution_count": 10,
   "id": "871a0ac9",
   "metadata": {},
   "outputs": [],
   "source": [
    "join2 = join1.merge(age, on='subject_id', how='left')"
   ]
  },
  {
   "cell_type": "code",
   "execution_count": 11,
   "id": "1b2fcd88",
   "metadata": {},
   "outputs": [],
   "source": [
    "weight = pd.read_csv(\"C:\\\\Users\\\\sara1\\\\Desktop\\\\Rawdata\\\\Weight.csv\")"
   ]
  },
  {
   "cell_type": "code",
   "execution_count": 12,
   "id": "d95bb735",
   "metadata": {},
   "outputs": [],
   "source": [
    "weight['stay_id'] = weight['stay_id'].astype('int32')\n",
    "weight['weight'] = weight['weight'].astype('float32')"
   ]
  },
  {
   "cell_type": "code",
   "execution_count": 13,
   "id": "7d3bdd5c",
   "metadata": {},
   "outputs": [],
   "source": [
    "join3 = join2.merge(weight, on='stay_id', how='left')"
   ]
  },
  {
   "cell_type": "code",
   "execution_count": 14,
   "id": "900f659a",
   "metadata": {},
   "outputs": [],
   "source": [
    "admissions = pd.read_csv(\"C:\\\\Users\\\\sara1\\\\Desktop\\\\Rawdata\\\\Admissions.csv\")"
   ]
  },
  {
   "cell_type": "code",
   "execution_count": 15,
   "id": "dcac1da4",
   "metadata": {},
   "outputs": [],
   "source": [
    "admissions['subject_id'] = admissions['subject_id'].astype('int32')"
   ]
  },
  {
   "cell_type": "code",
   "execution_count": 16,
   "id": "31a51eea",
   "metadata": {},
   "outputs": [],
   "source": [
    "join4 = join3.merge(admissions, on='subject_id', how='left')"
   ]
  },
  {
   "cell_type": "code",
   "execution_count": 17,
   "id": "46dffd21",
   "metadata": {},
   "outputs": [],
   "source": [
    "icustaydetails = pd.read_csv(\"C:\\\\Users\\\\sara1\\\\Desktop\\\\Rawdata\\\\ICUStayDetails.csv\")"
   ]
  },
  {
   "cell_type": "code",
   "execution_count": 18,
   "id": "1e0e1499",
   "metadata": {},
   "outputs": [],
   "source": [
    "icustaydetails['subject_id'] = icustaydetails['subject_id'].astype('int32')"
   ]
  },
  {
   "cell_type": "code",
   "execution_count": 19,
   "id": "8084b51f",
   "metadata": {},
   "outputs": [],
   "source": [
    "join5 = join4.merge(icustaydetails, on='subject_id', how='left')"
   ]
  },
  {
   "cell_type": "code",
   "execution_count": 20,
   "id": "1d70d5ae",
   "metadata": {},
   "outputs": [],
   "source": [
    "gcs = pd.read_csv(\"C:\\\\Users\\\\sara1\\\\Desktop\\\\Rawdata\\\\GCS.csv\")"
   ]
  },
  {
   "cell_type": "code",
   "execution_count": 21,
   "id": "06fa9256",
   "metadata": {},
   "outputs": [],
   "source": [
    "gcs['stay_id'] = gcs['stay_id'].astype('int32')\n",
    "gcs['gcs'] = gcs['gcs'].astype('int8')"
   ]
  },
  {
   "cell_type": "code",
   "execution_count": 22,
   "id": "e4110722",
   "metadata": {},
   "outputs": [],
   "source": [
    "join6 = join5.merge(gcs, on='stay_id', how='left')"
   ]
  },
  {
   "cell_type": "code",
   "execution_count": 23,
   "id": "1254c5d2",
   "metadata": {},
   "outputs": [],
   "source": [
    "sofa = pd.read_csv(\"C:\\\\Users\\\\sara1\\\\Desktop\\\\Rawdata\\\\SOFA.csv\")"
   ]
  },
  {
   "cell_type": "code",
   "execution_count": 24,
   "id": "1b750b5d",
   "metadata": {},
   "outputs": [],
   "source": [
    "sofa['stay_id'] = sofa['stay_id'].astype('int32')\n",
    "sofa['sofa_24hours'] = sofa['sofa_24hours'].astype('int8')"
   ]
  },
  {
   "cell_type": "code",
   "execution_count": 25,
   "id": "276fcbc3",
   "metadata": {},
   "outputs": [],
   "source": [
    "join7 = join6.merge(sofa, on='stay_id', how='left')"
   ]
  },
  {
   "cell_type": "code",
   "execution_count": 26,
   "id": "7d89bdd8",
   "metadata": {},
   "outputs": [],
   "source": [
    "enzyme = pd.read_csv(\"C:\\\\Users\\\\sara1\\\\Desktop\\\\Rawdata\\\\Enzyme1.csv\")"
   ]
  },
  {
   "cell_type": "code",
   "execution_count": 27,
   "id": "3359ccda",
   "metadata": {},
   "outputs": [],
   "source": [
    "enzyme['subject_id'] = enzyme['subject_id'].astype('int32')\n",
    "enzyme['bilirubin_total'] = enzyme['bilirubin_total'].astype('float32')"
   ]
  },
  {
   "cell_type": "code",
   "execution_count": 28,
   "id": "e316ecda",
   "metadata": {},
   "outputs": [],
   "source": [
    "join8 = join7.merge(enzyme, on='subject_id', how='left')"
   ]
  },
  {
   "cell_type": "code",
   "execution_count": 29,
   "id": "656500f4",
   "metadata": {},
   "outputs": [],
   "source": [
    "bg = pd.read_csv(\"C:\\\\Users\\\\sara1\\\\Desktop\\\\Rawdata\\\\bg1.csv\")"
   ]
  },
  {
   "cell_type": "code",
   "execution_count": 30,
   "id": "de53e250",
   "metadata": {},
   "outputs": [],
   "source": [
    "bg['subject_id'] = bg['subject_id'].astype('int32')\n",
    "bg['bicarbonate'] = bg['bicarbonate'].astype('float32')\n",
    "bg['hemoglobin'] = bg['hemoglobin'].astype('float32')\n",
    "bg['chloride'] = bg['chloride'].astype('float32')\n",
    "bg['calcium'] = bg['calcium'].astype('float32')\n",
    "bg['potassium'] = bg['potassium'].astype('float32')\n",
    "bg['sodium'] = bg['sodium'].astype('float32')\n",
    "bg['lactate'] = bg['lactate'].astype('float32')\n",
    "bg['glucose'] = bg['glucose'].astype('float32')"
   ]
  },
  {
   "cell_type": "code",
   "execution_count": 31,
   "id": "42986b00",
   "metadata": {},
   "outputs": [],
   "source": [
    "join9 = join8.merge(bg, on='subject_id', how='left')"
   ]
  },
  {
   "cell_type": "code",
   "execution_count": 32,
   "id": "651e7d0b",
   "metadata": {},
   "outputs": [],
   "source": [
    "ventilatorsetting = pd.read_csv(\"C:\\\\Users\\\\sara1\\\\Desktop\\\\Rawdata\\\\VentilatorSetting1.csv\")"
   ]
  },
  {
   "cell_type": "code",
   "execution_count": 33,
   "id": "b3b97655",
   "metadata": {},
   "outputs": [],
   "source": [
    "ventilatorsetting['stay_id'] = ventilatorsetting['stay_id'].astype('int32')\n",
    "ventilatorsetting['respiratory_rate_total'] = ventilatorsetting['respiratory_rate_total'].astype('float32')\n",
    "ventilatorsetting['fio2'] = ventilatorsetting['fio2'].astype('float32')"
   ]
  },
  {
   "cell_type": "code",
   "execution_count": 34,
   "id": "c8c2b7cd",
   "metadata": {},
   "outputs": [],
   "source": [
    "join10 = join9.merge(ventilatorsetting, on='stay_id', how='left')"
   ]
  },
  {
   "cell_type": "code",
   "execution_count": 35,
   "id": "167bfa3a",
   "metadata": {},
   "outputs": [],
   "source": [
    "bloodcount = pd.read_csv(\"C:\\\\Users\\\\sara1\\\\Desktop\\\\Rawdata\\\\Bloodcount1.csv\")"
   ]
  },
  {
   "cell_type": "code",
   "execution_count": 36,
   "id": "5549839a",
   "metadata": {},
   "outputs": [],
   "source": [
    "bloodcount['subject_id'] = bloodcount['subject_id'].astype('int32')\n",
    "bloodcount['platelet'] = bloodcount['platelet'].astype('float32')\n",
    "bloodcount['wbc'] = bloodcount['wbc'].astype('float32')"
   ]
  },
  {
   "cell_type": "code",
   "execution_count": 37,
   "id": "df0429e2",
   "metadata": {},
   "outputs": [],
   "source": [
    "join11 = join10.merge(bloodcount, on='subject_id', how='left')"
   ]
  },
  {
   "cell_type": "code",
   "execution_count": 38,
   "id": "cf80c07a",
   "metadata": {},
   "outputs": [],
   "source": [
    "chemistry = pd.read_csv(\"C:\\\\Users\\\\sara1\\\\Desktop\\\\Rawdata\\\\Chemistry1.csv\")"
   ]
  },
  {
   "cell_type": "code",
   "execution_count": 39,
   "id": "5051d970",
   "metadata": {},
   "outputs": [],
   "source": [
    "chemistry['subject_id'] = chemistry['subject_id'].astype('int32')\n",
    "chemistry['albumin'] = chemistry['albumin'].astype('float32')\n",
    "chemistry['creatinine'] = chemistry['creatinine'].astype('float32')"
   ]
  },
  {
   "cell_type": "code",
   "execution_count": 40,
   "id": "fe7716c1",
   "metadata": {},
   "outputs": [],
   "source": [
    "join12 = join11.merge(chemistry, on='subject_id', how='left')"
   ]
  },
  {
   "cell_type": "code",
   "execution_count": 41,
   "id": "eb11f97b",
   "metadata": {},
   "outputs": [],
   "source": [
    "vitalsign = pd.read_csv(\"C:\\\\Users\\\\sara1\\\\Desktop\\\\Rawdata\\\\Vitalsign1.csv\")"
   ]
  },
  {
   "cell_type": "code",
   "execution_count": 42,
   "id": "3aa298a2",
   "metadata": {},
   "outputs": [],
   "source": [
    "vitalsign['stay_id'] = vitalsign['stay_id'].astype('int32')\n",
    "vitalsign['heart_rate'] = vitalsign['heart_rate'].astype('float32')\n",
    "vitalsign['temperature'] = vitalsign['temperature'].astype('float32')\n",
    "vitalsign['spo2'] = vitalsign['spo2'].astype('float32')"
   ]
  },
  {
   "cell_type": "code",
   "execution_count": 43,
   "id": "ab4fd288",
   "metadata": {},
   "outputs": [],
   "source": [
    "join13 = join12.merge(vitalsign, on='stay_id', how='left')"
   ]
  },
  {
   "cell_type": "code",
   "execution_count": 44,
   "id": "79ac6d24",
   "metadata": {},
   "outputs": [
    {
     "data": {
      "text/html": [
       "<div>\n",
       "<style scoped>\n",
       "    .dataframe tbody tr th:only-of-type {\n",
       "        vertical-align: middle;\n",
       "    }\n",
       "\n",
       "    .dataframe tbody tr th {\n",
       "        vertical-align: top;\n",
       "    }\n",
       "\n",
       "    .dataframe thead th {\n",
       "        text-align: right;\n",
       "    }\n",
       "</style>\n",
       "<table border=\"1\" class=\"dataframe\">\n",
       "  <thead>\n",
       "    <tr style=\"text-align: right;\">\n",
       "      <th></th>\n",
       "      <th>subject_id</th>\n",
       "      <th>stay_id</th>\n",
       "      <th>sofa_score</th>\n",
       "      <th>respiration</th>\n",
       "      <th>coagulation</th>\n",
       "      <th>liver</th>\n",
       "      <th>cardiovascular</th>\n",
       "      <th>cns</th>\n",
       "      <th>renal</th>\n",
       "      <th>sirs</th>\n",
       "      <th>...</th>\n",
       "      <th>glucose</th>\n",
       "      <th>respiratory_rate_total</th>\n",
       "      <th>fio2</th>\n",
       "      <th>platelet</th>\n",
       "      <th>wbc</th>\n",
       "      <th>albumin</th>\n",
       "      <th>creatinine</th>\n",
       "      <th>heart_rate</th>\n",
       "      <th>temperature</th>\n",
       "      <th>spo2</th>\n",
       "    </tr>\n",
       "  </thead>\n",
       "  <tbody>\n",
       "    <tr>\n",
       "      <th>0</th>\n",
       "      <td>18426683</td>\n",
       "      <td>33144981</td>\n",
       "      <td>2</td>\n",
       "      <td>0</td>\n",
       "      <td>0</td>\n",
       "      <td>0</td>\n",
       "      <td>0</td>\n",
       "      <td>0</td>\n",
       "      <td>2</td>\n",
       "      <td>3</td>\n",
       "      <td>...</td>\n",
       "      <td>NaN</td>\n",
       "      <td>NaN</td>\n",
       "      <td>NaN</td>\n",
       "      <td>213.0</td>\n",
       "      <td>22.0</td>\n",
       "      <td>NaN</td>\n",
       "      <td>NaN</td>\n",
       "      <td>NaN</td>\n",
       "      <td>36.889999</td>\n",
       "      <td>NaN</td>\n",
       "    </tr>\n",
       "    <tr>\n",
       "      <th>1</th>\n",
       "      <td>18426683</td>\n",
       "      <td>33144981</td>\n",
       "      <td>2</td>\n",
       "      <td>0</td>\n",
       "      <td>0</td>\n",
       "      <td>0</td>\n",
       "      <td>0</td>\n",
       "      <td>0</td>\n",
       "      <td>2</td>\n",
       "      <td>3</td>\n",
       "      <td>...</td>\n",
       "      <td>NaN</td>\n",
       "      <td>NaN</td>\n",
       "      <td>NaN</td>\n",
       "      <td>213.0</td>\n",
       "      <td>22.0</td>\n",
       "      <td>NaN</td>\n",
       "      <td>NaN</td>\n",
       "      <td>NaN</td>\n",
       "      <td>36.889999</td>\n",
       "      <td>NaN</td>\n",
       "    </tr>\n",
       "    <tr>\n",
       "      <th>2</th>\n",
       "      <td>18426683</td>\n",
       "      <td>33144981</td>\n",
       "      <td>2</td>\n",
       "      <td>0</td>\n",
       "      <td>0</td>\n",
       "      <td>0</td>\n",
       "      <td>0</td>\n",
       "      <td>0</td>\n",
       "      <td>2</td>\n",
       "      <td>3</td>\n",
       "      <td>...</td>\n",
       "      <td>NaN</td>\n",
       "      <td>NaN</td>\n",
       "      <td>NaN</td>\n",
       "      <td>213.0</td>\n",
       "      <td>22.0</td>\n",
       "      <td>NaN</td>\n",
       "      <td>NaN</td>\n",
       "      <td>NaN</td>\n",
       "      <td>36.889999</td>\n",
       "      <td>NaN</td>\n",
       "    </tr>\n",
       "    <tr>\n",
       "      <th>3</th>\n",
       "      <td>18426683</td>\n",
       "      <td>33144981</td>\n",
       "      <td>2</td>\n",
       "      <td>0</td>\n",
       "      <td>0</td>\n",
       "      <td>0</td>\n",
       "      <td>0</td>\n",
       "      <td>0</td>\n",
       "      <td>2</td>\n",
       "      <td>3</td>\n",
       "      <td>...</td>\n",
       "      <td>NaN</td>\n",
       "      <td>NaN</td>\n",
       "      <td>NaN</td>\n",
       "      <td>213.0</td>\n",
       "      <td>22.0</td>\n",
       "      <td>NaN</td>\n",
       "      <td>NaN</td>\n",
       "      <td>NaN</td>\n",
       "      <td>36.889999</td>\n",
       "      <td>NaN</td>\n",
       "    </tr>\n",
       "    <tr>\n",
       "      <th>4</th>\n",
       "      <td>18426683</td>\n",
       "      <td>33144981</td>\n",
       "      <td>2</td>\n",
       "      <td>0</td>\n",
       "      <td>0</td>\n",
       "      <td>0</td>\n",
       "      <td>0</td>\n",
       "      <td>0</td>\n",
       "      <td>2</td>\n",
       "      <td>3</td>\n",
       "      <td>...</td>\n",
       "      <td>NaN</td>\n",
       "      <td>NaN</td>\n",
       "      <td>NaN</td>\n",
       "      <td>213.0</td>\n",
       "      <td>22.0</td>\n",
       "      <td>NaN</td>\n",
       "      <td>NaN</td>\n",
       "      <td>NaN</td>\n",
       "      <td>36.889999</td>\n",
       "      <td>NaN</td>\n",
       "    </tr>\n",
       "  </tbody>\n",
       "</table>\n",
       "<p>5 rows × 36 columns</p>\n",
       "</div>"
      ],
      "text/plain": [
       "   subject_id   stay_id  sofa_score  respiration  coagulation  liver  \\\n",
       "0    18426683  33144981           2            0            0      0   \n",
       "1    18426683  33144981           2            0            0      0   \n",
       "2    18426683  33144981           2            0            0      0   \n",
       "3    18426683  33144981           2            0            0      0   \n",
       "4    18426683  33144981           2            0            0      0   \n",
       "\n",
       "   cardiovascular  cns  renal  sirs  ...  glucose  respiratory_rate_total  \\\n",
       "0               0    0      2     3  ...      NaN                     NaN   \n",
       "1               0    0      2     3  ...      NaN                     NaN   \n",
       "2               0    0      2     3  ...      NaN                     NaN   \n",
       "3               0    0      2     3  ...      NaN                     NaN   \n",
       "4               0    0      2     3  ...      NaN                     NaN   \n",
       "\n",
       "  fio2 platelet   wbc  albumin  creatinine  heart_rate  temperature  spo2  \n",
       "0  NaN    213.0  22.0      NaN         NaN         NaN    36.889999   NaN  \n",
       "1  NaN    213.0  22.0      NaN         NaN         NaN    36.889999   NaN  \n",
       "2  NaN    213.0  22.0      NaN         NaN         NaN    36.889999   NaN  \n",
       "3  NaN    213.0  22.0      NaN         NaN         NaN    36.889999   NaN  \n",
       "4  NaN    213.0  22.0      NaN         NaN         NaN    36.889999   NaN  \n",
       "\n",
       "[5 rows x 36 columns]"
      ]
     },
     "execution_count": 44,
     "metadata": {},
     "output_type": "execute_result"
    }
   ],
   "source": [
    "join13.head()"
   ]
  },
  {
   "cell_type": "code",
   "execution_count": 45,
   "id": "05e128a5",
   "metadata": {},
   "outputs": [
    {
     "data": {
      "text/plain": [
       "(16958914, 36)"
      ]
     },
     "execution_count": 45,
     "metadata": {},
     "output_type": "execute_result"
    }
   ],
   "source": [
    "join13.shape"
   ]
  },
  {
   "cell_type": "code",
   "execution_count": null,
   "id": "6b4ea2e8",
   "metadata": {},
   "outputs": [],
   "source": [
    "join13.to_csv(path_or_buf=None, float_format='%.2f', index=False, mode='w', chunksize=None)"
   ]
  },
  {
   "cell_type": "code",
   "execution_count": 46,
   "id": "a2bb3a73",
   "metadata": {},
   "outputs": [],
   "source": [
    "join13.to_csv(\"C:\\\\Users\\\\sara1\\\\Desktop\\\\Rawdata\\\\Combined.csv\", index=False, chunksize=1000)"
   ]
  }
 ],
 "metadata": {
  "kernelspec": {
   "display_name": "Python 3 (ipykernel)",
   "language": "python",
   "name": "python3"
  },
  "language_info": {
   "codemirror_mode": {
    "name": "ipython",
    "version": 3
   },
   "file_extension": ".py",
   "mimetype": "text/x-python",
   "name": "python",
   "nbconvert_exporter": "python",
   "pygments_lexer": "ipython3",
   "version": "3.9.7"
  }
 },
 "nbformat": 4,
 "nbformat_minor": 5
}
